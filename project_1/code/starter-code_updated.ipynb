{
 "cells": [
  {
   "cell_type": "markdown",
   "metadata": {},
   "source": [
    "# Project 1: SAT & ACT Analysis"
   ]
  },
  {
   "cell_type": "markdown",
   "metadata": {},
   "source": [
    "The first markdown cell in a notebook is a great place to provide an overview of your entire project. You will likely want to at least state your\n",
    "\n",
    "## Problem Statement"
   ]
  },
  {
   "cell_type": "markdown",
   "metadata": {},
   "source": [
    "Define the problem you are finding answers for from the data given.\n",
    "\n",
    "Answer:\n",
    "\n",
    "The SAT and ACT are standardised tests used for admission requirements by US universities. The tests assess the student's proficiency in various academic skills necessary for college success.\n",
    "\n",
    "ACT had been the most popular test for college applications till 2018, when SAT had higher participation rates.\n",
    "\n",
    "The continued popularity of SAT should be in the interest of College Board which owns that test. Hence the factors that increase the participation rate need to be identified and a suitable state selected to implement these factors."
   ] https://www.edweek.org/ew/articles/2018/10/31/sat-scores-rise-as-number-of-test-takers.html
  },
  {
   "cell_type": "markdown",
   "metadata": {},
   "source": [
    "## Executive Summary\n",
    "\n",
    "If you want to, it's great to use relative links to direct your audience to various sections of a notebook. **HERE'S A DEMONSTRATION WITH THE CURRENT SECTION HEADERS**:\n",
    "\n",
    "### Contents:\n",
    "- [2017 Data Import & Cleaning](#Data-Import-and-Cleaning)\n",
    "- [2018 Data Import and Cleaning](#2018-Data-Import-and-Cleaning)\n",
    "- [Exploratory Data Analysis](#Exploratory-Data-Analysis)\n",
    "- [Data Visualization](#Visualize-the-data)\n",
    "- [Descriptive and Inferential Statistics](#Descriptive-and-Inferential-Statistics)\n",
    "- [Outside Research](#Outside-Research)\n",
    "- [Conclusions and Recommendations](#Conclusions-and-Recommendations)"
   ]
  },
  {
   "cell_type": "markdown",
   "metadata": {},
   "source": [
    "**If you combine your problem statement, executive summary, data dictionary, and conclusions/recommendations, you have an amazing README.md file that quickly aligns your audience to the contents of your project.** Don't forget to cite your data sources!"
   ]
  },
  {
   "cell_type": "markdown",
   "metadata": {},
   "source": [
    "*All libraries used should be added here*"
   ]
  },
  {
   "cell_type": "code",
   "execution_count": 1,
   "metadata": {},
   "outputs": [],
   "source": [
    "#Imports:\n",
    "from IPython.display import HTML #if want to import the visualisation into the HTML file\n",
    "import pandas as pd\n",
    "import numpy as np\n",
    "import seaborn as sns\n",
    "import matplotlib.pyplot as plt"
   ]
  },
  {
   "cell_type": "markdown",
   "metadata": {},
   "source": [
    "## 2017 Data Import and Cleaning"
   ]
  },
  {
   "cell_type": "markdown",
   "metadata": {},
   "source": [
    "#### 1. Read In SAT & ACT  Data\n",
    "\n",
    "Read in the `sat_2017.csv` and `act_2017.csv` files and assign them to appropriately named pandas dataframes."
   ]
  },
  {
   "cell_type": "code",
   "execution_count": 2,
   "metadata": {},
   "outputs": [],
   "source": [
    "#Reading and assigning SAT 2017 data:\n",
    "sat_2017 =pd.read_csv(\"data/sat_2017.csv\")\n"
   ]
  },
  {
   "cell_type": "code",
   "execution_count": 3,
   "metadata": {},
   "outputs": [],
   "source": [
    "#Reading and assigning ACT 2017 data:\n",
    "act_2017=pd.read_csv(\"data/act_2017.csv\")\n"
   ]
  },
  {
   "cell_type": "markdown",
   "metadata": {},
   "source": [
    "#### 2. Display Data\n",
    "\n",
    "Print the first 10 rows of each dataframe to your jupyter notebook"
   ]
  },
  {
   "cell_type": "code",
   "execution_count": 4,
   "metadata": {},
   "outputs": [
    {
     "data": {
      "text/html": [
       "<div>\n",
       "<style scoped>\n",
       "    .dataframe tbody tr th:only-of-type {\n",
       "        vertical-align: middle;\n",
       "    }\n",
       "\n",
       "    .dataframe tbody tr th {\n",
       "        vertical-align: top;\n",
       "    }\n",
       "\n",
       "    .dataframe thead th {\n",
       "        text-align: right;\n",
       "    }\n",
       "</style>\n",
       "<table border=\"1\" class=\"dataframe\">\n",
       "  <thead>\n",
       "    <tr style=\"text-align: right;\">\n",
       "      <th></th>\n",
       "      <th>State</th>\n",
       "      <th>Participation</th>\n",
       "      <th>Evidence-Based Reading and Writing</th>\n",
       "      <th>Math</th>\n",
       "      <th>Total</th>\n",
       "    </tr>\n",
       "  </thead>\n",
       "  <tbody>\n",
       "    <tr>\n",
       "      <th>0</th>\n",
       "      <td>Alabama</td>\n",
       "      <td>5%</td>\n",
       "      <td>593</td>\n",
       "      <td>572</td>\n",
       "      <td>1165</td>\n",
       "    </tr>\n",
       "    <tr>\n",
       "      <th>1</th>\n",
       "      <td>Alaska</td>\n",
       "      <td>38%</td>\n",
       "      <td>547</td>\n",
       "      <td>533</td>\n",
       "      <td>1080</td>\n",
       "    </tr>\n",
       "    <tr>\n",
       "      <th>2</th>\n",
       "      <td>Arizona</td>\n",
       "      <td>30%</td>\n",
       "      <td>563</td>\n",
       "      <td>553</td>\n",
       "      <td>1116</td>\n",
       "    </tr>\n",
       "    <tr>\n",
       "      <th>3</th>\n",
       "      <td>Arkansas</td>\n",
       "      <td>3%</td>\n",
       "      <td>614</td>\n",
       "      <td>594</td>\n",
       "      <td>1208</td>\n",
       "    </tr>\n",
       "    <tr>\n",
       "      <th>4</th>\n",
       "      <td>California</td>\n",
       "      <td>53%</td>\n",
       "      <td>531</td>\n",
       "      <td>524</td>\n",
       "      <td>1055</td>\n",
       "    </tr>\n",
       "    <tr>\n",
       "      <th>5</th>\n",
       "      <td>Colorado</td>\n",
       "      <td>11%</td>\n",
       "      <td>606</td>\n",
       "      <td>595</td>\n",
       "      <td>1201</td>\n",
       "    </tr>\n",
       "    <tr>\n",
       "      <th>6</th>\n",
       "      <td>Connecticut</td>\n",
       "      <td>100%</td>\n",
       "      <td>530</td>\n",
       "      <td>512</td>\n",
       "      <td>1041</td>\n",
       "    </tr>\n",
       "    <tr>\n",
       "      <th>7</th>\n",
       "      <td>Delaware</td>\n",
       "      <td>100%</td>\n",
       "      <td>503</td>\n",
       "      <td>492</td>\n",
       "      <td>996</td>\n",
       "    </tr>\n",
       "    <tr>\n",
       "      <th>8</th>\n",
       "      <td>District of Columbia</td>\n",
       "      <td>100%</td>\n",
       "      <td>482</td>\n",
       "      <td>468</td>\n",
       "      <td>950</td>\n",
       "    </tr>\n",
       "    <tr>\n",
       "      <th>9</th>\n",
       "      <td>Florida</td>\n",
       "      <td>83%</td>\n",
       "      <td>520</td>\n",
       "      <td>497</td>\n",
       "      <td>1017</td>\n",
       "    </tr>\n",
       "  </tbody>\n",
       "</table>\n",
       "</div>"
      ],
      "text/plain": [
       "                  State Participation  Evidence-Based Reading and Writing  \\\n",
       "0               Alabama            5%                                 593   \n",
       "1                Alaska           38%                                 547   \n",
       "2               Arizona           30%                                 563   \n",
       "3              Arkansas            3%                                 614   \n",
       "4            California           53%                                 531   \n",
       "5              Colorado           11%                                 606   \n",
       "6           Connecticut          100%                                 530   \n",
       "7              Delaware          100%                                 503   \n",
       "8  District of Columbia          100%                                 482   \n",
       "9               Florida           83%                                 520   \n",
       "\n",
       "   Math  Total  \n",
       "0   572   1165  \n",
       "1   533   1080  \n",
       "2   553   1116  \n",
       "3   594   1208  \n",
       "4   524   1055  \n",
       "5   595   1201  \n",
       "6   512   1041  \n",
       "7   492    996  \n",
       "8   468    950  \n",
       "9   497   1017  "
      ]
     },
     "execution_count": 4,
     "metadata": {},
     "output_type": "execute_result"
    }
   ],
   "source": [
    "#Printing first 10 rows of SAT 2017 data:\n",
    "sat_2017.head(10)"
   ]
  },
  {
   "cell_type": "code",
   "execution_count": 5,
   "metadata": {},
   "outputs": [
    {
     "data": {
      "text/html": [
       "<div>\n",
       "<style scoped>\n",
       "    .dataframe tbody tr th:only-of-type {\n",
       "        vertical-align: middle;\n",
       "    }\n",
       "\n",
       "    .dataframe tbody tr th {\n",
       "        vertical-align: top;\n",
       "    }\n",
       "\n",
       "    .dataframe thead th {\n",
       "        text-align: right;\n",
       "    }\n",
       "</style>\n",
       "<table border=\"1\" class=\"dataframe\">\n",
       "  <thead>\n",
       "    <tr style=\"text-align: right;\">\n",
       "      <th></th>\n",
       "      <th>State</th>\n",
       "      <th>Participation</th>\n",
       "      <th>English</th>\n",
       "      <th>Math</th>\n",
       "      <th>Reading</th>\n",
       "      <th>Science</th>\n",
       "      <th>Composite</th>\n",
       "    </tr>\n",
       "  </thead>\n",
       "  <tbody>\n",
       "    <tr>\n",
       "      <th>0</th>\n",
       "      <td>National</td>\n",
       "      <td>60%</td>\n",
       "      <td>20.3</td>\n",
       "      <td>20.7</td>\n",
       "      <td>21.4</td>\n",
       "      <td>21.0</td>\n",
       "      <td>21.0</td>\n",
       "    </tr>\n",
       "    <tr>\n",
       "      <th>1</th>\n",
       "      <td>Alabama</td>\n",
       "      <td>100%</td>\n",
       "      <td>18.9</td>\n",
       "      <td>18.4</td>\n",
       "      <td>19.7</td>\n",
       "      <td>19.4</td>\n",
       "      <td>19.2</td>\n",
       "    </tr>\n",
       "    <tr>\n",
       "      <th>2</th>\n",
       "      <td>Alaska</td>\n",
       "      <td>65%</td>\n",
       "      <td>18.7</td>\n",
       "      <td>19.8</td>\n",
       "      <td>20.4</td>\n",
       "      <td>19.9</td>\n",
       "      <td>19.8</td>\n",
       "    </tr>\n",
       "    <tr>\n",
       "      <th>3</th>\n",
       "      <td>Arizona</td>\n",
       "      <td>62%</td>\n",
       "      <td>18.6</td>\n",
       "      <td>19.8</td>\n",
       "      <td>20.1</td>\n",
       "      <td>19.8</td>\n",
       "      <td>19.7</td>\n",
       "    </tr>\n",
       "    <tr>\n",
       "      <th>4</th>\n",
       "      <td>Arkansas</td>\n",
       "      <td>100%</td>\n",
       "      <td>18.9</td>\n",
       "      <td>19.0</td>\n",
       "      <td>19.7</td>\n",
       "      <td>19.5</td>\n",
       "      <td>19.4</td>\n",
       "    </tr>\n",
       "    <tr>\n",
       "      <th>5</th>\n",
       "      <td>California</td>\n",
       "      <td>31%</td>\n",
       "      <td>22.5</td>\n",
       "      <td>22.7</td>\n",
       "      <td>23.1</td>\n",
       "      <td>22.2</td>\n",
       "      <td>22.8</td>\n",
       "    </tr>\n",
       "    <tr>\n",
       "      <th>6</th>\n",
       "      <td>Colorado</td>\n",
       "      <td>100%</td>\n",
       "      <td>20.1</td>\n",
       "      <td>20.3</td>\n",
       "      <td>21.2</td>\n",
       "      <td>20.9</td>\n",
       "      <td>20.8</td>\n",
       "    </tr>\n",
       "    <tr>\n",
       "      <th>7</th>\n",
       "      <td>Connecticut</td>\n",
       "      <td>31%</td>\n",
       "      <td>25.5</td>\n",
       "      <td>24.6</td>\n",
       "      <td>25.6</td>\n",
       "      <td>24.6</td>\n",
       "      <td>25.2</td>\n",
       "    </tr>\n",
       "    <tr>\n",
       "      <th>8</th>\n",
       "      <td>Delaware</td>\n",
       "      <td>18%</td>\n",
       "      <td>24.1</td>\n",
       "      <td>23.4</td>\n",
       "      <td>24.8</td>\n",
       "      <td>23.6</td>\n",
       "      <td>24.1</td>\n",
       "    </tr>\n",
       "    <tr>\n",
       "      <th>9</th>\n",
       "      <td>District of Columbia</td>\n",
       "      <td>32%</td>\n",
       "      <td>24.4</td>\n",
       "      <td>23.5</td>\n",
       "      <td>24.9</td>\n",
       "      <td>23.5</td>\n",
       "      <td>24.2</td>\n",
       "    </tr>\n",
       "  </tbody>\n",
       "</table>\n",
       "</div>"
      ],
      "text/plain": [
       "                  State Participation  English  Math  Reading  Science  \\\n",
       "0              National           60%     20.3  20.7     21.4     21.0   \n",
       "1               Alabama          100%     18.9  18.4     19.7     19.4   \n",
       "2                Alaska           65%     18.7  19.8     20.4     19.9   \n",
       "3               Arizona           62%     18.6  19.8     20.1     19.8   \n",
       "4              Arkansas          100%     18.9  19.0     19.7     19.5   \n",
       "5            California           31%     22.5  22.7     23.1     22.2   \n",
       "6              Colorado          100%     20.1  20.3     21.2     20.9   \n",
       "7           Connecticut           31%     25.5  24.6     25.6     24.6   \n",
       "8              Delaware           18%     24.1  23.4     24.8     23.6   \n",
       "9  District of Columbia           32%     24.4  23.5     24.9     23.5   \n",
       "\n",
       "  Composite  \n",
       "0      21.0  \n",
       "1      19.2  \n",
       "2      19.8  \n",
       "3      19.7  \n",
       "4      19.4  \n",
       "5      22.8  \n",
       "6      20.8  \n",
       "7      25.2  \n",
       "8      24.1  \n",
       "9      24.2  "
      ]
     },
     "execution_count": 5,
     "metadata": {},
     "output_type": "execute_result"
    }
   ],
   "source": [
    "#Printing first 10 rows of ACT 2017 data:\n",
    "act_2017.head(10)"
   ]
  },
  {
   "cell_type": "markdown",
   "metadata": {},
   "source": [
    "#### 3. Verbally Describe Data\n",
    "\n",
    "Take your time looking through the data and thoroughly describe the data in the markdown cell below. "
   ]
  },
  {
   "cell_type": "code",
   "execution_count": 6,
   "metadata": {},
   "outputs": [
    {
     "data": {
      "text/html": [
       "<div>\n",
       "<style scoped>\n",
       "    .dataframe tbody tr th:only-of-type {\n",
       "        vertical-align: middle;\n",
       "    }\n",
       "\n",
       "    .dataframe tbody tr th {\n",
       "        vertical-align: top;\n",
       "    }\n",
       "\n",
       "    .dataframe thead th {\n",
       "        text-align: right;\n",
       "    }\n",
       "</style>\n",
       "<table border=\"1\" class=\"dataframe\">\n",
       "  <thead>\n",
       "    <tr style=\"text-align: right;\">\n",
       "      <th></th>\n",
       "      <th>State</th>\n",
       "      <th>Participation</th>\n",
       "      <th>Evidence-Based Reading and Writing</th>\n",
       "      <th>Math</th>\n",
       "      <th>Total</th>\n",
       "    </tr>\n",
       "  </thead>\n",
       "  <tbody>\n",
       "    <tr>\n",
       "      <th>0</th>\n",
       "      <td>Alabama</td>\n",
       "      <td>5%</td>\n",
       "      <td>593</td>\n",
       "      <td>572</td>\n",
       "      <td>1165</td>\n",
       "    </tr>\n",
       "    <tr>\n",
       "      <th>1</th>\n",
       "      <td>Alaska</td>\n",
       "      <td>38%</td>\n",
       "      <td>547</td>\n",
       "      <td>533</td>\n",
       "      <td>1080</td>\n",
       "    </tr>\n",
       "    <tr>\n",
       "      <th>2</th>\n",
       "      <td>Arizona</td>\n",
       "      <td>30%</td>\n",
       "      <td>563</td>\n",
       "      <td>553</td>\n",
       "      <td>1116</td>\n",
       "    </tr>\n",
       "    <tr>\n",
       "      <th>3</th>\n",
       "      <td>Arkansas</td>\n",
       "      <td>3%</td>\n",
       "      <td>614</td>\n",
       "      <td>594</td>\n",
       "      <td>1208</td>\n",
       "    </tr>\n",
       "    <tr>\n",
       "      <th>4</th>\n",
       "      <td>California</td>\n",
       "      <td>53%</td>\n",
       "      <td>531</td>\n",
       "      <td>524</td>\n",
       "      <td>1055</td>\n",
       "    </tr>\n",
       "  </tbody>\n",
       "</table>\n",
       "</div>"
      ],
      "text/plain": [
       "        State Participation  Evidence-Based Reading and Writing  Math  Total\n",
       "0     Alabama            5%                                 593   572   1165\n",
       "1      Alaska           38%                                 547   533   1080\n",
       "2     Arizona           30%                                 563   553   1116\n",
       "3    Arkansas            3%                                 614   594   1208\n",
       "4  California           53%                                 531   524   1055"
      ]
     },
     "execution_count": 6,
     "metadata": {},
     "output_type": "execute_result"
    }
   ],
   "source": [
    "# Viewing the top 5 rows of the SAT 2017 data\n",
    "sat_2017.head()"
   ]
  },
  {
   "cell_type": "code",
   "execution_count": 7,
   "metadata": {},
   "outputs": [
    {
     "data": {
      "text/html": [
       "<div>\n",
       "<style scoped>\n",
       "    .dataframe tbody tr th:only-of-type {\n",
       "        vertical-align: middle;\n",
       "    }\n",
       "\n",
       "    .dataframe tbody tr th {\n",
       "        vertical-align: top;\n",
       "    }\n",
       "\n",
       "    .dataframe thead th {\n",
       "        text-align: right;\n",
       "    }\n",
       "</style>\n",
       "<table border=\"1\" class=\"dataframe\">\n",
       "  <thead>\n",
       "    <tr style=\"text-align: right;\">\n",
       "      <th></th>\n",
       "      <th>State</th>\n",
       "      <th>Participation</th>\n",
       "      <th>Evidence-Based Reading and Writing</th>\n",
       "      <th>Math</th>\n",
       "      <th>Total</th>\n",
       "    </tr>\n",
       "  </thead>\n",
       "  <tbody>\n",
       "    <tr>\n",
       "      <th>46</th>\n",
       "      <td>Virginia</td>\n",
       "      <td>65%</td>\n",
       "      <td>561</td>\n",
       "      <td>541</td>\n",
       "      <td>1102</td>\n",
       "    </tr>\n",
       "    <tr>\n",
       "      <th>47</th>\n",
       "      <td>Washington</td>\n",
       "      <td>64%</td>\n",
       "      <td>541</td>\n",
       "      <td>534</td>\n",
       "      <td>1075</td>\n",
       "    </tr>\n",
       "    <tr>\n",
       "      <th>48</th>\n",
       "      <td>West Virginia</td>\n",
       "      <td>14%</td>\n",
       "      <td>558</td>\n",
       "      <td>528</td>\n",
       "      <td>1086</td>\n",
       "    </tr>\n",
       "    <tr>\n",
       "      <th>49</th>\n",
       "      <td>Wisconsin</td>\n",
       "      <td>3%</td>\n",
       "      <td>642</td>\n",
       "      <td>649</td>\n",
       "      <td>1291</td>\n",
       "    </tr>\n",
       "    <tr>\n",
       "      <th>50</th>\n",
       "      <td>Wyoming</td>\n",
       "      <td>3%</td>\n",
       "      <td>626</td>\n",
       "      <td>604</td>\n",
       "      <td>1230</td>\n",
       "    </tr>\n",
       "  </tbody>\n",
       "</table>\n",
       "</div>"
      ],
      "text/plain": [
       "            State Participation  Evidence-Based Reading and Writing  Math  \\\n",
       "46       Virginia           65%                                 561   541   \n",
       "47     Washington           64%                                 541   534   \n",
       "48  West Virginia           14%                                 558   528   \n",
       "49      Wisconsin            3%                                 642   649   \n",
       "50        Wyoming            3%                                 626   604   \n",
       "\n",
       "    Total  \n",
       "46   1102  \n",
       "47   1075  \n",
       "48   1086  \n",
       "49   1291  \n",
       "50   1230  "
      ]
     },
     "execution_count": 7,
     "metadata": {},
     "output_type": "execute_result"
    }
   ],
   "source": [
    "## Viewing the bottom 5 rows of the SAT 2017 data\n",
    "sat_2017.tail()"
   ]
  },
  {
   "cell_type": "code",
   "execution_count": 8,
   "metadata": {},
   "outputs": [
    {
     "data": {
      "text/html": [
       "<div>\n",
       "<style scoped>\n",
       "    .dataframe tbody tr th:only-of-type {\n",
       "        vertical-align: middle;\n",
       "    }\n",
       "\n",
       "    .dataframe tbody tr th {\n",
       "        vertical-align: top;\n",
       "    }\n",
       "\n",
       "    .dataframe thead th {\n",
       "        text-align: right;\n",
       "    }\n",
       "</style>\n",
       "<table border=\"1\" class=\"dataframe\">\n",
       "  <thead>\n",
       "    <tr style=\"text-align: right;\">\n",
       "      <th></th>\n",
       "      <th>State</th>\n",
       "      <th>Participation</th>\n",
       "      <th>English</th>\n",
       "      <th>Math</th>\n",
       "      <th>Reading</th>\n",
       "      <th>Science</th>\n",
       "      <th>Composite</th>\n",
       "    </tr>\n",
       "  </thead>\n",
       "  <tbody>\n",
       "    <tr>\n",
       "      <th>0</th>\n",
       "      <td>National</td>\n",
       "      <td>60%</td>\n",
       "      <td>20.3</td>\n",
       "      <td>20.7</td>\n",
       "      <td>21.4</td>\n",
       "      <td>21.0</td>\n",
       "      <td>21.0</td>\n",
       "    </tr>\n",
       "    <tr>\n",
       "      <th>1</th>\n",
       "      <td>Alabama</td>\n",
       "      <td>100%</td>\n",
       "      <td>18.9</td>\n",
       "      <td>18.4</td>\n",
       "      <td>19.7</td>\n",
       "      <td>19.4</td>\n",
       "      <td>19.2</td>\n",
       "    </tr>\n",
       "    <tr>\n",
       "      <th>2</th>\n",
       "      <td>Alaska</td>\n",
       "      <td>65%</td>\n",
       "      <td>18.7</td>\n",
       "      <td>19.8</td>\n",
       "      <td>20.4</td>\n",
       "      <td>19.9</td>\n",
       "      <td>19.8</td>\n",
       "    </tr>\n",
       "    <tr>\n",
       "      <th>3</th>\n",
       "      <td>Arizona</td>\n",
       "      <td>62%</td>\n",
       "      <td>18.6</td>\n",
       "      <td>19.8</td>\n",
       "      <td>20.1</td>\n",
       "      <td>19.8</td>\n",
       "      <td>19.7</td>\n",
       "    </tr>\n",
       "    <tr>\n",
       "      <th>4</th>\n",
       "      <td>Arkansas</td>\n",
       "      <td>100%</td>\n",
       "      <td>18.9</td>\n",
       "      <td>19.0</td>\n",
       "      <td>19.7</td>\n",
       "      <td>19.5</td>\n",
       "      <td>19.4</td>\n",
       "    </tr>\n",
       "  </tbody>\n",
       "</table>\n",
       "</div>"
      ],
      "text/plain": [
       "      State Participation  English  Math  Reading  Science Composite\n",
       "0  National           60%     20.3  20.7     21.4     21.0      21.0\n",
       "1   Alabama          100%     18.9  18.4     19.7     19.4      19.2\n",
       "2    Alaska           65%     18.7  19.8     20.4     19.9      19.8\n",
       "3   Arizona           62%     18.6  19.8     20.1     19.8      19.7\n",
       "4  Arkansas          100%     18.9  19.0     19.7     19.5      19.4"
      ]
     },
     "execution_count": 8,
     "metadata": {},
     "output_type": "execute_result"
    }
   ],
   "source": [
    "## Viewing the top 5 rows of the ACT 2017 data\n",
    "act_2017.head()"
   ]
  },
  {
   "cell_type": "code",
   "execution_count": 9,
   "metadata": {},
   "outputs": [
    {
     "data": {
      "text/html": [
       "<div>\n",
       "<style scoped>\n",
       "    .dataframe tbody tr th:only-of-type {\n",
       "        vertical-align: middle;\n",
       "    }\n",
       "\n",
       "    .dataframe tbody tr th {\n",
       "        vertical-align: top;\n",
       "    }\n",
       "\n",
       "    .dataframe thead th {\n",
       "        text-align: right;\n",
       "    }\n",
       "</style>\n",
       "<table border=\"1\" class=\"dataframe\">\n",
       "  <thead>\n",
       "    <tr style=\"text-align: right;\">\n",
       "      <th></th>\n",
       "      <th>State</th>\n",
       "      <th>Participation</th>\n",
       "      <th>English</th>\n",
       "      <th>Math</th>\n",
       "      <th>Reading</th>\n",
       "      <th>Science</th>\n",
       "      <th>Composite</th>\n",
       "    </tr>\n",
       "  </thead>\n",
       "  <tbody>\n",
       "    <tr>\n",
       "      <th>47</th>\n",
       "      <td>Virginia</td>\n",
       "      <td>29%</td>\n",
       "      <td>23.5</td>\n",
       "      <td>23.3</td>\n",
       "      <td>24.6</td>\n",
       "      <td>23.5</td>\n",
       "      <td>23.8</td>\n",
       "    </tr>\n",
       "    <tr>\n",
       "      <th>48</th>\n",
       "      <td>Washington</td>\n",
       "      <td>29%</td>\n",
       "      <td>20.9</td>\n",
       "      <td>21.9</td>\n",
       "      <td>22.1</td>\n",
       "      <td>22.0</td>\n",
       "      <td>21.9</td>\n",
       "    </tr>\n",
       "    <tr>\n",
       "      <th>49</th>\n",
       "      <td>West Virginia</td>\n",
       "      <td>69%</td>\n",
       "      <td>20.0</td>\n",
       "      <td>19.4</td>\n",
       "      <td>21.2</td>\n",
       "      <td>20.5</td>\n",
       "      <td>20.4</td>\n",
       "    </tr>\n",
       "    <tr>\n",
       "      <th>50</th>\n",
       "      <td>Wisconsin</td>\n",
       "      <td>100%</td>\n",
       "      <td>19.7</td>\n",
       "      <td>20.4</td>\n",
       "      <td>20.6</td>\n",
       "      <td>20.9</td>\n",
       "      <td>20.5</td>\n",
       "    </tr>\n",
       "    <tr>\n",
       "      <th>51</th>\n",
       "      <td>Wyoming</td>\n",
       "      <td>100%</td>\n",
       "      <td>19.4</td>\n",
       "      <td>19.8</td>\n",
       "      <td>20.8</td>\n",
       "      <td>20.6</td>\n",
       "      <td>20.2x</td>\n",
       "    </tr>\n",
       "  </tbody>\n",
       "</table>\n",
       "</div>"
      ],
      "text/plain": [
       "            State Participation  English  Math  Reading  Science Composite\n",
       "47       Virginia           29%     23.5  23.3     24.6     23.5      23.8\n",
       "48     Washington           29%     20.9  21.9     22.1     22.0      21.9\n",
       "49  West Virginia           69%     20.0  19.4     21.2     20.5      20.4\n",
       "50      Wisconsin          100%     19.7  20.4     20.6     20.9      20.5\n",
       "51        Wyoming          100%     19.4  19.8     20.8     20.6     20.2x"
      ]
     },
     "execution_count": 9,
     "metadata": {},
     "output_type": "execute_result"
    }
   ],
   "source": [
    "# Viewing the bottom 5 rows of the ACT 2017 data\n",
    "act_2017.tail()"
   ]
  },
  {
   "cell_type": "code",
   "execution_count": 10,
   "metadata": {},
   "outputs": [
    {
     "data": {
      "text/html": [
       "<div>\n",
       "<style scoped>\n",
       "    .dataframe tbody tr th:only-of-type {\n",
       "        vertical-align: middle;\n",
       "    }\n",
       "\n",
       "    .dataframe tbody tr th {\n",
       "        vertical-align: top;\n",
       "    }\n",
       "\n",
       "    .dataframe thead th {\n",
       "        text-align: right;\n",
       "    }\n",
       "</style>\n",
       "<table border=\"1\" class=\"dataframe\">\n",
       "  <thead>\n",
       "    <tr style=\"text-align: right;\">\n",
       "      <th></th>\n",
       "      <th>Evidence-Based Reading and Writing</th>\n",
       "      <th>Math</th>\n",
       "      <th>Total</th>\n",
       "    </tr>\n",
       "  </thead>\n",
       "  <tbody>\n",
       "    <tr>\n",
       "      <th>count</th>\n",
       "      <td>51.00</td>\n",
       "      <td>51.00</td>\n",
       "      <td>51.00</td>\n",
       "    </tr>\n",
       "    <tr>\n",
       "      <th>mean</th>\n",
       "      <td>569.12</td>\n",
       "      <td>547.63</td>\n",
       "      <td>1126.10</td>\n",
       "    </tr>\n",
       "    <tr>\n",
       "      <th>std</th>\n",
       "      <td>45.67</td>\n",
       "      <td>84.91</td>\n",
       "      <td>92.49</td>\n",
       "    </tr>\n",
       "    <tr>\n",
       "      <th>min</th>\n",
       "      <td>482.00</td>\n",
       "      <td>52.00</td>\n",
       "      <td>950.00</td>\n",
       "    </tr>\n",
       "    <tr>\n",
       "      <th>25%</th>\n",
       "      <td>533.50</td>\n",
       "      <td>522.00</td>\n",
       "      <td>1055.50</td>\n",
       "    </tr>\n",
       "    <tr>\n",
       "      <th>50%</th>\n",
       "      <td>559.00</td>\n",
       "      <td>548.00</td>\n",
       "      <td>1107.00</td>\n",
       "    </tr>\n",
       "    <tr>\n",
       "      <th>75%</th>\n",
       "      <td>613.00</td>\n",
       "      <td>599.00</td>\n",
       "      <td>1212.00</td>\n",
       "    </tr>\n",
       "    <tr>\n",
       "      <th>max</th>\n",
       "      <td>644.00</td>\n",
       "      <td>651.00</td>\n",
       "      <td>1295.00</td>\n",
       "    </tr>\n",
       "  </tbody>\n",
       "</table>\n",
       "</div>"
      ],
      "text/plain": [
       "       Evidence-Based Reading and Writing    Math    Total\n",
       "count                               51.00   51.00    51.00\n",
       "mean                               569.12  547.63  1126.10\n",
       "std                                 45.67   84.91    92.49\n",
       "min                                482.00   52.00   950.00\n",
       "25%                                533.50  522.00  1055.50\n",
       "50%                                559.00  548.00  1107.00\n",
       "75%                                613.00  599.00  1212.00\n",
       "max                                644.00  651.00  1295.00"
      ]
     },
     "execution_count": 10,
     "metadata": {},
     "output_type": "execute_result"
    }
   ],
   "source": [
    "#Viewing the summary statistics of the SAT 2017 data\n",
    "sat_2017.describe().round(2)"
   ]
  },
  {
   "cell_type": "code",
   "execution_count": 11,
   "metadata": {},
   "outputs": [
    {
     "data": {
      "text/html": [
       "<div>\n",
       "<style scoped>\n",
       "    .dataframe tbody tr th:only-of-type {\n",
       "        vertical-align: middle;\n",
       "    }\n",
       "\n",
       "    .dataframe tbody tr th {\n",
       "        vertical-align: top;\n",
       "    }\n",
       "\n",
       "    .dataframe thead th {\n",
       "        text-align: right;\n",
       "    }\n",
       "</style>\n",
       "<table border=\"1\" class=\"dataframe\">\n",
       "  <thead>\n",
       "    <tr style=\"text-align: right;\">\n",
       "      <th></th>\n",
       "      <th>English</th>\n",
       "      <th>Math</th>\n",
       "      <th>Reading</th>\n",
       "      <th>Science</th>\n",
       "    </tr>\n",
       "  </thead>\n",
       "  <tbody>\n",
       "    <tr>\n",
       "      <th>count</th>\n",
       "      <td>52.00</td>\n",
       "      <td>52.00</td>\n",
       "      <td>52.00</td>\n",
       "      <td>52.00</td>\n",
       "    </tr>\n",
       "    <tr>\n",
       "      <th>mean</th>\n",
       "      <td>20.92</td>\n",
       "      <td>21.17</td>\n",
       "      <td>22.00</td>\n",
       "      <td>21.04</td>\n",
       "    </tr>\n",
       "    <tr>\n",
       "      <th>std</th>\n",
       "      <td>2.33</td>\n",
       "      <td>1.96</td>\n",
       "      <td>2.05</td>\n",
       "      <td>3.15</td>\n",
       "    </tr>\n",
       "    <tr>\n",
       "      <th>min</th>\n",
       "      <td>16.30</td>\n",
       "      <td>18.00</td>\n",
       "      <td>18.10</td>\n",
       "      <td>2.30</td>\n",
       "    </tr>\n",
       "    <tr>\n",
       "      <th>25%</th>\n",
       "      <td>19.00</td>\n",
       "      <td>19.40</td>\n",
       "      <td>20.48</td>\n",
       "      <td>19.90</td>\n",
       "    </tr>\n",
       "    <tr>\n",
       "      <th>50%</th>\n",
       "      <td>20.55</td>\n",
       "      <td>20.90</td>\n",
       "      <td>21.70</td>\n",
       "      <td>21.15</td>\n",
       "    </tr>\n",
       "    <tr>\n",
       "      <th>75%</th>\n",
       "      <td>23.30</td>\n",
       "      <td>23.10</td>\n",
       "      <td>24.13</td>\n",
       "      <td>22.52</td>\n",
       "    </tr>\n",
       "    <tr>\n",
       "      <th>max</th>\n",
       "      <td>25.50</td>\n",
       "      <td>25.30</td>\n",
       "      <td>26.00</td>\n",
       "      <td>24.90</td>\n",
       "    </tr>\n",
       "  </tbody>\n",
       "</table>\n",
       "</div>"
      ],
      "text/plain": [
       "       English   Math  Reading  Science\n",
       "count    52.00  52.00    52.00    52.00\n",
       "mean     20.92  21.17    22.00    21.04\n",
       "std       2.33   1.96     2.05     3.15\n",
       "min      16.30  18.00    18.10     2.30\n",
       "25%      19.00  19.40    20.48    19.90\n",
       "50%      20.55  20.90    21.70    21.15\n",
       "75%      23.30  23.10    24.13    22.52\n",
       "max      25.50  25.30    26.00    24.90"
      ]
     },
     "execution_count": 11,
     "metadata": {},
     "output_type": "execute_result"
    }
   ],
   "source": [
    "#Viewing the summary statistics of the ACT 2017 data\n",
    "act_2017.describe().round(2)"
   ]
  },
  {
   "cell_type": "code",
   "execution_count": 12,
   "metadata": {},
   "outputs": [
    {
     "data": {
      "text/plain": [
       "(51, 5)"
      ]
     },
     "execution_count": 12,
     "metadata": {},
     "output_type": "execute_result"
    }
   ],
   "source": [
    "#Viewing the no.of rows and columns of the SAT 2017 data\n",
    "sat_2017.shape"
   ]
  },
  {
   "cell_type": "code",
   "execution_count": 13,
   "metadata": {},
   "outputs": [
    {
     "data": {
      "text/plain": [
       "(52, 7)"
      ]
     },
     "execution_count": 13,
     "metadata": {},
     "output_type": "execute_result"
    }
   ],
   "source": [
    "#Viewing the no.of rows and columns of the ACT 2017 data\n",
    "act_2017.shape"
   ]
  },
  {
   "cell_type": "code",
   "execution_count": 14,
   "metadata": {},
   "outputs": [
    {
     "name": "stdout",
     "output_type": "stream",
     "text": [
      "<class 'pandas.core.frame.DataFrame'>\n",
      "RangeIndex: 51 entries, 0 to 50\n",
      "Data columns (total 5 columns):\n",
      " #   Column                              Non-Null Count  Dtype \n",
      "---  ------                              --------------  ----- \n",
      " 0   State                               51 non-null     object\n",
      " 1   Participation                       51 non-null     object\n",
      " 2   Evidence-Based Reading and Writing  51 non-null     int64 \n",
      " 3   Math                                51 non-null     int64 \n",
      " 4   Total                               51 non-null     int64 \n",
      "dtypes: int64(3), object(2)\n",
      "memory usage: 2.1+ KB\n"
     ]
    }
   ],
   "source": [
    "#Viewing the data types and no. of null values the SAT 2017 data\n",
    "sat_2017.info()"
   ]
  },
  {
   "cell_type": "code",
   "execution_count": 15,
   "metadata": {},
   "outputs": [
    {
     "name": "stdout",
     "output_type": "stream",
     "text": [
      "<class 'pandas.core.frame.DataFrame'>\n",
      "RangeIndex: 52 entries, 0 to 51\n",
      "Data columns (total 7 columns):\n",
      " #   Column         Non-Null Count  Dtype  \n",
      "---  ------         --------------  -----  \n",
      " 0   State          52 non-null     object \n",
      " 1   Participation  52 non-null     object \n",
      " 2   English        52 non-null     float64\n",
      " 3   Math           52 non-null     float64\n",
      " 4   Reading        52 non-null     float64\n",
      " 5   Science        52 non-null     float64\n",
      " 6   Composite      52 non-null     object \n",
      "dtypes: float64(4), object(3)\n",
      "memory usage: 3.0+ KB\n"
     ]
    }
   ],
   "source": [
    "#Viewing the data types and no. of null values the ACT 2017 data\n",
    "act_2017.info()"
   ]
  },
  {
   "cell_type": "markdown",
   "metadata": {},
   "source": [
    "Answer:\n",
    "\n",
    "3.1 SAT 2017: \n",
    "\n",
    "3.1.1 The SAT 2017 data consists of the percentage of students who have taken the SAT tests in 2017 per state. The participation percentage ranges from more than 0% to 100% \n",
    "\n",
    "3.1.2 It also has the scores for Evidenced-Based Reading and Writing, Math and the Total score of both subjects per student per state. \n",
    "\n",
    "3.1.3 The minimum - maximum score range for: Evidenced-Based Reading and Writing is 483 - 644; Math is 52 - 651; Total is 950 - 1295\n",
    "\n",
    "3.1.4 The mean score rounded to 2 decimal points for Evidenced-Based Reading and Writing is 569.12; Math is 547.63; Total is 1126.10\n",
    "\n",
    "3.1.5 The data consists of 51 rows and 5 columns\n",
    "\n",
    "3.1.6 \"State\" and \"Participation\" columns have object data types. Columns \"Evidenced-Based Reading\" and \"Writing\", \"Math\" and \"Total\" have integer data types\n",
    "\n",
    "3.1.7 There are no null objects in SAT 2017 data\n"
   ]
  },
  {
   "cell_type": "markdown",
   "metadata": {},
   "source": [
    "Answer:\n",
    "\n",
    "3.2.1 ACT 2017: \n",
    "\n",
    "3.2.1 The ACT 2017 data consists of the percentage of students who have taken the ACT tests in 2017 per state. The participation percentage ranges from more than 0% to 100%\n",
    "\n",
    "3.2.2 The ACT 2017 data also consists of the aggregated National statistics of the participation percentage and the scores of English,Reading, Math, Science and the Composite\n",
    "\n",
    "3.2.3 It also has the scores for English,Reading, Math, Science and the Composite score per student per state. \n",
    "\n",
    "3.2.4 The minimum - maximum score range for English is 16.30 - 25.50  ;Math is 18.00 - 25.30; Reading is 18.10 - 26.00 ; Science is 2.30 - 24.90 \n",
    "\n",
    "3.2.5 The mean score rounded to 2 decimal points for English is 20.92  ;Math is 21.17; Reading is 22.00 ; Science is 21.04\n",
    "\n",
    "3.2.6 The data consists of 52 rows and 7 columns\n",
    "\n",
    "3.2.7 \"State\", \"Participation\" and \"Composite\" columns have object data types. Columns \"English\",\"Reading\", \"Math\", \"Science\" have float data types.\n",
    "\n",
    "3.2.8 There are no null objects in ACT 2017 data\n",
    " \n"
   ]
  },
  {
   "cell_type": "markdown",
   "metadata": {},
   "source": [
    "#### 4a. Does the data look complete? "
   ]
  },
  {
   "cell_type": "markdown",
   "metadata": {},
   "source": [
    "Answer: The data from both data sets looks complete as there are no null values and data in both data sets have consistant number of rows and columns. "
   ]
  },
  {
   "cell_type": "markdown",
   "metadata": {},
   "source": [
    "#### 4b. Are there any obvious issues with the observations?\n",
    "\n",
    "**What is the minimum *possible* value for each test/subtest? What is the maximum *possible* value?**\n",
    "\n",
    "Consider comparing any questionable values to the sources of your data:\n",
    "- [SAT](https://blog.collegevine.com/here-are-the-average-sat-scores-by-state/)\n",
    "- [ACT](https://blog.prepscholar.com/act-scores-by-state-averages-highs-and-lows)"
   ]
  },
  {
   "cell_type": "markdown",
   "metadata": {},
   "source": [
    "Answer: Obvious issues are the SAT 2017 minimum Math score is lower than the minimum possible values for SAT Math.\n",
    "\n",
    "Also the ACT 2017 minumum Science score is 2.30 which is at least 8 times lower than the other subject scores in the data.In addtion, the \"Participation\" and \"Composite\" data types are objects even though they are supposed to be numerical values\n",
    "\n",
    "In the ACT 2017, \"Composite\" for Wyoming is 20.2x which is incorrect as it should be a numerical value.\n",
    "\n",
    "\n"
   ]
  },
  {
   "cell_type": "markdown",
   "metadata": {},
   "source": [
    "Answer: According to the College Board website (the organisation that administers SAT) , minimum possible value of the SAT tests is 200 and the maximum possible value is 800 for each subject. The minimum possible value of the Total is 400 and the maximum possible value of the Total is 1600\n",
    "\n",
    "Reference: https://collegereadiness.collegeboard.org/sat/scores/understanding-scores/interpreting"
   ]
  },
  {
   "cell_type": "markdown",
   "metadata": {},
   "source": [
    "Answer:\n",
    "According to the ACT website (the organisation that administers ACT, minimum possible value of the ACT tests and Composite is 1 and the maximum possible value is 36\n",
    "\n",
    "Reference:https://global.act.org/content/global/en/products-and-services/the-act-non-us/scores/understanding-your-scores.html"
   ]
  },
  {
   "cell_type": "code",
   "execution_count": null,
   "metadata": {},
   "outputs": [],
   "source": []
  },
  {
   "cell_type": "markdown",
   "metadata": {},
   "source": [
    "#### 4c. Fix any errors you identified\n",
    "\n",
    "**The data is available** so there's no need to guess or calculate anything. If you didn't find any errors, continue to the next step."
   ]
  },
  {
   "cell_type": "code",
   "execution_count": 16,
   "metadata": {},
   "outputs": [
    {
     "data": {
      "text/html": [
       "<div>\n",
       "<style scoped>\n",
       "    .dataframe tbody tr th:only-of-type {\n",
       "        vertical-align: middle;\n",
       "    }\n",
       "\n",
       "    .dataframe tbody tr th {\n",
       "        vertical-align: top;\n",
       "    }\n",
       "\n",
       "    .dataframe thead th {\n",
       "        text-align: right;\n",
       "    }\n",
       "</style>\n",
       "<table border=\"1\" class=\"dataframe\">\n",
       "  <thead>\n",
       "    <tr style=\"text-align: right;\">\n",
       "      <th></th>\n",
       "      <th>State</th>\n",
       "      <th>Participation</th>\n",
       "      <th>Evidence-Based Reading and Writing</th>\n",
       "      <th>Math</th>\n",
       "      <th>Total</th>\n",
       "    </tr>\n",
       "  </thead>\n",
       "  <tbody>\n",
       "    <tr>\n",
       "      <th>20</th>\n",
       "      <td>Maryland</td>\n",
       "      <td>69%</td>\n",
       "      <td>536</td>\n",
       "      <td>52</td>\n",
       "      <td>1060</td>\n",
       "    </tr>\n",
       "    <tr>\n",
       "      <th>8</th>\n",
       "      <td>District of Columbia</td>\n",
       "      <td>100%</td>\n",
       "      <td>482</td>\n",
       "      <td>468</td>\n",
       "      <td>950</td>\n",
       "    </tr>\n",
       "    <tr>\n",
       "      <th>7</th>\n",
       "      <td>Delaware</td>\n",
       "      <td>100%</td>\n",
       "      <td>503</td>\n",
       "      <td>492</td>\n",
       "      <td>996</td>\n",
       "    </tr>\n",
       "    <tr>\n",
       "      <th>12</th>\n",
       "      <td>Idaho</td>\n",
       "      <td>93%</td>\n",
       "      <td>513</td>\n",
       "      <td>493</td>\n",
       "      <td>1005</td>\n",
       "    </tr>\n",
       "    <tr>\n",
       "      <th>22</th>\n",
       "      <td>Michigan</td>\n",
       "      <td>100%</td>\n",
       "      <td>509</td>\n",
       "      <td>495</td>\n",
       "      <td>1005</td>\n",
       "    </tr>\n",
       "  </tbody>\n",
       "</table>\n",
       "</div>"
      ],
      "text/plain": [
       "                   State Participation  Evidence-Based Reading and Writing  \\\n",
       "20              Maryland           69%                                 536   \n",
       "8   District of Columbia          100%                                 482   \n",
       "7               Delaware          100%                                 503   \n",
       "12                 Idaho           93%                                 513   \n",
       "22              Michigan          100%                                 509   \n",
       "\n",
       "    Math  Total  \n",
       "20    52   1060  \n",
       "8    468    950  \n",
       "7    492    996  \n",
       "12   493   1005  \n",
       "22   495   1005  "
      ]
     },
     "execution_count": 16,
     "metadata": {},
     "output_type": "execute_result"
    }
   ],
   "source": [
    "#Sort SAT 2017 values using the values in the \"Math\" column and viewing the top 5 rows.\n",
    "sat_2017.sort_values(\"Math\").head()"
   ]
  },
  {
   "cell_type": "code",
   "execution_count": 17,
   "metadata": {},
   "outputs": [],
   "source": [
    "sat_2017.loc[20,\"Math\"] = 524"
   ]
  },
  {
   "cell_type": "code",
   "execution_count": 18,
   "metadata": {},
   "outputs": [
    {
     "data": {
      "text/plain": [
       "524"
      ]
     },
     "execution_count": 18,
     "metadata": {},
     "output_type": "execute_result"
    }
   ],
   "source": [
    "sat_2017.loc[20,\"Math\"] "
   ]
  },
  {
   "cell_type": "code",
   "execution_count": null,
   "metadata": {},
   "outputs": [],
   "source": []
  },
  {
   "cell_type": "code",
   "execution_count": 19,
   "metadata": {},
   "outputs": [
    {
     "data": {
      "text/html": [
       "<div>\n",
       "<style scoped>\n",
       "    .dataframe tbody tr th:only-of-type {\n",
       "        vertical-align: middle;\n",
       "    }\n",
       "\n",
       "    .dataframe tbody tr th {\n",
       "        vertical-align: top;\n",
       "    }\n",
       "\n",
       "    .dataframe thead th {\n",
       "        text-align: right;\n",
       "    }\n",
       "</style>\n",
       "<table border=\"1\" class=\"dataframe\">\n",
       "  <thead>\n",
       "    <tr style=\"text-align: right;\">\n",
       "      <th></th>\n",
       "      <th>State</th>\n",
       "      <th>Participation</th>\n",
       "      <th>English</th>\n",
       "      <th>Math</th>\n",
       "      <th>Reading</th>\n",
       "      <th>Science</th>\n",
       "      <th>Composite</th>\n",
       "    </tr>\n",
       "  </thead>\n",
       "  <tbody>\n",
       "    <tr>\n",
       "      <th>21</th>\n",
       "      <td>Maryland</td>\n",
       "      <td>28%</td>\n",
       "      <td>23.3</td>\n",
       "      <td>23.1</td>\n",
       "      <td>24.2</td>\n",
       "      <td>2.3</td>\n",
       "      <td>23.6</td>\n",
       "    </tr>\n",
       "    <tr>\n",
       "      <th>29</th>\n",
       "      <td>Nevada</td>\n",
       "      <td>100%</td>\n",
       "      <td>16.3</td>\n",
       "      <td>18.0</td>\n",
       "      <td>18.1</td>\n",
       "      <td>18.2</td>\n",
       "      <td>17.8</td>\n",
       "    </tr>\n",
       "    <tr>\n",
       "      <th>25</th>\n",
       "      <td>Mississippi</td>\n",
       "      <td>100%</td>\n",
       "      <td>18.2</td>\n",
       "      <td>18.1</td>\n",
       "      <td>18.8</td>\n",
       "      <td>18.8</td>\n",
       "      <td>18.6</td>\n",
       "    </tr>\n",
       "    <tr>\n",
       "      <th>41</th>\n",
       "      <td>South Carolina</td>\n",
       "      <td>100%</td>\n",
       "      <td>17.5</td>\n",
       "      <td>18.6</td>\n",
       "      <td>19.1</td>\n",
       "      <td>18.9</td>\n",
       "      <td>18.7</td>\n",
       "    </tr>\n",
       "    <tr>\n",
       "      <th>34</th>\n",
       "      <td>North Carolina</td>\n",
       "      <td>100%</td>\n",
       "      <td>17.8</td>\n",
       "      <td>19.3</td>\n",
       "      <td>19.6</td>\n",
       "      <td>19.3</td>\n",
       "      <td>19.1</td>\n",
       "    </tr>\n",
       "  </tbody>\n",
       "</table>\n",
       "</div>"
      ],
      "text/plain": [
       "             State Participation  English  Math  Reading  Science Composite\n",
       "21        Maryland           28%     23.3  23.1     24.2      2.3      23.6\n",
       "29          Nevada          100%     16.3  18.0     18.1     18.2      17.8\n",
       "25     Mississippi          100%     18.2  18.1     18.8     18.8      18.6\n",
       "41  South Carolina          100%     17.5  18.6     19.1     18.9      18.7\n",
       "34  North Carolina          100%     17.8  19.3     19.6     19.3      19.1"
      ]
     },
     "execution_count": 19,
     "metadata": {},
     "output_type": "execute_result"
    }
   ],
   "source": [
    "act_2017.sort_values(\"Science\").head()"
   ]
  },
  {
   "cell_type": "code",
   "execution_count": 20,
   "metadata": {},
   "outputs": [],
   "source": [
    "act_2017.loc[21,\"Science\"] = 23.2"
   ]
  },
  {
   "cell_type": "code",
   "execution_count": 21,
   "metadata": {},
   "outputs": [
    {
     "data": {
      "text/plain": [
       "23.2"
      ]
     },
     "execution_count": 21,
     "metadata": {},
     "output_type": "execute_result"
    }
   ],
   "source": [
    "act_2017.loc[21,\"Science\"]"
   ]
  },
  {
   "cell_type": "code",
   "execution_count": 22,
   "metadata": {},
   "outputs": [],
   "source": [
    "act_2017.loc[51,\"Composite\"] = 20.2"
   ]
  },
  {
   "cell_type": "code",
   "execution_count": 23,
   "metadata": {},
   "outputs": [
    {
     "data": {
      "text/plain": [
       "20.2"
      ]
     },
     "execution_count": 23,
     "metadata": {},
     "output_type": "execute_result"
    }
   ],
   "source": [
    "act_2017.loc[51,\"Composite\"]"
   ]
  },
  {
   "cell_type": "markdown",
   "metadata": {},
   "source": [
    "#### 5. What are your data types? \n",
    "Display the data types of each feature. "
   ]
  },
  {
   "cell_type": "code",
   "execution_count": 24,
   "metadata": {},
   "outputs": [
    {
     "name": "stdout",
     "output_type": "stream",
     "text": [
      "<class 'pandas.core.frame.DataFrame'>\n",
      "RangeIndex: 51 entries, 0 to 50\n",
      "Data columns (total 5 columns):\n",
      " #   Column                              Non-Null Count  Dtype \n",
      "---  ------                              --------------  ----- \n",
      " 0   State                               51 non-null     object\n",
      " 1   Participation                       51 non-null     object\n",
      " 2   Evidence-Based Reading and Writing  51 non-null     int64 \n",
      " 3   Math                                51 non-null     int64 \n",
      " 4   Total                               51 non-null     int64 \n",
      "dtypes: int64(3), object(2)\n",
      "memory usage: 2.1+ KB\n"
     ]
    }
   ],
   "source": [
    "#code\n",
    "sat_2017.info()"
   ]
  },
  {
   "cell_type": "markdown",
   "metadata": {},
   "source": [
    "What did you learn?\n",
    "- Do any of them seem odd? \n",
    "\n",
    "Answer: the numerical values are in object data types instead of integer or float data types\n",
    "\n",
    "- Which ones are not as they should be?  \n",
    "\n",
    "Answer: Participation rate"
   ]
  },
  {
   "cell_type": "code",
   "execution_count": 25,
   "metadata": {},
   "outputs": [
    {
     "name": "stdout",
     "output_type": "stream",
     "text": [
      "<class 'pandas.core.frame.DataFrame'>\n",
      "RangeIndex: 52 entries, 0 to 51\n",
      "Data columns (total 7 columns):\n",
      " #   Column         Non-Null Count  Dtype  \n",
      "---  ------         --------------  -----  \n",
      " 0   State          52 non-null     object \n",
      " 1   Participation  52 non-null     object \n",
      " 2   English        52 non-null     float64\n",
      " 3   Math           52 non-null     float64\n",
      " 4   Reading        52 non-null     float64\n",
      " 5   Science        52 non-null     float64\n",
      " 6   Composite      52 non-null     object \n",
      "dtypes: float64(4), object(3)\n",
      "memory usage: 3.0+ KB\n"
     ]
    }
   ],
   "source": [
    "act_2017.info()"
   ]
  },
  {
   "cell_type": "markdown",
   "metadata": {},
   "source": [
    "#### 6. Fix Incorrect Data Types\n",
    "Based on what you discovered above, use appropriate methods to re-type incorrectly typed data.\n",
    "- Define a function that will allow you to convert participation rates to an appropriate numeric type. Use `map` or `apply` to change these columns in each dataframe."
   ]
  },
  {
   "cell_type": "code",
   "execution_count": 26,
   "metadata": {},
   "outputs": [
    {
     "data": {
      "text/plain": [
       "0     5%\n",
       "1    38%\n",
       "2    30%\n",
       "3     3%\n",
       "4    53%\n",
       "Name: Participation, dtype: object"
      ]
     },
     "execution_count": 26,
     "metadata": {},
     "output_type": "execute_result"
    }
   ],
   "source": [
    "sat_2017[\"Participation\"].head()"
   ]
  },
  {
   "cell_type": "code",
   "execution_count": 27,
   "metadata": {},
   "outputs": [],
   "source": [
    "# define function to convert partipation rate to numeric type\n",
    "\n",
    "def convert_part(x):\n",
    "    return float(x.replace(\"%\",\"\"))\n"
   ]
  },
  {
   "cell_type": "code",
   "execution_count": 28,
   "metadata": {},
   "outputs": [
    {
     "data": {
      "text/plain": [
       "0       5.0\n",
       "1      38.0\n",
       "2      30.0\n",
       "3       3.0\n",
       "4      53.0\n",
       "5      11.0\n",
       "6     100.0\n",
       "7     100.0\n",
       "8     100.0\n",
       "9      83.0\n",
       "10     61.0\n",
       "11     55.0\n",
       "12     93.0\n",
       "13      9.0\n",
       "14     63.0\n",
       "15      2.0\n",
       "16      4.0\n",
       "17      4.0\n",
       "18      4.0\n",
       "19     95.0\n",
       "20     69.0\n",
       "21     76.0\n",
       "22    100.0\n",
       "23      3.0\n",
       "24      2.0\n",
       "25      3.0\n",
       "26     10.0\n",
       "27      3.0\n",
       "28     26.0\n",
       "29     96.0\n",
       "30     70.0\n",
       "31     11.0\n",
       "32     67.0\n",
       "33     49.0\n",
       "34      2.0\n",
       "35     12.0\n",
       "36      7.0\n",
       "37     43.0\n",
       "38     65.0\n",
       "39     71.0\n",
       "40     50.0\n",
       "41      3.0\n",
       "42      5.0\n",
       "43     62.0\n",
       "44      3.0\n",
       "45     60.0\n",
       "46     65.0\n",
       "47     64.0\n",
       "48     14.0\n",
       "49      3.0\n",
       "50      3.0\n",
       "Name: Participation, dtype: float64"
      ]
     },
     "execution_count": 28,
     "metadata": {},
     "output_type": "execute_result"
    }
   ],
   "source": [
    "#sat_2017_clean = convert_part(sat_2017[\"Participation\"])\n",
    "\n",
    "sat_2017[\"Participation\"].map(convert_part)"
   ]
  },
  {
   "cell_type": "code",
   "execution_count": 29,
   "metadata": {},
   "outputs": [],
   "source": [
    "sat_2017[\"Participation\"] = sat_2017[\"Participation\"].map(convert_part)"
   ]
  },
  {
   "cell_type": "code",
   "execution_count": 30,
   "metadata": {},
   "outputs": [
    {
     "data": {
      "text/html": [
       "<div>\n",
       "<style scoped>\n",
       "    .dataframe tbody tr th:only-of-type {\n",
       "        vertical-align: middle;\n",
       "    }\n",
       "\n",
       "    .dataframe tbody tr th {\n",
       "        vertical-align: top;\n",
       "    }\n",
       "\n",
       "    .dataframe thead th {\n",
       "        text-align: right;\n",
       "    }\n",
       "</style>\n",
       "<table border=\"1\" class=\"dataframe\">\n",
       "  <thead>\n",
       "    <tr style=\"text-align: right;\">\n",
       "      <th></th>\n",
       "      <th>State</th>\n",
       "      <th>Participation</th>\n",
       "      <th>Evidence-Based Reading and Writing</th>\n",
       "      <th>Math</th>\n",
       "      <th>Total</th>\n",
       "    </tr>\n",
       "  </thead>\n",
       "  <tbody>\n",
       "    <tr>\n",
       "      <th>0</th>\n",
       "      <td>Alabama</td>\n",
       "      <td>5.0</td>\n",
       "      <td>593</td>\n",
       "      <td>572</td>\n",
       "      <td>1165</td>\n",
       "    </tr>\n",
       "    <tr>\n",
       "      <th>1</th>\n",
       "      <td>Alaska</td>\n",
       "      <td>38.0</td>\n",
       "      <td>547</td>\n",
       "      <td>533</td>\n",
       "      <td>1080</td>\n",
       "    </tr>\n",
       "    <tr>\n",
       "      <th>2</th>\n",
       "      <td>Arizona</td>\n",
       "      <td>30.0</td>\n",
       "      <td>563</td>\n",
       "      <td>553</td>\n",
       "      <td>1116</td>\n",
       "    </tr>\n",
       "    <tr>\n",
       "      <th>3</th>\n",
       "      <td>Arkansas</td>\n",
       "      <td>3.0</td>\n",
       "      <td>614</td>\n",
       "      <td>594</td>\n",
       "      <td>1208</td>\n",
       "    </tr>\n",
       "    <tr>\n",
       "      <th>4</th>\n",
       "      <td>California</td>\n",
       "      <td>53.0</td>\n",
       "      <td>531</td>\n",
       "      <td>524</td>\n",
       "      <td>1055</td>\n",
       "    </tr>\n",
       "  </tbody>\n",
       "</table>\n",
       "</div>"
      ],
      "text/plain": [
       "        State  Participation  Evidence-Based Reading and Writing  Math  Total\n",
       "0     Alabama            5.0                                 593   572   1165\n",
       "1      Alaska           38.0                                 547   533   1080\n",
       "2     Arizona           30.0                                 563   553   1116\n",
       "3    Arkansas            3.0                                 614   594   1208\n",
       "4  California           53.0                                 531   524   1055"
      ]
     },
     "execution_count": 30,
     "metadata": {},
     "output_type": "execute_result"
    }
   ],
   "source": [
    "sat_2017.head()"
   ]
  },
  {
   "cell_type": "code",
   "execution_count": 31,
   "metadata": {},
   "outputs": [],
   "source": [
    "act_2017[\"Participation\"] = act_2017[\"Participation\"].map(convert_part)"
   ]
  },
  {
   "cell_type": "code",
   "execution_count": 32,
   "metadata": {},
   "outputs": [
    {
     "data": {
      "text/html": [
       "<div>\n",
       "<style scoped>\n",
       "    .dataframe tbody tr th:only-of-type {\n",
       "        vertical-align: middle;\n",
       "    }\n",
       "\n",
       "    .dataframe tbody tr th {\n",
       "        vertical-align: top;\n",
       "    }\n",
       "\n",
       "    .dataframe thead th {\n",
       "        text-align: right;\n",
       "    }\n",
       "</style>\n",
       "<table border=\"1\" class=\"dataframe\">\n",
       "  <thead>\n",
       "    <tr style=\"text-align: right;\">\n",
       "      <th></th>\n",
       "      <th>State</th>\n",
       "      <th>Participation</th>\n",
       "      <th>English</th>\n",
       "      <th>Math</th>\n",
       "      <th>Reading</th>\n",
       "      <th>Science</th>\n",
       "      <th>Composite</th>\n",
       "    </tr>\n",
       "  </thead>\n",
       "  <tbody>\n",
       "    <tr>\n",
       "      <th>0</th>\n",
       "      <td>National</td>\n",
       "      <td>60.0</td>\n",
       "      <td>20.3</td>\n",
       "      <td>20.7</td>\n",
       "      <td>21.4</td>\n",
       "      <td>21.0</td>\n",
       "      <td>21.0</td>\n",
       "    </tr>\n",
       "    <tr>\n",
       "      <th>1</th>\n",
       "      <td>Alabama</td>\n",
       "      <td>100.0</td>\n",
       "      <td>18.9</td>\n",
       "      <td>18.4</td>\n",
       "      <td>19.7</td>\n",
       "      <td>19.4</td>\n",
       "      <td>19.2</td>\n",
       "    </tr>\n",
       "    <tr>\n",
       "      <th>2</th>\n",
       "      <td>Alaska</td>\n",
       "      <td>65.0</td>\n",
       "      <td>18.7</td>\n",
       "      <td>19.8</td>\n",
       "      <td>20.4</td>\n",
       "      <td>19.9</td>\n",
       "      <td>19.8</td>\n",
       "    </tr>\n",
       "    <tr>\n",
       "      <th>3</th>\n",
       "      <td>Arizona</td>\n",
       "      <td>62.0</td>\n",
       "      <td>18.6</td>\n",
       "      <td>19.8</td>\n",
       "      <td>20.1</td>\n",
       "      <td>19.8</td>\n",
       "      <td>19.7</td>\n",
       "    </tr>\n",
       "    <tr>\n",
       "      <th>4</th>\n",
       "      <td>Arkansas</td>\n",
       "      <td>100.0</td>\n",
       "      <td>18.9</td>\n",
       "      <td>19.0</td>\n",
       "      <td>19.7</td>\n",
       "      <td>19.5</td>\n",
       "      <td>19.4</td>\n",
       "    </tr>\n",
       "  </tbody>\n",
       "</table>\n",
       "</div>"
      ],
      "text/plain": [
       "      State  Participation  English  Math  Reading  Science Composite\n",
       "0  National           60.0     20.3  20.7     21.4     21.0      21.0\n",
       "1   Alabama          100.0     18.9  18.4     19.7     19.4      19.2\n",
       "2    Alaska           65.0     18.7  19.8     20.4     19.9      19.8\n",
       "3   Arizona           62.0     18.6  19.8     20.1     19.8      19.7\n",
       "4  Arkansas          100.0     18.9  19.0     19.7     19.5      19.4"
      ]
     },
     "execution_count": 32,
     "metadata": {},
     "output_type": "execute_result"
    }
   ],
   "source": [
    "act_2017.head()"
   ]
  },
  {
   "cell_type": "markdown",
   "metadata": {},
   "source": [
    "- Fix any individual values preventing other columns from being the appropriate type."
   ]
  },
  {
   "cell_type": "code",
   "execution_count": 33,
   "metadata": {},
   "outputs": [
    {
     "name": "stdout",
     "output_type": "stream",
     "text": [
      "<class 'pandas.core.frame.DataFrame'>\n",
      "RangeIndex: 51 entries, 0 to 50\n",
      "Data columns (total 5 columns):\n",
      " #   Column                              Non-Null Count  Dtype  \n",
      "---  ------                              --------------  -----  \n",
      " 0   State                               51 non-null     object \n",
      " 1   Participation                       51 non-null     float64\n",
      " 2   Evidence-Based Reading and Writing  51 non-null     int64  \n",
      " 3   Math                                51 non-null     int64  \n",
      " 4   Total                               51 non-null     int64  \n",
      "dtypes: float64(1), int64(3), object(1)\n",
      "memory usage: 2.1+ KB\n"
     ]
    }
   ],
   "source": [
    "# check data types again\n",
    "sat_2017.info()"
   ]
  },
  {
   "cell_type": "code",
   "execution_count": 34,
   "metadata": {},
   "outputs": [
    {
     "name": "stdout",
     "output_type": "stream",
     "text": [
      "<class 'pandas.core.frame.DataFrame'>\n",
      "RangeIndex: 52 entries, 0 to 51\n",
      "Data columns (total 7 columns):\n",
      " #   Column         Non-Null Count  Dtype  \n",
      "---  ------         --------------  -----  \n",
      " 0   State          52 non-null     object \n",
      " 1   Participation  52 non-null     float64\n",
      " 2   English        52 non-null     float64\n",
      " 3   Math           52 non-null     float64\n",
      " 4   Reading        52 non-null     float64\n",
      " 5   Science        52 non-null     float64\n",
      " 6   Composite      52 non-null     object \n",
      "dtypes: float64(5), object(2)\n",
      "memory usage: 3.0+ KB\n"
     ]
    }
   ],
   "source": [
    "act_2017.info()"
   ]
  },
  {
   "cell_type": "code",
   "execution_count": 35,
   "metadata": {},
   "outputs": [],
   "source": [
    "#function to convert the numerical values to float data type\n",
    "def convert_fl(x):\n",
    "    return float(x)"
   ]
  },
  {
   "cell_type": "code",
   "execution_count": 36,
   "metadata": {},
   "outputs": [],
   "source": [
    "sat_2017[[\"Evidence-Based Reading and Writing\", \"Math\",\"Total\"]]=sat_2017[[\"Evidence-Based Reading and Writing\", \"Math\",\"Total\"]].applymap(convert_fl)"
   ]
  },
  {
   "cell_type": "code",
   "execution_count": 37,
   "metadata": {},
   "outputs": [],
   "source": [
    "act_2017[\"Composite\"]=act_2017[\"Composite\"].map(convert_fl)\n"
   ]
  },
  {
   "cell_type": "markdown",
   "metadata": {},
   "source": [
    "- Finish your data modifications by making sure the columns are now typed appropriately."
   ]
  },
  {
   "cell_type": "code",
   "execution_count": 38,
   "metadata": {},
   "outputs": [
    {
     "name": "stdout",
     "output_type": "stream",
     "text": [
      "<class 'pandas.core.frame.DataFrame'>\n",
      "RangeIndex: 51 entries, 0 to 50\n",
      "Data columns (total 5 columns):\n",
      " #   Column                              Non-Null Count  Dtype  \n",
      "---  ------                              --------------  -----  \n",
      " 0   State                               51 non-null     object \n",
      " 1   Participation                       51 non-null     float64\n",
      " 2   Evidence-Based Reading and Writing  51 non-null     float64\n",
      " 3   Math                                51 non-null     float64\n",
      " 4   Total                               51 non-null     float64\n",
      "dtypes: float64(4), object(1)\n",
      "memory usage: 2.1+ KB\n"
     ]
    }
   ],
   "source": [
    "sat_2017.info()"
   ]
  },
  {
   "cell_type": "code",
   "execution_count": 39,
   "metadata": {},
   "outputs": [
    {
     "name": "stdout",
     "output_type": "stream",
     "text": [
      "<class 'pandas.core.frame.DataFrame'>\n",
      "RangeIndex: 52 entries, 0 to 51\n",
      "Data columns (total 7 columns):\n",
      " #   Column         Non-Null Count  Dtype  \n",
      "---  ------         --------------  -----  \n",
      " 0   State          52 non-null     object \n",
      " 1   Participation  52 non-null     float64\n",
      " 2   English        52 non-null     float64\n",
      " 3   Math           52 non-null     float64\n",
      " 4   Reading        52 non-null     float64\n",
      " 5   Science        52 non-null     float64\n",
      " 6   Composite      52 non-null     float64\n",
      "dtypes: float64(6), object(1)\n",
      "memory usage: 3.0+ KB\n"
     ]
    }
   ],
   "source": [
    "act_2017.info()"
   ]
  },
  {
   "cell_type": "markdown",
   "metadata": {},
   "source": [
    "- Display the data types again to confirm they are correct."
   ]
  },
  {
   "cell_type": "markdown",
   "metadata": {},
   "source": [
    "Answer\n",
    "\n",
    "Answers can be found in the above 2 cells"
   ]
  },
  {
   "cell_type": "markdown",
   "metadata": {},
   "source": [
    "#### 7. Rename Columns\n",
    "Change the names of the columns to more expressive names so that you can tell the difference the SAT columns and the ACT columns. Your solution should map all column names being changed at once (no repeated singular name-changes). **We will be combining these data with some of the data from 2018, and so you should name columns in an appropriate way**.\n",
    "\n",
    "**Guidelines**:\n",
    "- Column names should be all lowercase (you will thank yourself when you start pushing data to SQL later in the course)\n",
    "- Column names should not contain spaces (underscores will suffice--this allows for using the `df.column_name` method to access columns in addition to `df['column_name']`.\n",
    "- Column names should be unique and informative (the only feature that we actually share between dataframes is the state)."
   ]
  },
  {
   "cell_type": "code",
   "execution_count": 40,
   "metadata": {},
   "outputs": [],
   "source": [
    "# Renaming the coloumns and writing it into the dataframe\n",
    "sat_2017 =sat_2017.rename({\"State\": \"state\",\"Participation\":\"participationpct_sat_2017\", \n",
    "                 \"Evidence-Based Reading and Writing\": \"reading & writing_sat_2017\",\n",
    "                 \"Math\": \"math_sat_2017\",\n",
    "                 \"Total\": \"total_sat_2017\"}, axis = 1)\n",
    "\n"
   ]
  },
  {
   "cell_type": "code",
   "execution_count": 41,
   "metadata": {},
   "outputs": [
    {
     "data": {
      "text/html": [
       "<div>\n",
       "<style scoped>\n",
       "    .dataframe tbody tr th:only-of-type {\n",
       "        vertical-align: middle;\n",
       "    }\n",
       "\n",
       "    .dataframe tbody tr th {\n",
       "        vertical-align: top;\n",
       "    }\n",
       "\n",
       "    .dataframe thead th {\n",
       "        text-align: right;\n",
       "    }\n",
       "</style>\n",
       "<table border=\"1\" class=\"dataframe\">\n",
       "  <thead>\n",
       "    <tr style=\"text-align: right;\">\n",
       "      <th></th>\n",
       "      <th>state</th>\n",
       "      <th>participationpct_sat_2017</th>\n",
       "      <th>reading &amp; writing_sat_2017</th>\n",
       "      <th>math_sat_2017</th>\n",
       "      <th>total_sat_2017</th>\n",
       "    </tr>\n",
       "  </thead>\n",
       "  <tbody>\n",
       "    <tr>\n",
       "      <th>0</th>\n",
       "      <td>Alabama</td>\n",
       "      <td>5.0</td>\n",
       "      <td>593.0</td>\n",
       "      <td>572.0</td>\n",
       "      <td>1165.0</td>\n",
       "    </tr>\n",
       "    <tr>\n",
       "      <th>1</th>\n",
       "      <td>Alaska</td>\n",
       "      <td>38.0</td>\n",
       "      <td>547.0</td>\n",
       "      <td>533.0</td>\n",
       "      <td>1080.0</td>\n",
       "    </tr>\n",
       "    <tr>\n",
       "      <th>2</th>\n",
       "      <td>Arizona</td>\n",
       "      <td>30.0</td>\n",
       "      <td>563.0</td>\n",
       "      <td>553.0</td>\n",
       "      <td>1116.0</td>\n",
       "    </tr>\n",
       "    <tr>\n",
       "      <th>3</th>\n",
       "      <td>Arkansas</td>\n",
       "      <td>3.0</td>\n",
       "      <td>614.0</td>\n",
       "      <td>594.0</td>\n",
       "      <td>1208.0</td>\n",
       "    </tr>\n",
       "    <tr>\n",
       "      <th>4</th>\n",
       "      <td>California</td>\n",
       "      <td>53.0</td>\n",
       "      <td>531.0</td>\n",
       "      <td>524.0</td>\n",
       "      <td>1055.0</td>\n",
       "    </tr>\n",
       "  </tbody>\n",
       "</table>\n",
       "</div>"
      ],
      "text/plain": [
       "        state  participationpct_sat_2017  reading & writing_sat_2017  \\\n",
       "0     Alabama                        5.0                       593.0   \n",
       "1      Alaska                       38.0                       547.0   \n",
       "2     Arizona                       30.0                       563.0   \n",
       "3    Arkansas                        3.0                       614.0   \n",
       "4  California                       53.0                       531.0   \n",
       "\n",
       "   math_sat_2017  total_sat_2017  \n",
       "0          572.0          1165.0  \n",
       "1          533.0          1080.0  \n",
       "2          553.0          1116.0  \n",
       "3          594.0          1208.0  \n",
       "4          524.0          1055.0  "
      ]
     },
     "execution_count": 41,
     "metadata": {},
     "output_type": "execute_result"
    }
   ],
   "source": [
    "sat_2017.head()"
   ]
  },
  {
   "cell_type": "code",
   "execution_count": 42,
   "metadata": {},
   "outputs": [],
   "source": [
    "act_2017 =act_2017.rename({\"State\": \"state\",\"Participation\":\"participationpct_act_2017\", \n",
    "                 \"English\": \"english_act_2017\",\n",
    "                 \"Math\": \"math_act_2017\",\"Reading\": \"reading_act_2017\",\"Science\": \"science_act_2017\",\n",
    "                 \"Composite\": \"composite_act_2017\"}, axis = 1)"
   ]
  },
  {
   "cell_type": "code",
   "execution_count": 43,
   "metadata": {},
   "outputs": [
    {
     "data": {
      "text/html": [
       "<div>\n",
       "<style scoped>\n",
       "    .dataframe tbody tr th:only-of-type {\n",
       "        vertical-align: middle;\n",
       "    }\n",
       "\n",
       "    .dataframe tbody tr th {\n",
       "        vertical-align: top;\n",
       "    }\n",
       "\n",
       "    .dataframe thead th {\n",
       "        text-align: right;\n",
       "    }\n",
       "</style>\n",
       "<table border=\"1\" class=\"dataframe\">\n",
       "  <thead>\n",
       "    <tr style=\"text-align: right;\">\n",
       "      <th></th>\n",
       "      <th>state</th>\n",
       "      <th>participationpct_act_2017</th>\n",
       "      <th>english_act_2017</th>\n",
       "      <th>math_act_2017</th>\n",
       "      <th>reading_act_2017</th>\n",
       "      <th>science_act_2017</th>\n",
       "      <th>composite_act_2017</th>\n",
       "    </tr>\n",
       "  </thead>\n",
       "  <tbody>\n",
       "    <tr>\n",
       "      <th>0</th>\n",
       "      <td>National</td>\n",
       "      <td>60.0</td>\n",
       "      <td>20.3</td>\n",
       "      <td>20.7</td>\n",
       "      <td>21.4</td>\n",
       "      <td>21.0</td>\n",
       "      <td>21.0</td>\n",
       "    </tr>\n",
       "    <tr>\n",
       "      <th>1</th>\n",
       "      <td>Alabama</td>\n",
       "      <td>100.0</td>\n",
       "      <td>18.9</td>\n",
       "      <td>18.4</td>\n",
       "      <td>19.7</td>\n",
       "      <td>19.4</td>\n",
       "      <td>19.2</td>\n",
       "    </tr>\n",
       "    <tr>\n",
       "      <th>2</th>\n",
       "      <td>Alaska</td>\n",
       "      <td>65.0</td>\n",
       "      <td>18.7</td>\n",
       "      <td>19.8</td>\n",
       "      <td>20.4</td>\n",
       "      <td>19.9</td>\n",
       "      <td>19.8</td>\n",
       "    </tr>\n",
       "    <tr>\n",
       "      <th>3</th>\n",
       "      <td>Arizona</td>\n",
       "      <td>62.0</td>\n",
       "      <td>18.6</td>\n",
       "      <td>19.8</td>\n",
       "      <td>20.1</td>\n",
       "      <td>19.8</td>\n",
       "      <td>19.7</td>\n",
       "    </tr>\n",
       "    <tr>\n",
       "      <th>4</th>\n",
       "      <td>Arkansas</td>\n",
       "      <td>100.0</td>\n",
       "      <td>18.9</td>\n",
       "      <td>19.0</td>\n",
       "      <td>19.7</td>\n",
       "      <td>19.5</td>\n",
       "      <td>19.4</td>\n",
       "    </tr>\n",
       "  </tbody>\n",
       "</table>\n",
       "</div>"
      ],
      "text/plain": [
       "      state  participationpct_act_2017  english_act_2017  math_act_2017  \\\n",
       "0  National                       60.0              20.3           20.7   \n",
       "1   Alabama                      100.0              18.9           18.4   \n",
       "2    Alaska                       65.0              18.7           19.8   \n",
       "3   Arizona                       62.0              18.6           19.8   \n",
       "4  Arkansas                      100.0              18.9           19.0   \n",
       "\n",
       "   reading_act_2017  science_act_2017  composite_act_2017  \n",
       "0              21.4              21.0                21.0  \n",
       "1              19.7              19.4                19.2  \n",
       "2              20.4              19.9                19.8  \n",
       "3              20.1              19.8                19.7  \n",
       "4              19.7              19.5                19.4  "
      ]
     },
     "execution_count": 43,
     "metadata": {},
     "output_type": "execute_result"
    }
   ],
   "source": [
    "act_2017.head()"
   ]
  },
  {
   "cell_type": "markdown",
   "metadata": {},
   "source": [
    "#### 8. Create a data dictionary\n",
    "\n",
    "Now that we've fixed our data, and given it appropriate names, let's create a [data dictionary](http://library.ucmerced.edu/node/10249). \n",
    "\n",
    "A data dictionary provides a quick overview of features/variables/columns, alongside data types and descriptions. The more descriptive you can be, the more useful this document is.\n",
    "\n",
    "Example of a Fictional Data Dictionary Entry: \n",
    "\n",
    "|Feature|Type|Dataset|Description|\n",
    "|---|---|---|---|\n",
    "|**county_pop**|*integer*|2010 census|The population of the county (units in thousands, where 2.5 represents 2500 people).| \n",
    "|**per_poverty**|*float*|2010 census|The percent of the county over the age of 18 living below the 200% of official US poverty rate (units percent to two decimal places 98.10 means 98.1%)|\n",
    "\n",
    "[Here's a quick link to a short guide for formatting markdown in Jupyter notebooks](https://jupyter-notebook.readthedocs.io/en/stable/examples/Notebook/Working%20With%20Markdown%20Cells.html).\n",
    "\n",
    "Provided is the skeleton for formatting a markdown table, with columns headers that will help you create a data dictionary to quickly summarize your data, as well as some examples. **This would be a great thing to copy and paste into your custom README for this project.**"
   ]
  },
  {
   "cell_type": "markdown",
   "metadata": {},
   "source": [
    "|Feature|Type|Dataset|Description|\n",
    "|---|---|---|---|\n",
    "|column name|int/float/object|ACT/SAT|This is an example| \n"
   ]
  },
  {
   "cell_type": "markdown",
   "metadata": {},
   "source": [
    "|Feature|Type|Dataset|Description|\n",
    "|---|---|---|---|\n",
    "|state|object|SAT|This is the name of the state| \n",
    "|participationpct_sat_2017|float|SAT|This is the precentage of students who took the SAT tests in 2017 in the corresponding state|\n",
    "|reading & writing_sat_2017|float|SAT|This is the average score of the students who have taken the SAT evidence-based reading and writing test in 2017 in the corresponding state| \n",
    "|math_sat_2017|float|SAT|This is the average score of the students who have taken the SAT math test in 2017 the corresponding state| \n",
    "|total_sat_2017|float|SAT|This is the average total score of the students who have taken both the SAT tests in 2017 in the corresponding state| \n",
    "|state|object|ACT|This is the name of the state| \n",
    "|participationpct_act_2017|float|ACT|This is the precentage of students who took the ACT tests in 2017 in the corresponding state|\n",
    "|english_act_2017|float|ACT|This is the average score of the students who have taken the ACT english test in 2017 in the corresponding state|\n",
    "|math_act_2017|float|ACT|This is the average score of the students who have taken the ACT math test in 2017 in the corresponding state|\n",
    "|reading_act_2017|float|ACT|This is the average score of the students who have taken the ACT reading test in 2017 in the corresponding state| \n",
    "|science_act_2017|float|ACT|This is the average score of the students who have taken the ACT science test in 2017 in the corresponding state|\n",
    "|composite_act_2017|float|ACT|This is the average total score of the students who have taken the ACT tests in 2017 in the corresponding state|"
   ]
  },
  {
   "cell_type": "markdown",
   "metadata": {},
   "source": [
    "#### 9. Drop unnecessary rows\n",
    "\n",
    "One of our dataframes contains an extra row. Identify and remove this from the dataframe."
   ]
  },
  {
   "cell_type": "code",
   "execution_count": 44,
   "metadata": {},
   "outputs": [
    {
     "data": {
      "text/html": [
       "<div>\n",
       "<style scoped>\n",
       "    .dataframe tbody tr th:only-of-type {\n",
       "        vertical-align: middle;\n",
       "    }\n",
       "\n",
       "    .dataframe tbody tr th {\n",
       "        vertical-align: top;\n",
       "    }\n",
       "\n",
       "    .dataframe thead th {\n",
       "        text-align: right;\n",
       "    }\n",
       "</style>\n",
       "<table border=\"1\" class=\"dataframe\">\n",
       "  <thead>\n",
       "    <tr style=\"text-align: right;\">\n",
       "      <th></th>\n",
       "      <th>participationpct_sat_2017</th>\n",
       "      <th>reading &amp; writing_sat_2017</th>\n",
       "      <th>math_sat_2017</th>\n",
       "      <th>total_sat_2017</th>\n",
       "    </tr>\n",
       "  </thead>\n",
       "  <tbody>\n",
       "    <tr>\n",
       "      <th>count</th>\n",
       "      <td>51.000000</td>\n",
       "      <td>51.000000</td>\n",
       "      <td>51.000000</td>\n",
       "      <td>51.000000</td>\n",
       "    </tr>\n",
       "    <tr>\n",
       "      <th>mean</th>\n",
       "      <td>39.803922</td>\n",
       "      <td>569.117647</td>\n",
       "      <td>556.882353</td>\n",
       "      <td>1126.098039</td>\n",
       "    </tr>\n",
       "    <tr>\n",
       "      <th>std</th>\n",
       "      <td>35.276632</td>\n",
       "      <td>45.666901</td>\n",
       "      <td>47.121395</td>\n",
       "      <td>92.494812</td>\n",
       "    </tr>\n",
       "    <tr>\n",
       "      <th>min</th>\n",
       "      <td>2.000000</td>\n",
       "      <td>482.000000</td>\n",
       "      <td>468.000000</td>\n",
       "      <td>950.000000</td>\n",
       "    </tr>\n",
       "    <tr>\n",
       "      <th>25%</th>\n",
       "      <td>4.000000</td>\n",
       "      <td>533.500000</td>\n",
       "      <td>523.500000</td>\n",
       "      <td>1055.500000</td>\n",
       "    </tr>\n",
       "    <tr>\n",
       "      <th>50%</th>\n",
       "      <td>38.000000</td>\n",
       "      <td>559.000000</td>\n",
       "      <td>548.000000</td>\n",
       "      <td>1107.000000</td>\n",
       "    </tr>\n",
       "    <tr>\n",
       "      <th>75%</th>\n",
       "      <td>66.000000</td>\n",
       "      <td>613.000000</td>\n",
       "      <td>599.000000</td>\n",
       "      <td>1212.000000</td>\n",
       "    </tr>\n",
       "    <tr>\n",
       "      <th>max</th>\n",
       "      <td>100.000000</td>\n",
       "      <td>644.000000</td>\n",
       "      <td>651.000000</td>\n",
       "      <td>1295.000000</td>\n",
       "    </tr>\n",
       "  </tbody>\n",
       "</table>\n",
       "</div>"
      ],
      "text/plain": [
       "       participationpct_sat_2017  reading & writing_sat_2017  math_sat_2017  \\\n",
       "count                  51.000000                   51.000000      51.000000   \n",
       "mean                   39.803922                  569.117647     556.882353   \n",
       "std                    35.276632                   45.666901      47.121395   \n",
       "min                     2.000000                  482.000000     468.000000   \n",
       "25%                     4.000000                  533.500000     523.500000   \n",
       "50%                    38.000000                  559.000000     548.000000   \n",
       "75%                    66.000000                  613.000000     599.000000   \n",
       "max                   100.000000                  644.000000     651.000000   \n",
       "\n",
       "       total_sat_2017  \n",
       "count       51.000000  \n",
       "mean      1126.098039  \n",
       "std         92.494812  \n",
       "min        950.000000  \n",
       "25%       1055.500000  \n",
       "50%       1107.000000  \n",
       "75%       1212.000000  \n",
       "max       1295.000000  "
      ]
     },
     "execution_count": 44,
     "metadata": {},
     "output_type": "execute_result"
    }
   ],
   "source": [
    "sat_2017.describe()\n"
   ]
  },
  {
   "cell_type": "code",
   "execution_count": 45,
   "metadata": {},
   "outputs": [
    {
     "data": {
      "text/html": [
       "<div>\n",
       "<style scoped>\n",
       "    .dataframe tbody tr th:only-of-type {\n",
       "        vertical-align: middle;\n",
       "    }\n",
       "\n",
       "    .dataframe tbody tr th {\n",
       "        vertical-align: top;\n",
       "    }\n",
       "\n",
       "    .dataframe thead th {\n",
       "        text-align: right;\n",
       "    }\n",
       "</style>\n",
       "<table border=\"1\" class=\"dataframe\">\n",
       "  <thead>\n",
       "    <tr style=\"text-align: right;\">\n",
       "      <th></th>\n",
       "      <th>participationpct_act_2017</th>\n",
       "      <th>english_act_2017</th>\n",
       "      <th>math_act_2017</th>\n",
       "      <th>reading_act_2017</th>\n",
       "      <th>science_act_2017</th>\n",
       "      <th>composite_act_2017</th>\n",
       "    </tr>\n",
       "  </thead>\n",
       "  <tbody>\n",
       "    <tr>\n",
       "      <th>count</th>\n",
       "      <td>52.000000</td>\n",
       "      <td>52.000000</td>\n",
       "      <td>52.000000</td>\n",
       "      <td>52.000000</td>\n",
       "      <td>52.000000</td>\n",
       "      <td>52.000000</td>\n",
       "    </tr>\n",
       "    <tr>\n",
       "      <th>mean</th>\n",
       "      <td>65.153846</td>\n",
       "      <td>20.919231</td>\n",
       "      <td>21.173077</td>\n",
       "      <td>22.001923</td>\n",
       "      <td>21.442308</td>\n",
       "      <td>21.509615</td>\n",
       "    </tr>\n",
       "    <tr>\n",
       "      <th>std</th>\n",
       "      <td>31.832518</td>\n",
       "      <td>2.332132</td>\n",
       "      <td>1.963602</td>\n",
       "      <td>2.048672</td>\n",
       "      <td>1.723351</td>\n",
       "      <td>2.002083</td>\n",
       "    </tr>\n",
       "    <tr>\n",
       "      <th>min</th>\n",
       "      <td>8.000000</td>\n",
       "      <td>16.300000</td>\n",
       "      <td>18.000000</td>\n",
       "      <td>18.100000</td>\n",
       "      <td>18.200000</td>\n",
       "      <td>17.800000</td>\n",
       "    </tr>\n",
       "    <tr>\n",
       "      <th>25%</th>\n",
       "      <td>31.000000</td>\n",
       "      <td>19.000000</td>\n",
       "      <td>19.400000</td>\n",
       "      <td>20.475000</td>\n",
       "      <td>19.975000</td>\n",
       "      <td>19.800000</td>\n",
       "    </tr>\n",
       "    <tr>\n",
       "      <th>50%</th>\n",
       "      <td>68.000000</td>\n",
       "      <td>20.550000</td>\n",
       "      <td>20.900000</td>\n",
       "      <td>21.700000</td>\n",
       "      <td>21.300000</td>\n",
       "      <td>21.400000</td>\n",
       "    </tr>\n",
       "    <tr>\n",
       "      <th>75%</th>\n",
       "      <td>100.000000</td>\n",
       "      <td>23.300000</td>\n",
       "      <td>23.100000</td>\n",
       "      <td>24.125000</td>\n",
       "      <td>23.200000</td>\n",
       "      <td>23.600000</td>\n",
       "    </tr>\n",
       "    <tr>\n",
       "      <th>max</th>\n",
       "      <td>100.000000</td>\n",
       "      <td>25.500000</td>\n",
       "      <td>25.300000</td>\n",
       "      <td>26.000000</td>\n",
       "      <td>24.900000</td>\n",
       "      <td>25.500000</td>\n",
       "    </tr>\n",
       "  </tbody>\n",
       "</table>\n",
       "</div>"
      ],
      "text/plain": [
       "       participationpct_act_2017  english_act_2017  math_act_2017  \\\n",
       "count                  52.000000         52.000000      52.000000   \n",
       "mean                   65.153846         20.919231      21.173077   \n",
       "std                    31.832518          2.332132       1.963602   \n",
       "min                     8.000000         16.300000      18.000000   \n",
       "25%                    31.000000         19.000000      19.400000   \n",
       "50%                    68.000000         20.550000      20.900000   \n",
       "75%                   100.000000         23.300000      23.100000   \n",
       "max                   100.000000         25.500000      25.300000   \n",
       "\n",
       "       reading_act_2017  science_act_2017  composite_act_2017  \n",
       "count         52.000000         52.000000           52.000000  \n",
       "mean          22.001923         21.442308           21.509615  \n",
       "std            2.048672          1.723351            2.002083  \n",
       "min           18.100000         18.200000           17.800000  \n",
       "25%           20.475000         19.975000           19.800000  \n",
       "50%           21.700000         21.300000           21.400000  \n",
       "75%           24.125000         23.200000           23.600000  \n",
       "max           26.000000         24.900000           25.500000  "
      ]
     },
     "execution_count": 45,
     "metadata": {},
     "output_type": "execute_result"
    }
   ],
   "source": [
    "act_2017.describe()"
   ]
  },
  {
   "cell_type": "code",
   "execution_count": 46,
   "metadata": {},
   "outputs": [
    {
     "data": {
      "text/html": [
       "<div>\n",
       "<style scoped>\n",
       "    .dataframe tbody tr th:only-of-type {\n",
       "        vertical-align: middle;\n",
       "    }\n",
       "\n",
       "    .dataframe tbody tr th {\n",
       "        vertical-align: top;\n",
       "    }\n",
       "\n",
       "    .dataframe thead th {\n",
       "        text-align: right;\n",
       "    }\n",
       "</style>\n",
       "<table border=\"1\" class=\"dataframe\">\n",
       "  <thead>\n",
       "    <tr style=\"text-align: right;\">\n",
       "      <th></th>\n",
       "      <th>state</th>\n",
       "      <th>participationpct_act_2017</th>\n",
       "      <th>english_act_2017</th>\n",
       "      <th>math_act_2017</th>\n",
       "      <th>reading_act_2017</th>\n",
       "      <th>science_act_2017</th>\n",
       "      <th>composite_act_2017</th>\n",
       "    </tr>\n",
       "  </thead>\n",
       "  <tbody>\n",
       "    <tr>\n",
       "      <th>0</th>\n",
       "      <td>National</td>\n",
       "      <td>60.0</td>\n",
       "      <td>20.3</td>\n",
       "      <td>20.7</td>\n",
       "      <td>21.4</td>\n",
       "      <td>21.0</td>\n",
       "      <td>21.0</td>\n",
       "    </tr>\n",
       "    <tr>\n",
       "      <th>1</th>\n",
       "      <td>Alabama</td>\n",
       "      <td>100.0</td>\n",
       "      <td>18.9</td>\n",
       "      <td>18.4</td>\n",
       "      <td>19.7</td>\n",
       "      <td>19.4</td>\n",
       "      <td>19.2</td>\n",
       "    </tr>\n",
       "    <tr>\n",
       "      <th>2</th>\n",
       "      <td>Alaska</td>\n",
       "      <td>65.0</td>\n",
       "      <td>18.7</td>\n",
       "      <td>19.8</td>\n",
       "      <td>20.4</td>\n",
       "      <td>19.9</td>\n",
       "      <td>19.8</td>\n",
       "    </tr>\n",
       "    <tr>\n",
       "      <th>3</th>\n",
       "      <td>Arizona</td>\n",
       "      <td>62.0</td>\n",
       "      <td>18.6</td>\n",
       "      <td>19.8</td>\n",
       "      <td>20.1</td>\n",
       "      <td>19.8</td>\n",
       "      <td>19.7</td>\n",
       "    </tr>\n",
       "    <tr>\n",
       "      <th>4</th>\n",
       "      <td>Arkansas</td>\n",
       "      <td>100.0</td>\n",
       "      <td>18.9</td>\n",
       "      <td>19.0</td>\n",
       "      <td>19.7</td>\n",
       "      <td>19.5</td>\n",
       "      <td>19.4</td>\n",
       "    </tr>\n",
       "  </tbody>\n",
       "</table>\n",
       "</div>"
      ],
      "text/plain": [
       "      state  participationpct_act_2017  english_act_2017  math_act_2017  \\\n",
       "0  National                       60.0              20.3           20.7   \n",
       "1   Alabama                      100.0              18.9           18.4   \n",
       "2    Alaska                       65.0              18.7           19.8   \n",
       "3   Arizona                       62.0              18.6           19.8   \n",
       "4  Arkansas                      100.0              18.9           19.0   \n",
       "\n",
       "   reading_act_2017  science_act_2017  composite_act_2017  \n",
       "0              21.4              21.0                21.0  \n",
       "1              19.7              19.4                19.2  \n",
       "2              20.4              19.9                19.8  \n",
       "3              20.1              19.8                19.7  \n",
       "4              19.7              19.5                19.4  "
      ]
     },
     "execution_count": 46,
     "metadata": {},
     "output_type": "execute_result"
    }
   ],
   "source": [
    "act_2017.head()\n"
   ]
  },
  {
   "cell_type": "code",
   "execution_count": 47,
   "metadata": {},
   "outputs": [],
   "source": [
    "#Drop row index 0 and write onto data frame\n",
    "act_2017=act_2017.drop(0)\n"
   ]
  },
  {
   "cell_type": "code",
   "execution_count": 48,
   "metadata": {},
   "outputs": [
    {
     "data": {
      "text/html": [
       "<div>\n",
       "<style scoped>\n",
       "    .dataframe tbody tr th:only-of-type {\n",
       "        vertical-align: middle;\n",
       "    }\n",
       "\n",
       "    .dataframe tbody tr th {\n",
       "        vertical-align: top;\n",
       "    }\n",
       "\n",
       "    .dataframe thead th {\n",
       "        text-align: right;\n",
       "    }\n",
       "</style>\n",
       "<table border=\"1\" class=\"dataframe\">\n",
       "  <thead>\n",
       "    <tr style=\"text-align: right;\">\n",
       "      <th></th>\n",
       "      <th>state</th>\n",
       "      <th>participationpct_act_2017</th>\n",
       "      <th>english_act_2017</th>\n",
       "      <th>math_act_2017</th>\n",
       "      <th>reading_act_2017</th>\n",
       "      <th>science_act_2017</th>\n",
       "      <th>composite_act_2017</th>\n",
       "    </tr>\n",
       "  </thead>\n",
       "  <tbody>\n",
       "    <tr>\n",
       "      <th>1</th>\n",
       "      <td>Alabama</td>\n",
       "      <td>100.0</td>\n",
       "      <td>18.9</td>\n",
       "      <td>18.4</td>\n",
       "      <td>19.7</td>\n",
       "      <td>19.4</td>\n",
       "      <td>19.2</td>\n",
       "    </tr>\n",
       "    <tr>\n",
       "      <th>2</th>\n",
       "      <td>Alaska</td>\n",
       "      <td>65.0</td>\n",
       "      <td>18.7</td>\n",
       "      <td>19.8</td>\n",
       "      <td>20.4</td>\n",
       "      <td>19.9</td>\n",
       "      <td>19.8</td>\n",
       "    </tr>\n",
       "    <tr>\n",
       "      <th>3</th>\n",
       "      <td>Arizona</td>\n",
       "      <td>62.0</td>\n",
       "      <td>18.6</td>\n",
       "      <td>19.8</td>\n",
       "      <td>20.1</td>\n",
       "      <td>19.8</td>\n",
       "      <td>19.7</td>\n",
       "    </tr>\n",
       "    <tr>\n",
       "      <th>4</th>\n",
       "      <td>Arkansas</td>\n",
       "      <td>100.0</td>\n",
       "      <td>18.9</td>\n",
       "      <td>19.0</td>\n",
       "      <td>19.7</td>\n",
       "      <td>19.5</td>\n",
       "      <td>19.4</td>\n",
       "    </tr>\n",
       "    <tr>\n",
       "      <th>5</th>\n",
       "      <td>California</td>\n",
       "      <td>31.0</td>\n",
       "      <td>22.5</td>\n",
       "      <td>22.7</td>\n",
       "      <td>23.1</td>\n",
       "      <td>22.2</td>\n",
       "      <td>22.8</td>\n",
       "    </tr>\n",
       "  </tbody>\n",
       "</table>\n",
       "</div>"
      ],
      "text/plain": [
       "        state  participationpct_act_2017  english_act_2017  math_act_2017  \\\n",
       "1     Alabama                      100.0              18.9           18.4   \n",
       "2      Alaska                       65.0              18.7           19.8   \n",
       "3     Arizona                       62.0              18.6           19.8   \n",
       "4    Arkansas                      100.0              18.9           19.0   \n",
       "5  California                       31.0              22.5           22.7   \n",
       "\n",
       "   reading_act_2017  science_act_2017  composite_act_2017  \n",
       "1              19.7              19.4                19.2  \n",
       "2              20.4              19.9                19.8  \n",
       "3              20.1              19.8                19.7  \n",
       "4              19.7              19.5                19.4  \n",
       "5              23.1              22.2                22.8  "
      ]
     },
     "execution_count": 48,
     "metadata": {},
     "output_type": "execute_result"
    }
   ],
   "source": [
    "act_2017.head()"
   ]
  },
  {
   "cell_type": "markdown",
   "metadata": {},
   "source": [
    "#### 10. Merge Dataframes\n",
    "\n",
    "Join the 2017 ACT and SAT dataframes using the state in each dataframe as the key. Assign this to a new variable."
   ]
  },
  {
   "cell_type": "code",
   "execution_count": 49,
   "metadata": {},
   "outputs": [],
   "source": [
    "#Merging the 2017 SAT and ACT dataframes\n",
    "\n",
    "tests_stats_2017= pd.merge(sat_2017, act_2017, on=\"state\")\n"
   ]
  },
  {
   "cell_type": "code",
   "execution_count": 50,
   "metadata": {},
   "outputs": [
    {
     "data": {
      "text/html": [
       "<div>\n",
       "<style scoped>\n",
       "    .dataframe tbody tr th:only-of-type {\n",
       "        vertical-align: middle;\n",
       "    }\n",
       "\n",
       "    .dataframe tbody tr th {\n",
       "        vertical-align: top;\n",
       "    }\n",
       "\n",
       "    .dataframe thead th {\n",
       "        text-align: right;\n",
       "    }\n",
       "</style>\n",
       "<table border=\"1\" class=\"dataframe\">\n",
       "  <thead>\n",
       "    <tr style=\"text-align: right;\">\n",
       "      <th></th>\n",
       "      <th>state</th>\n",
       "      <th>participationpct_sat_2017</th>\n",
       "      <th>reading &amp; writing_sat_2017</th>\n",
       "      <th>math_sat_2017</th>\n",
       "      <th>total_sat_2017</th>\n",
       "      <th>participationpct_act_2017</th>\n",
       "      <th>english_act_2017</th>\n",
       "      <th>math_act_2017</th>\n",
       "      <th>reading_act_2017</th>\n",
       "      <th>science_act_2017</th>\n",
       "      <th>composite_act_2017</th>\n",
       "    </tr>\n",
       "  </thead>\n",
       "  <tbody>\n",
       "    <tr>\n",
       "      <th>0</th>\n",
       "      <td>Alabama</td>\n",
       "      <td>5.0</td>\n",
       "      <td>593.0</td>\n",
       "      <td>572.0</td>\n",
       "      <td>1165.0</td>\n",
       "      <td>100.0</td>\n",
       "      <td>18.9</td>\n",
       "      <td>18.4</td>\n",
       "      <td>19.7</td>\n",
       "      <td>19.4</td>\n",
       "      <td>19.2</td>\n",
       "    </tr>\n",
       "    <tr>\n",
       "      <th>1</th>\n",
       "      <td>Alaska</td>\n",
       "      <td>38.0</td>\n",
       "      <td>547.0</td>\n",
       "      <td>533.0</td>\n",
       "      <td>1080.0</td>\n",
       "      <td>65.0</td>\n",
       "      <td>18.7</td>\n",
       "      <td>19.8</td>\n",
       "      <td>20.4</td>\n",
       "      <td>19.9</td>\n",
       "      <td>19.8</td>\n",
       "    </tr>\n",
       "    <tr>\n",
       "      <th>2</th>\n",
       "      <td>Arizona</td>\n",
       "      <td>30.0</td>\n",
       "      <td>563.0</td>\n",
       "      <td>553.0</td>\n",
       "      <td>1116.0</td>\n",
       "      <td>62.0</td>\n",
       "      <td>18.6</td>\n",
       "      <td>19.8</td>\n",
       "      <td>20.1</td>\n",
       "      <td>19.8</td>\n",
       "      <td>19.7</td>\n",
       "    </tr>\n",
       "    <tr>\n",
       "      <th>3</th>\n",
       "      <td>Arkansas</td>\n",
       "      <td>3.0</td>\n",
       "      <td>614.0</td>\n",
       "      <td>594.0</td>\n",
       "      <td>1208.0</td>\n",
       "      <td>100.0</td>\n",
       "      <td>18.9</td>\n",
       "      <td>19.0</td>\n",
       "      <td>19.7</td>\n",
       "      <td>19.5</td>\n",
       "      <td>19.4</td>\n",
       "    </tr>\n",
       "    <tr>\n",
       "      <th>4</th>\n",
       "      <td>California</td>\n",
       "      <td>53.0</td>\n",
       "      <td>531.0</td>\n",
       "      <td>524.0</td>\n",
       "      <td>1055.0</td>\n",
       "      <td>31.0</td>\n",
       "      <td>22.5</td>\n",
       "      <td>22.7</td>\n",
       "      <td>23.1</td>\n",
       "      <td>22.2</td>\n",
       "      <td>22.8</td>\n",
       "    </tr>\n",
       "  </tbody>\n",
       "</table>\n",
       "</div>"
      ],
      "text/plain": [
       "        state  participationpct_sat_2017  reading & writing_sat_2017  \\\n",
       "0     Alabama                        5.0                       593.0   \n",
       "1      Alaska                       38.0                       547.0   \n",
       "2     Arizona                       30.0                       563.0   \n",
       "3    Arkansas                        3.0                       614.0   \n",
       "4  California                       53.0                       531.0   \n",
       "\n",
       "   math_sat_2017  total_sat_2017  participationpct_act_2017  english_act_2017  \\\n",
       "0          572.0          1165.0                      100.0              18.9   \n",
       "1          533.0          1080.0                       65.0              18.7   \n",
       "2          553.0          1116.0                       62.0              18.6   \n",
       "3          594.0          1208.0                      100.0              18.9   \n",
       "4          524.0          1055.0                       31.0              22.5   \n",
       "\n",
       "   math_act_2017  reading_act_2017  science_act_2017  composite_act_2017  \n",
       "0           18.4              19.7              19.4                19.2  \n",
       "1           19.8              20.4              19.9                19.8  \n",
       "2           19.8              20.1              19.8                19.7  \n",
       "3           19.0              19.7              19.5                19.4  \n",
       "4           22.7              23.1              22.2                22.8  "
      ]
     },
     "execution_count": 50,
     "metadata": {},
     "output_type": "execute_result"
    }
   ],
   "source": [
    "tests_stats_2017.head()"
   ]
  },
  {
   "cell_type": "markdown",
   "metadata": {},
   "source": [
    "#### 11. Save your cleaned, merged dataframe\n",
    "\n",
    "Use a relative path to save out your data as `combined_2017.csv`."
   ]
  },
  {
   "cell_type": "code",
   "execution_count": 51,
   "metadata": {},
   "outputs": [],
   "source": [
    "#saving the data into a csv file\n",
    "tests_stats_2017.to_csv(\"data/combined_2017.csv\")"
   ]
  },
  {
   "cell_type": "markdown",
   "metadata": {},
   "source": [
    "## 2018 Data Import and Cleaning"
   ]
  },
  {
   "cell_type": "markdown",
   "metadata": {},
   "source": [
    "Links to the 2018 ACT and SAT data are provided in the README. These data live in PDFs, and so you'll get to enjoy practicing some *manual* data collection. Save these data as a CSV in your `data` directory, and import, explore, and clean these data in the same way you did above. **Make sure you comment on your steps so it is clear *why* you are doing each process**."
   ]
  },
  {
   "cell_type": "code",
   "execution_count": 52,
   "metadata": {},
   "outputs": [],
   "source": [
    "#Reading and assigning SAT 2018 data:\n",
    "sat_2018 =pd.read_csv(\"data/sat_2018.csv\")"
   ]
  },
  {
   "cell_type": "code",
   "execution_count": 53,
   "metadata": {},
   "outputs": [],
   "source": [
    "#Reading and assigning ACT 2018 data:\n",
    "act_2018=pd.read_csv(\"data/act_2018_updated.csv\")"
   ]
  },
  {
   "cell_type": "code",
   "execution_count": 54,
   "metadata": {},
   "outputs": [
    {
     "data": {
      "text/html": [
       "<div>\n",
       "<style scoped>\n",
       "    .dataframe tbody tr th:only-of-type {\n",
       "        vertical-align: middle;\n",
       "    }\n",
       "\n",
       "    .dataframe tbody tr th {\n",
       "        vertical-align: top;\n",
       "    }\n",
       "\n",
       "    .dataframe thead th {\n",
       "        text-align: right;\n",
       "    }\n",
       "</style>\n",
       "<table border=\"1\" class=\"dataframe\">\n",
       "  <thead>\n",
       "    <tr style=\"text-align: right;\">\n",
       "      <th></th>\n",
       "      <th>State</th>\n",
       "      <th>Participation</th>\n",
       "      <th>Evidence-Based Reading and Writing</th>\n",
       "      <th>Math</th>\n",
       "      <th>Total</th>\n",
       "    </tr>\n",
       "  </thead>\n",
       "  <tbody>\n",
       "    <tr>\n",
       "      <th>0</th>\n",
       "      <td>Alabama</td>\n",
       "      <td>6%</td>\n",
       "      <td>595</td>\n",
       "      <td>571</td>\n",
       "      <td>1166</td>\n",
       "    </tr>\n",
       "    <tr>\n",
       "      <th>1</th>\n",
       "      <td>Alaska</td>\n",
       "      <td>43%</td>\n",
       "      <td>562</td>\n",
       "      <td>544</td>\n",
       "      <td>1106</td>\n",
       "    </tr>\n",
       "    <tr>\n",
       "      <th>2</th>\n",
       "      <td>Arizona</td>\n",
       "      <td>29%</td>\n",
       "      <td>577</td>\n",
       "      <td>572</td>\n",
       "      <td>1149</td>\n",
       "    </tr>\n",
       "    <tr>\n",
       "      <th>3</th>\n",
       "      <td>Arkansas</td>\n",
       "      <td>5%</td>\n",
       "      <td>592</td>\n",
       "      <td>576</td>\n",
       "      <td>1169</td>\n",
       "    </tr>\n",
       "    <tr>\n",
       "      <th>4</th>\n",
       "      <td>California</td>\n",
       "      <td>60%</td>\n",
       "      <td>540</td>\n",
       "      <td>536</td>\n",
       "      <td>1076</td>\n",
       "    </tr>\n",
       "  </tbody>\n",
       "</table>\n",
       "</div>"
      ],
      "text/plain": [
       "        State Participation  Evidence-Based Reading and Writing  Math  Total\n",
       "0     Alabama            6%                                 595   571   1166\n",
       "1      Alaska           43%                                 562   544   1106\n",
       "2     Arizona           29%                                 577   572   1149\n",
       "3    Arkansas            5%                                 592   576   1169\n",
       "4  California           60%                                 540   536   1076"
      ]
     },
     "execution_count": 54,
     "metadata": {},
     "output_type": "execute_result"
    }
   ],
   "source": [
    "#Printing fist 10 rows of SAT 2018 data:\n",
    "sat_2018.head()"
   ]
  },
  {
   "cell_type": "code",
   "execution_count": 55,
   "metadata": {},
   "outputs": [
    {
     "data": {
      "text/html": [
       "<div>\n",
       "<style scoped>\n",
       "    .dataframe tbody tr th:only-of-type {\n",
       "        vertical-align: middle;\n",
       "    }\n",
       "\n",
       "    .dataframe tbody tr th {\n",
       "        vertical-align: top;\n",
       "    }\n",
       "\n",
       "    .dataframe thead th {\n",
       "        text-align: right;\n",
       "    }\n",
       "</style>\n",
       "<table border=\"1\" class=\"dataframe\">\n",
       "  <thead>\n",
       "    <tr style=\"text-align: right;\">\n",
       "      <th></th>\n",
       "      <th>State</th>\n",
       "      <th>Percentage of Students Tested</th>\n",
       "      <th>Average Composite Score</th>\n",
       "      <th>Average English Score</th>\n",
       "      <th>Average Math Score</th>\n",
       "      <th>Average Reading Score</th>\n",
       "      <th>Average Science Score</th>\n",
       "    </tr>\n",
       "  </thead>\n",
       "  <tbody>\n",
       "    <tr>\n",
       "      <th>0</th>\n",
       "      <td>Alabama</td>\n",
       "      <td>100</td>\n",
       "      <td>19.1</td>\n",
       "      <td>18.9</td>\n",
       "      <td>18.3</td>\n",
       "      <td>19.6</td>\n",
       "      <td>19.0</td>\n",
       "    </tr>\n",
       "    <tr>\n",
       "      <th>1</th>\n",
       "      <td>Alaska</td>\n",
       "      <td>33</td>\n",
       "      <td>20.8</td>\n",
       "      <td>19.8</td>\n",
       "      <td>20.6</td>\n",
       "      <td>21.6</td>\n",
       "      <td>20.7</td>\n",
       "    </tr>\n",
       "    <tr>\n",
       "      <th>2</th>\n",
       "      <td>Arizona</td>\n",
       "      <td>66</td>\n",
       "      <td>19.2</td>\n",
       "      <td>18.2</td>\n",
       "      <td>19.4</td>\n",
       "      <td>19.5</td>\n",
       "      <td>19.2</td>\n",
       "    </tr>\n",
       "    <tr>\n",
       "      <th>3</th>\n",
       "      <td>Arkansas</td>\n",
       "      <td>100</td>\n",
       "      <td>19.4</td>\n",
       "      <td>19.1</td>\n",
       "      <td>18.9</td>\n",
       "      <td>19.7</td>\n",
       "      <td>19.4</td>\n",
       "    </tr>\n",
       "    <tr>\n",
       "      <th>4</th>\n",
       "      <td>California</td>\n",
       "      <td>27</td>\n",
       "      <td>22.7</td>\n",
       "      <td>22.5</td>\n",
       "      <td>22.5</td>\n",
       "      <td>23.0</td>\n",
       "      <td>22.1</td>\n",
       "    </tr>\n",
       "    <tr>\n",
       "      <th>5</th>\n",
       "      <td>Colorado</td>\n",
       "      <td>30</td>\n",
       "      <td>23.9</td>\n",
       "      <td>23.9</td>\n",
       "      <td>23.2</td>\n",
       "      <td>24.4</td>\n",
       "      <td>23.5</td>\n",
       "    </tr>\n",
       "    <tr>\n",
       "      <th>6</th>\n",
       "      <td>Connecticut</td>\n",
       "      <td>26</td>\n",
       "      <td>25.6</td>\n",
       "      <td>26.0</td>\n",
       "      <td>24.8</td>\n",
       "      <td>26.1</td>\n",
       "      <td>24.9</td>\n",
       "    </tr>\n",
       "    <tr>\n",
       "      <th>7</th>\n",
       "      <td>Delaware</td>\n",
       "      <td>17</td>\n",
       "      <td>23.2</td>\n",
       "      <td>23.7</td>\n",
       "      <td>23.1</td>\n",
       "      <td>24.5</td>\n",
       "      <td>23.4</td>\n",
       "    </tr>\n",
       "    <tr>\n",
       "      <th>8</th>\n",
       "      <td>District of Columbia</td>\n",
       "      <td>32</td>\n",
       "      <td>23.6</td>\n",
       "      <td>23.7</td>\n",
       "      <td>22.7</td>\n",
       "      <td>24.4</td>\n",
       "      <td>23.0</td>\n",
       "    </tr>\n",
       "    <tr>\n",
       "      <th>9</th>\n",
       "      <td>Florida</td>\n",
       "      <td>66</td>\n",
       "      <td>19.9</td>\n",
       "      <td>19.2</td>\n",
       "      <td>19.3</td>\n",
       "      <td>21.1</td>\n",
       "      <td>19.5</td>\n",
       "    </tr>\n",
       "  </tbody>\n",
       "</table>\n",
       "</div>"
      ],
      "text/plain": [
       "                  State  Percentage of Students Tested  \\\n",
       "0               Alabama                            100   \n",
       "1                Alaska                             33   \n",
       "2               Arizona                             66   \n",
       "3              Arkansas                            100   \n",
       "4            California                             27   \n",
       "5              Colorado                             30   \n",
       "6           Connecticut                             26   \n",
       "7              Delaware                             17   \n",
       "8  District of Columbia                             32   \n",
       "9               Florida                             66   \n",
       "\n",
       "   Average Composite Score  Average English Score  Average Math Score  \\\n",
       "0                     19.1                   18.9                18.3   \n",
       "1                     20.8                   19.8                20.6   \n",
       "2                     19.2                   18.2                19.4   \n",
       "3                     19.4                   19.1                18.9   \n",
       "4                     22.7                   22.5                22.5   \n",
       "5                     23.9                   23.9                23.2   \n",
       "6                     25.6                   26.0                24.8   \n",
       "7                     23.2                   23.7                23.1   \n",
       "8                     23.6                   23.7                22.7   \n",
       "9                     19.9                   19.2                19.3   \n",
       "\n",
       "   Average Reading Score  Average Science Score  \n",
       "0                   19.6                   19.0  \n",
       "1                   21.6                   20.7  \n",
       "2                   19.5                   19.2  \n",
       "3                   19.7                   19.4  \n",
       "4                   23.0                   22.1  \n",
       "5                   24.4                   23.5  \n",
       "6                   26.1                   24.9  \n",
       "7                   24.5                   23.4  \n",
       "8                   24.4                   23.0  \n",
       "9                   21.1                   19.5  "
      ]
     },
     "execution_count": 55,
     "metadata": {},
     "output_type": "execute_result"
    }
   ],
   "source": [
    "#rinting fist 10 rows of ACT 2018 data:\n",
    "act_2018.head(10)"
   ]
  },
  {
   "cell_type": "code",
   "execution_count": 56,
   "metadata": {},
   "outputs": [
    {
     "data": {
      "text/html": [
       "<div>\n",
       "<style scoped>\n",
       "    .dataframe tbody tr th:only-of-type {\n",
       "        vertical-align: middle;\n",
       "    }\n",
       "\n",
       "    .dataframe tbody tr th {\n",
       "        vertical-align: top;\n",
       "    }\n",
       "\n",
       "    .dataframe thead th {\n",
       "        text-align: right;\n",
       "    }\n",
       "</style>\n",
       "<table border=\"1\" class=\"dataframe\">\n",
       "  <thead>\n",
       "    <tr style=\"text-align: right;\">\n",
       "      <th></th>\n",
       "      <th>State</th>\n",
       "      <th>Participation</th>\n",
       "      <th>Evidence-Based Reading and Writing</th>\n",
       "      <th>Math</th>\n",
       "      <th>Total</th>\n",
       "    </tr>\n",
       "  </thead>\n",
       "  <tbody>\n",
       "    <tr>\n",
       "      <th>46</th>\n",
       "      <td>Virginia</td>\n",
       "      <td>68%</td>\n",
       "      <td>567</td>\n",
       "      <td>550</td>\n",
       "      <td>1117</td>\n",
       "    </tr>\n",
       "    <tr>\n",
       "      <th>47</th>\n",
       "      <td>Washington</td>\n",
       "      <td>69%</td>\n",
       "      <td>543</td>\n",
       "      <td>538</td>\n",
       "      <td>1081</td>\n",
       "    </tr>\n",
       "    <tr>\n",
       "      <th>48</th>\n",
       "      <td>West Virginia</td>\n",
       "      <td>28%</td>\n",
       "      <td>513</td>\n",
       "      <td>486</td>\n",
       "      <td>999</td>\n",
       "    </tr>\n",
       "    <tr>\n",
       "      <th>49</th>\n",
       "      <td>Wisconsin</td>\n",
       "      <td>3%</td>\n",
       "      <td>641</td>\n",
       "      <td>653</td>\n",
       "      <td>1294</td>\n",
       "    </tr>\n",
       "    <tr>\n",
       "      <th>50</th>\n",
       "      <td>Wyoming</td>\n",
       "      <td>3%</td>\n",
       "      <td>633</td>\n",
       "      <td>625</td>\n",
       "      <td>1257</td>\n",
       "    </tr>\n",
       "  </tbody>\n",
       "</table>\n",
       "</div>"
      ],
      "text/plain": [
       "            State Participation  Evidence-Based Reading and Writing  Math  \\\n",
       "46       Virginia           68%                                 567   550   \n",
       "47     Washington           69%                                 543   538   \n",
       "48  West Virginia           28%                                 513   486   \n",
       "49      Wisconsin            3%                                 641   653   \n",
       "50        Wyoming            3%                                 633   625   \n",
       "\n",
       "    Total  \n",
       "46   1117  \n",
       "47   1081  \n",
       "48    999  \n",
       "49   1294  \n",
       "50   1257  "
      ]
     },
     "execution_count": 56,
     "metadata": {},
     "output_type": "execute_result"
    }
   ],
   "source": [
    "sat_2018.tail()"
   ]
  },
  {
   "cell_type": "code",
   "execution_count": 57,
   "metadata": {},
   "outputs": [
    {
     "data": {
      "text/html": [
       "<div>\n",
       "<style scoped>\n",
       "    .dataframe tbody tr th:only-of-type {\n",
       "        vertical-align: middle;\n",
       "    }\n",
       "\n",
       "    .dataframe tbody tr th {\n",
       "        vertical-align: top;\n",
       "    }\n",
       "\n",
       "    .dataframe thead th {\n",
       "        text-align: right;\n",
       "    }\n",
       "</style>\n",
       "<table border=\"1\" class=\"dataframe\">\n",
       "  <thead>\n",
       "    <tr style=\"text-align: right;\">\n",
       "      <th></th>\n",
       "      <th>State</th>\n",
       "      <th>Percentage of Students Tested</th>\n",
       "      <th>Average Composite Score</th>\n",
       "      <th>Average English Score</th>\n",
       "      <th>Average Math Score</th>\n",
       "      <th>Average Reading Score</th>\n",
       "      <th>Average Science Score</th>\n",
       "    </tr>\n",
       "  </thead>\n",
       "  <tbody>\n",
       "    <tr>\n",
       "      <th>46</th>\n",
       "      <td>Virginia</td>\n",
       "      <td>24</td>\n",
       "      <td>23.9</td>\n",
       "      <td>23.8</td>\n",
       "      <td>23.3</td>\n",
       "      <td>24.7</td>\n",
       "      <td>23.5</td>\n",
       "    </tr>\n",
       "    <tr>\n",
       "      <th>47</th>\n",
       "      <td>Washington</td>\n",
       "      <td>24</td>\n",
       "      <td>22.2</td>\n",
       "      <td>21.4</td>\n",
       "      <td>22.2</td>\n",
       "      <td>22.7</td>\n",
       "      <td>22.0</td>\n",
       "    </tr>\n",
       "    <tr>\n",
       "      <th>48</th>\n",
       "      <td>West Virginia</td>\n",
       "      <td>65</td>\n",
       "      <td>20.3</td>\n",
       "      <td>19.8</td>\n",
       "      <td>19.4</td>\n",
       "      <td>21.3</td>\n",
       "      <td>20.4</td>\n",
       "    </tr>\n",
       "    <tr>\n",
       "      <th>49</th>\n",
       "      <td>Wisconsin</td>\n",
       "      <td>100</td>\n",
       "      <td>20.5</td>\n",
       "      <td>19.8</td>\n",
       "      <td>20.3</td>\n",
       "      <td>20.6</td>\n",
       "      <td>20.8</td>\n",
       "    </tr>\n",
       "    <tr>\n",
       "      <th>50</th>\n",
       "      <td>Wyoming</td>\n",
       "      <td>100</td>\n",
       "      <td>20.0</td>\n",
       "      <td>19.0</td>\n",
       "      <td>19.7</td>\n",
       "      <td>20.6</td>\n",
       "      <td>20.3</td>\n",
       "    </tr>\n",
       "  </tbody>\n",
       "</table>\n",
       "</div>"
      ],
      "text/plain": [
       "            State  Percentage of Students Tested  Average Composite Score  \\\n",
       "46       Virginia                             24                     23.9   \n",
       "47     Washington                             24                     22.2   \n",
       "48  West Virginia                             65                     20.3   \n",
       "49      Wisconsin                            100                     20.5   \n",
       "50        Wyoming                            100                     20.0   \n",
       "\n",
       "    Average English Score  Average Math Score  Average Reading Score  \\\n",
       "46                   23.8                23.3                   24.7   \n",
       "47                   21.4                22.2                   22.7   \n",
       "48                   19.8                19.4                   21.3   \n",
       "49                   19.8                20.3                   20.6   \n",
       "50                   19.0                19.7                   20.6   \n",
       "\n",
       "    Average Science Score  \n",
       "46                   23.5  \n",
       "47                   22.0  \n",
       "48                   20.4  \n",
       "49                   20.8  \n",
       "50                   20.3  "
      ]
     },
     "execution_count": 57,
     "metadata": {},
     "output_type": "execute_result"
    }
   ],
   "source": [
    "act_2018.tail()"
   ]
  },
  {
   "cell_type": "code",
   "execution_count": 58,
   "metadata": {},
   "outputs": [
    {
     "data": {
      "text/html": [
       "<div>\n",
       "<style scoped>\n",
       "    .dataframe tbody tr th:only-of-type {\n",
       "        vertical-align: middle;\n",
       "    }\n",
       "\n",
       "    .dataframe tbody tr th {\n",
       "        vertical-align: top;\n",
       "    }\n",
       "\n",
       "    .dataframe thead th {\n",
       "        text-align: right;\n",
       "    }\n",
       "</style>\n",
       "<table border=\"1\" class=\"dataframe\">\n",
       "  <thead>\n",
       "    <tr style=\"text-align: right;\">\n",
       "      <th></th>\n",
       "      <th>Evidence-Based Reading and Writing</th>\n",
       "      <th>Math</th>\n",
       "      <th>Total</th>\n",
       "    </tr>\n",
       "  </thead>\n",
       "  <tbody>\n",
       "    <tr>\n",
       "      <th>count</th>\n",
       "      <td>51.00</td>\n",
       "      <td>51.00</td>\n",
       "      <td>51.00</td>\n",
       "    </tr>\n",
       "    <tr>\n",
       "      <th>mean</th>\n",
       "      <td>563.69</td>\n",
       "      <td>556.24</td>\n",
       "      <td>1120.02</td>\n",
       "    </tr>\n",
       "    <tr>\n",
       "      <th>std</th>\n",
       "      <td>47.50</td>\n",
       "      <td>47.77</td>\n",
       "      <td>94.16</td>\n",
       "    </tr>\n",
       "    <tr>\n",
       "      <th>min</th>\n",
       "      <td>480.00</td>\n",
       "      <td>480.00</td>\n",
       "      <td>977.00</td>\n",
       "    </tr>\n",
       "    <tr>\n",
       "      <th>25%</th>\n",
       "      <td>534.50</td>\n",
       "      <td>522.50</td>\n",
       "      <td>1057.50</td>\n",
       "    </tr>\n",
       "    <tr>\n",
       "      <th>50%</th>\n",
       "      <td>552.00</td>\n",
       "      <td>544.00</td>\n",
       "      <td>1098.00</td>\n",
       "    </tr>\n",
       "    <tr>\n",
       "      <th>75%</th>\n",
       "      <td>610.50</td>\n",
       "      <td>593.50</td>\n",
       "      <td>1204.00</td>\n",
       "    </tr>\n",
       "    <tr>\n",
       "      <th>max</th>\n",
       "      <td>643.00</td>\n",
       "      <td>655.00</td>\n",
       "      <td>1298.00</td>\n",
       "    </tr>\n",
       "  </tbody>\n",
       "</table>\n",
       "</div>"
      ],
      "text/plain": [
       "       Evidence-Based Reading and Writing    Math    Total\n",
       "count                               51.00   51.00    51.00\n",
       "mean                               563.69  556.24  1120.02\n",
       "std                                 47.50   47.77    94.16\n",
       "min                                480.00  480.00   977.00\n",
       "25%                                534.50  522.50  1057.50\n",
       "50%                                552.00  544.00  1098.00\n",
       "75%                                610.50  593.50  1204.00\n",
       "max                                643.00  655.00  1298.00"
      ]
     },
     "execution_count": 58,
     "metadata": {},
     "output_type": "execute_result"
    }
   ],
   "source": [
    "sat_2018.describe().round(2)"
   ]
  },
  {
   "cell_type": "code",
   "execution_count": 59,
   "metadata": {},
   "outputs": [
    {
     "data": {
      "text/html": [
       "<div>\n",
       "<style scoped>\n",
       "    .dataframe tbody tr th:only-of-type {\n",
       "        vertical-align: middle;\n",
       "    }\n",
       "\n",
       "    .dataframe tbody tr th {\n",
       "        vertical-align: top;\n",
       "    }\n",
       "\n",
       "    .dataframe thead th {\n",
       "        text-align: right;\n",
       "    }\n",
       "</style>\n",
       "<table border=\"1\" class=\"dataframe\">\n",
       "  <thead>\n",
       "    <tr style=\"text-align: right;\">\n",
       "      <th></th>\n",
       "      <th>Percentage of Students Tested</th>\n",
       "      <th>Average Composite Score</th>\n",
       "      <th>Average English Score</th>\n",
       "      <th>Average Math Score</th>\n",
       "      <th>Average Reading Score</th>\n",
       "      <th>Average Science Score</th>\n",
       "    </tr>\n",
       "  </thead>\n",
       "  <tbody>\n",
       "    <tr>\n",
       "      <th>count</th>\n",
       "      <td>51.00</td>\n",
       "      <td>51.00</td>\n",
       "      <td>51.00</td>\n",
       "      <td>51.00</td>\n",
       "      <td>51.00</td>\n",
       "      <td>51.00</td>\n",
       "    </tr>\n",
       "    <tr>\n",
       "      <th>mean</th>\n",
       "      <td>61.65</td>\n",
       "      <td>21.49</td>\n",
       "      <td>20.99</td>\n",
       "      <td>21.13</td>\n",
       "      <td>22.02</td>\n",
       "      <td>21.35</td>\n",
       "    </tr>\n",
       "    <tr>\n",
       "      <th>std</th>\n",
       "      <td>34.08</td>\n",
       "      <td>2.11</td>\n",
       "      <td>2.45</td>\n",
       "      <td>2.04</td>\n",
       "      <td>2.17</td>\n",
       "      <td>1.87</td>\n",
       "    </tr>\n",
       "    <tr>\n",
       "      <th>min</th>\n",
       "      <td>7.00</td>\n",
       "      <td>17.70</td>\n",
       "      <td>16.60</td>\n",
       "      <td>17.80</td>\n",
       "      <td>18.00</td>\n",
       "      <td>17.90</td>\n",
       "    </tr>\n",
       "    <tr>\n",
       "      <th>25%</th>\n",
       "      <td>28.50</td>\n",
       "      <td>19.95</td>\n",
       "      <td>19.10</td>\n",
       "      <td>19.40</td>\n",
       "      <td>20.45</td>\n",
       "      <td>19.85</td>\n",
       "    </tr>\n",
       "    <tr>\n",
       "      <th>50%</th>\n",
       "      <td>66.00</td>\n",
       "      <td>21.30</td>\n",
       "      <td>20.20</td>\n",
       "      <td>20.70</td>\n",
       "      <td>21.60</td>\n",
       "      <td>21.10</td>\n",
       "    </tr>\n",
       "    <tr>\n",
       "      <th>75%</th>\n",
       "      <td>100.00</td>\n",
       "      <td>23.55</td>\n",
       "      <td>23.70</td>\n",
       "      <td>23.15</td>\n",
       "      <td>24.10</td>\n",
       "      <td>23.05</td>\n",
       "    </tr>\n",
       "    <tr>\n",
       "      <th>max</th>\n",
       "      <td>100.00</td>\n",
       "      <td>25.60</td>\n",
       "      <td>26.00</td>\n",
       "      <td>25.20</td>\n",
       "      <td>26.10</td>\n",
       "      <td>24.90</td>\n",
       "    </tr>\n",
       "  </tbody>\n",
       "</table>\n",
       "</div>"
      ],
      "text/plain": [
       "       Percentage of Students Tested  Average Composite Score  \\\n",
       "count                          51.00                    51.00   \n",
       "mean                           61.65                    21.49   \n",
       "std                            34.08                     2.11   \n",
       "min                             7.00                    17.70   \n",
       "25%                            28.50                    19.95   \n",
       "50%                            66.00                    21.30   \n",
       "75%                           100.00                    23.55   \n",
       "max                           100.00                    25.60   \n",
       "\n",
       "       Average English Score  Average Math Score  Average Reading Score  \\\n",
       "count                  51.00               51.00                  51.00   \n",
       "mean                   20.99               21.13                  22.02   \n",
       "std                     2.45                2.04                   2.17   \n",
       "min                    16.60               17.80                  18.00   \n",
       "25%                    19.10               19.40                  20.45   \n",
       "50%                    20.20               20.70                  21.60   \n",
       "75%                    23.70               23.15                  24.10   \n",
       "max                    26.00               25.20                  26.10   \n",
       "\n",
       "       Average Science Score  \n",
       "count                  51.00  \n",
       "mean                   21.35  \n",
       "std                     1.87  \n",
       "min                    17.90  \n",
       "25%                    19.85  \n",
       "50%                    21.10  \n",
       "75%                    23.05  \n",
       "max                    24.90  "
      ]
     },
     "execution_count": 59,
     "metadata": {},
     "output_type": "execute_result"
    }
   ],
   "source": [
    "act_2018.describe().round(2)"
   ]
  },
  {
   "cell_type": "code",
   "execution_count": 60,
   "metadata": {},
   "outputs": [
    {
     "data": {
      "text/plain": [
       "(51, 5)"
      ]
     },
     "execution_count": 60,
     "metadata": {},
     "output_type": "execute_result"
    }
   ],
   "source": [
    "sat_2018.shape"
   ]
  },
  {
   "cell_type": "code",
   "execution_count": 61,
   "metadata": {},
   "outputs": [
    {
     "data": {
      "text/plain": [
       "(51, 7)"
      ]
     },
     "execution_count": 61,
     "metadata": {},
     "output_type": "execute_result"
    }
   ],
   "source": [
    "act_2018.shape"
   ]
  },
  {
   "cell_type": "code",
   "execution_count": 62,
   "metadata": {},
   "outputs": [
    {
     "name": "stdout",
     "output_type": "stream",
     "text": [
      "<class 'pandas.core.frame.DataFrame'>\n",
      "RangeIndex: 51 entries, 0 to 50\n",
      "Data columns (total 5 columns):\n",
      " #   Column                              Non-Null Count  Dtype \n",
      "---  ------                              --------------  ----- \n",
      " 0   State                               51 non-null     object\n",
      " 1   Participation                       51 non-null     object\n",
      " 2   Evidence-Based Reading and Writing  51 non-null     int64 \n",
      " 3   Math                                51 non-null     int64 \n",
      " 4   Total                               51 non-null     int64 \n",
      "dtypes: int64(3), object(2)\n",
      "memory usage: 2.1+ KB\n"
     ]
    }
   ],
   "source": [
    "sat_2018.info()"
   ]
  },
  {
   "cell_type": "code",
   "execution_count": 63,
   "metadata": {},
   "outputs": [
    {
     "name": "stdout",
     "output_type": "stream",
     "text": [
      "<class 'pandas.core.frame.DataFrame'>\n",
      "RangeIndex: 51 entries, 0 to 50\n",
      "Data columns (total 7 columns):\n",
      " #   Column                         Non-Null Count  Dtype  \n",
      "---  ------                         --------------  -----  \n",
      " 0   State                          51 non-null     object \n",
      " 1   Percentage of Students Tested  51 non-null     int64  \n",
      " 2   Average Composite Score        51 non-null     float64\n",
      " 3   Average English Score          51 non-null     float64\n",
      " 4   Average Math Score             51 non-null     float64\n",
      " 5   Average Reading Score          51 non-null     float64\n",
      " 6   Average Science Score          51 non-null     float64\n",
      "dtypes: float64(5), int64(1), object(1)\n",
      "memory usage: 2.9+ KB\n"
     ]
    }
   ],
   "source": [
    "act_2018.info()"
   ]
  },
  {
   "cell_type": "markdown",
   "metadata": {},
   "source": [
    "Answer:\n",
    "\n",
    "3.1 SAT 2018: \n",
    "\n",
    "3.1.1 The SAT 2018 data consists of the percentage of students who have taken SAT tests in 2018  per state. The participation percentage ranges from more than 0% to 100% \n",
    "\n",
    "3.1.2 It also has the scores for Evidenced-Based Reading and Writing, Math and the Total score of both subjects per student per state. \n",
    "\n",
    "3.1.3 The minimum - maximum score range for: Evidenced-Based Reading and Writing is 480 - 643; Math is 480 - 655; Total is 977 - 1298\n",
    "\n",
    "3.1.4 The mean score rounded to 2 decimal points for Evidenced-Based Reading and Writing is 563.69; Math is 556.24; Total is 1120.02\n",
    "\n",
    "3.1.5 The data consists of 51 rows and 5 columns\n",
    "\n",
    "3.1.6 \"State\" and \"Participation\" columns have object data types. Columns \"Evidenced-Based Reading\" and \"Writing\", \"Math\" and \"Total\" have integer data types\n",
    "\n",
    "3.1.7 There are no null objects in SAT 2018 data\n"
   ]
  },
  {
   "cell_type": "markdown",
   "metadata": {},
   "source": [
    "Answer:\n",
    "\n",
    "3.2.1 ACT 2018 : \n",
    "\n",
    "3.2.1 The ACT 2018  data consists of the percentage of students who have taken ACT tests in 2018 per state. The participation percentage ranges from more than 0% to 100%\n",
    "\n",
    "3.2.2 It also has the average scores for English,Reading, Math, Science and the Composite score per student per state. \n",
    "\n",
    "3.2.3 The minimum - maximum range for the percentage of students tested is 7.00 - 100.00\n",
    "\n",
    "3.2.4 The minimum - maximum average score range for Composite is 17.70 - 25.60; English is 16.60 - 26.00 ;Math is 17.80 - 25.20; Reading is 18.00 - 26.10 ; Science is 17.90 - 24.90\n",
    "\n",
    "3.2.5 The mean score rounded to 2 decimal points for Composite is 21.49; English is 20.99 ;Math is 21.13; Reading is 22.02 ; Science is 21.35\n",
    "\n",
    "3.2.6 The mean percentage of students who have taken ACT tests is 61.65\n",
    "\n",
    "3.2.7 The data consists of 51 rows and 7 columns\n",
    "\n",
    "3.2.8 Column \"State\" has object data types. Columns \"Percentage of Students Tested\" have integer data types. \"Average Composite\", \"Average English\",\"Average Reading\", \"Average Math\", \"Average Science\"columns have float data types.\n",
    "\n",
    "3.2.9 There are no null objects in ACT 2018 data"
   ]
  },
  {
   "cell_type": "markdown",
   "metadata": {},
   "source": [
    "4a. Does the data look complete?\n",
    "\n",
    "Answer: The data from both data sets looks complete as there are no null values and data in both data sets have consistant number of rows and columns. \n"
   ]
  },
  {
   "cell_type": "markdown",
   "metadata": {},
   "source": [
    "Answer: There are no obvious issues with both data sets. The maximum and minimum range of each columns is within the possible range of values for SAT and ACT tests (see below references).\n",
    "\n",
    "Only via visual comparison of the ACT 2018 CSV file and the ACT 2018 source data shows the values of Delaware's Average Composite score differs by 0.6\n",
    "\n",
    "Answer: According to the College Board website (the organisation that administers SAT) , minimum possible value of the SAT tests is 200 and the maximum possible value is 800 for each subject. The minimum possible value of the Total is 400 and the maximum possible value of the Total is 1600\n",
    "\n",
    "Reference: https://collegereadiness.collegeboard.org/sat/scores/understanding-scores/interpreting\n",
    "\n",
    "Answer: According to the ACT website (the organisation that administers ACT, minimum possible value of the ACT tests and Composite is 1 and the maximum possible value is 36\n",
    "Reference:https://global.act.org/content/global/en/products-and-services/the-act-non-us/scores/understanding-your-scores.html\n"
   ]
  },
  {
   "cell_type": "markdown",
   "metadata": {},
   "source": [
    "4c. Fix any errors you identified.\n",
    "\n",
    "The data is available so there's no need to guess or calculate anything. If you didn't find any errors, continue to the next step.\n",
    "\n"
   ]
  },
  {
   "cell_type": "code",
   "execution_count": 64,
   "metadata": {},
   "outputs": [],
   "source": [
    "act_2018.loc[7,\"Average Composite Score\"]= act_2018.loc[7,\"Average Composite Score\"] = 23.8"
   ]
  },
  {
   "cell_type": "code",
   "execution_count": 65,
   "metadata": {},
   "outputs": [
    {
     "data": {
      "text/plain": [
       "23.8"
      ]
     },
     "execution_count": 65,
     "metadata": {},
     "output_type": "execute_result"
    }
   ],
   "source": [
    "act_2018.loc[7,\"Average Composite Score\"]"
   ]
  },
  {
   "cell_type": "markdown",
   "metadata": {},
   "source": [
    "5. What are your data types?\n",
    "Display the data types of each feature. "
   ]
  },
  {
   "cell_type": "code",
   "execution_count": 66,
   "metadata": {},
   "outputs": [
    {
     "name": "stdout",
     "output_type": "stream",
     "text": [
      "<class 'pandas.core.frame.DataFrame'>\n",
      "RangeIndex: 51 entries, 0 to 50\n",
      "Data columns (total 5 columns):\n",
      " #   Column                              Non-Null Count  Dtype \n",
      "---  ------                              --------------  ----- \n",
      " 0   State                               51 non-null     object\n",
      " 1   Participation                       51 non-null     object\n",
      " 2   Evidence-Based Reading and Writing  51 non-null     int64 \n",
      " 3   Math                                51 non-null     int64 \n",
      " 4   Total                               51 non-null     int64 \n",
      "dtypes: int64(3), object(2)\n",
      "memory usage: 2.1+ KB\n"
     ]
    }
   ],
   "source": [
    "#Data types\n",
    "sat_2018.info()"
   ]
  },
  {
   "cell_type": "markdown",
   "metadata": {},
   "source": [
    "Answer:\n",
    "\n",
    "The data types are object and integers"
   ]
  },
  {
   "cell_type": "markdown",
   "metadata": {},
   "source": [
    "6. Fix Incorrect Data Types\n",
    "\n",
    "Based on what you discovered above, use appropriate methods to re-type incorrectly typed data.\n",
    "\n",
    "Define a function that will allow you to convert participation rates to an appropriate numeric type. Use map or apply to change these columns in each dataframe\n"
   ]
  },
  {
   "cell_type": "code",
   "execution_count": 67,
   "metadata": {},
   "outputs": [
    {
     "data": {
      "text/plain": [
       "0     6%\n",
       "1    43%\n",
       "2    29%\n",
       "3     5%\n",
       "4    60%\n",
       "Name: Participation, dtype: object"
      ]
     },
     "execution_count": 67,
     "metadata": {},
     "output_type": "execute_result"
    }
   ],
   "source": [
    "sat_2018[\"Participation\"].head()"
   ]
  },
  {
   "cell_type": "code",
   "execution_count": 68,
   "metadata": {},
   "outputs": [
    {
     "data": {
      "text/plain": [
       "0       6.0\n",
       "1      43.0\n",
       "2      29.0\n",
       "3       5.0\n",
       "4      60.0\n",
       "5     100.0\n",
       "6     100.0\n",
       "7     100.0\n",
       "8      92.0\n",
       "9      56.0\n",
       "10     70.0\n",
       "11     56.0\n",
       "12    100.0\n",
       "13     99.0\n",
       "14     63.0\n",
       "15      3.0\n",
       "16      4.0\n",
       "17      4.0\n",
       "18      4.0\n",
       "19     99.0\n",
       "20     76.0\n",
       "21     80.0\n",
       "22    100.0\n",
       "23      4.0\n",
       "24      3.0\n",
       "25      4.0\n",
       "26     10.0\n",
       "27      3.0\n",
       "28     23.0\n",
       "29     96.0\n",
       "30     82.0\n",
       "31     16.0\n",
       "32     79.0\n",
       "33     52.0\n",
       "34      2.0\n",
       "35      8.0\n",
       "36     18.0\n",
       "37     48.0\n",
       "38     70.0\n",
       "39     97.0\n",
       "40     55.0\n",
       "41      3.0\n",
       "42      6.0\n",
       "43     66.0\n",
       "44      4.0\n",
       "45     64.0\n",
       "46     68.0\n",
       "47     69.0\n",
       "48     28.0\n",
       "49      3.0\n",
       "50      3.0\n",
       "Name: Participation, dtype: float64"
      ]
     },
     "execution_count": 68,
     "metadata": {},
     "output_type": "execute_result"
    }
   ],
   "source": [
    "sat_2018[\"Participation\"].map(convert_part)"
   ]
  },
  {
   "cell_type": "code",
   "execution_count": 69,
   "metadata": {},
   "outputs": [],
   "source": [
    "sat_2018[\"Participation\"] = sat_2018[\"Participation\"].map(convert_part)"
   ]
  },
  {
   "cell_type": "code",
   "execution_count": 70,
   "metadata": {},
   "outputs": [
    {
     "data": {
      "text/html": [
       "<div>\n",
       "<style scoped>\n",
       "    .dataframe tbody tr th:only-of-type {\n",
       "        vertical-align: middle;\n",
       "    }\n",
       "\n",
       "    .dataframe tbody tr th {\n",
       "        vertical-align: top;\n",
       "    }\n",
       "\n",
       "    .dataframe thead th {\n",
       "        text-align: right;\n",
       "    }\n",
       "</style>\n",
       "<table border=\"1\" class=\"dataframe\">\n",
       "  <thead>\n",
       "    <tr style=\"text-align: right;\">\n",
       "      <th></th>\n",
       "      <th>State</th>\n",
       "      <th>Participation</th>\n",
       "      <th>Evidence-Based Reading and Writing</th>\n",
       "      <th>Math</th>\n",
       "      <th>Total</th>\n",
       "    </tr>\n",
       "  </thead>\n",
       "  <tbody>\n",
       "    <tr>\n",
       "      <th>0</th>\n",
       "      <td>Alabama</td>\n",
       "      <td>6.0</td>\n",
       "      <td>595</td>\n",
       "      <td>571</td>\n",
       "      <td>1166</td>\n",
       "    </tr>\n",
       "    <tr>\n",
       "      <th>1</th>\n",
       "      <td>Alaska</td>\n",
       "      <td>43.0</td>\n",
       "      <td>562</td>\n",
       "      <td>544</td>\n",
       "      <td>1106</td>\n",
       "    </tr>\n",
       "    <tr>\n",
       "      <th>2</th>\n",
       "      <td>Arizona</td>\n",
       "      <td>29.0</td>\n",
       "      <td>577</td>\n",
       "      <td>572</td>\n",
       "      <td>1149</td>\n",
       "    </tr>\n",
       "    <tr>\n",
       "      <th>3</th>\n",
       "      <td>Arkansas</td>\n",
       "      <td>5.0</td>\n",
       "      <td>592</td>\n",
       "      <td>576</td>\n",
       "      <td>1169</td>\n",
       "    </tr>\n",
       "    <tr>\n",
       "      <th>4</th>\n",
       "      <td>California</td>\n",
       "      <td>60.0</td>\n",
       "      <td>540</td>\n",
       "      <td>536</td>\n",
       "      <td>1076</td>\n",
       "    </tr>\n",
       "  </tbody>\n",
       "</table>\n",
       "</div>"
      ],
      "text/plain": [
       "        State  Participation  Evidence-Based Reading and Writing  Math  Total\n",
       "0     Alabama            6.0                                 595   571   1166\n",
       "1      Alaska           43.0                                 562   544   1106\n",
       "2     Arizona           29.0                                 577   572   1149\n",
       "3    Arkansas            5.0                                 592   576   1169\n",
       "4  California           60.0                                 540   536   1076"
      ]
     },
     "execution_count": 70,
     "metadata": {},
     "output_type": "execute_result"
    }
   ],
   "source": [
    "sat_2018.head()"
   ]
  },
  {
   "cell_type": "code",
   "execution_count": 71,
   "metadata": {},
   "outputs": [],
   "source": [
    "act_2018[\"Percentage of Students Tested\"] = act_2018[\"Percentage of Students Tested\"].map(convert_fl)"
   ]
  },
  {
   "cell_type": "code",
   "execution_count": 72,
   "metadata": {},
   "outputs": [
    {
     "data": {
      "text/html": [
       "<div>\n",
       "<style scoped>\n",
       "    .dataframe tbody tr th:only-of-type {\n",
       "        vertical-align: middle;\n",
       "    }\n",
       "\n",
       "    .dataframe tbody tr th {\n",
       "        vertical-align: top;\n",
       "    }\n",
       "\n",
       "    .dataframe thead th {\n",
       "        text-align: right;\n",
       "    }\n",
       "</style>\n",
       "<table border=\"1\" class=\"dataframe\">\n",
       "  <thead>\n",
       "    <tr style=\"text-align: right;\">\n",
       "      <th></th>\n",
       "      <th>State</th>\n",
       "      <th>Percentage of Students Tested</th>\n",
       "      <th>Average Composite Score</th>\n",
       "      <th>Average English Score</th>\n",
       "      <th>Average Math Score</th>\n",
       "      <th>Average Reading Score</th>\n",
       "      <th>Average Science Score</th>\n",
       "    </tr>\n",
       "  </thead>\n",
       "  <tbody>\n",
       "    <tr>\n",
       "      <th>0</th>\n",
       "      <td>Alabama</td>\n",
       "      <td>100.0</td>\n",
       "      <td>19.1</td>\n",
       "      <td>18.9</td>\n",
       "      <td>18.3</td>\n",
       "      <td>19.6</td>\n",
       "      <td>19.0</td>\n",
       "    </tr>\n",
       "    <tr>\n",
       "      <th>1</th>\n",
       "      <td>Alaska</td>\n",
       "      <td>33.0</td>\n",
       "      <td>20.8</td>\n",
       "      <td>19.8</td>\n",
       "      <td>20.6</td>\n",
       "      <td>21.6</td>\n",
       "      <td>20.7</td>\n",
       "    </tr>\n",
       "    <tr>\n",
       "      <th>2</th>\n",
       "      <td>Arizona</td>\n",
       "      <td>66.0</td>\n",
       "      <td>19.2</td>\n",
       "      <td>18.2</td>\n",
       "      <td>19.4</td>\n",
       "      <td>19.5</td>\n",
       "      <td>19.2</td>\n",
       "    </tr>\n",
       "    <tr>\n",
       "      <th>3</th>\n",
       "      <td>Arkansas</td>\n",
       "      <td>100.0</td>\n",
       "      <td>19.4</td>\n",
       "      <td>19.1</td>\n",
       "      <td>18.9</td>\n",
       "      <td>19.7</td>\n",
       "      <td>19.4</td>\n",
       "    </tr>\n",
       "    <tr>\n",
       "      <th>4</th>\n",
       "      <td>California</td>\n",
       "      <td>27.0</td>\n",
       "      <td>22.7</td>\n",
       "      <td>22.5</td>\n",
       "      <td>22.5</td>\n",
       "      <td>23.0</td>\n",
       "      <td>22.1</td>\n",
       "    </tr>\n",
       "  </tbody>\n",
       "</table>\n",
       "</div>"
      ],
      "text/plain": [
       "        State  Percentage of Students Tested  Average Composite Score  \\\n",
       "0     Alabama                          100.0                     19.1   \n",
       "1      Alaska                           33.0                     20.8   \n",
       "2     Arizona                           66.0                     19.2   \n",
       "3    Arkansas                          100.0                     19.4   \n",
       "4  California                           27.0                     22.7   \n",
       "\n",
       "   Average English Score  Average Math Score  Average Reading Score  \\\n",
       "0                   18.9                18.3                   19.6   \n",
       "1                   19.8                20.6                   21.6   \n",
       "2                   18.2                19.4                   19.5   \n",
       "3                   19.1                18.9                   19.7   \n",
       "4                   22.5                22.5                   23.0   \n",
       "\n",
       "   Average Science Score  \n",
       "0                   19.0  \n",
       "1                   20.7  \n",
       "2                   19.2  \n",
       "3                   19.4  \n",
       "4                   22.1  "
      ]
     },
     "execution_count": 72,
     "metadata": {},
     "output_type": "execute_result"
    }
   ],
   "source": [
    "act_2018.head()"
   ]
  },
  {
   "cell_type": "code",
   "execution_count": 73,
   "metadata": {},
   "outputs": [
    {
     "name": "stdout",
     "output_type": "stream",
     "text": [
      "<class 'pandas.core.frame.DataFrame'>\n",
      "RangeIndex: 51 entries, 0 to 50\n",
      "Data columns (total 5 columns):\n",
      " #   Column                              Non-Null Count  Dtype  \n",
      "---  ------                              --------------  -----  \n",
      " 0   State                               51 non-null     object \n",
      " 1   Participation                       51 non-null     float64\n",
      " 2   Evidence-Based Reading and Writing  51 non-null     int64  \n",
      " 3   Math                                51 non-null     int64  \n",
      " 4   Total                               51 non-null     int64  \n",
      "dtypes: float64(1), int64(3), object(1)\n",
      "memory usage: 2.1+ KB\n"
     ]
    }
   ],
   "source": [
    "sat_2018.info()"
   ]
  },
  {
   "cell_type": "code",
   "execution_count": 74,
   "metadata": {},
   "outputs": [],
   "source": [
    "sat_2018[[\"Evidence-Based Reading and Writing\", \"Math\",\"Total\"]]=sat_2018[[\"Evidence-Based Reading and Writing\", \"Math\",\"Total\"]].applymap(convert_fl)"
   ]
  },
  {
   "cell_type": "code",
   "execution_count": 75,
   "metadata": {},
   "outputs": [
    {
     "name": "stdout",
     "output_type": "stream",
     "text": [
      "<class 'pandas.core.frame.DataFrame'>\n",
      "RangeIndex: 51 entries, 0 to 50\n",
      "Data columns (total 5 columns):\n",
      " #   Column                              Non-Null Count  Dtype  \n",
      "---  ------                              --------------  -----  \n",
      " 0   State                               51 non-null     object \n",
      " 1   Participation                       51 non-null     float64\n",
      " 2   Evidence-Based Reading and Writing  51 non-null     float64\n",
      " 3   Math                                51 non-null     float64\n",
      " 4   Total                               51 non-null     float64\n",
      "dtypes: float64(4), object(1)\n",
      "memory usage: 2.1+ KB\n"
     ]
    }
   ],
   "source": [
    "sat_2018.info()"
   ]
  },
  {
   "cell_type": "code",
   "execution_count": 76,
   "metadata": {},
   "outputs": [
    {
     "name": "stdout",
     "output_type": "stream",
     "text": [
      "<class 'pandas.core.frame.DataFrame'>\n",
      "RangeIndex: 51 entries, 0 to 50\n",
      "Data columns (total 7 columns):\n",
      " #   Column                         Non-Null Count  Dtype  \n",
      "---  ------                         --------------  -----  \n",
      " 0   State                          51 non-null     object \n",
      " 1   Percentage of Students Tested  51 non-null     float64\n",
      " 2   Average Composite Score        51 non-null     float64\n",
      " 3   Average English Score          51 non-null     float64\n",
      " 4   Average Math Score             51 non-null     float64\n",
      " 5   Average Reading Score          51 non-null     float64\n",
      " 6   Average Science Score          51 non-null     float64\n",
      "dtypes: float64(6), object(1)\n",
      "memory usage: 2.9+ KB\n"
     ]
    }
   ],
   "source": [
    "act_2018.info()"
   ]
  },
  {
   "cell_type": "markdown",
   "metadata": {},
   "source": [
    "Rename Columns\n",
    "\n",
    "Change the names of the columns to more expressive names so that you can tell the difference the SAT columns and the ACT columns. \n",
    "\n",
    "Your solution should map all column names being changed at once (no repeated singular name-changes). We will be combining these data with some of the data from 2018, and so you should name columns in an appropriate way.\n"
   ]
  },
  {
   "cell_type": "code",
   "execution_count": 77,
   "metadata": {},
   "outputs": [],
   "source": [
    "sat_2018 =sat_2018.rename({\"State\": \"state\",\"Participation\":\"participationpct_sat_2018\", \n",
    "                 \"Evidence-Based Reading and Writing\": \"reading & writing_sat_2018\",\n",
    "                 \"Math\": \"math_sat_2018\",\n",
    "                 \"Total\": \"total_sat_2018\"}, axis = 1)\n"
   ]
  },
  {
   "cell_type": "code",
   "execution_count": 78,
   "metadata": {},
   "outputs": [],
   "source": [
    "act_2018 =act_2018.rename({\"State\": \"state\",\"Percentage of Students Tested\":\"participationpct_act_2018\", \n",
    "                 \"Average English Score\": \"english_act_2018\",\n",
    "                 \"Average Math Score\": \"math_act_2018\",\"Average Reading Score\": \"reading_act_2018\",\"Average Science Score\": \"science_act_2018\",\n",
    "                 \"Average Composite Score\": \"composite_act_2018\"}, axis = 1)\n"
   ]
  },
  {
   "cell_type": "code",
   "execution_count": 79,
   "metadata": {},
   "outputs": [
    {
     "data": {
      "text/html": [
       "<div>\n",
       "<style scoped>\n",
       "    .dataframe tbody tr th:only-of-type {\n",
       "        vertical-align: middle;\n",
       "    }\n",
       "\n",
       "    .dataframe tbody tr th {\n",
       "        vertical-align: top;\n",
       "    }\n",
       "\n",
       "    .dataframe thead th {\n",
       "        text-align: right;\n",
       "    }\n",
       "</style>\n",
       "<table border=\"1\" class=\"dataframe\">\n",
       "  <thead>\n",
       "    <tr style=\"text-align: right;\">\n",
       "      <th></th>\n",
       "      <th>state</th>\n",
       "      <th>participationpct_sat_2018</th>\n",
       "      <th>reading &amp; writing_sat_2018</th>\n",
       "      <th>math_sat_2018</th>\n",
       "      <th>total_sat_2018</th>\n",
       "    </tr>\n",
       "  </thead>\n",
       "  <tbody>\n",
       "    <tr>\n",
       "      <th>0</th>\n",
       "      <td>Alabama</td>\n",
       "      <td>6.0</td>\n",
       "      <td>595.0</td>\n",
       "      <td>571.0</td>\n",
       "      <td>1166.0</td>\n",
       "    </tr>\n",
       "    <tr>\n",
       "      <th>1</th>\n",
       "      <td>Alaska</td>\n",
       "      <td>43.0</td>\n",
       "      <td>562.0</td>\n",
       "      <td>544.0</td>\n",
       "      <td>1106.0</td>\n",
       "    </tr>\n",
       "    <tr>\n",
       "      <th>2</th>\n",
       "      <td>Arizona</td>\n",
       "      <td>29.0</td>\n",
       "      <td>577.0</td>\n",
       "      <td>572.0</td>\n",
       "      <td>1149.0</td>\n",
       "    </tr>\n",
       "    <tr>\n",
       "      <th>3</th>\n",
       "      <td>Arkansas</td>\n",
       "      <td>5.0</td>\n",
       "      <td>592.0</td>\n",
       "      <td>576.0</td>\n",
       "      <td>1169.0</td>\n",
       "    </tr>\n",
       "    <tr>\n",
       "      <th>4</th>\n",
       "      <td>California</td>\n",
       "      <td>60.0</td>\n",
       "      <td>540.0</td>\n",
       "      <td>536.0</td>\n",
       "      <td>1076.0</td>\n",
       "    </tr>\n",
       "  </tbody>\n",
       "</table>\n",
       "</div>"
      ],
      "text/plain": [
       "        state  participationpct_sat_2018  reading & writing_sat_2018  \\\n",
       "0     Alabama                        6.0                       595.0   \n",
       "1      Alaska                       43.0                       562.0   \n",
       "2     Arizona                       29.0                       577.0   \n",
       "3    Arkansas                        5.0                       592.0   \n",
       "4  California                       60.0                       540.0   \n",
       "\n",
       "   math_sat_2018  total_sat_2018  \n",
       "0          571.0          1166.0  \n",
       "1          544.0          1106.0  \n",
       "2          572.0          1149.0  \n",
       "3          576.0          1169.0  \n",
       "4          536.0          1076.0  "
      ]
     },
     "execution_count": 79,
     "metadata": {},
     "output_type": "execute_result"
    }
   ],
   "source": [
    "sat_2018.head()"
   ]
  },
  {
   "cell_type": "code",
   "execution_count": 80,
   "metadata": {},
   "outputs": [
    {
     "data": {
      "text/html": [
       "<div>\n",
       "<style scoped>\n",
       "    .dataframe tbody tr th:only-of-type {\n",
       "        vertical-align: middle;\n",
       "    }\n",
       "\n",
       "    .dataframe tbody tr th {\n",
       "        vertical-align: top;\n",
       "    }\n",
       "\n",
       "    .dataframe thead th {\n",
       "        text-align: right;\n",
       "    }\n",
       "</style>\n",
       "<table border=\"1\" class=\"dataframe\">\n",
       "  <thead>\n",
       "    <tr style=\"text-align: right;\">\n",
       "      <th></th>\n",
       "      <th>state</th>\n",
       "      <th>participationpct_act_2018</th>\n",
       "      <th>composite_act_2018</th>\n",
       "      <th>english_act_2018</th>\n",
       "      <th>math_act_2018</th>\n",
       "      <th>reading_act_2018</th>\n",
       "      <th>science_act_2018</th>\n",
       "    </tr>\n",
       "  </thead>\n",
       "  <tbody>\n",
       "    <tr>\n",
       "      <th>0</th>\n",
       "      <td>Alabama</td>\n",
       "      <td>100.0</td>\n",
       "      <td>19.1</td>\n",
       "      <td>18.9</td>\n",
       "      <td>18.3</td>\n",
       "      <td>19.6</td>\n",
       "      <td>19.0</td>\n",
       "    </tr>\n",
       "    <tr>\n",
       "      <th>1</th>\n",
       "      <td>Alaska</td>\n",
       "      <td>33.0</td>\n",
       "      <td>20.8</td>\n",
       "      <td>19.8</td>\n",
       "      <td>20.6</td>\n",
       "      <td>21.6</td>\n",
       "      <td>20.7</td>\n",
       "    </tr>\n",
       "    <tr>\n",
       "      <th>2</th>\n",
       "      <td>Arizona</td>\n",
       "      <td>66.0</td>\n",
       "      <td>19.2</td>\n",
       "      <td>18.2</td>\n",
       "      <td>19.4</td>\n",
       "      <td>19.5</td>\n",
       "      <td>19.2</td>\n",
       "    </tr>\n",
       "    <tr>\n",
       "      <th>3</th>\n",
       "      <td>Arkansas</td>\n",
       "      <td>100.0</td>\n",
       "      <td>19.4</td>\n",
       "      <td>19.1</td>\n",
       "      <td>18.9</td>\n",
       "      <td>19.7</td>\n",
       "      <td>19.4</td>\n",
       "    </tr>\n",
       "    <tr>\n",
       "      <th>4</th>\n",
       "      <td>California</td>\n",
       "      <td>27.0</td>\n",
       "      <td>22.7</td>\n",
       "      <td>22.5</td>\n",
       "      <td>22.5</td>\n",
       "      <td>23.0</td>\n",
       "      <td>22.1</td>\n",
       "    </tr>\n",
       "  </tbody>\n",
       "</table>\n",
       "</div>"
      ],
      "text/plain": [
       "        state  participationpct_act_2018  composite_act_2018  \\\n",
       "0     Alabama                      100.0                19.1   \n",
       "1      Alaska                       33.0                20.8   \n",
       "2     Arizona                       66.0                19.2   \n",
       "3    Arkansas                      100.0                19.4   \n",
       "4  California                       27.0                22.7   \n",
       "\n",
       "   english_act_2018  math_act_2018  reading_act_2018  science_act_2018  \n",
       "0              18.9           18.3              19.6              19.0  \n",
       "1              19.8           20.6              21.6              20.7  \n",
       "2              18.2           19.4              19.5              19.2  \n",
       "3              19.1           18.9              19.7              19.4  \n",
       "4              22.5           22.5              23.0              22.1  "
      ]
     },
     "execution_count": 80,
     "metadata": {},
     "output_type": "execute_result"
    }
   ],
   "source": [
    "act_2018.head()"
   ]
  },
  {
   "cell_type": "markdown",
   "metadata": {},
   "source": [
    "8. Create a data dictionary"
   ]
  },
  {
   "cell_type": "markdown",
   "metadata": {},
   "source": [
    "|Feature|Type|Dataset|Description|\n",
    "|---|---|---|---|\n",
    "|state|object|SAT|This is the name of the state| \n",
    "|participationpct_sat_2018|float|SAT|This is the precentage of students who took the SAT tests in 2018 in the corresponding state|\n",
    "|reading & writing_sat_2018|float|SAT|This is the average score of the students who have taken the SAT evidence-based reading and writing test in 2018 in the corresponding state| \n",
    "|math_sat_2018|float|SAT|This is the average score of the students who have taken the SAT math test in 2018 the corresponding state| \n",
    "|total_sat_2018|float|SAT|This is the average total score of the students who have taken both the SAT tests in 2018 in the corresponding state| \n",
    "|state|object|ACT|This is the name of the state| \n",
    "|participationpct_act_2018|float|ACT|This is the precentage of students who took the ACT tests in 2018 in the corresponding state|\n",
    "|english_act_2018|float|ACT|This is the average score of the students who have taken the ACT english test in 2018 in the corresponding state|\n",
    "|math_act_2018|float|ACT|This is the average score of the students who have taken the ACT math test in 2018 in the corresponding state|\n",
    "|reading_act_2018|float|ACT|This is the average score of the students who have taken the ACT reading test in 2018 in the corresponding state| \n",
    "|science_act_2018|float|ACT|This is the average score of the students who have taken the ACT science test in 2018 in the corresponding state|\n",
    "|composite_act_2018|float|ACT|This is the average total score of the students who have taken the ACT tests in 2018 in the corresponding state|"
   ]
  },
  {
   "cell_type": "code",
   "execution_count": 81,
   "metadata": {},
   "outputs": [
    {
     "data": {
      "text/html": [
       "<div>\n",
       "<style scoped>\n",
       "    .dataframe tbody tr th:only-of-type {\n",
       "        vertical-align: middle;\n",
       "    }\n",
       "\n",
       "    .dataframe tbody tr th {\n",
       "        vertical-align: top;\n",
       "    }\n",
       "\n",
       "    .dataframe thead th {\n",
       "        text-align: right;\n",
       "    }\n",
       "</style>\n",
       "<table border=\"1\" class=\"dataframe\">\n",
       "  <thead>\n",
       "    <tr style=\"text-align: right;\">\n",
       "      <th></th>\n",
       "      <th>state</th>\n",
       "      <th>participationpct_sat_2018</th>\n",
       "      <th>reading &amp; writing_sat_2018</th>\n",
       "      <th>math_sat_2018</th>\n",
       "      <th>total_sat_2018</th>\n",
       "      <th>participationpct_act_2018</th>\n",
       "      <th>composite_act_2018</th>\n",
       "      <th>english_act_2018</th>\n",
       "      <th>math_act_2018</th>\n",
       "      <th>reading_act_2018</th>\n",
       "      <th>science_act_2018</th>\n",
       "    </tr>\n",
       "  </thead>\n",
       "  <tbody>\n",
       "    <tr>\n",
       "      <th>0</th>\n",
       "      <td>Alabama</td>\n",
       "      <td>6.0</td>\n",
       "      <td>595.0</td>\n",
       "      <td>571.0</td>\n",
       "      <td>1166.0</td>\n",
       "      <td>100.0</td>\n",
       "      <td>19.1</td>\n",
       "      <td>18.9</td>\n",
       "      <td>18.3</td>\n",
       "      <td>19.6</td>\n",
       "      <td>19.0</td>\n",
       "    </tr>\n",
       "    <tr>\n",
       "      <th>1</th>\n",
       "      <td>Alaska</td>\n",
       "      <td>43.0</td>\n",
       "      <td>562.0</td>\n",
       "      <td>544.0</td>\n",
       "      <td>1106.0</td>\n",
       "      <td>33.0</td>\n",
       "      <td>20.8</td>\n",
       "      <td>19.8</td>\n",
       "      <td>20.6</td>\n",
       "      <td>21.6</td>\n",
       "      <td>20.7</td>\n",
       "    </tr>\n",
       "    <tr>\n",
       "      <th>2</th>\n",
       "      <td>Arizona</td>\n",
       "      <td>29.0</td>\n",
       "      <td>577.0</td>\n",
       "      <td>572.0</td>\n",
       "      <td>1149.0</td>\n",
       "      <td>66.0</td>\n",
       "      <td>19.2</td>\n",
       "      <td>18.2</td>\n",
       "      <td>19.4</td>\n",
       "      <td>19.5</td>\n",
       "      <td>19.2</td>\n",
       "    </tr>\n",
       "    <tr>\n",
       "      <th>3</th>\n",
       "      <td>Arkansas</td>\n",
       "      <td>5.0</td>\n",
       "      <td>592.0</td>\n",
       "      <td>576.0</td>\n",
       "      <td>1169.0</td>\n",
       "      <td>100.0</td>\n",
       "      <td>19.4</td>\n",
       "      <td>19.1</td>\n",
       "      <td>18.9</td>\n",
       "      <td>19.7</td>\n",
       "      <td>19.4</td>\n",
       "    </tr>\n",
       "    <tr>\n",
       "      <th>4</th>\n",
       "      <td>California</td>\n",
       "      <td>60.0</td>\n",
       "      <td>540.0</td>\n",
       "      <td>536.0</td>\n",
       "      <td>1076.0</td>\n",
       "      <td>27.0</td>\n",
       "      <td>22.7</td>\n",
       "      <td>22.5</td>\n",
       "      <td>22.5</td>\n",
       "      <td>23.0</td>\n",
       "      <td>22.1</td>\n",
       "    </tr>\n",
       "  </tbody>\n",
       "</table>\n",
       "</div>"
      ],
      "text/plain": [
       "        state  participationpct_sat_2018  reading & writing_sat_2018  \\\n",
       "0     Alabama                        6.0                       595.0   \n",
       "1      Alaska                       43.0                       562.0   \n",
       "2     Arizona                       29.0                       577.0   \n",
       "3    Arkansas                        5.0                       592.0   \n",
       "4  California                       60.0                       540.0   \n",
       "\n",
       "   math_sat_2018  total_sat_2018  participationpct_act_2018  \\\n",
       "0          571.0          1166.0                      100.0   \n",
       "1          544.0          1106.0                       33.0   \n",
       "2          572.0          1149.0                       66.0   \n",
       "3          576.0          1169.0                      100.0   \n",
       "4          536.0          1076.0                       27.0   \n",
       "\n",
       "   composite_act_2018  english_act_2018  math_act_2018  reading_act_2018  \\\n",
       "0                19.1              18.9           18.3              19.6   \n",
       "1                20.8              19.8           20.6              21.6   \n",
       "2                19.2              18.2           19.4              19.5   \n",
       "3                19.4              19.1           18.9              19.7   \n",
       "4                22.7              22.5           22.5              23.0   \n",
       "\n",
       "   science_act_2018  \n",
       "0              19.0  \n",
       "1              20.7  \n",
       "2              19.2  \n",
       "3              19.4  \n",
       "4              22.1  "
      ]
     },
     "execution_count": 81,
     "metadata": {},
     "output_type": "execute_result"
    }
   ],
   "source": [
    "tests_stats_2018= pd.merge(sat_2018, act_2018, on=\"state\")\n",
    "tests_stats_2018.head()"
   ]
  },
  {
   "cell_type": "code",
   "execution_count": 82,
   "metadata": {},
   "outputs": [],
   "source": [
    "tests_stats_2018.to_csv(\"data/combined_2018.csv\")\n"
   ]
  },
  {
   "cell_type": "markdown",
   "metadata": {},
   "source": [
    "#### Combine your 2017 and 2018 data into a single dataframe\n",
    "Joining on state names should work, assuming you formatted all your state names identically. Make sure none of your columns (other than state) have identical names. Do yourself a favor and decide if you're encoding participation rates as floats or integers and standardize this across your datasets.\n",
    "\n",
    "Save the contents of this merged dataframe as `final.csv`.\n",
    "\n",
    "**Use this combined dataframe for the remainder of the project**."
   ]
  },
  {
   "cell_type": "code",
   "execution_count": 83,
   "metadata": {},
   "outputs": [
    {
     "data": {
      "text/html": [
       "<div>\n",
       "<style scoped>\n",
       "    .dataframe tbody tr th:only-of-type {\n",
       "        vertical-align: middle;\n",
       "    }\n",
       "\n",
       "    .dataframe tbody tr th {\n",
       "        vertical-align: top;\n",
       "    }\n",
       "\n",
       "    .dataframe thead th {\n",
       "        text-align: right;\n",
       "    }\n",
       "</style>\n",
       "<table border=\"1\" class=\"dataframe\">\n",
       "  <thead>\n",
       "    <tr style=\"text-align: right;\">\n",
       "      <th></th>\n",
       "      <th>state</th>\n",
       "      <th>participationpct_sat_2017</th>\n",
       "      <th>reading &amp; writing_sat_2017</th>\n",
       "      <th>math_sat_2017</th>\n",
       "      <th>total_sat_2017</th>\n",
       "      <th>participationpct_act_2017</th>\n",
       "      <th>english_act_2017</th>\n",
       "      <th>math_act_2017</th>\n",
       "      <th>reading_act_2017</th>\n",
       "      <th>science_act_2017</th>\n",
       "      <th>...</th>\n",
       "      <th>participationpct_sat_2018</th>\n",
       "      <th>reading &amp; writing_sat_2018</th>\n",
       "      <th>math_sat_2018</th>\n",
       "      <th>total_sat_2018</th>\n",
       "      <th>participationpct_act_2018</th>\n",
       "      <th>composite_act_2018</th>\n",
       "      <th>english_act_2018</th>\n",
       "      <th>math_act_2018</th>\n",
       "      <th>reading_act_2018</th>\n",
       "      <th>science_act_2018</th>\n",
       "    </tr>\n",
       "  </thead>\n",
       "  <tbody>\n",
       "    <tr>\n",
       "      <th>0</th>\n",
       "      <td>Alabama</td>\n",
       "      <td>5.0</td>\n",
       "      <td>593.0</td>\n",
       "      <td>572.0</td>\n",
       "      <td>1165.0</td>\n",
       "      <td>100.0</td>\n",
       "      <td>18.9</td>\n",
       "      <td>18.4</td>\n",
       "      <td>19.7</td>\n",
       "      <td>19.4</td>\n",
       "      <td>...</td>\n",
       "      <td>6.0</td>\n",
       "      <td>595.0</td>\n",
       "      <td>571.0</td>\n",
       "      <td>1166.0</td>\n",
       "      <td>100.0</td>\n",
       "      <td>19.1</td>\n",
       "      <td>18.9</td>\n",
       "      <td>18.3</td>\n",
       "      <td>19.6</td>\n",
       "      <td>19.0</td>\n",
       "    </tr>\n",
       "    <tr>\n",
       "      <th>1</th>\n",
       "      <td>Alaska</td>\n",
       "      <td>38.0</td>\n",
       "      <td>547.0</td>\n",
       "      <td>533.0</td>\n",
       "      <td>1080.0</td>\n",
       "      <td>65.0</td>\n",
       "      <td>18.7</td>\n",
       "      <td>19.8</td>\n",
       "      <td>20.4</td>\n",
       "      <td>19.9</td>\n",
       "      <td>...</td>\n",
       "      <td>43.0</td>\n",
       "      <td>562.0</td>\n",
       "      <td>544.0</td>\n",
       "      <td>1106.0</td>\n",
       "      <td>33.0</td>\n",
       "      <td>20.8</td>\n",
       "      <td>19.8</td>\n",
       "      <td>20.6</td>\n",
       "      <td>21.6</td>\n",
       "      <td>20.7</td>\n",
       "    </tr>\n",
       "    <tr>\n",
       "      <th>2</th>\n",
       "      <td>Arizona</td>\n",
       "      <td>30.0</td>\n",
       "      <td>563.0</td>\n",
       "      <td>553.0</td>\n",
       "      <td>1116.0</td>\n",
       "      <td>62.0</td>\n",
       "      <td>18.6</td>\n",
       "      <td>19.8</td>\n",
       "      <td>20.1</td>\n",
       "      <td>19.8</td>\n",
       "      <td>...</td>\n",
       "      <td>29.0</td>\n",
       "      <td>577.0</td>\n",
       "      <td>572.0</td>\n",
       "      <td>1149.0</td>\n",
       "      <td>66.0</td>\n",
       "      <td>19.2</td>\n",
       "      <td>18.2</td>\n",
       "      <td>19.4</td>\n",
       "      <td>19.5</td>\n",
       "      <td>19.2</td>\n",
       "    </tr>\n",
       "    <tr>\n",
       "      <th>3</th>\n",
       "      <td>Arkansas</td>\n",
       "      <td>3.0</td>\n",
       "      <td>614.0</td>\n",
       "      <td>594.0</td>\n",
       "      <td>1208.0</td>\n",
       "      <td>100.0</td>\n",
       "      <td>18.9</td>\n",
       "      <td>19.0</td>\n",
       "      <td>19.7</td>\n",
       "      <td>19.5</td>\n",
       "      <td>...</td>\n",
       "      <td>5.0</td>\n",
       "      <td>592.0</td>\n",
       "      <td>576.0</td>\n",
       "      <td>1169.0</td>\n",
       "      <td>100.0</td>\n",
       "      <td>19.4</td>\n",
       "      <td>19.1</td>\n",
       "      <td>18.9</td>\n",
       "      <td>19.7</td>\n",
       "      <td>19.4</td>\n",
       "    </tr>\n",
       "    <tr>\n",
       "      <th>4</th>\n",
       "      <td>California</td>\n",
       "      <td>53.0</td>\n",
       "      <td>531.0</td>\n",
       "      <td>524.0</td>\n",
       "      <td>1055.0</td>\n",
       "      <td>31.0</td>\n",
       "      <td>22.5</td>\n",
       "      <td>22.7</td>\n",
       "      <td>23.1</td>\n",
       "      <td>22.2</td>\n",
       "      <td>...</td>\n",
       "      <td>60.0</td>\n",
       "      <td>540.0</td>\n",
       "      <td>536.0</td>\n",
       "      <td>1076.0</td>\n",
       "      <td>27.0</td>\n",
       "      <td>22.7</td>\n",
       "      <td>22.5</td>\n",
       "      <td>22.5</td>\n",
       "      <td>23.0</td>\n",
       "      <td>22.1</td>\n",
       "    </tr>\n",
       "  </tbody>\n",
       "</table>\n",
       "<p>5 rows × 21 columns</p>\n",
       "</div>"
      ],
      "text/plain": [
       "        state  participationpct_sat_2017  reading & writing_sat_2017  \\\n",
       "0     Alabama                        5.0                       593.0   \n",
       "1      Alaska                       38.0                       547.0   \n",
       "2     Arizona                       30.0                       563.0   \n",
       "3    Arkansas                        3.0                       614.0   \n",
       "4  California                       53.0                       531.0   \n",
       "\n",
       "   math_sat_2017  total_sat_2017  participationpct_act_2017  english_act_2017  \\\n",
       "0          572.0          1165.0                      100.0              18.9   \n",
       "1          533.0          1080.0                       65.0              18.7   \n",
       "2          553.0          1116.0                       62.0              18.6   \n",
       "3          594.0          1208.0                      100.0              18.9   \n",
       "4          524.0          1055.0                       31.0              22.5   \n",
       "\n",
       "   math_act_2017  reading_act_2017  science_act_2017  ...  \\\n",
       "0           18.4              19.7              19.4  ...   \n",
       "1           19.8              20.4              19.9  ...   \n",
       "2           19.8              20.1              19.8  ...   \n",
       "3           19.0              19.7              19.5  ...   \n",
       "4           22.7              23.1              22.2  ...   \n",
       "\n",
       "   participationpct_sat_2018  reading & writing_sat_2018  math_sat_2018  \\\n",
       "0                        6.0                       595.0          571.0   \n",
       "1                       43.0                       562.0          544.0   \n",
       "2                       29.0                       577.0          572.0   \n",
       "3                        5.0                       592.0          576.0   \n",
       "4                       60.0                       540.0          536.0   \n",
       "\n",
       "   total_sat_2018  participationpct_act_2018  composite_act_2018  \\\n",
       "0          1166.0                      100.0                19.1   \n",
       "1          1106.0                       33.0                20.8   \n",
       "2          1149.0                       66.0                19.2   \n",
       "3          1169.0                      100.0                19.4   \n",
       "4          1076.0                       27.0                22.7   \n",
       "\n",
       "   english_act_2018  math_act_2018  reading_act_2018  science_act_2018  \n",
       "0              18.9           18.3              19.6              19.0  \n",
       "1              19.8           20.6              21.6              20.7  \n",
       "2              18.2           19.4              19.5              19.2  \n",
       "3              19.1           18.9              19.7              19.4  \n",
       "4              22.5           22.5              23.0              22.1  \n",
       "\n",
       "[5 rows x 21 columns]"
      ]
     },
     "execution_count": 83,
     "metadata": {},
     "output_type": "execute_result"
    }
   ],
   "source": [
    "final= pd.merge(tests_stats_2017, tests_stats_2018, on=\"state\")\n",
    "final.head()"
   ]
  },
  {
   "cell_type": "code",
   "execution_count": 84,
   "metadata": {},
   "outputs": [],
   "source": [
    "final.to_csv(\"data/final.csv\")"
   ]
  },
  {
   "cell_type": "markdown",
   "metadata": {},
   "source": [
    "## Exploratory Data Analysis\n",
    "\n",
    "\n",
    "### Summary Statistics\n",
    "Transpose the output of pandas `describe` method to create a quick overview of each numeric feature."
   ]
  },
  {
   "cell_type": "code",
   "execution_count": 85,
   "metadata": {},
   "outputs": [
    {
     "data": {
      "text/html": [
       "<div>\n",
       "<style scoped>\n",
       "    .dataframe tbody tr th:only-of-type {\n",
       "        vertical-align: middle;\n",
       "    }\n",
       "\n",
       "    .dataframe tbody tr th {\n",
       "        vertical-align: top;\n",
       "    }\n",
       "\n",
       "    .dataframe thead th {\n",
       "        text-align: right;\n",
       "    }\n",
       "</style>\n",
       "<table border=\"1\" class=\"dataframe\">\n",
       "  <thead>\n",
       "    <tr style=\"text-align: right;\">\n",
       "      <th></th>\n",
       "      <th>count</th>\n",
       "      <th>mean</th>\n",
       "      <th>std</th>\n",
       "      <th>min</th>\n",
       "      <th>25%</th>\n",
       "      <th>50%</th>\n",
       "      <th>75%</th>\n",
       "      <th>max</th>\n",
       "    </tr>\n",
       "  </thead>\n",
       "  <tbody>\n",
       "    <tr>\n",
       "      <th>participationpct_sat_2017</th>\n",
       "      <td>51.0</td>\n",
       "      <td>39.803922</td>\n",
       "      <td>35.276632</td>\n",
       "      <td>2.0</td>\n",
       "      <td>4.00</td>\n",
       "      <td>38.0</td>\n",
       "      <td>66.00</td>\n",
       "      <td>100.0</td>\n",
       "    </tr>\n",
       "    <tr>\n",
       "      <th>reading &amp; writing_sat_2017</th>\n",
       "      <td>51.0</td>\n",
       "      <td>569.117647</td>\n",
       "      <td>45.666901</td>\n",
       "      <td>482.0</td>\n",
       "      <td>533.50</td>\n",
       "      <td>559.0</td>\n",
       "      <td>613.00</td>\n",
       "      <td>644.0</td>\n",
       "    </tr>\n",
       "    <tr>\n",
       "      <th>math_sat_2017</th>\n",
       "      <td>51.0</td>\n",
       "      <td>556.882353</td>\n",
       "      <td>47.121395</td>\n",
       "      <td>468.0</td>\n",
       "      <td>523.50</td>\n",
       "      <td>548.0</td>\n",
       "      <td>599.00</td>\n",
       "      <td>651.0</td>\n",
       "    </tr>\n",
       "    <tr>\n",
       "      <th>total_sat_2017</th>\n",
       "      <td>51.0</td>\n",
       "      <td>1126.098039</td>\n",
       "      <td>92.494812</td>\n",
       "      <td>950.0</td>\n",
       "      <td>1055.50</td>\n",
       "      <td>1107.0</td>\n",
       "      <td>1212.00</td>\n",
       "      <td>1295.0</td>\n",
       "    </tr>\n",
       "    <tr>\n",
       "      <th>participationpct_act_2017</th>\n",
       "      <td>51.0</td>\n",
       "      <td>65.254902</td>\n",
       "      <td>32.140842</td>\n",
       "      <td>8.0</td>\n",
       "      <td>31.00</td>\n",
       "      <td>69.0</td>\n",
       "      <td>100.00</td>\n",
       "      <td>100.0</td>\n",
       "    </tr>\n",
       "    <tr>\n",
       "      <th>english_act_2017</th>\n",
       "      <td>51.0</td>\n",
       "      <td>20.931373</td>\n",
       "      <td>2.353677</td>\n",
       "      <td>16.3</td>\n",
       "      <td>19.00</td>\n",
       "      <td>20.7</td>\n",
       "      <td>23.30</td>\n",
       "      <td>25.5</td>\n",
       "    </tr>\n",
       "    <tr>\n",
       "      <th>math_act_2017</th>\n",
       "      <td>51.0</td>\n",
       "      <td>21.182353</td>\n",
       "      <td>1.981989</td>\n",
       "      <td>18.0</td>\n",
       "      <td>19.40</td>\n",
       "      <td>20.9</td>\n",
       "      <td>23.10</td>\n",
       "      <td>25.3</td>\n",
       "    </tr>\n",
       "    <tr>\n",
       "      <th>reading_act_2017</th>\n",
       "      <td>51.0</td>\n",
       "      <td>22.013725</td>\n",
       "      <td>2.067271</td>\n",
       "      <td>18.1</td>\n",
       "      <td>20.45</td>\n",
       "      <td>21.8</td>\n",
       "      <td>24.15</td>\n",
       "      <td>26.0</td>\n",
       "    </tr>\n",
       "    <tr>\n",
       "      <th>science_act_2017</th>\n",
       "      <td>51.0</td>\n",
       "      <td>21.450980</td>\n",
       "      <td>1.739353</td>\n",
       "      <td>18.2</td>\n",
       "      <td>19.95</td>\n",
       "      <td>21.3</td>\n",
       "      <td>23.20</td>\n",
       "      <td>24.9</td>\n",
       "    </tr>\n",
       "    <tr>\n",
       "      <th>composite_act_2017</th>\n",
       "      <td>51.0</td>\n",
       "      <td>21.519608</td>\n",
       "      <td>2.020695</td>\n",
       "      <td>17.8</td>\n",
       "      <td>19.80</td>\n",
       "      <td>21.4</td>\n",
       "      <td>23.60</td>\n",
       "      <td>25.5</td>\n",
       "    </tr>\n",
       "    <tr>\n",
       "      <th>participationpct_sat_2018</th>\n",
       "      <td>51.0</td>\n",
       "      <td>45.745098</td>\n",
       "      <td>37.314256</td>\n",
       "      <td>2.0</td>\n",
       "      <td>4.50</td>\n",
       "      <td>52.0</td>\n",
       "      <td>77.50</td>\n",
       "      <td>100.0</td>\n",
       "    </tr>\n",
       "    <tr>\n",
       "      <th>reading &amp; writing_sat_2018</th>\n",
       "      <td>51.0</td>\n",
       "      <td>563.686275</td>\n",
       "      <td>47.502627</td>\n",
       "      <td>480.0</td>\n",
       "      <td>534.50</td>\n",
       "      <td>552.0</td>\n",
       "      <td>610.50</td>\n",
       "      <td>643.0</td>\n",
       "    </tr>\n",
       "    <tr>\n",
       "      <th>math_sat_2018</th>\n",
       "      <td>51.0</td>\n",
       "      <td>556.235294</td>\n",
       "      <td>47.772623</td>\n",
       "      <td>480.0</td>\n",
       "      <td>522.50</td>\n",
       "      <td>544.0</td>\n",
       "      <td>593.50</td>\n",
       "      <td>655.0</td>\n",
       "    </tr>\n",
       "    <tr>\n",
       "      <th>total_sat_2018</th>\n",
       "      <td>51.0</td>\n",
       "      <td>1120.019608</td>\n",
       "      <td>94.155083</td>\n",
       "      <td>977.0</td>\n",
       "      <td>1057.50</td>\n",
       "      <td>1098.0</td>\n",
       "      <td>1204.00</td>\n",
       "      <td>1298.0</td>\n",
       "    </tr>\n",
       "    <tr>\n",
       "      <th>participationpct_act_2018</th>\n",
       "      <td>51.0</td>\n",
       "      <td>61.647059</td>\n",
       "      <td>34.080976</td>\n",
       "      <td>7.0</td>\n",
       "      <td>28.50</td>\n",
       "      <td>66.0</td>\n",
       "      <td>100.00</td>\n",
       "      <td>100.0</td>\n",
       "    </tr>\n",
       "    <tr>\n",
       "      <th>composite_act_2018</th>\n",
       "      <td>51.0</td>\n",
       "      <td>21.498039</td>\n",
       "      <td>2.117686</td>\n",
       "      <td>17.7</td>\n",
       "      <td>19.95</td>\n",
       "      <td>21.3</td>\n",
       "      <td>23.65</td>\n",
       "      <td>25.6</td>\n",
       "    </tr>\n",
       "    <tr>\n",
       "      <th>english_act_2018</th>\n",
       "      <td>51.0</td>\n",
       "      <td>20.988235</td>\n",
       "      <td>2.446356</td>\n",
       "      <td>16.6</td>\n",
       "      <td>19.10</td>\n",
       "      <td>20.2</td>\n",
       "      <td>23.70</td>\n",
       "      <td>26.0</td>\n",
       "    </tr>\n",
       "    <tr>\n",
       "      <th>math_act_2018</th>\n",
       "      <td>51.0</td>\n",
       "      <td>21.125490</td>\n",
       "      <td>2.035765</td>\n",
       "      <td>17.8</td>\n",
       "      <td>19.40</td>\n",
       "      <td>20.7</td>\n",
       "      <td>23.15</td>\n",
       "      <td>25.2</td>\n",
       "    </tr>\n",
       "    <tr>\n",
       "      <th>reading_act_2018</th>\n",
       "      <td>51.0</td>\n",
       "      <td>22.015686</td>\n",
       "      <td>2.167245</td>\n",
       "      <td>18.0</td>\n",
       "      <td>20.45</td>\n",
       "      <td>21.6</td>\n",
       "      <td>24.10</td>\n",
       "      <td>26.1</td>\n",
       "    </tr>\n",
       "    <tr>\n",
       "      <th>science_act_2018</th>\n",
       "      <td>51.0</td>\n",
       "      <td>21.345098</td>\n",
       "      <td>1.870114</td>\n",
       "      <td>17.9</td>\n",
       "      <td>19.85</td>\n",
       "      <td>21.1</td>\n",
       "      <td>23.05</td>\n",
       "      <td>24.9</td>\n",
       "    </tr>\n",
       "  </tbody>\n",
       "</table>\n",
       "</div>"
      ],
      "text/plain": [
       "                            count         mean        std    min      25%  \\\n",
       "participationpct_sat_2017    51.0    39.803922  35.276632    2.0     4.00   \n",
       "reading & writing_sat_2017   51.0   569.117647  45.666901  482.0   533.50   \n",
       "math_sat_2017                51.0   556.882353  47.121395  468.0   523.50   \n",
       "total_sat_2017               51.0  1126.098039  92.494812  950.0  1055.50   \n",
       "participationpct_act_2017    51.0    65.254902  32.140842    8.0    31.00   \n",
       "english_act_2017             51.0    20.931373   2.353677   16.3    19.00   \n",
       "math_act_2017                51.0    21.182353   1.981989   18.0    19.40   \n",
       "reading_act_2017             51.0    22.013725   2.067271   18.1    20.45   \n",
       "science_act_2017             51.0    21.450980   1.739353   18.2    19.95   \n",
       "composite_act_2017           51.0    21.519608   2.020695   17.8    19.80   \n",
       "participationpct_sat_2018    51.0    45.745098  37.314256    2.0     4.50   \n",
       "reading & writing_sat_2018   51.0   563.686275  47.502627  480.0   534.50   \n",
       "math_sat_2018                51.0   556.235294  47.772623  480.0   522.50   \n",
       "total_sat_2018               51.0  1120.019608  94.155083  977.0  1057.50   \n",
       "participationpct_act_2018    51.0    61.647059  34.080976    7.0    28.50   \n",
       "composite_act_2018           51.0    21.498039   2.117686   17.7    19.95   \n",
       "english_act_2018             51.0    20.988235   2.446356   16.6    19.10   \n",
       "math_act_2018                51.0    21.125490   2.035765   17.8    19.40   \n",
       "reading_act_2018             51.0    22.015686   2.167245   18.0    20.45   \n",
       "science_act_2018             51.0    21.345098   1.870114   17.9    19.85   \n",
       "\n",
       "                               50%      75%     max  \n",
       "participationpct_sat_2017     38.0    66.00   100.0  \n",
       "reading & writing_sat_2017   559.0   613.00   644.0  \n",
       "math_sat_2017                548.0   599.00   651.0  \n",
       "total_sat_2017              1107.0  1212.00  1295.0  \n",
       "participationpct_act_2017     69.0   100.00   100.0  \n",
       "english_act_2017              20.7    23.30    25.5  \n",
       "math_act_2017                 20.9    23.10    25.3  \n",
       "reading_act_2017              21.8    24.15    26.0  \n",
       "science_act_2017              21.3    23.20    24.9  \n",
       "composite_act_2017            21.4    23.60    25.5  \n",
       "participationpct_sat_2018     52.0    77.50   100.0  \n",
       "reading & writing_sat_2018   552.0   610.50   643.0  \n",
       "math_sat_2018                544.0   593.50   655.0  \n",
       "total_sat_2018              1098.0  1204.00  1298.0  \n",
       "participationpct_act_2018     66.0   100.00   100.0  \n",
       "composite_act_2018            21.3    23.65    25.6  \n",
       "english_act_2018              20.2    23.70    26.0  \n",
       "math_act_2018                 20.7    23.15    25.2  \n",
       "reading_act_2018              21.6    24.10    26.1  \n",
       "science_act_2018              21.1    23.05    24.9  "
      ]
     },
     "execution_count": 85,
     "metadata": {},
     "output_type": "execute_result"
    }
   ],
   "source": [
    "#Describing then transposing\n",
    "final.describe().T"
   ]
  },
  {
   "cell_type": "markdown",
   "metadata": {},
   "source": [
    "#### Manually calculate standard deviation\n",
    "\n",
    "$$\\sigma = \\sqrt{\\frac{1}{n}\\sum_{i=1}^n(x_i - \\mu)^2}$$\n",
    "\n",
    "- Write a function to calculate standard deviation using the formula above"
   ]
  },
  {
   "cell_type": "code",
   "execution_count": 86,
   "metadata": {},
   "outputs": [],
   "source": [
    "#std function\n",
    "def std(x):\n",
    "    sum_list = [] #creates an empty list\n",
    "    for i in range(len(x)):\n",
    "        sum_list_i = (x[i]-(sum(x)/len(x)))**2 #for each value to subtract from the mean and then squared\n",
    "        sum_list.append(sum_list_i)   # creates a list of values\n",
    "    return (sum(sum_list)/len(x))**(0.5)\n"
   ]
  },
  {
   "cell_type": "markdown",
   "metadata": {},
   "source": [
    "- Use a **dictionary comprehension** to apply your standard deviation function to each numeric column in the dataframe.  **No loops**  \n",
    "- Assign the output to variable `sd` as a dictionary where: \n",
    "    - Each column name is now a key \n",
    "    - That standard deviation of the column is the value \n",
    "     \n",
    "*Example Output :* `{'ACT_Math': 120, 'ACT_Reading': 120, ...}`"
   ]
  },
  {
   "cell_type": "code",
   "execution_count": 87,
   "metadata": {},
   "outputs": [
    {
     "data": {
      "text/plain": [
       "{'participationpct_sat_2017': 34.92907076664508,\n",
       " 'reading & writing_sat_2017': 45.21697020437866,\n",
       " 'math_sat_2017': 46.65713364485503,\n",
       " 'total_sat_2017': 91.58351056778743,\n",
       " 'participationpct_act_2017': 31.824175751231806,\n",
       " 'english_act_2017': 2.3304876369363363,\n",
       " 'math_act_2017': 1.9624620273436781,\n",
       " 'reading_act_2017': 2.0469029314842646,\n",
       " 'science_act_2017': 1.7222161451443676,\n",
       " 'composite_act_2017': 2.000786081581989,\n",
       " 'participationpct_sat_2018': 36.946619223539415,\n",
       " 'reading & writing_sat_2018': 47.03460978357609,\n",
       " 'math_sat_2018': 47.30194550378352,\n",
       " 'total_sat_2018': 93.22742384464433,\n",
       " 'participationpct_act_2018': 33.745194881997506,\n",
       " 'composite_act_2018': 2.0968220768561987,\n",
       " 'english_act_2018': 2.4222536143202795,\n",
       " 'math_act_2018': 2.015707255555717,\n",
       " 'reading_act_2018': 2.145891884510421,\n",
       " 'science_act_2018': 1.8516885484833543}"
      ]
     },
     "execution_count": 87,
     "metadata": {},
     "output_type": "execute_result"
    }
   ],
   "source": [
    "std_f ={i:std(final[i]) for i in final.columns if final[i].dtype ==\"float64\"}\n",
    "std_f"
   ]
  },
  {
   "cell_type": "markdown",
   "metadata": {},
   "source": [
    "Do your manually calculated standard deviations match up with the output from pandas `describe`? What about numpy's `std` method?"
   ]
  },
  {
   "cell_type": "code",
   "execution_count": 88,
   "metadata": {},
   "outputs": [
    {
     "data": {
      "text/html": [
       "<div>\n",
       "<style scoped>\n",
       "    .dataframe tbody tr th:only-of-type {\n",
       "        vertical-align: middle;\n",
       "    }\n",
       "\n",
       "    .dataframe tbody tr th {\n",
       "        vertical-align: top;\n",
       "    }\n",
       "\n",
       "    .dataframe thead th {\n",
       "        text-align: right;\n",
       "    }\n",
       "</style>\n",
       "<table border=\"1\" class=\"dataframe\">\n",
       "  <thead>\n",
       "    <tr style=\"text-align: right;\">\n",
       "      <th></th>\n",
       "      <th>participationpct_sat_2017</th>\n",
       "      <th>reading &amp; writing_sat_2017</th>\n",
       "      <th>math_sat_2017</th>\n",
       "      <th>total_sat_2017</th>\n",
       "      <th>participationpct_act_2017</th>\n",
       "      <th>english_act_2017</th>\n",
       "      <th>math_act_2017</th>\n",
       "      <th>reading_act_2017</th>\n",
       "      <th>science_act_2017</th>\n",
       "      <th>composite_act_2017</th>\n",
       "      <th>participationpct_sat_2018</th>\n",
       "      <th>reading &amp; writing_sat_2018</th>\n",
       "      <th>math_sat_2018</th>\n",
       "      <th>total_sat_2018</th>\n",
       "      <th>participationpct_act_2018</th>\n",
       "      <th>composite_act_2018</th>\n",
       "      <th>english_act_2018</th>\n",
       "      <th>math_act_2018</th>\n",
       "      <th>reading_act_2018</th>\n",
       "      <th>science_act_2018</th>\n",
       "    </tr>\n",
       "  </thead>\n",
       "  <tbody>\n",
       "    <tr>\n",
       "      <th>count</th>\n",
       "      <td>51.000000</td>\n",
       "      <td>51.000000</td>\n",
       "      <td>51.000000</td>\n",
       "      <td>51.000000</td>\n",
       "      <td>51.000000</td>\n",
       "      <td>51.000000</td>\n",
       "      <td>51.000000</td>\n",
       "      <td>51.000000</td>\n",
       "      <td>51.000000</td>\n",
       "      <td>51.000000</td>\n",
       "      <td>51.000000</td>\n",
       "      <td>51.000000</td>\n",
       "      <td>51.000000</td>\n",
       "      <td>51.000000</td>\n",
       "      <td>51.000000</td>\n",
       "      <td>51.000000</td>\n",
       "      <td>51.000000</td>\n",
       "      <td>51.000000</td>\n",
       "      <td>51.000000</td>\n",
       "      <td>51.000000</td>\n",
       "    </tr>\n",
       "    <tr>\n",
       "      <th>mean</th>\n",
       "      <td>39.803922</td>\n",
       "      <td>569.117647</td>\n",
       "      <td>556.882353</td>\n",
       "      <td>1126.098039</td>\n",
       "      <td>65.254902</td>\n",
       "      <td>20.931373</td>\n",
       "      <td>21.182353</td>\n",
       "      <td>22.013725</td>\n",
       "      <td>21.450980</td>\n",
       "      <td>21.519608</td>\n",
       "      <td>45.745098</td>\n",
       "      <td>563.686275</td>\n",
       "      <td>556.235294</td>\n",
       "      <td>1120.019608</td>\n",
       "      <td>61.647059</td>\n",
       "      <td>21.498039</td>\n",
       "      <td>20.988235</td>\n",
       "      <td>21.125490</td>\n",
       "      <td>22.015686</td>\n",
       "      <td>21.345098</td>\n",
       "    </tr>\n",
       "    <tr>\n",
       "      <th>std</th>\n",
       "      <td>35.276632</td>\n",
       "      <td>45.666901</td>\n",
       "      <td>47.121395</td>\n",
       "      <td>92.494812</td>\n",
       "      <td>32.140842</td>\n",
       "      <td>2.353677</td>\n",
       "      <td>1.981989</td>\n",
       "      <td>2.067271</td>\n",
       "      <td>1.739353</td>\n",
       "      <td>2.020695</td>\n",
       "      <td>37.314256</td>\n",
       "      <td>47.502627</td>\n",
       "      <td>47.772623</td>\n",
       "      <td>94.155083</td>\n",
       "      <td>34.080976</td>\n",
       "      <td>2.117686</td>\n",
       "      <td>2.446356</td>\n",
       "      <td>2.035765</td>\n",
       "      <td>2.167245</td>\n",
       "      <td>1.870114</td>\n",
       "    </tr>\n",
       "    <tr>\n",
       "      <th>min</th>\n",
       "      <td>2.000000</td>\n",
       "      <td>482.000000</td>\n",
       "      <td>468.000000</td>\n",
       "      <td>950.000000</td>\n",
       "      <td>8.000000</td>\n",
       "      <td>16.300000</td>\n",
       "      <td>18.000000</td>\n",
       "      <td>18.100000</td>\n",
       "      <td>18.200000</td>\n",
       "      <td>17.800000</td>\n",
       "      <td>2.000000</td>\n",
       "      <td>480.000000</td>\n",
       "      <td>480.000000</td>\n",
       "      <td>977.000000</td>\n",
       "      <td>7.000000</td>\n",
       "      <td>17.700000</td>\n",
       "      <td>16.600000</td>\n",
       "      <td>17.800000</td>\n",
       "      <td>18.000000</td>\n",
       "      <td>17.900000</td>\n",
       "    </tr>\n",
       "    <tr>\n",
       "      <th>25%</th>\n",
       "      <td>4.000000</td>\n",
       "      <td>533.500000</td>\n",
       "      <td>523.500000</td>\n",
       "      <td>1055.500000</td>\n",
       "      <td>31.000000</td>\n",
       "      <td>19.000000</td>\n",
       "      <td>19.400000</td>\n",
       "      <td>20.450000</td>\n",
       "      <td>19.950000</td>\n",
       "      <td>19.800000</td>\n",
       "      <td>4.500000</td>\n",
       "      <td>534.500000</td>\n",
       "      <td>522.500000</td>\n",
       "      <td>1057.500000</td>\n",
       "      <td>28.500000</td>\n",
       "      <td>19.950000</td>\n",
       "      <td>19.100000</td>\n",
       "      <td>19.400000</td>\n",
       "      <td>20.450000</td>\n",
       "      <td>19.850000</td>\n",
       "    </tr>\n",
       "    <tr>\n",
       "      <th>50%</th>\n",
       "      <td>38.000000</td>\n",
       "      <td>559.000000</td>\n",
       "      <td>548.000000</td>\n",
       "      <td>1107.000000</td>\n",
       "      <td>69.000000</td>\n",
       "      <td>20.700000</td>\n",
       "      <td>20.900000</td>\n",
       "      <td>21.800000</td>\n",
       "      <td>21.300000</td>\n",
       "      <td>21.400000</td>\n",
       "      <td>52.000000</td>\n",
       "      <td>552.000000</td>\n",
       "      <td>544.000000</td>\n",
       "      <td>1098.000000</td>\n",
       "      <td>66.000000</td>\n",
       "      <td>21.300000</td>\n",
       "      <td>20.200000</td>\n",
       "      <td>20.700000</td>\n",
       "      <td>21.600000</td>\n",
       "      <td>21.100000</td>\n",
       "    </tr>\n",
       "    <tr>\n",
       "      <th>75%</th>\n",
       "      <td>66.000000</td>\n",
       "      <td>613.000000</td>\n",
       "      <td>599.000000</td>\n",
       "      <td>1212.000000</td>\n",
       "      <td>100.000000</td>\n",
       "      <td>23.300000</td>\n",
       "      <td>23.100000</td>\n",
       "      <td>24.150000</td>\n",
       "      <td>23.200000</td>\n",
       "      <td>23.600000</td>\n",
       "      <td>77.500000</td>\n",
       "      <td>610.500000</td>\n",
       "      <td>593.500000</td>\n",
       "      <td>1204.000000</td>\n",
       "      <td>100.000000</td>\n",
       "      <td>23.650000</td>\n",
       "      <td>23.700000</td>\n",
       "      <td>23.150000</td>\n",
       "      <td>24.100000</td>\n",
       "      <td>23.050000</td>\n",
       "    </tr>\n",
       "    <tr>\n",
       "      <th>max</th>\n",
       "      <td>100.000000</td>\n",
       "      <td>644.000000</td>\n",
       "      <td>651.000000</td>\n",
       "      <td>1295.000000</td>\n",
       "      <td>100.000000</td>\n",
       "      <td>25.500000</td>\n",
       "      <td>25.300000</td>\n",
       "      <td>26.000000</td>\n",
       "      <td>24.900000</td>\n",
       "      <td>25.500000</td>\n",
       "      <td>100.000000</td>\n",
       "      <td>643.000000</td>\n",
       "      <td>655.000000</td>\n",
       "      <td>1298.000000</td>\n",
       "      <td>100.000000</td>\n",
       "      <td>25.600000</td>\n",
       "      <td>26.000000</td>\n",
       "      <td>25.200000</td>\n",
       "      <td>26.100000</td>\n",
       "      <td>24.900000</td>\n",
       "    </tr>\n",
       "  </tbody>\n",
       "</table>\n",
       "</div>"
      ],
      "text/plain": [
       "       participationpct_sat_2017  reading & writing_sat_2017  math_sat_2017  \\\n",
       "count                  51.000000                   51.000000      51.000000   \n",
       "mean                   39.803922                  569.117647     556.882353   \n",
       "std                    35.276632                   45.666901      47.121395   \n",
       "min                     2.000000                  482.000000     468.000000   \n",
       "25%                     4.000000                  533.500000     523.500000   \n",
       "50%                    38.000000                  559.000000     548.000000   \n",
       "75%                    66.000000                  613.000000     599.000000   \n",
       "max                   100.000000                  644.000000     651.000000   \n",
       "\n",
       "       total_sat_2017  participationpct_act_2017  english_act_2017  \\\n",
       "count       51.000000                  51.000000         51.000000   \n",
       "mean      1126.098039                  65.254902         20.931373   \n",
       "std         92.494812                  32.140842          2.353677   \n",
       "min        950.000000                   8.000000         16.300000   \n",
       "25%       1055.500000                  31.000000         19.000000   \n",
       "50%       1107.000000                  69.000000         20.700000   \n",
       "75%       1212.000000                 100.000000         23.300000   \n",
       "max       1295.000000                 100.000000         25.500000   \n",
       "\n",
       "       math_act_2017  reading_act_2017  science_act_2017  composite_act_2017  \\\n",
       "count      51.000000         51.000000         51.000000           51.000000   \n",
       "mean       21.182353         22.013725         21.450980           21.519608   \n",
       "std         1.981989          2.067271          1.739353            2.020695   \n",
       "min        18.000000         18.100000         18.200000           17.800000   \n",
       "25%        19.400000         20.450000         19.950000           19.800000   \n",
       "50%        20.900000         21.800000         21.300000           21.400000   \n",
       "75%        23.100000         24.150000         23.200000           23.600000   \n",
       "max        25.300000         26.000000         24.900000           25.500000   \n",
       "\n",
       "       participationpct_sat_2018  reading & writing_sat_2018  math_sat_2018  \\\n",
       "count                  51.000000                   51.000000      51.000000   \n",
       "mean                   45.745098                  563.686275     556.235294   \n",
       "std                    37.314256                   47.502627      47.772623   \n",
       "min                     2.000000                  480.000000     480.000000   \n",
       "25%                     4.500000                  534.500000     522.500000   \n",
       "50%                    52.000000                  552.000000     544.000000   \n",
       "75%                    77.500000                  610.500000     593.500000   \n",
       "max                   100.000000                  643.000000     655.000000   \n",
       "\n",
       "       total_sat_2018  participationpct_act_2018  composite_act_2018  \\\n",
       "count       51.000000                  51.000000           51.000000   \n",
       "mean      1120.019608                  61.647059           21.498039   \n",
       "std         94.155083                  34.080976            2.117686   \n",
       "min        977.000000                   7.000000           17.700000   \n",
       "25%       1057.500000                  28.500000           19.950000   \n",
       "50%       1098.000000                  66.000000           21.300000   \n",
       "75%       1204.000000                 100.000000           23.650000   \n",
       "max       1298.000000                 100.000000           25.600000   \n",
       "\n",
       "       english_act_2018  math_act_2018  reading_act_2018  science_act_2018  \n",
       "count         51.000000      51.000000         51.000000         51.000000  \n",
       "mean          20.988235      21.125490         22.015686         21.345098  \n",
       "std            2.446356       2.035765          2.167245          1.870114  \n",
       "min           16.600000      17.800000         18.000000         17.900000  \n",
       "25%           19.100000      19.400000         20.450000         19.850000  \n",
       "50%           20.200000      20.700000         21.600000         21.100000  \n",
       "75%           23.700000      23.150000         24.100000         23.050000  \n",
       "max           26.000000      25.200000         26.100000         24.900000  "
      ]
     },
     "execution_count": 88,
     "metadata": {},
     "output_type": "execute_result"
    }
   ],
   "source": [
    "final.describe()"
   ]
  },
  {
   "cell_type": "code",
   "execution_count": 89,
   "metadata": {},
   "outputs": [
    {
     "data": {
      "text/plain": [
       "participationpct_sat_2017     34.929071\n",
       "reading & writing_sat_2017    45.216970\n",
       "math_sat_2017                 46.657134\n",
       "total_sat_2017                91.583511\n",
       "participationpct_act_2017     31.824176\n",
       "english_act_2017               2.330488\n",
       "math_act_2017                  1.962462\n",
       "reading_act_2017               2.046903\n",
       "science_act_2017               1.722216\n",
       "composite_act_2017             2.000786\n",
       "participationpct_sat_2018     36.946619\n",
       "reading & writing_sat_2018    47.034610\n",
       "math_sat_2018                 47.301946\n",
       "total_sat_2018                93.227424\n",
       "participationpct_act_2018     33.745195\n",
       "composite_act_2018             2.096822\n",
       "english_act_2018               2.422254\n",
       "math_act_2018                  2.015707\n",
       "reading_act_2018               2.145892\n",
       "science_act_2018               1.851689\n",
       "dtype: float64"
      ]
     },
     "execution_count": 89,
     "metadata": {},
     "output_type": "execute_result"
    }
   ],
   "source": [
    "#numpy's std method\n",
    "np.std(final)"
   ]
  },
  {
   "cell_type": "markdown",
   "metadata": {},
   "source": [
    "Answer: Standard deviations from the manual calculations and numpy's std method are slightly different from using panda's describe. This is due to panda using the corrected sample standard deviation formula while numpy and the other two uses the uncorrected sample standard deviation formula"
   ]
  },
  {
   "cell_type": "markdown",
   "metadata": {},
   "source": [
    "#### Investigate trends in the data\n",
    "Using sorting and/or masking (along with the `.head` method to not print our entire dataframe), consider the following questions:\n",
    "\n",
    "- Which states have the highest and lowest participation rates for the:\n",
    "    - 2017 SAT?\n",
    "    - 2018 SAT?\n",
    "    - 2017 ACT?\n",
    "    - 2018 ACT?\n",
    "- Which states have the highest and lowest mean total/composite scores for the:\n",
    "    - 2017 SAT?\n",
    "    - 2018 SAT?\n",
    "    - 2017 ACT?\n",
    "    - 2018 ACT?\n",
    "- Do any states with 100% participation on a given test have a rate change year-to-year?\n",
    "- Do any states show have >50% participation on *both* tests either year?\n",
    "\n",
    "Based on what you've just observed, have you identified any states that you're especially interested in? **Make a note of these and state *why* you think they're interesting**.\n",
    "\n",
    "**You should comment on your findings at each step in a markdown cell below your code block**. Make sure you include at least one example of sorting your dataframe by a column, and one example of using boolean filtering (i.e., masking) to select a subset of the dataframe."
   ]
  },
  {
   "cell_type": "markdown",
   "metadata": {},
   "source": [
    "2017 SAT participation"
   ]
  },
  {
   "cell_type": "code",
   "execution_count": 90,
   "metadata": {},
   "outputs": [
    {
     "data": {
      "text/html": [
       "<div>\n",
       "<style scoped>\n",
       "    .dataframe tbody tr th:only-of-type {\n",
       "        vertical-align: middle;\n",
       "    }\n",
       "\n",
       "    .dataframe tbody tr th {\n",
       "        vertical-align: top;\n",
       "    }\n",
       "\n",
       "    .dataframe thead th {\n",
       "        text-align: right;\n",
       "    }\n",
       "</style>\n",
       "<table border=\"1\" class=\"dataframe\">\n",
       "  <thead>\n",
       "    <tr style=\"text-align: right;\">\n",
       "      <th></th>\n",
       "      <th>state</th>\n",
       "      <th>participationpct_sat_2017</th>\n",
       "    </tr>\n",
       "  </thead>\n",
       "  <tbody>\n",
       "    <tr>\n",
       "      <th>34</th>\n",
       "      <td>North Dakota</td>\n",
       "      <td>2.0</td>\n",
       "    </tr>\n",
       "    <tr>\n",
       "      <th>24</th>\n",
       "      <td>Mississippi</td>\n",
       "      <td>2.0</td>\n",
       "    </tr>\n",
       "    <tr>\n",
       "      <th>15</th>\n",
       "      <td>Iowa</td>\n",
       "      <td>2.0</td>\n",
       "    </tr>\n",
       "    <tr>\n",
       "      <th>25</th>\n",
       "      <td>Missouri</td>\n",
       "      <td>3.0</td>\n",
       "    </tr>\n",
       "    <tr>\n",
       "      <th>44</th>\n",
       "      <td>Utah</td>\n",
       "      <td>3.0</td>\n",
       "    </tr>\n",
       "  </tbody>\n",
       "</table>\n",
       "</div>"
      ],
      "text/plain": [
       "           state  participationpct_sat_2017\n",
       "34  North Dakota                        2.0\n",
       "24   Mississippi                        2.0\n",
       "15          Iowa                        2.0\n",
       "25      Missouri                        3.0\n",
       "44          Utah                        3.0"
      ]
     },
     "execution_count": 90,
     "metadata": {},
     "output_type": "execute_result"
    }
   ],
   "source": [
    "final.sort_values(\"participationpct_sat_2017\").filter([\"state\",\"participationpct_sat_2017\"]).head()"
   ]
  },
  {
   "cell_type": "code",
   "execution_count": 91,
   "metadata": {},
   "outputs": [
    {
     "data": {
      "text/html": [
       "<div>\n",
       "<style scoped>\n",
       "    .dataframe tbody tr th:only-of-type {\n",
       "        vertical-align: middle;\n",
       "    }\n",
       "\n",
       "    .dataframe tbody tr th {\n",
       "        vertical-align: top;\n",
       "    }\n",
       "\n",
       "    .dataframe thead th {\n",
       "        text-align: right;\n",
       "    }\n",
       "</style>\n",
       "<table border=\"1\" class=\"dataframe\">\n",
       "  <thead>\n",
       "    <tr style=\"text-align: right;\">\n",
       "      <th></th>\n",
       "      <th>state</th>\n",
       "      <th>participationpct_sat_2017</th>\n",
       "    </tr>\n",
       "  </thead>\n",
       "  <tbody>\n",
       "    <tr>\n",
       "      <th>29</th>\n",
       "      <td>New Hampshire</td>\n",
       "      <td>96.0</td>\n",
       "    </tr>\n",
       "    <tr>\n",
       "      <th>22</th>\n",
       "      <td>Michigan</td>\n",
       "      <td>100.0</td>\n",
       "    </tr>\n",
       "    <tr>\n",
       "      <th>8</th>\n",
       "      <td>District of Columbia</td>\n",
       "      <td>100.0</td>\n",
       "    </tr>\n",
       "    <tr>\n",
       "      <th>7</th>\n",
       "      <td>Delaware</td>\n",
       "      <td>100.0</td>\n",
       "    </tr>\n",
       "    <tr>\n",
       "      <th>6</th>\n",
       "      <td>Connecticut</td>\n",
       "      <td>100.0</td>\n",
       "    </tr>\n",
       "  </tbody>\n",
       "</table>\n",
       "</div>"
      ],
      "text/plain": [
       "                   state  participationpct_sat_2017\n",
       "29         New Hampshire                       96.0\n",
       "22              Michigan                      100.0\n",
       "8   District of Columbia                      100.0\n",
       "7               Delaware                      100.0\n",
       "6            Connecticut                      100.0"
      ]
     },
     "execution_count": 91,
     "metadata": {},
     "output_type": "execute_result"
    }
   ],
   "source": [
    "final.sort_values(\"participationpct_sat_2017\").filter([\"state\",\"participationpct_sat_2017\"]).tail()"
   ]
  },
  {
   "cell_type": "markdown",
   "metadata": {},
   "source": [
    "Answer:\n",
    "\n",
    "North Dakota, Mississippi and Iowa have the lowest participation at 2 percent% for SAT 2017.\n",
    "\n",
    "Michigan, District of Columbia, Delaware and Connecticut have the highest participation at 100 % for SAT 2017"
   ]
  },
  {
   "cell_type": "markdown",
   "metadata": {},
   "source": [
    "2018 SAT participation"
   ]
  },
  {
   "cell_type": "code",
   "execution_count": 92,
   "metadata": {},
   "outputs": [
    {
     "data": {
      "text/html": [
       "<div>\n",
       "<style scoped>\n",
       "    .dataframe tbody tr th:only-of-type {\n",
       "        vertical-align: middle;\n",
       "    }\n",
       "\n",
       "    .dataframe tbody tr th {\n",
       "        vertical-align: top;\n",
       "    }\n",
       "\n",
       "    .dataframe thead th {\n",
       "        text-align: right;\n",
       "    }\n",
       "</style>\n",
       "<table border=\"1\" class=\"dataframe\">\n",
       "  <thead>\n",
       "    <tr style=\"text-align: right;\">\n",
       "      <th></th>\n",
       "      <th>state</th>\n",
       "      <th>participationpct_sat_2018</th>\n",
       "    </tr>\n",
       "  </thead>\n",
       "  <tbody>\n",
       "    <tr>\n",
       "      <th>34</th>\n",
       "      <td>North Dakota</td>\n",
       "      <td>2.0</td>\n",
       "    </tr>\n",
       "    <tr>\n",
       "      <th>50</th>\n",
       "      <td>Wyoming</td>\n",
       "      <td>3.0</td>\n",
       "    </tr>\n",
       "    <tr>\n",
       "      <th>41</th>\n",
       "      <td>South Dakota</td>\n",
       "      <td>3.0</td>\n",
       "    </tr>\n",
       "    <tr>\n",
       "      <th>27</th>\n",
       "      <td>Nebraska</td>\n",
       "      <td>3.0</td>\n",
       "    </tr>\n",
       "    <tr>\n",
       "      <th>49</th>\n",
       "      <td>Wisconsin</td>\n",
       "      <td>3.0</td>\n",
       "    </tr>\n",
       "  </tbody>\n",
       "</table>\n",
       "</div>"
      ],
      "text/plain": [
       "           state  participationpct_sat_2018\n",
       "34  North Dakota                        2.0\n",
       "50       Wyoming                        3.0\n",
       "41  South Dakota                        3.0\n",
       "27      Nebraska                        3.0\n",
       "49     Wisconsin                        3.0"
      ]
     },
     "execution_count": 92,
     "metadata": {},
     "output_type": "execute_result"
    }
   ],
   "source": [
    "final.sort_values(\"participationpct_sat_2018\").filter([\"state\",\"participationpct_sat_2018\"]).head()"
   ]
  },
  {
   "cell_type": "code",
   "execution_count": 93,
   "metadata": {},
   "outputs": [
    {
     "data": {
      "text/html": [
       "<div>\n",
       "<style scoped>\n",
       "    .dataframe tbody tr th:only-of-type {\n",
       "        vertical-align: middle;\n",
       "    }\n",
       "\n",
       "    .dataframe tbody tr th {\n",
       "        vertical-align: top;\n",
       "    }\n",
       "\n",
       "    .dataframe thead th {\n",
       "        text-align: right;\n",
       "    }\n",
       "</style>\n",
       "<table border=\"1\" class=\"dataframe\">\n",
       "  <thead>\n",
       "    <tr style=\"text-align: right;\">\n",
       "      <th></th>\n",
       "      <th>state</th>\n",
       "      <th>participationpct_sat_2018</th>\n",
       "    </tr>\n",
       "  </thead>\n",
       "  <tbody>\n",
       "    <tr>\n",
       "      <th>13</th>\n",
       "      <td>Illinois</td>\n",
       "      <td>99.0</td>\n",
       "    </tr>\n",
       "    <tr>\n",
       "      <th>5</th>\n",
       "      <td>Colorado</td>\n",
       "      <td>100.0</td>\n",
       "    </tr>\n",
       "    <tr>\n",
       "      <th>6</th>\n",
       "      <td>Connecticut</td>\n",
       "      <td>100.0</td>\n",
       "    </tr>\n",
       "    <tr>\n",
       "      <th>7</th>\n",
       "      <td>Delaware</td>\n",
       "      <td>100.0</td>\n",
       "    </tr>\n",
       "    <tr>\n",
       "      <th>22</th>\n",
       "      <td>Michigan</td>\n",
       "      <td>100.0</td>\n",
       "    </tr>\n",
       "    <tr>\n",
       "      <th>12</th>\n",
       "      <td>Idaho</td>\n",
       "      <td>100.0</td>\n",
       "    </tr>\n",
       "  </tbody>\n",
       "</table>\n",
       "</div>"
      ],
      "text/plain": [
       "          state  participationpct_sat_2018\n",
       "13     Illinois                       99.0\n",
       "5      Colorado                      100.0\n",
       "6   Connecticut                      100.0\n",
       "7      Delaware                      100.0\n",
       "22     Michigan                      100.0\n",
       "12        Idaho                      100.0"
      ]
     },
     "execution_count": 93,
     "metadata": {},
     "output_type": "execute_result"
    }
   ],
   "source": [
    "final.sort_values(\"participationpct_sat_2018\").filter([\"state\",\"participationpct_sat_2018\"]).tail(6)\n"
   ]
  },
  {
   "cell_type": "markdown",
   "metadata": {},
   "source": [
    "Answer:\n",
    "\n",
    "North Dakota has the lowest participation at 2 percent% for SAT 2018.\n",
    "\n",
    "Michigan, Idaho, Colorado, Delaware and Connecticut have the highest participation at 100 % for SAT 2018."
   ]
  },
  {
   "cell_type": "markdown",
   "metadata": {},
   "source": [
    "2017 ACT participation"
   ]
  },
  {
   "cell_type": "code",
   "execution_count": 94,
   "metadata": {},
   "outputs": [
    {
     "data": {
      "text/html": [
       "<div>\n",
       "<style scoped>\n",
       "    .dataframe tbody tr th:only-of-type {\n",
       "        vertical-align: middle;\n",
       "    }\n",
       "\n",
       "    .dataframe tbody tr th {\n",
       "        vertical-align: top;\n",
       "    }\n",
       "\n",
       "    .dataframe thead th {\n",
       "        text-align: right;\n",
       "    }\n",
       "</style>\n",
       "<table border=\"1\" class=\"dataframe\">\n",
       "  <thead>\n",
       "    <tr style=\"text-align: right;\">\n",
       "      <th></th>\n",
       "      <th>state</th>\n",
       "      <th>participationpct_act_2017</th>\n",
       "    </tr>\n",
       "  </thead>\n",
       "  <tbody>\n",
       "    <tr>\n",
       "      <th>19</th>\n",
       "      <td>Maine</td>\n",
       "      <td>8.0</td>\n",
       "    </tr>\n",
       "    <tr>\n",
       "      <th>29</th>\n",
       "      <td>New Hampshire</td>\n",
       "      <td>18.0</td>\n",
       "    </tr>\n",
       "    <tr>\n",
       "      <th>7</th>\n",
       "      <td>Delaware</td>\n",
       "      <td>18.0</td>\n",
       "    </tr>\n",
       "    <tr>\n",
       "      <th>39</th>\n",
       "      <td>Rhode Island</td>\n",
       "      <td>21.0</td>\n",
       "    </tr>\n",
       "    <tr>\n",
       "      <th>38</th>\n",
       "      <td>Pennsylvania</td>\n",
       "      <td>23.0</td>\n",
       "    </tr>\n",
       "  </tbody>\n",
       "</table>\n",
       "</div>"
      ],
      "text/plain": [
       "            state  participationpct_act_2017\n",
       "19          Maine                        8.0\n",
       "29  New Hampshire                       18.0\n",
       "7        Delaware                       18.0\n",
       "39   Rhode Island                       21.0\n",
       "38   Pennsylvania                       23.0"
      ]
     },
     "execution_count": 94,
     "metadata": {},
     "output_type": "execute_result"
    }
   ],
   "source": [
    "final.sort_values(\"participationpct_act_2017\").filter([\"state\",\"participationpct_act_2017\"]).head()"
   ]
  },
  {
   "cell_type": "code",
   "execution_count": 95,
   "metadata": {},
   "outputs": [
    {
     "data": {
      "text/html": [
       "<div>\n",
       "<style scoped>\n",
       "    .dataframe tbody tr th:only-of-type {\n",
       "        vertical-align: middle;\n",
       "    }\n",
       "\n",
       "    .dataframe tbody tr th {\n",
       "        vertical-align: top;\n",
       "    }\n",
       "\n",
       "    .dataframe thead th {\n",
       "        text-align: right;\n",
       "    }\n",
       "</style>\n",
       "<table border=\"1\" class=\"dataframe\">\n",
       "  <thead>\n",
       "    <tr style=\"text-align: right;\">\n",
       "      <th></th>\n",
       "      <th>state</th>\n",
       "      <th>participationpct_act_2017</th>\n",
       "    </tr>\n",
       "  </thead>\n",
       "  <tbody>\n",
       "    <tr>\n",
       "      <th>11</th>\n",
       "      <td>Hawaii</td>\n",
       "      <td>90.0</td>\n",
       "    </tr>\n",
       "    <tr>\n",
       "      <th>13</th>\n",
       "      <td>Illinois</td>\n",
       "      <td>93.0</td>\n",
       "    </tr>\n",
       "    <tr>\n",
       "      <th>34</th>\n",
       "      <td>North Dakota</td>\n",
       "      <td>98.0</td>\n",
       "    </tr>\n",
       "    <tr>\n",
       "      <th>40</th>\n",
       "      <td>South Carolina</td>\n",
       "      <td>100.0</td>\n",
       "    </tr>\n",
       "    <tr>\n",
       "      <th>44</th>\n",
       "      <td>Utah</td>\n",
       "      <td>100.0</td>\n",
       "    </tr>\n",
       "    <tr>\n",
       "      <th>42</th>\n",
       "      <td>Tennessee</td>\n",
       "      <td>100.0</td>\n",
       "    </tr>\n",
       "    <tr>\n",
       "      <th>0</th>\n",
       "      <td>Alabama</td>\n",
       "      <td>100.0</td>\n",
       "    </tr>\n",
       "    <tr>\n",
       "      <th>25</th>\n",
       "      <td>Missouri</td>\n",
       "      <td>100.0</td>\n",
       "    </tr>\n",
       "    <tr>\n",
       "      <th>33</th>\n",
       "      <td>North Carolina</td>\n",
       "      <td>100.0</td>\n",
       "    </tr>\n",
       "    <tr>\n",
       "      <th>28</th>\n",
       "      <td>Nevada</td>\n",
       "      <td>100.0</td>\n",
       "    </tr>\n",
       "    <tr>\n",
       "      <th>26</th>\n",
       "      <td>Montana</td>\n",
       "      <td>100.0</td>\n",
       "    </tr>\n",
       "    <tr>\n",
       "      <th>49</th>\n",
       "      <td>Wisconsin</td>\n",
       "      <td>100.0</td>\n",
       "    </tr>\n",
       "    <tr>\n",
       "      <th>24</th>\n",
       "      <td>Mississippi</td>\n",
       "      <td>100.0</td>\n",
       "    </tr>\n",
       "    <tr>\n",
       "      <th>23</th>\n",
       "      <td>Minnesota</td>\n",
       "      <td>100.0</td>\n",
       "    </tr>\n",
       "    <tr>\n",
       "      <th>18</th>\n",
       "      <td>Louisiana</td>\n",
       "      <td>100.0</td>\n",
       "    </tr>\n",
       "    <tr>\n",
       "      <th>17</th>\n",
       "      <td>Kentucky</td>\n",
       "      <td>100.0</td>\n",
       "    </tr>\n",
       "    <tr>\n",
       "      <th>5</th>\n",
       "      <td>Colorado</td>\n",
       "      <td>100.0</td>\n",
       "    </tr>\n",
       "    <tr>\n",
       "      <th>3</th>\n",
       "      <td>Arkansas</td>\n",
       "      <td>100.0</td>\n",
       "    </tr>\n",
       "    <tr>\n",
       "      <th>36</th>\n",
       "      <td>Oklahoma</td>\n",
       "      <td>100.0</td>\n",
       "    </tr>\n",
       "    <tr>\n",
       "      <th>50</th>\n",
       "      <td>Wyoming</td>\n",
       "      <td>100.0</td>\n",
       "    </tr>\n",
       "  </tbody>\n",
       "</table>\n",
       "</div>"
      ],
      "text/plain": [
       "             state  participationpct_act_2017\n",
       "11          Hawaii                       90.0\n",
       "13        Illinois                       93.0\n",
       "34    North Dakota                       98.0\n",
       "40  South Carolina                      100.0\n",
       "44            Utah                      100.0\n",
       "42       Tennessee                      100.0\n",
       "0          Alabama                      100.0\n",
       "25        Missouri                      100.0\n",
       "33  North Carolina                      100.0\n",
       "28          Nevada                      100.0\n",
       "26         Montana                      100.0\n",
       "49       Wisconsin                      100.0\n",
       "24     Mississippi                      100.0\n",
       "23       Minnesota                      100.0\n",
       "18       Louisiana                      100.0\n",
       "17        Kentucky                      100.0\n",
       "5         Colorado                      100.0\n",
       "3         Arkansas                      100.0\n",
       "36        Oklahoma                      100.0\n",
       "50         Wyoming                      100.0"
      ]
     },
     "execution_count": 95,
     "metadata": {},
     "output_type": "execute_result"
    }
   ],
   "source": [
    "final.sort_values(\"participationpct_act_2017\").filter([\"state\",\"participationpct_act_2017\"]).tail(20)"
   ]
  },
  {
   "cell_type": "markdown",
   "metadata": {},
   "source": [
    "Answer:\n",
    "\n",
    "Maine has the lowest participation at 8 percent% for ACT 2017\n",
    "\n",
    "South Carlolina, Utah, Tennessee, Alabama, Missouri, North Carolina, Nevada, Montana, Wisconsin,Mississippi, Minnesota,Louisiana,Kentucky,Colorado,Arkansas,Oklahoma and Wyoming have the highest participation at 100 % for ACT 2017"
   ]
  },
  {
   "cell_type": "markdown",
   "metadata": {},
   "source": [
    "2018 ACT participation"
   ]
  },
  {
   "cell_type": "code",
   "execution_count": 96,
   "metadata": {},
   "outputs": [
    {
     "data": {
      "text/html": [
       "<div>\n",
       "<style scoped>\n",
       "    .dataframe tbody tr th:only-of-type {\n",
       "        vertical-align: middle;\n",
       "    }\n",
       "\n",
       "    .dataframe tbody tr th {\n",
       "        vertical-align: top;\n",
       "    }\n",
       "\n",
       "    .dataframe thead th {\n",
       "        text-align: right;\n",
       "    }\n",
       "</style>\n",
       "<table border=\"1\" class=\"dataframe\">\n",
       "  <thead>\n",
       "    <tr style=\"text-align: right;\">\n",
       "      <th></th>\n",
       "      <th>state</th>\n",
       "      <th>participationpct_act_2018</th>\n",
       "    </tr>\n",
       "  </thead>\n",
       "  <tbody>\n",
       "    <tr>\n",
       "      <th>19</th>\n",
       "      <td>Maine</td>\n",
       "      <td>7.0</td>\n",
       "    </tr>\n",
       "    <tr>\n",
       "      <th>39</th>\n",
       "      <td>Rhode Island</td>\n",
       "      <td>15.0</td>\n",
       "    </tr>\n",
       "    <tr>\n",
       "      <th>29</th>\n",
       "      <td>New Hampshire</td>\n",
       "      <td>16.0</td>\n",
       "    </tr>\n",
       "    <tr>\n",
       "      <th>7</th>\n",
       "      <td>Delaware</td>\n",
       "      <td>17.0</td>\n",
       "    </tr>\n",
       "    <tr>\n",
       "      <th>38</th>\n",
       "      <td>Pennsylvania</td>\n",
       "      <td>20.0</td>\n",
       "    </tr>\n",
       "  </tbody>\n",
       "</table>\n",
       "</div>"
      ],
      "text/plain": [
       "            state  participationpct_act_2018\n",
       "19          Maine                        7.0\n",
       "39   Rhode Island                       15.0\n",
       "29  New Hampshire                       16.0\n",
       "7        Delaware                       17.0\n",
       "38   Pennsylvania                       20.0"
      ]
     },
     "execution_count": 96,
     "metadata": {},
     "output_type": "execute_result"
    }
   ],
   "source": [
    "final.sort_values(\"participationpct_act_2018\").filter([\"state\",\"participationpct_act_2018\"]).head()"
   ]
  },
  {
   "cell_type": "code",
   "execution_count": 97,
   "metadata": {},
   "outputs": [
    {
     "data": {
      "text/html": [
       "<div>\n",
       "<style scoped>\n",
       "    .dataframe tbody tr th:only-of-type {\n",
       "        vertical-align: middle;\n",
       "    }\n",
       "\n",
       "    .dataframe tbody tr th {\n",
       "        vertical-align: top;\n",
       "    }\n",
       "\n",
       "    .dataframe thead th {\n",
       "        text-align: right;\n",
       "    }\n",
       "</style>\n",
       "<table border=\"1\" class=\"dataframe\">\n",
       "  <thead>\n",
       "    <tr style=\"text-align: right;\">\n",
       "      <th></th>\n",
       "      <th>state</th>\n",
       "      <th>participationpct_act_2018</th>\n",
       "    </tr>\n",
       "  </thead>\n",
       "  <tbody>\n",
       "    <tr>\n",
       "      <th>11</th>\n",
       "      <td>Hawaii</td>\n",
       "      <td>89.0</td>\n",
       "    </tr>\n",
       "    <tr>\n",
       "      <th>34</th>\n",
       "      <td>North Dakota</td>\n",
       "      <td>98.0</td>\n",
       "    </tr>\n",
       "    <tr>\n",
       "      <th>23</th>\n",
       "      <td>Minnesota</td>\n",
       "      <td>99.0</td>\n",
       "    </tr>\n",
       "    <tr>\n",
       "      <th>44</th>\n",
       "      <td>Utah</td>\n",
       "      <td>100.0</td>\n",
       "    </tr>\n",
       "    <tr>\n",
       "      <th>42</th>\n",
       "      <td>Tennessee</td>\n",
       "      <td>100.0</td>\n",
       "    </tr>\n",
       "    <tr>\n",
       "      <th>40</th>\n",
       "      <td>South Carolina</td>\n",
       "      <td>100.0</td>\n",
       "    </tr>\n",
       "    <tr>\n",
       "      <th>0</th>\n",
       "      <td>Alabama</td>\n",
       "      <td>100.0</td>\n",
       "    </tr>\n",
       "    <tr>\n",
       "      <th>25</th>\n",
       "      <td>Missouri</td>\n",
       "      <td>100.0</td>\n",
       "    </tr>\n",
       "    <tr>\n",
       "      <th>35</th>\n",
       "      <td>Ohio</td>\n",
       "      <td>100.0</td>\n",
       "    </tr>\n",
       "    <tr>\n",
       "      <th>33</th>\n",
       "      <td>North Carolina</td>\n",
       "      <td>100.0</td>\n",
       "    </tr>\n",
       "    <tr>\n",
       "      <th>28</th>\n",
       "      <td>Nevada</td>\n",
       "      <td>100.0</td>\n",
       "    </tr>\n",
       "    <tr>\n",
       "      <th>27</th>\n",
       "      <td>Nebraska</td>\n",
       "      <td>100.0</td>\n",
       "    </tr>\n",
       "    <tr>\n",
       "      <th>26</th>\n",
       "      <td>Montana</td>\n",
       "      <td>100.0</td>\n",
       "    </tr>\n",
       "    <tr>\n",
       "      <th>49</th>\n",
       "      <td>Wisconsin</td>\n",
       "      <td>100.0</td>\n",
       "    </tr>\n",
       "    <tr>\n",
       "      <th>24</th>\n",
       "      <td>Mississippi</td>\n",
       "      <td>100.0</td>\n",
       "    </tr>\n",
       "    <tr>\n",
       "      <th>18</th>\n",
       "      <td>Louisiana</td>\n",
       "      <td>100.0</td>\n",
       "    </tr>\n",
       "    <tr>\n",
       "      <th>17</th>\n",
       "      <td>Kentucky</td>\n",
       "      <td>100.0</td>\n",
       "    </tr>\n",
       "    <tr>\n",
       "      <th>3</th>\n",
       "      <td>Arkansas</td>\n",
       "      <td>100.0</td>\n",
       "    </tr>\n",
       "    <tr>\n",
       "      <th>36</th>\n",
       "      <td>Oklahoma</td>\n",
       "      <td>100.0</td>\n",
       "    </tr>\n",
       "    <tr>\n",
       "      <th>50</th>\n",
       "      <td>Wyoming</td>\n",
       "      <td>100.0</td>\n",
       "    </tr>\n",
       "  </tbody>\n",
       "</table>\n",
       "</div>"
      ],
      "text/plain": [
       "             state  participationpct_act_2018\n",
       "11          Hawaii                       89.0\n",
       "34    North Dakota                       98.0\n",
       "23       Minnesota                       99.0\n",
       "44            Utah                      100.0\n",
       "42       Tennessee                      100.0\n",
       "40  South Carolina                      100.0\n",
       "0          Alabama                      100.0\n",
       "25        Missouri                      100.0\n",
       "35            Ohio                      100.0\n",
       "33  North Carolina                      100.0\n",
       "28          Nevada                      100.0\n",
       "27        Nebraska                      100.0\n",
       "26         Montana                      100.0\n",
       "49       Wisconsin                      100.0\n",
       "24     Mississippi                      100.0\n",
       "18       Louisiana                      100.0\n",
       "17        Kentucky                      100.0\n",
       "3         Arkansas                      100.0\n",
       "36        Oklahoma                      100.0\n",
       "50         Wyoming                      100.0"
      ]
     },
     "execution_count": 97,
     "metadata": {},
     "output_type": "execute_result"
    }
   ],
   "source": [
    "final.sort_values(\"participationpct_act_2018\").filter([\"state\",\"participationpct_act_2018\"]).tail(20)"
   ]
  },
  {
   "cell_type": "markdown",
   "metadata": {},
   "source": [
    "Answer:\n",
    "\n",
    "Maine has the lowest participation at 2 percent% for ACT 2018\n",
    "\n",
    "Utah, Tennessee, South Carolinaa, Alabama, Missouri, Ohio, North Carolina, Nevada, Nebraska, Montana, Wisconsin,Mississippi, Louisiana, Kentucky, Arkansas, Oklahoma and Wyoming have the highest participation at 100 % for ACT 2018"
   ]
  },
  {
   "cell_type": "markdown",
   "metadata": {},
   "source": [
    "2017 SAT total score"
   ]
  },
  {
   "cell_type": "code",
   "execution_count": 98,
   "metadata": {},
   "outputs": [
    {
     "data": {
      "text/html": [
       "<div>\n",
       "<style scoped>\n",
       "    .dataframe tbody tr th:only-of-type {\n",
       "        vertical-align: middle;\n",
       "    }\n",
       "\n",
       "    .dataframe tbody tr th {\n",
       "        vertical-align: top;\n",
       "    }\n",
       "\n",
       "    .dataframe thead th {\n",
       "        text-align: right;\n",
       "    }\n",
       "</style>\n",
       "<table border=\"1\" class=\"dataframe\">\n",
       "  <thead>\n",
       "    <tr style=\"text-align: right;\">\n",
       "      <th></th>\n",
       "      <th>state</th>\n",
       "      <th>total_sat_2017</th>\n",
       "    </tr>\n",
       "  </thead>\n",
       "  <tbody>\n",
       "    <tr>\n",
       "      <th>8</th>\n",
       "      <td>District of Columbia</td>\n",
       "      <td>950.0</td>\n",
       "    </tr>\n",
       "    <tr>\n",
       "      <th>7</th>\n",
       "      <td>Delaware</td>\n",
       "      <td>996.0</td>\n",
       "    </tr>\n",
       "    <tr>\n",
       "      <th>12</th>\n",
       "      <td>Idaho</td>\n",
       "      <td>1005.0</td>\n",
       "    </tr>\n",
       "    <tr>\n",
       "      <th>22</th>\n",
       "      <td>Michigan</td>\n",
       "      <td>1005.0</td>\n",
       "    </tr>\n",
       "    <tr>\n",
       "      <th>19</th>\n",
       "      <td>Maine</td>\n",
       "      <td>1012.0</td>\n",
       "    </tr>\n",
       "  </tbody>\n",
       "</table>\n",
       "</div>"
      ],
      "text/plain": [
       "                   state  total_sat_2017\n",
       "8   District of Columbia           950.0\n",
       "7               Delaware           996.0\n",
       "12                 Idaho          1005.0\n",
       "22              Michigan          1005.0\n",
       "19                 Maine          1012.0"
      ]
     },
     "execution_count": 98,
     "metadata": {},
     "output_type": "execute_result"
    }
   ],
   "source": [
    "final.sort_values(\"total_sat_2017\").filter([\"state\",\"total_sat_2017\"]).head()"
   ]
  },
  {
   "cell_type": "code",
   "execution_count": 99,
   "metadata": {},
   "outputs": [
    {
     "data": {
      "text/html": [
       "<div>\n",
       "<style scoped>\n",
       "    .dataframe tbody tr th:only-of-type {\n",
       "        vertical-align: middle;\n",
       "    }\n",
       "\n",
       "    .dataframe tbody tr th {\n",
       "        vertical-align: top;\n",
       "    }\n",
       "\n",
       "    .dataframe thead th {\n",
       "        text-align: right;\n",
       "    }\n",
       "</style>\n",
       "<table border=\"1\" class=\"dataframe\">\n",
       "  <thead>\n",
       "    <tr style=\"text-align: right;\">\n",
       "      <th></th>\n",
       "      <th>state</th>\n",
       "      <th>total_sat_2017</th>\n",
       "    </tr>\n",
       "  </thead>\n",
       "  <tbody>\n",
       "    <tr>\n",
       "      <th>16</th>\n",
       "      <td>Kansas</td>\n",
       "      <td>1260.0</td>\n",
       "    </tr>\n",
       "    <tr>\n",
       "      <th>25</th>\n",
       "      <td>Missouri</td>\n",
       "      <td>1271.0</td>\n",
       "    </tr>\n",
       "    <tr>\n",
       "      <th>15</th>\n",
       "      <td>Iowa</td>\n",
       "      <td>1275.0</td>\n",
       "    </tr>\n",
       "    <tr>\n",
       "      <th>49</th>\n",
       "      <td>Wisconsin</td>\n",
       "      <td>1291.0</td>\n",
       "    </tr>\n",
       "    <tr>\n",
       "      <th>23</th>\n",
       "      <td>Minnesota</td>\n",
       "      <td>1295.0</td>\n",
       "    </tr>\n",
       "  </tbody>\n",
       "</table>\n",
       "</div>"
      ],
      "text/plain": [
       "        state  total_sat_2017\n",
       "16     Kansas          1260.0\n",
       "25   Missouri          1271.0\n",
       "15       Iowa          1275.0\n",
       "49  Wisconsin          1291.0\n",
       "23  Minnesota          1295.0"
      ]
     },
     "execution_count": 99,
     "metadata": {},
     "output_type": "execute_result"
    }
   ],
   "source": [
    "final.sort_values(\"total_sat_2017\").filter([\"state\",\"total_sat_2017\"]).tail()"
   ]
  },
  {
   "cell_type": "markdown",
   "metadata": {},
   "source": [
    "Answer:\n",
    "\n",
    "District of Columbia has the lowest total score at 950 for SAT 2017\n",
    "\n",
    "Minnesota has the hightest total score at 1295 for SAT 2017"
   ]
  },
  {
   "cell_type": "markdown",
   "metadata": {},
   "source": [
    "2018 SAT total score"
   ]
  },
  {
   "cell_type": "code",
   "execution_count": 100,
   "metadata": {},
   "outputs": [
    {
     "data": {
      "text/html": [
       "<div>\n",
       "<style scoped>\n",
       "    .dataframe tbody tr th:only-of-type {\n",
       "        vertical-align: middle;\n",
       "    }\n",
       "\n",
       "    .dataframe tbody tr th {\n",
       "        vertical-align: top;\n",
       "    }\n",
       "\n",
       "    .dataframe thead th {\n",
       "        text-align: right;\n",
       "    }\n",
       "</style>\n",
       "<table border=\"1\" class=\"dataframe\">\n",
       "  <thead>\n",
       "    <tr style=\"text-align: right;\">\n",
       "      <th></th>\n",
       "      <th>state</th>\n",
       "      <th>total_sat_2018</th>\n",
       "    </tr>\n",
       "  </thead>\n",
       "  <tbody>\n",
       "    <tr>\n",
       "      <th>8</th>\n",
       "      <td>District of Columbia</td>\n",
       "      <td>977.0</td>\n",
       "    </tr>\n",
       "    <tr>\n",
       "      <th>7</th>\n",
       "      <td>Delaware</td>\n",
       "      <td>998.0</td>\n",
       "    </tr>\n",
       "    <tr>\n",
       "      <th>48</th>\n",
       "      <td>West Virginia</td>\n",
       "      <td>999.0</td>\n",
       "    </tr>\n",
       "    <tr>\n",
       "      <th>12</th>\n",
       "      <td>Idaho</td>\n",
       "      <td>1001.0</td>\n",
       "    </tr>\n",
       "    <tr>\n",
       "      <th>44</th>\n",
       "      <td>Utah</td>\n",
       "      <td>1010.0</td>\n",
       "    </tr>\n",
       "  </tbody>\n",
       "</table>\n",
       "</div>"
      ],
      "text/plain": [
       "                   state  total_sat_2018\n",
       "8   District of Columbia           977.0\n",
       "7               Delaware           998.0\n",
       "48         West Virginia           999.0\n",
       "12                 Idaho          1001.0\n",
       "44                  Utah          1010.0"
      ]
     },
     "execution_count": 100,
     "metadata": {},
     "output_type": "execute_result"
    }
   ],
   "source": [
    "final.sort_values(\"total_sat_2018\").filter([\"state\",\"total_sat_2018\"]).head()"
   ]
  },
  {
   "cell_type": "code",
   "execution_count": 101,
   "metadata": {},
   "outputs": [
    {
     "data": {
      "text/html": [
       "<div>\n",
       "<style scoped>\n",
       "    .dataframe tbody tr th:only-of-type {\n",
       "        vertical-align: middle;\n",
       "    }\n",
       "\n",
       "    .dataframe tbody tr th {\n",
       "        vertical-align: top;\n",
       "    }\n",
       "\n",
       "    .dataframe thead th {\n",
       "        text-align: right;\n",
       "    }\n",
       "</style>\n",
       "<table border=\"1\" class=\"dataframe\">\n",
       "  <thead>\n",
       "    <tr style=\"text-align: right;\">\n",
       "      <th></th>\n",
       "      <th>state</th>\n",
       "      <th>total_sat_2018</th>\n",
       "    </tr>\n",
       "  </thead>\n",
       "  <tbody>\n",
       "    <tr>\n",
       "      <th>16</th>\n",
       "      <td>Kansas</td>\n",
       "      <td>1265.0</td>\n",
       "    </tr>\n",
       "    <tr>\n",
       "      <th>15</th>\n",
       "      <td>Iowa</td>\n",
       "      <td>1265.0</td>\n",
       "    </tr>\n",
       "    <tr>\n",
       "      <th>34</th>\n",
       "      <td>North Dakota</td>\n",
       "      <td>1283.0</td>\n",
       "    </tr>\n",
       "    <tr>\n",
       "      <th>49</th>\n",
       "      <td>Wisconsin</td>\n",
       "      <td>1294.0</td>\n",
       "    </tr>\n",
       "    <tr>\n",
       "      <th>23</th>\n",
       "      <td>Minnesota</td>\n",
       "      <td>1298.0</td>\n",
       "    </tr>\n",
       "  </tbody>\n",
       "</table>\n",
       "</div>"
      ],
      "text/plain": [
       "           state  total_sat_2018\n",
       "16        Kansas          1265.0\n",
       "15          Iowa          1265.0\n",
       "34  North Dakota          1283.0\n",
       "49     Wisconsin          1294.0\n",
       "23     Minnesota          1298.0"
      ]
     },
     "execution_count": 101,
     "metadata": {},
     "output_type": "execute_result"
    }
   ],
   "source": [
    "final.sort_values(\"total_sat_2018\").filter([\"state\",\"total_sat_2018\"]).tail()"
   ]
  },
  {
   "cell_type": "markdown",
   "metadata": {},
   "source": [
    "Answer:\n",
    "\n",
    "District of Columbia has the lowest total score at 977 for SAT 2018\n",
    "\n",
    "Minnesota has the hightest total score at 1298 for SAT 2018"
   ]
  },
  {
   "cell_type": "markdown",
   "metadata": {},
   "source": [
    "2017 ACT composite score "
   ]
  },
  {
   "cell_type": "code",
   "execution_count": 102,
   "metadata": {},
   "outputs": [
    {
     "data": {
      "text/html": [
       "<div>\n",
       "<style scoped>\n",
       "    .dataframe tbody tr th:only-of-type {\n",
       "        vertical-align: middle;\n",
       "    }\n",
       "\n",
       "    .dataframe tbody tr th {\n",
       "        vertical-align: top;\n",
       "    }\n",
       "\n",
       "    .dataframe thead th {\n",
       "        text-align: right;\n",
       "    }\n",
       "</style>\n",
       "<table border=\"1\" class=\"dataframe\">\n",
       "  <thead>\n",
       "    <tr style=\"text-align: right;\">\n",
       "      <th></th>\n",
       "      <th>state</th>\n",
       "      <th>composite_act_2017</th>\n",
       "    </tr>\n",
       "  </thead>\n",
       "  <tbody>\n",
       "    <tr>\n",
       "      <th>28</th>\n",
       "      <td>Nevada</td>\n",
       "      <td>17.8</td>\n",
       "    </tr>\n",
       "    <tr>\n",
       "      <th>24</th>\n",
       "      <td>Mississippi</td>\n",
       "      <td>18.6</td>\n",
       "    </tr>\n",
       "    <tr>\n",
       "      <th>40</th>\n",
       "      <td>South Carolina</td>\n",
       "      <td>18.7</td>\n",
       "    </tr>\n",
       "    <tr>\n",
       "      <th>11</th>\n",
       "      <td>Hawaii</td>\n",
       "      <td>19.0</td>\n",
       "    </tr>\n",
       "    <tr>\n",
       "      <th>33</th>\n",
       "      <td>North Carolina</td>\n",
       "      <td>19.1</td>\n",
       "    </tr>\n",
       "  </tbody>\n",
       "</table>\n",
       "</div>"
      ],
      "text/plain": [
       "             state  composite_act_2017\n",
       "28          Nevada                17.8\n",
       "24     Mississippi                18.6\n",
       "40  South Carolina                18.7\n",
       "11          Hawaii                19.0\n",
       "33  North Carolina                19.1"
      ]
     },
     "execution_count": 102,
     "metadata": {},
     "output_type": "execute_result"
    }
   ],
   "source": [
    "final.sort_values(\"composite_act_2017\").filter([\"state\",\"composite_act_2017\"]).head()"
   ]
  },
  {
   "cell_type": "code",
   "execution_count": 103,
   "metadata": {},
   "outputs": [
    {
     "data": {
      "text/html": [
       "<div>\n",
       "<style scoped>\n",
       "    .dataframe tbody tr th:only-of-type {\n",
       "        vertical-align: middle;\n",
       "    }\n",
       "\n",
       "    .dataframe tbody tr th {\n",
       "        vertical-align: top;\n",
       "    }\n",
       "\n",
       "    .dataframe thead th {\n",
       "        text-align: right;\n",
       "    }\n",
       "</style>\n",
       "<table border=\"1\" class=\"dataframe\">\n",
       "  <thead>\n",
       "    <tr style=\"text-align: right;\">\n",
       "      <th></th>\n",
       "      <th>state</th>\n",
       "      <th>composite_act_2017</th>\n",
       "    </tr>\n",
       "  </thead>\n",
       "  <tbody>\n",
       "    <tr>\n",
       "      <th>8</th>\n",
       "      <td>District of Columbia</td>\n",
       "      <td>24.2</td>\n",
       "    </tr>\n",
       "    <tr>\n",
       "      <th>19</th>\n",
       "      <td>Maine</td>\n",
       "      <td>24.3</td>\n",
       "    </tr>\n",
       "    <tr>\n",
       "      <th>6</th>\n",
       "      <td>Connecticut</td>\n",
       "      <td>25.2</td>\n",
       "    </tr>\n",
       "    <tr>\n",
       "      <th>21</th>\n",
       "      <td>Massachusetts</td>\n",
       "      <td>25.4</td>\n",
       "    </tr>\n",
       "    <tr>\n",
       "      <th>29</th>\n",
       "      <td>New Hampshire</td>\n",
       "      <td>25.5</td>\n",
       "    </tr>\n",
       "  </tbody>\n",
       "</table>\n",
       "</div>"
      ],
      "text/plain": [
       "                   state  composite_act_2017\n",
       "8   District of Columbia                24.2\n",
       "19                 Maine                24.3\n",
       "6            Connecticut                25.2\n",
       "21         Massachusetts                25.4\n",
       "29         New Hampshire                25.5"
      ]
     },
     "execution_count": 103,
     "metadata": {},
     "output_type": "execute_result"
    }
   ],
   "source": [
    "final.sort_values(\"composite_act_2017\").filter([\"state\",\"composite_act_2017\"]).tail()"
   ]
  },
  {
   "cell_type": "markdown",
   "metadata": {},
   "source": [
    "Answer:\n",
    "\n",
    "Nevada has the lowest composite score at 17.8 for ACT 2017 \n",
    "\n",
    "New Hampshire has the hightest composite score at 25.5 for ACT 2017 "
   ]
  },
  {
   "cell_type": "markdown",
   "metadata": {},
   "source": [
    "2018 ACT composite score "
   ]
  },
  {
   "cell_type": "code",
   "execution_count": 104,
   "metadata": {},
   "outputs": [
    {
     "data": {
      "text/html": [
       "<div>\n",
       "<style scoped>\n",
       "    .dataframe tbody tr th:only-of-type {\n",
       "        vertical-align: middle;\n",
       "    }\n",
       "\n",
       "    .dataframe tbody tr th {\n",
       "        vertical-align: top;\n",
       "    }\n",
       "\n",
       "    .dataframe thead th {\n",
       "        text-align: right;\n",
       "    }\n",
       "</style>\n",
       "<table border=\"1\" class=\"dataframe\">\n",
       "  <thead>\n",
       "    <tr style=\"text-align: right;\">\n",
       "      <th></th>\n",
       "      <th>state</th>\n",
       "      <th>composite_act_2018</th>\n",
       "    </tr>\n",
       "  </thead>\n",
       "  <tbody>\n",
       "    <tr>\n",
       "      <th>28</th>\n",
       "      <td>Nevada</td>\n",
       "      <td>17.7</td>\n",
       "    </tr>\n",
       "    <tr>\n",
       "      <th>40</th>\n",
       "      <td>South Carolina</td>\n",
       "      <td>18.3</td>\n",
       "    </tr>\n",
       "    <tr>\n",
       "      <th>24</th>\n",
       "      <td>Mississippi</td>\n",
       "      <td>18.6</td>\n",
       "    </tr>\n",
       "    <tr>\n",
       "      <th>11</th>\n",
       "      <td>Hawaii</td>\n",
       "      <td>18.9</td>\n",
       "    </tr>\n",
       "    <tr>\n",
       "      <th>0</th>\n",
       "      <td>Alabama</td>\n",
       "      <td>19.1</td>\n",
       "    </tr>\n",
       "  </tbody>\n",
       "</table>\n",
       "</div>"
      ],
      "text/plain": [
       "             state  composite_act_2018\n",
       "28          Nevada                17.7\n",
       "40  South Carolina                18.3\n",
       "24     Mississippi                18.6\n",
       "11          Hawaii                18.9\n",
       "0          Alabama                19.1"
      ]
     },
     "execution_count": 104,
     "metadata": {},
     "output_type": "execute_result"
    }
   ],
   "source": [
    "final.sort_values(\"composite_act_2018\").filter([\"state\",\"composite_act_2018\"]).head()"
   ]
  },
  {
   "cell_type": "code",
   "execution_count": 105,
   "metadata": {},
   "outputs": [
    {
     "data": {
      "text/html": [
       "<div>\n",
       "<style scoped>\n",
       "    .dataframe tbody tr th:only-of-type {\n",
       "        vertical-align: middle;\n",
       "    }\n",
       "\n",
       "    .dataframe tbody tr th {\n",
       "        vertical-align: top;\n",
       "    }\n",
       "\n",
       "    .dataframe thead th {\n",
       "        text-align: right;\n",
       "    }\n",
       "</style>\n",
       "<table border=\"1\" class=\"dataframe\">\n",
       "  <thead>\n",
       "    <tr style=\"text-align: right;\">\n",
       "      <th></th>\n",
       "      <th>state</th>\n",
       "      <th>composite_act_2018</th>\n",
       "    </tr>\n",
       "  </thead>\n",
       "  <tbody>\n",
       "    <tr>\n",
       "      <th>22</th>\n",
       "      <td>Michigan</td>\n",
       "      <td>24.4</td>\n",
       "    </tr>\n",
       "    <tr>\n",
       "      <th>32</th>\n",
       "      <td>New York</td>\n",
       "      <td>24.5</td>\n",
       "    </tr>\n",
       "    <tr>\n",
       "      <th>29</th>\n",
       "      <td>New Hampshire</td>\n",
       "      <td>25.1</td>\n",
       "    </tr>\n",
       "    <tr>\n",
       "      <th>21</th>\n",
       "      <td>Massachusetts</td>\n",
       "      <td>25.5</td>\n",
       "    </tr>\n",
       "    <tr>\n",
       "      <th>6</th>\n",
       "      <td>Connecticut</td>\n",
       "      <td>25.6</td>\n",
       "    </tr>\n",
       "  </tbody>\n",
       "</table>\n",
       "</div>"
      ],
      "text/plain": [
       "            state  composite_act_2018\n",
       "22       Michigan                24.4\n",
       "32       New York                24.5\n",
       "29  New Hampshire                25.1\n",
       "21  Massachusetts                25.5\n",
       "6     Connecticut                25.6"
      ]
     },
     "execution_count": 105,
     "metadata": {},
     "output_type": "execute_result"
    }
   ],
   "source": [
    "final.sort_values(\"composite_act_2018\").filter([\"state\",\"composite_act_2018\"]).tail()"
   ]
  },
  {
   "cell_type": "markdown",
   "metadata": {},
   "source": [
    "Answer:\n",
    "\n",
    "Nevada has the lowest composite score at 17.7 for ACT 2018\n",
    "\n",
    "Connecticut has the hightest composite score at 25.6 for ACT 2018 "
   ]
  },
  {
   "cell_type": "markdown",
   "metadata": {},
   "source": [
    "Do any states with 100% participation on a given test have a rate change year-to-year?"
   ]
  },
  {
   "cell_type": "code",
   "execution_count": 106,
   "metadata": {},
   "outputs": [
    {
     "data": {
      "text/html": [
       "<div>\n",
       "<style scoped>\n",
       "    .dataframe tbody tr th:only-of-type {\n",
       "        vertical-align: middle;\n",
       "    }\n",
       "\n",
       "    .dataframe tbody tr th {\n",
       "        vertical-align: top;\n",
       "    }\n",
       "\n",
       "    .dataframe thead th {\n",
       "        text-align: right;\n",
       "    }\n",
       "</style>\n",
       "<table border=\"1\" class=\"dataframe\">\n",
       "  <thead>\n",
       "    <tr style=\"text-align: right;\">\n",
       "      <th></th>\n",
       "      <th>state</th>\n",
       "      <th>participationpct_sat_2017</th>\n",
       "      <th>participationpct_sat_2018</th>\n",
       "    </tr>\n",
       "  </thead>\n",
       "  <tbody>\n",
       "    <tr>\n",
       "      <th>29</th>\n",
       "      <td>New Hampshire</td>\n",
       "      <td>96.0</td>\n",
       "      <td>96.0</td>\n",
       "    </tr>\n",
       "    <tr>\n",
       "      <th>22</th>\n",
       "      <td>Michigan</td>\n",
       "      <td>100.0</td>\n",
       "      <td>100.0</td>\n",
       "    </tr>\n",
       "    <tr>\n",
       "      <th>8</th>\n",
       "      <td>District of Columbia</td>\n",
       "      <td>100.0</td>\n",
       "      <td>92.0</td>\n",
       "    </tr>\n",
       "    <tr>\n",
       "      <th>7</th>\n",
       "      <td>Delaware</td>\n",
       "      <td>100.0</td>\n",
       "      <td>100.0</td>\n",
       "    </tr>\n",
       "    <tr>\n",
       "      <th>6</th>\n",
       "      <td>Connecticut</td>\n",
       "      <td>100.0</td>\n",
       "      <td>100.0</td>\n",
       "    </tr>\n",
       "  </tbody>\n",
       "</table>\n",
       "</div>"
      ],
      "text/plain": [
       "                   state  participationpct_sat_2017  participationpct_sat_2018\n",
       "29         New Hampshire                       96.0                       96.0\n",
       "22              Michigan                      100.0                      100.0\n",
       "8   District of Columbia                      100.0                       92.0\n",
       "7               Delaware                      100.0                      100.0\n",
       "6            Connecticut                      100.0                      100.0"
      ]
     },
     "execution_count": 106,
     "metadata": {},
     "output_type": "execute_result"
    }
   ],
   "source": [
    "final.sort_values(\"participationpct_sat_2017\").filter([\"state\",\"participationpct_sat_2017\",\"participationpct_sat_2018\"]).tail()"
   ]
  },
  {
   "cell_type": "markdown",
   "metadata": {},
   "source": [
    "The District of Columbia's SAT participation rate decreased from 100% to 92%  in 2018"
   ]
  },
  {
   "cell_type": "code",
   "execution_count": 107,
   "metadata": {},
   "outputs": [
    {
     "data": {
      "text/html": [
       "<div>\n",
       "<style scoped>\n",
       "    .dataframe tbody tr th:only-of-type {\n",
       "        vertical-align: middle;\n",
       "    }\n",
       "\n",
       "    .dataframe tbody tr th {\n",
       "        vertical-align: top;\n",
       "    }\n",
       "\n",
       "    .dataframe thead th {\n",
       "        text-align: right;\n",
       "    }\n",
       "</style>\n",
       "<table border=\"1\" class=\"dataframe\">\n",
       "  <thead>\n",
       "    <tr style=\"text-align: right;\">\n",
       "      <th></th>\n",
       "      <th>state</th>\n",
       "      <th>participationpct_act_2017</th>\n",
       "      <th>participationpct_act_2018</th>\n",
       "    </tr>\n",
       "  </thead>\n",
       "  <tbody>\n",
       "    <tr>\n",
       "      <th>11</th>\n",
       "      <td>Hawaii</td>\n",
       "      <td>90.0</td>\n",
       "      <td>89.0</td>\n",
       "    </tr>\n",
       "    <tr>\n",
       "      <th>13</th>\n",
       "      <td>Illinois</td>\n",
       "      <td>93.0</td>\n",
       "      <td>43.0</td>\n",
       "    </tr>\n",
       "    <tr>\n",
       "      <th>34</th>\n",
       "      <td>North Dakota</td>\n",
       "      <td>98.0</td>\n",
       "      <td>98.0</td>\n",
       "    </tr>\n",
       "    <tr>\n",
       "      <th>40</th>\n",
       "      <td>South Carolina</td>\n",
       "      <td>100.0</td>\n",
       "      <td>100.0</td>\n",
       "    </tr>\n",
       "    <tr>\n",
       "      <th>44</th>\n",
       "      <td>Utah</td>\n",
       "      <td>100.0</td>\n",
       "      <td>100.0</td>\n",
       "    </tr>\n",
       "    <tr>\n",
       "      <th>42</th>\n",
       "      <td>Tennessee</td>\n",
       "      <td>100.0</td>\n",
       "      <td>100.0</td>\n",
       "    </tr>\n",
       "    <tr>\n",
       "      <th>0</th>\n",
       "      <td>Alabama</td>\n",
       "      <td>100.0</td>\n",
       "      <td>100.0</td>\n",
       "    </tr>\n",
       "    <tr>\n",
       "      <th>25</th>\n",
       "      <td>Missouri</td>\n",
       "      <td>100.0</td>\n",
       "      <td>100.0</td>\n",
       "    </tr>\n",
       "    <tr>\n",
       "      <th>33</th>\n",
       "      <td>North Carolina</td>\n",
       "      <td>100.0</td>\n",
       "      <td>100.0</td>\n",
       "    </tr>\n",
       "    <tr>\n",
       "      <th>28</th>\n",
       "      <td>Nevada</td>\n",
       "      <td>100.0</td>\n",
       "      <td>100.0</td>\n",
       "    </tr>\n",
       "    <tr>\n",
       "      <th>26</th>\n",
       "      <td>Montana</td>\n",
       "      <td>100.0</td>\n",
       "      <td>100.0</td>\n",
       "    </tr>\n",
       "    <tr>\n",
       "      <th>49</th>\n",
       "      <td>Wisconsin</td>\n",
       "      <td>100.0</td>\n",
       "      <td>100.0</td>\n",
       "    </tr>\n",
       "    <tr>\n",
       "      <th>24</th>\n",
       "      <td>Mississippi</td>\n",
       "      <td>100.0</td>\n",
       "      <td>100.0</td>\n",
       "    </tr>\n",
       "    <tr>\n",
       "      <th>23</th>\n",
       "      <td>Minnesota</td>\n",
       "      <td>100.0</td>\n",
       "      <td>99.0</td>\n",
       "    </tr>\n",
       "    <tr>\n",
       "      <th>18</th>\n",
       "      <td>Louisiana</td>\n",
       "      <td>100.0</td>\n",
       "      <td>100.0</td>\n",
       "    </tr>\n",
       "    <tr>\n",
       "      <th>17</th>\n",
       "      <td>Kentucky</td>\n",
       "      <td>100.0</td>\n",
       "      <td>100.0</td>\n",
       "    </tr>\n",
       "    <tr>\n",
       "      <th>5</th>\n",
       "      <td>Colorado</td>\n",
       "      <td>100.0</td>\n",
       "      <td>30.0</td>\n",
       "    </tr>\n",
       "    <tr>\n",
       "      <th>3</th>\n",
       "      <td>Arkansas</td>\n",
       "      <td>100.0</td>\n",
       "      <td>100.0</td>\n",
       "    </tr>\n",
       "    <tr>\n",
       "      <th>36</th>\n",
       "      <td>Oklahoma</td>\n",
       "      <td>100.0</td>\n",
       "      <td>100.0</td>\n",
       "    </tr>\n",
       "    <tr>\n",
       "      <th>50</th>\n",
       "      <td>Wyoming</td>\n",
       "      <td>100.0</td>\n",
       "      <td>100.0</td>\n",
       "    </tr>\n",
       "  </tbody>\n",
       "</table>\n",
       "</div>"
      ],
      "text/plain": [
       "             state  participationpct_act_2017  participationpct_act_2018\n",
       "11          Hawaii                       90.0                       89.0\n",
       "13        Illinois                       93.0                       43.0\n",
       "34    North Dakota                       98.0                       98.0\n",
       "40  South Carolina                      100.0                      100.0\n",
       "44            Utah                      100.0                      100.0\n",
       "42       Tennessee                      100.0                      100.0\n",
       "0          Alabama                      100.0                      100.0\n",
       "25        Missouri                      100.0                      100.0\n",
       "33  North Carolina                      100.0                      100.0\n",
       "28          Nevada                      100.0                      100.0\n",
       "26         Montana                      100.0                      100.0\n",
       "49       Wisconsin                      100.0                      100.0\n",
       "24     Mississippi                      100.0                      100.0\n",
       "23       Minnesota                      100.0                       99.0\n",
       "18       Louisiana                      100.0                      100.0\n",
       "17        Kentucky                      100.0                      100.0\n",
       "5         Colorado                      100.0                       30.0\n",
       "3         Arkansas                      100.0                      100.0\n",
       "36        Oklahoma                      100.0                      100.0\n",
       "50         Wyoming                      100.0                      100.0"
      ]
     },
     "execution_count": 107,
     "metadata": {},
     "output_type": "execute_result"
    }
   ],
   "source": [
    "final.sort_values(\"participationpct_act_2017\").filter([\"state\",\"participationpct_act_2017\",\"participationpct_act_2018\"]).tail(20)"
   ]
  },
  {
   "cell_type": "markdown",
   "metadata": {},
   "source": [
    "Answer:\n",
    "\n",
    "Minnesota and Colorado's ACT participation rate decreased from 100% to 99% and 30% respectively in 2018."
   ]
  },
  {
   "cell_type": "markdown",
   "metadata": {},
   "source": [
    "Do any states show have >50% participation on both tests either year?"
   ]
  },
  {
   "cell_type": "code",
   "execution_count": 108,
   "metadata": {},
   "outputs": [
    {
     "data": {
      "text/html": [
       "<div>\n",
       "<style scoped>\n",
       "    .dataframe tbody tr th:only-of-type {\n",
       "        vertical-align: middle;\n",
       "    }\n",
       "\n",
       "    .dataframe tbody tr th {\n",
       "        vertical-align: top;\n",
       "    }\n",
       "\n",
       "    .dataframe thead th {\n",
       "        text-align: right;\n",
       "    }\n",
       "</style>\n",
       "<table border=\"1\" class=\"dataframe\">\n",
       "  <thead>\n",
       "    <tr style=\"text-align: right;\">\n",
       "      <th></th>\n",
       "      <th>state</th>\n",
       "      <th>participationpct_sat_2017</th>\n",
       "      <th>participationpct_act_2017</th>\n",
       "    </tr>\n",
       "  </thead>\n",
       "  <tbody>\n",
       "    <tr>\n",
       "      <th>9</th>\n",
       "      <td>Florida</td>\n",
       "      <td>83.0</td>\n",
       "      <td>73.0</td>\n",
       "    </tr>\n",
       "    <tr>\n",
       "      <th>10</th>\n",
       "      <td>Georgia</td>\n",
       "      <td>61.0</td>\n",
       "      <td>55.0</td>\n",
       "    </tr>\n",
       "    <tr>\n",
       "      <th>11</th>\n",
       "      <td>Hawaii</td>\n",
       "      <td>55.0</td>\n",
       "      <td>90.0</td>\n",
       "    </tr>\n",
       "  </tbody>\n",
       "</table>\n",
       "</div>"
      ],
      "text/plain": [
       "      state  participationpct_sat_2017  participationpct_act_2017\n",
       "9   Florida                       83.0                       73.0\n",
       "10  Georgia                       61.0                       55.0\n",
       "11   Hawaii                       55.0                       90.0"
      ]
     },
     "execution_count": 108,
     "metadata": {},
     "output_type": "execute_result"
    }
   ],
   "source": [
    "final[(final[\"participationpct_sat_2017\"] > 50.0) & (final[\"participationpct_act_2017\"] > 50.0)].filter([\"state\",\"participationpct_sat_2017\",\"participationpct_act_2017\"])"
   ]
  },
  {
   "cell_type": "markdown",
   "metadata": {},
   "source": [
    "Answer:\n",
    "\n",
    "Florida, Georgia, Hawaii have more than 50% participation rate for both tests in 2017"
   ]
  },
  {
   "cell_type": "code",
   "execution_count": 109,
   "metadata": {},
   "outputs": [
    {
     "data": {
      "text/html": [
       "<div>\n",
       "<style scoped>\n",
       "    .dataframe tbody tr th:only-of-type {\n",
       "        vertical-align: middle;\n",
       "    }\n",
       "\n",
       "    .dataframe tbody tr th {\n",
       "        vertical-align: top;\n",
       "    }\n",
       "\n",
       "    .dataframe thead th {\n",
       "        text-align: right;\n",
       "    }\n",
       "</style>\n",
       "<table border=\"1\" class=\"dataframe\">\n",
       "  <thead>\n",
       "    <tr style=\"text-align: right;\">\n",
       "      <th></th>\n",
       "      <th>state</th>\n",
       "      <th>participationpct_sat_2018</th>\n",
       "      <th>participationpct_act_2018</th>\n",
       "    </tr>\n",
       "  </thead>\n",
       "  <tbody>\n",
       "    <tr>\n",
       "      <th>9</th>\n",
       "      <td>Florida</td>\n",
       "      <td>56.0</td>\n",
       "      <td>66.0</td>\n",
       "    </tr>\n",
       "    <tr>\n",
       "      <th>10</th>\n",
       "      <td>Georgia</td>\n",
       "      <td>70.0</td>\n",
       "      <td>53.0</td>\n",
       "    </tr>\n",
       "    <tr>\n",
       "      <th>11</th>\n",
       "      <td>Hawaii</td>\n",
       "      <td>56.0</td>\n",
       "      <td>89.0</td>\n",
       "    </tr>\n",
       "    <tr>\n",
       "      <th>33</th>\n",
       "      <td>North Carolina</td>\n",
       "      <td>52.0</td>\n",
       "      <td>100.0</td>\n",
       "    </tr>\n",
       "    <tr>\n",
       "      <th>40</th>\n",
       "      <td>South Carolina</td>\n",
       "      <td>55.0</td>\n",
       "      <td>100.0</td>\n",
       "    </tr>\n",
       "  </tbody>\n",
       "</table>\n",
       "</div>"
      ],
      "text/plain": [
       "             state  participationpct_sat_2018  participationpct_act_2018\n",
       "9          Florida                       56.0                       66.0\n",
       "10         Georgia                       70.0                       53.0\n",
       "11          Hawaii                       56.0                       89.0\n",
       "33  North Carolina                       52.0                      100.0\n",
       "40  South Carolina                       55.0                      100.0"
      ]
     },
     "execution_count": 109,
     "metadata": {},
     "output_type": "execute_result"
    }
   ],
   "source": [
    "final[(final[\"participationpct_sat_2018\"] >50.0) & (final[\"participationpct_act_2018\"] > 50.0)].filter([\"state\",\"participationpct_sat_2018\",\"participationpct_act_2018\"])"
   ]
  },
  {
   "cell_type": "markdown",
   "metadata": {},
   "source": [
    "Answer:\n",
    "\n",
    "Florida, Georgia, Hawaii, North and South Carolina have more than 50% participation rate for both tests in 2018"
   ]
  },
  {
   "cell_type": "markdown",
   "metadata": {},
   "source": [
    "## Visualize the data\n",
    "\n",
    "There's not a magic bullet recommendation for the right number of plots to understand a given dataset, but visualizing your data is *always* a good idea. Not only does it allow you to quickly convey your findings (even if you have a non-technical audience), it will often reveal trends in your data that escaped you when you were looking only at numbers.\n",
    "\n",
    "Some recommendations on plotting:\n",
    "- Plots have titles\n",
    "- Plots have axis labels\n",
    "- Plots have appropriate tick labels\n",
    "- All text is legible in a plot\n",
    "- Plots demonstrate meaningful and valid relationships\n",
    "- Plots are interpreted to aid understanding\n",
    "\n",
    "There is such a thing as too many plots, and there are a *lot* of bad plots. You might make some! (But hopefully not with the guided prompts below)."
   ]
  },
  {
   "cell_type": "markdown",
   "metadata": {},
   "source": [
    "#### Use Seaborn's heatmap with pandas `.corr()` to visualize correlations between all numeric features\n",
    "\n",
    "Heatmaps are generally not appropriate for presentations, and should often be excluded from reports as they can be visually overwhelming. **However**, they can be extremely useful in identify relationships of potential interest (as well as identifying potential collinearity before modeling).\n",
    "\n",
    "*example*:\n",
    "```python\n",
    "sns.heatmap(df.corr())\n",
    "```\n",
    "\n",
    "Please take time to format your output, adding a title. Look through some of the additional arguments and options. (Axis labels aren't really necessary, as long as the title is informative)."
   ]
  },
  {
   "cell_type": "code",
   "execution_count": 110,
   "metadata": {},
   "outputs": [
    {
     "data": {
      "image/png": "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\n",
      "text/plain": [
       "<Figure size 1440x1296 with 2 Axes>"
      ]
     },
     "metadata": {
      "needs_background": "light"
     },
     "output_type": "display_data"
    }
   ],
   "source": [
    "plt.figure(figsize=(20,18))\n",
    "mask = np.zeros_like(final.corr())\n",
    "mask[np.triu_indices_from(mask)] = True\n",
    "plt.title('SAT and ACT participation rates vs test scores in 2017 and 2018', fontsize=20)\n",
    "with sns.axes_style(\"white\"):\n",
    "    sns.heatmap((final.corr()), mask=mask, vmax=.3, square=True, annot=True, cmap=\"coolwarm\",annot_kws={'size':10})\n",
    "\n"
   ]
  },
  {
   "cell_type": "markdown",
   "metadata": {},
   "source": [
    "Accoriding to the heat map, SAT participation rates are negatively correlated to ACT participation rates. \n",
    "\n",
    "Test scores are also negatively correlated to participation rate for both tests."
   ]
  },
  {
   "cell_type": "markdown",
   "metadata": {},
   "source": [
    "#### Define a custom function to subplot histograms\n",
    "\n",
    "We have data for two tests for two years. We only have composite (and not subtest scores) for the 2018 ACT. We should write a function that will take the names of 2+ columns and subplot histograms. While you can use pandas plotting or Seaborn here, matplotlib gives you greater control over all aspects of your plots.\n",
    "\n",
    "[Helpful Link for Plotting Multiple Figures](https://matplotlib.org/users/pyplot_tutorial.html#working-with-multiple-figures-and-axes)\n",
    "\n",
    "Here's some starter code:"
   ]
  },
  {
   "cell_type": "code",
   "execution_count": 111,
   "metadata": {},
   "outputs": [],
   "source": [
    "def subplot_histograms(dataframe, list_of_columns, list_of_titles, list_of_xlabels):\n",
    "    nrows = int(np.ceil(len(list_of_columns)/4)) # Makes sure you have enough rows\n",
    "    fig, ax = plt.subplots(nrows=nrows, ncols=4,figsize =(25,8)) # You'll want to specify your figsize\n",
    "    ax = ax.ravel() # Ravel turns a matrix into a vector, which is easier to iterate\n",
    "    for i, column in enumerate(list_of_columns): # Gives us an index value to get into all our lists\n",
    "        ax[i].hist(dataframe[column]) # feel free to add more settings\n",
    "        # Set titles, labels, etc here for each subplot\n",
    "        ax[i].set_title(list_of_titles[i],fontsize=20)\n",
    "        ax[i].set_xlabel(list_of_xlabels[i],fontsize=20)\n",
    "        ax[i].set_ylabel('No. of states',fontsize=20)\n",
    "\n"
   ]
  },
  {
   "cell_type": "markdown",
   "metadata": {},
   "source": [
    "#### Plot and interpret histograms \n",
    "For each of the following:\n",
    "- Participation rates for SAT & ACT\n",
    "- Math scores for SAT & ACT\n",
    "- Reading/verbal scores for SAT & ACT"
   ]
  },
  {
   "cell_type": "code",
   "execution_count": 112,
   "metadata": {},
   "outputs": [
    {
     "data": {
      "image/png": "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\n",
      "text/plain": [
       "<Figure size 1800x576 with 4 Axes>"
      ]
     },
     "metadata": {
      "needs_background": "light"
     },
     "output_type": "display_data"
    }
   ],
   "source": [
    "list_of_columns = [\"participationpct_sat_2017\",\"participationpct_act_2017\",\"participationpct_sat_2018\",\"participationpct_act_2018\"]\n",
    "\n",
    "list_of_titles = [\"2017 SAT participation rate\",\"2017 ACT participation rate\",\"2018 SAT participation rate\",\"2018 ACT participation rate\"]\n",
    "list_of_xlabels = [\"participation %\",\"participation %\",\"participation %\",\"participation %\"]\n",
    "\n",
    "subplot_histograms(final, list_of_columns, list_of_titles, list_of_xlabels)\n",
    "\n",
    "\n"
   ]
  },
  {
   "cell_type": "markdown",
   "metadata": {},
   "source": [
    "Answer:\n",
    "\n",
    "There are more states that have 100% ACT particiation rate than SAT for both 2017 and 2018. \n",
    "\n",
    "There are more states that have 0-20% SAT particiation rate than ACT for both 2017 and 2018"
   ]
  },
  {
   "cell_type": "code",
   "execution_count": 113,
   "metadata": {
    "scrolled": true
   },
   "outputs": [
    {
     "data": {
      "image/png": "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\n",
      "text/plain": [
       "<Figure size 1800x576 with 4 Axes>"
      ]
     },
     "metadata": {
      "needs_background": "light"
     },
     "output_type": "display_data"
    }
   ],
   "source": [
    "list_of_columns = [\"math_sat_2017\",\"math_act_2017\", \"math_sat_2018\",\"math_act_2018\"]\n",
    "\n",
    "list_of_titles = [\"2017 SAT avg math score per state\",\"2017 ACT avg math score per state\",\"2018 SAT avg math score per state\",\"2018 ACT avg math score per state\"]\n",
    "list_of_xlabels = [\"average math score\",\"average math score\",\"average math score\",\"average math score\"]\n",
    "\n",
    "subplot_histograms(final, list_of_columns, list_of_titles, list_of_xlabels)"
   ]
  },
  {
   "cell_type": "markdown",
   "metadata": {},
   "source": [
    "Answer:\n",
    "\n",
    "Both SAT and ACT math scores have similar shapes for both years. ACT has a slight increase in math scores in 2018."
   ]
  },
  {
   "cell_type": "code",
   "execution_count": 114,
   "metadata": {},
   "outputs": [
    {
     "data": {
      "image/png": "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\n",
      "text/plain": [
       "<Figure size 1800x576 with 4 Axes>"
      ]
     },
     "metadata": {
      "needs_background": "light"
     },
     "output_type": "display_data"
    }
   ],
   "source": [
    "list_of_columns = [\"reading & writing_sat_2017\",\"reading_act_2017\",\"reading & writing_sat_2018\",\"reading_act_2018\"]\n",
    "\n",
    "list_of_titles = [\"2017 SAT avg read score per state\",\"2017 ACT avg read score per state\",\"2018 SAT avg read score per state\",\"2018 ACT avg read score per state\"]\n",
    "list_of_xlabels = [\"avg reading score\",\"avg reading score\",\"avg reading score\",\"avg reading score\"]\n",
    "\n",
    "subplot_histograms(final, list_of_columns, list_of_titles, list_of_xlabels)\n"
   ]
  },
  {
   "cell_type": "markdown",
   "metadata": {},
   "source": [
    "Answer:\n",
    "\n",
    "SAT reading scores are higher than ACT scores. There is a slight increase in reading scores for SAT 2018."
   ]
  },
  {
   "cell_type": "markdown",
   "metadata": {},
   "source": [
    "#### Plot and interpret scatter plots\n",
    "\n",
    "For each of the following:\n",
    "- SAT vs. ACT math scores for 2017\n",
    "- SAT vs. ACT verbal/reading scores for 2017\n",
    "- SAT vs. ACT total/composite scores for 2017\n",
    "- Total scores for SAT 2017 vs. 2018\n",
    "- Composite scores for ACT 2017 vs. 2018\n",
    "\n",
    "Plot the two variables against each other using matplotlib or Seaborn\n",
    "\n",
    "Your plots should show:\n",
    "- Two clearly labeled axes\n",
    "- A proper title\n",
    "- Using colors and symbols that are clear and unmistakable\n",
    "\n",
    "**Feel free to write a custom function, and subplot if you'd like.** Functions save both time and space.\n"
   ]
  },
  {
   "cell_type": "code",
   "execution_count": 115,
   "metadata": {},
   "outputs": [
    {
     "data": {
      "image/png": "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\n",
      "text/plain": [
       "<Figure size 360x360 with 1 Axes>"
      ]
     },
     "metadata": {
      "needs_background": "light"
     },
     "output_type": "display_data"
    }
   ],
   "source": [
    "# SAT vs. ACT math scores for 2017\n",
    "plt.figure(figsize=(5, 5))\n",
    "\n",
    "\n",
    "plt.scatter(final['math_sat_2017'],\n",
    "            final['math_act_2017']);\n",
    "\n",
    "plt.title('2017 SAT vs ACT math scores',fontsize = 20)\n",
    "plt.ylabel('ACT math scores', fontsize = 20)\n",
    "plt.xlabel('SAT math scores', fontsize = 20);"
   ]
  },
  {
   "cell_type": "markdown",
   "metadata": {},
   "source": [
    "Answer:\n",
    "\n",
    "There is no trend between the 2017 SAT and ACT math scores."
   ]
  },
  {
   "cell_type": "code",
   "execution_count": 116,
   "metadata": {},
   "outputs": [
    {
     "data": {
      "image/png": "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\n",
      "text/plain": [
       "<Figure size 360x360 with 1 Axes>"
      ]
     },
     "metadata": {
      "needs_background": "light"
     },
     "output_type": "display_data"
    }
   ],
   "source": [
    "#SAT vs. ACT verbal/reading scores for 2017\n",
    "plt.figure(figsize=(5, 5))\n",
    "\n",
    "plt.scatter(final['reading & writing_sat_2017'],\n",
    "            final['reading_act_2017']);\n",
    "\n",
    "plt.title('2017 SAT vs ACT readingscores',fontsize = 20)\n",
    "plt.ylabel('ACT reading scores', fontsize = 20)\n",
    "plt.xlabel('SAT reading scores', fontsize = 20);"
   ]
  },
  {
   "cell_type": "markdown",
   "metadata": {},
   "source": [
    "Answer:\n",
    "\n",
    "There is no trend between the 2017 SAT and ACT reading scores."
   ]
  },
  {
   "cell_type": "code",
   "execution_count": 117,
   "metadata": {},
   "outputs": [
    {
     "data": {
      "image/png": "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\n",
      "text/plain": [
       "<Figure size 360x360 with 1 Axes>"
      ]
     },
     "metadata": {
      "needs_background": "light"
     },
     "output_type": "display_data"
    }
   ],
   "source": [
    "#SAT vs. ACT total/composite scores for 2017\n",
    "plt.figure(figsize=(5, 5))\n",
    "\n",
    "plt.scatter(final['total_sat_2017'],\n",
    "            final['composite_act_2017']);\n",
    "\n",
    "plt.title('2017 SAT vs ACT total/composite scores',fontsize = 20)\n",
    "plt.ylabel('ACT composite scores', fontsize = 20)\n",
    "plt.xlabel('SAT total scores', fontsize = 20);"
   ]
  },
  {
   "cell_type": "markdown",
   "metadata": {},
   "source": [
    "Answer:\n",
    "\n",
    "There is no trend between the 2017 SAT and ACT total/composite scores."
   ]
  },
  {
   "cell_type": "code",
   "execution_count": 118,
   "metadata": {},
   "outputs": [
    {
     "data": {
      "image/png": "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\n",
      "text/plain": [
       "<Figure size 360x360 with 1 Axes>"
      ]
     },
     "metadata": {
      "needs_background": "light"
     },
     "output_type": "display_data"
    }
   ],
   "source": [
    "#Total scores for SAT 2017 vs. 2018\n",
    "\n",
    "plt.figure(figsize=(5, 5))\n",
    "\n",
    "plt.scatter(final['total_sat_2017'],\n",
    "            final['total_sat_2018']);\n",
    "\n",
    "plt.title('2017 SAT vs 2018 SAT total scores',fontsize = 20)\n",
    "plt.ylabel('2018 SAT total scores', fontsize = 20)\n",
    "plt.xlabel('2017 SAT total scores', fontsize = 20);"
   ]
  },
  {
   "cell_type": "markdown",
   "metadata": {},
   "source": [
    "Answer:\n",
    "\n",
    "There is a positive trend between the 2017-2018 SAT total scores."
   ]
  },
  {
   "cell_type": "code",
   "execution_count": 119,
   "metadata": {},
   "outputs": [
    {
     "data": {
      "image/png": "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\n",
      "text/plain": [
       "<Figure size 360x360 with 1 Axes>"
      ]
     },
     "metadata": {
      "needs_background": "light"
     },
     "output_type": "display_data"
    }
   ],
   "source": [
    "#Composite scores for ACT 2017 vs. 2018\n",
    "plt.figure(figsize=(5, 5))\n",
    "\n",
    "plt.scatter(final['composite_act_2017'],\n",
    "            final['composite_act_2018']);\n",
    "\n",
    "plt.title('2017 ACT vs 2018 ACT composite scores',fontsize = 20)\n",
    "plt.ylabel('2018 ACT composite scores', fontsize = 20)\n",
    "plt.xlabel('2017 ACT composite scores', fontsize = 20);"
   ]
  },
  {
   "cell_type": "markdown",
   "metadata": {},
   "source": [
    "Answer:\n",
    "\n",
    "There is a positive trend between the 2017 - 2018 composite scores."
   ]
  },
  {
   "cell_type": "markdown",
   "metadata": {},
   "source": [
    "#### Plot and interpret boxplots\n",
    "\n",
    "For each numeric variable in the dataframe create a boxplot using Seaborn. Boxplots demonstrate central tendency and spread in variables. In a certain sense, these are somewhat redundant with histograms, but you may be better able to identify clear outliers or differences in IQR, etc.\n",
    "\n",
    "Multiple values can be plotted to a single boxplot as long as they are of the same relative scale (meaning they have similar min/max values).\n",
    "\n",
    "Each boxplot should:\n",
    "- Only include variables of a similar scale\n",
    "- Have clear labels for each variable\n",
    "- Have appropriate titles and labels"
   ]
  },
  {
   "cell_type": "code",
   "execution_count": 120,
   "metadata": {},
   "outputs": [
    {
     "data": {
      "text/plain": [
       "<matplotlib.axes._subplots.AxesSubplot at 0x22b07d030c8>"
      ]
     },
     "execution_count": 120,
     "metadata": {},
     "output_type": "execute_result"
    },
    {
     "data": {
      "image/png": "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\n",
      "text/plain": [
       "<Figure size 1080x576 with 1 Axes>"
      ]
     },
     "metadata": {
      "needs_background": "light"
     },
     "output_type": "display_data"
    }
   ],
   "source": [
    "plt.figure(figsize =(15,8))\n",
    "\n",
    "plt.title('SAT vs ACT participation rate 2017 - 2018',fontsize=20);\n",
    "\n",
    "plt.ylabel('Participation rate',fontsize=20)\n",
    "\n",
    "sns.boxplot(data= (final[['participationpct_sat_2017','participationpct_act_2017','participationpct_sat_2018','participationpct_act_2018']]), orient = \"v\")\n",
    "\n"
   ]
  },
  {
   "cell_type": "markdown",
   "metadata": {},
   "source": [
    "Answer:\n",
    "\n",
    "The box plots show that there is a slight increase in the spread of SAT participation in 2018, however ACT participation spread seems to remain unchanged.\n",
    "\n",
    "The participation rate for ACTs are higher than SATs for both years."
   ]
  },
  {
   "cell_type": "code",
   "execution_count": 121,
   "metadata": {},
   "outputs": [
    {
     "data": {
      "text/plain": [
       "<matplotlib.axes._subplots.AxesSubplot at 0x22b07bf09c8>"
      ]
     },
     "execution_count": 121,
     "metadata": {},
     "output_type": "execute_result"
    },
    {
     "data": {
      "image/png": "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\n",
      "text/plain": [
       "<Figure size 1080x576 with 1 Axes>"
      ]
     },
     "metadata": {
      "needs_background": "light"
     },
     "output_type": "display_data"
    }
   ],
   "source": [
    "plt.figure(figsize =(15,8))\n",
    "\n",
    "plt.title('SAT test scores 2017-2018',fontsize=20);\n",
    "\n",
    "plt.ylabel('Score',fontsize=20)\n",
    "\n",
    "sns.boxplot(data= (final[['reading & writing_sat_2017','reading & writing_sat_2018','math_sat_2017','math_sat_2018']]), orient = \"v\")\n",
    "\n"
   ]
  },
  {
   "cell_type": "markdown",
   "metadata": {},
   "source": [
    "Answer:\n",
    "\n",
    "Students taking SAT score higher in reading and writing for both years than math. The spread for both subjects decreased slightly in 2018."
   ]
  },
  {
   "cell_type": "code",
   "execution_count": 122,
   "metadata": {},
   "outputs": [
    {
     "data": {
      "text/plain": [
       "<matplotlib.axes._subplots.AxesSubplot at 0x22b079a7548>"
      ]
     },
     "execution_count": 122,
     "metadata": {},
     "output_type": "execute_result"
    },
    {
     "data": {
      "image/png": "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\n",
      "text/plain": [
       "<Figure size 1080x576 with 1 Axes>"
      ]
     },
     "metadata": {
      "needs_background": "light"
     },
     "output_type": "display_data"
    }
   ],
   "source": [
    "plt.figure(figsize =(15,8))\n",
    "\n",
    "plt.title('SAT total scores 2017-2018',fontsize=20);\n",
    "\n",
    "plt.ylabel('Score',fontsize=20)\n",
    "\n",
    "sns.boxplot(data= (final[['total_sat_2017','total_sat_2018']]), orient = \"v\",width=0.8)\n",
    "\n"
   ]
  },
  {
   "cell_type": "markdown",
   "metadata": {},
   "source": [
    "Answer:\n",
    "\n",
    "The spread of SAT total score in 2018 decreased slightly."
   ]
  },
  {
   "cell_type": "code",
   "execution_count": 123,
   "metadata": {},
   "outputs": [
    {
     "data": {
      "text/plain": [
       "<matplotlib.axes._subplots.AxesSubplot at 0x22b079bb248>"
      ]
     },
     "execution_count": 123,
     "metadata": {},
     "output_type": "execute_result"
    },
    {
     "data": {
      "image/png": "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\n",
      "text/plain": [
       "<Figure size 1080x576 with 1 Axes>"
      ]
     },
     "metadata": {
      "needs_background": "light"
     },
     "output_type": "display_data"
    }
   ],
   "source": [
    "plt.figure(figsize =(15,8))\n",
    "\n",
    "plt.title('ACT test scores 2017-2018',fontsize=20);\n",
    "\n",
    "plt.ylabel('Score',fontsize=20)\n",
    "\n",
    "sns.boxplot(data= (final[['english_act_2017','english_act_2018','math_act_2017','math_act_2018','reading_act_2017','reading_act_2018',\n",
    "                          'science_act_2017','science_act_2018']]), orient = \"v\",width=0.8)\n",
    "\n"
   ]
  },
  {
   "cell_type": "markdown",
   "metadata": {},
   "source": [
    "Answer:\n",
    "\n",
    "The ACT reading test is highest scoring subject, followed by english and then by both math and science. For most tests there is no change from 2017-2018 except for english which has a slight increase in scores in 2018. \n",
    "\n",
    "This is a similar trend to SAT where the non-technical subjects score higher than the technical subjects.\n",
    "\n",
    "The spread for most subjects remain unchanged except for english which increased in 2018."
   ]
  },
  {
   "cell_type": "code",
   "execution_count": 124,
   "metadata": {},
   "outputs": [
    {
     "data": {
      "text/plain": [
       "<matplotlib.axes._subplots.AxesSubplot at 0x22b07f3d788>"
      ]
     },
     "execution_count": 124,
     "metadata": {},
     "output_type": "execute_result"
    },
    {
     "data": {
      "image/png": "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\n",
      "text/plain": [
       "<Figure size 1080x576 with 1 Axes>"
      ]
     },
     "metadata": {
      "needs_background": "light"
     },
     "output_type": "display_data"
    }
   ],
   "source": [
    "plt.figure(figsize =(15,8))\n",
    "\n",
    "plt.title('ACT composite scores 2017-2018',fontsize=20);\n",
    "\n",
    "plt.ylabel('Score',fontsize=20)\n",
    "\n",
    "sns.boxplot(data= (final[['composite_act_2017','composite_act_2018',]]), orient = \"v\",width=0.8)\n"
   ]
  },
  {
   "cell_type": "markdown",
   "metadata": {},
   "source": [
    "Answer:\n",
    "\n",
    "There is no change in the ACT composite score from 2017-2018."
   ]
  },
  {
   "cell_type": "markdown",
   "metadata": {},
   "source": [
    "#### Feel free to do additional plots below\n",
    "*(do research and choose your own chart types & variables)*\n",
    "\n",
    "Are there any additional trends or relationships you haven't explored? Was there something interesting you saw that you'd like to dive further into? It's likely that there are a few more plots you might want to generate to support your narrative and recommendations that you are building toward. **As always, make sure you're interpreting your plots as you go**."
   ]
  },
  {
   "cell_type": "code",
   "execution_count": 125,
   "metadata": {},
   "outputs": [
    {
     "data": {
      "image/png": "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\n",
      "text/plain": [
       "<Figure size 360x360 with 1 Axes>"
      ]
     },
     "metadata": {
      "needs_background": "light"
     },
     "output_type": "display_data"
    }
   ],
   "source": [
    "plt.figure(figsize=(5, 5))\n",
    "\n",
    "\n",
    "plt.scatter(final['participationpct_sat_2017'],\n",
    "            final['participationpct_act_2017']);\n",
    "\n",
    "plt.title('2017 SAT vs ACT participation rate',fontsize = 20)\n",
    "plt.ylabel('ACT participation rate', fontsize = 20)\n",
    "plt.xlabel('SAT participation rate', fontsize = 20);"
   ]
  },
  {
   "cell_type": "code",
   "execution_count": 126,
   "metadata": {},
   "outputs": [
    {
     "data": {
      "image/png": "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\n",
      "text/plain": [
       "<Figure size 360x360 with 1 Axes>"
      ]
     },
     "metadata": {
      "needs_background": "light"
     },
     "output_type": "display_data"
    }
   ],
   "source": [
    "plt.figure(figsize=(5, 5))\n",
    "\n",
    "\n",
    "plt.scatter(final['participationpct_sat_2018'],\n",
    "            final['participationpct_act_2018']);\n",
    "\n",
    "plt.title('2018 SAT vs ACT participation rate',fontsize = 20)\n",
    "plt.ylabel('ACT participation rate', fontsize = 20)\n",
    "plt.xlabel('SAT participation rate', fontsize = 20);"
   ]
  },
  {
   "cell_type": "markdown",
   "metadata": {},
   "source": [
    "Answer:\n",
    "\n",
    "According to the above scatterplots, there is a negative correlation between SAT and ACT participation for both years. This is also shown in the previous heat map."
   ]
  },
  {
   "cell_type": "markdown",
   "metadata": {},
   "source": [
    "#### (Optional): Using Tableau, create a choropleth map for each variable using a map of the US. \n",
    "\n",
    "Save this plot as an image file in an images directory, provide a relative path, and insert the image into notebook in markdown."
   ]
  },
  {
   "cell_type": "markdown",
   "metadata": {},
   "source": [
    "## Descriptive and Inferential Statistics"
   ]
  },
  {
   "cell_type": "markdown",
   "metadata": {},
   "source": [
    "#### Summarizing Distributions\n",
    "\n",
    "Above, we used pandas `describe` to provide quick summary statistics of our numeric columns. We also demonstrated many visual relationships.\n",
    "\n",
    "As data scientists, having a complete understanding of data is imperative prior to modeling.\n",
    "\n",
    "While we will continue to build our analytic tools, we know that measures of *central tendency*, *spread*, and *shape/skewness* provide a quick summary of distributions.\n",
    "\n",
    "For each variable in your data, summarize the underlying distributions (in words & statistics)\n",
    " - Be thorough in your verbal description of these distributions.\n",
    " - Be sure to back up these summaries with statistics."
   ]
  },
  {
   "cell_type": "code",
   "execution_count": 127,
   "metadata": {},
   "outputs": [
    {
     "data": {
      "text/html": [
       "<div>\n",
       "<style scoped>\n",
       "    .dataframe tbody tr th:only-of-type {\n",
       "        vertical-align: middle;\n",
       "    }\n",
       "\n",
       "    .dataframe tbody tr th {\n",
       "        vertical-align: top;\n",
       "    }\n",
       "\n",
       "    .dataframe thead th {\n",
       "        text-align: right;\n",
       "    }\n",
       "</style>\n",
       "<table border=\"1\" class=\"dataframe\">\n",
       "  <thead>\n",
       "    <tr style=\"text-align: right;\">\n",
       "      <th></th>\n",
       "      <th>participationpct_sat_2017</th>\n",
       "      <th>reading &amp; writing_sat_2017</th>\n",
       "      <th>math_sat_2017</th>\n",
       "      <th>total_sat_2017</th>\n",
       "      <th>participationpct_act_2017</th>\n",
       "      <th>english_act_2017</th>\n",
       "      <th>math_act_2017</th>\n",
       "      <th>reading_act_2017</th>\n",
       "      <th>science_act_2017</th>\n",
       "      <th>composite_act_2017</th>\n",
       "      <th>participationpct_sat_2018</th>\n",
       "      <th>reading &amp; writing_sat_2018</th>\n",
       "      <th>math_sat_2018</th>\n",
       "      <th>total_sat_2018</th>\n",
       "      <th>participationpct_act_2018</th>\n",
       "      <th>composite_act_2018</th>\n",
       "      <th>english_act_2018</th>\n",
       "      <th>math_act_2018</th>\n",
       "      <th>reading_act_2018</th>\n",
       "      <th>science_act_2018</th>\n",
       "    </tr>\n",
       "  </thead>\n",
       "  <tbody>\n",
       "    <tr>\n",
       "      <th>std</th>\n",
       "      <td>35.276632</td>\n",
       "      <td>45.666901</td>\n",
       "      <td>47.121395</td>\n",
       "      <td>92.494812</td>\n",
       "      <td>32.140842</td>\n",
       "      <td>2.353677</td>\n",
       "      <td>1.981989</td>\n",
       "      <td>2.067271</td>\n",
       "      <td>1.739353</td>\n",
       "      <td>2.020695</td>\n",
       "      <td>37.314256</td>\n",
       "      <td>47.502627</td>\n",
       "      <td>47.772623</td>\n",
       "      <td>94.155083</td>\n",
       "      <td>34.080976</td>\n",
       "      <td>2.117686</td>\n",
       "      <td>2.446356</td>\n",
       "      <td>2.035765</td>\n",
       "      <td>2.167245</td>\n",
       "      <td>1.870114</td>\n",
       "    </tr>\n",
       "    <tr>\n",
       "      <th>mean</th>\n",
       "      <td>39.803922</td>\n",
       "      <td>569.117647</td>\n",
       "      <td>556.882353</td>\n",
       "      <td>1126.098039</td>\n",
       "      <td>65.254902</td>\n",
       "      <td>20.931373</td>\n",
       "      <td>21.182353</td>\n",
       "      <td>22.013725</td>\n",
       "      <td>21.450980</td>\n",
       "      <td>21.519608</td>\n",
       "      <td>45.745098</td>\n",
       "      <td>563.686275</td>\n",
       "      <td>556.235294</td>\n",
       "      <td>1120.019608</td>\n",
       "      <td>61.647059</td>\n",
       "      <td>21.498039</td>\n",
       "      <td>20.988235</td>\n",
       "      <td>21.125490</td>\n",
       "      <td>22.015686</td>\n",
       "      <td>21.345098</td>\n",
       "    </tr>\n",
       "  </tbody>\n",
       "</table>\n",
       "</div>"
      ],
      "text/plain": [
       "      participationpct_sat_2017  reading & writing_sat_2017  math_sat_2017  \\\n",
       "std                   35.276632                   45.666901      47.121395   \n",
       "mean                  39.803922                  569.117647     556.882353   \n",
       "\n",
       "      total_sat_2017  participationpct_act_2017  english_act_2017  \\\n",
       "std        92.494812                  32.140842          2.353677   \n",
       "mean     1126.098039                  65.254902         20.931373   \n",
       "\n",
       "      math_act_2017  reading_act_2017  science_act_2017  composite_act_2017  \\\n",
       "std        1.981989          2.067271          1.739353            2.020695   \n",
       "mean      21.182353         22.013725         21.450980           21.519608   \n",
       "\n",
       "      participationpct_sat_2018  reading & writing_sat_2018  math_sat_2018  \\\n",
       "std                   37.314256                   47.502627      47.772623   \n",
       "mean                  45.745098                  563.686275     556.235294   \n",
       "\n",
       "      total_sat_2018  participationpct_act_2018  composite_act_2018  \\\n",
       "std        94.155083                  34.080976            2.117686   \n",
       "mean     1120.019608                  61.647059           21.498039   \n",
       "\n",
       "      english_act_2018  math_act_2018  reading_act_2018  science_act_2018  \n",
       "std           2.446356       2.035765          2.167245          1.870114  \n",
       "mean         20.988235      21.125490         22.015686         21.345098  "
      ]
     },
     "execution_count": 127,
     "metadata": {},
     "output_type": "execute_result"
    }
   ],
   "source": [
    "final.describe().loc[['std','mean']]"
   ]
  },
  {
   "cell_type": "markdown",
   "metadata": {},
   "source": [
    "Answers:\n",
    "\n",
    "From the histogram above, it shows that the distibutions for all variables are not normally distrbuted.\n",
    "\n",
    "The distributions have 2 peaks and hence bimodel( https://bolt.mph.ufl.edu/6050-6052/unit-1/one-quantitative-variable-introduction/describing-distributions/ ).\n",
    "\n",
    "The standard deviation for all variables is alot smaller relatve to the mean and shows that the data is not spread out (https://www.robertniles.com/stats/stdev.shtml), which indicates it is not normally distributed\n"
   ]
  },
  {
   "cell_type": "markdown",
   "metadata": {},
   "source": [
    "\n",
    "#### Distributions in the data\n",
    "\n",
    "In this dataset, each data represents a sample from a population.                        \n",
    "For example, for ACT math test:\n",
    "- Population: the test results of all the students who take this test, nation-wide.\n",
    "- Population mean: is the national average of ACT math test (total scores/total no. of test takers) \n",
    "- Sample: the state means of ACT math test. We have 51 samples (51 states)\n",
    "\n",
    "***According to CLT, we generally assuming that data we sample from a population will be normally distributed. Do we observe this trend?***"
   ]
  },
  {
   "cell_type": "markdown",
   "metadata": {},
   "source": [
    "Answer: No, the data did not show any normal distribution for the math, reading scores and participation rates."
   ]
  },
  {
   "cell_type": "markdown",
   "metadata": {},
   "source": [
    "Does This Assumption Hold for:\n",
    "    - Math\n",
    "    - Reading\n",
    "    - Rates\n",
    "Explain your answers for each distribution and how you think this will affect estimates made from these data."
   ]
  },
  {
   "cell_type": "markdown",
   "metadata": {},
   "source": [
    "Answer: The assumption that the distribution for the math and reading scores and participation rate should hold if larger random samples are taken as according to the central limit theorem, the larger the samples, the more normally distributed the distribution will be( http://sphweb.bumc.bu.edu/otlt/MPH-Modules/BS/BS704_Probability/BS704_Probability12.html)"
   ]
  },
  {
   "cell_type": "markdown",
   "metadata": {},
   "source": [
    "#### Estimate Limits of Data\n",
    "\n",
    "Suppose we only seek to understand the relationship between SAT and ACT participation rates in 2017. \n",
    "\n",
    "##### Does it make sense to conduct statistical inference given these data specifically? \n",
    "\n",
    "Why or why not?\n",
    "\n",
    "*(think about granularity, aggregation, the relationships between populations size & rates...consider the actually populations these data describe in answering this question)*"
   ]
  },
  {
   "cell_type": "markdown",
   "metadata": {},
   "source": [
    "Answer: Conducting statistical inference on the relationship between the participation rates of the 2 tests would not make sense as the heatmap above shows a negative correlation between the 2 tests.\n",
    "\n",
    "Statistical inference is used to evaluate the possibility of chance to explain an event, as the conduct of SAT and ACT tests are based on education policy, probability does not explain the relationship. "
   ]
  },
  {
   "cell_type": "markdown",
   "metadata": {},
   "source": [
    "##### Is it appropriate to compare *these* specific SAT and ACT math scores  - can we say students with higher SAT math score is better than those with lower ACT math score, or vice versa?\n",
    "\n",
    "Why or why not?"
   ]
  },
  {
   "cell_type": "markdown",
   "metadata": {},
   "source": [
    "Answer: No. The scale i.e scores range for both tests are different. In addition the content tested and evaluated for these 2 tests are also different and hence not an appropriate comparison."
   ]
  },
  {
   "cell_type": "markdown",
   "metadata": {},
   "source": [
    "#### Statistical Evaluation of Distributions \n",
    "\n",
    "**If you feel it's appropriate**, using methods we discussed in class, run hypothesis tests to compare variables of interest in our dataset. "
   ]
  },
  {
   "cell_type": "markdown",
   "metadata": {},
   "source": [
    "## Outside Research"
   ]
  },
  {
   "cell_type": "markdown",
   "metadata": {},
   "source": [
    "Based upon your observations, choose **three** states that demonstrate interesting trends in their SAT and/or ACT participation rates. Spend some time doing outside research on state policies that might influence these rates, and summarize your findings below. **Feel free to go back and create new plots that highlight these states of interest**. If you bring in any outside tables or charts, make sure you are explicit about having borrowed them. If you quote any text, make sure that it renders as being quoted. (Make sure that you cite your sources -- check with you local instructor for citation preferences)."
   ]
  },
  {
   "cell_type": "code",
   "execution_count": 128,
   "metadata": {},
   "outputs": [
    {
     "data": {
      "text/html": [
       "<div>\n",
       "<style scoped>\n",
       "    .dataframe tbody tr th:only-of-type {\n",
       "        vertical-align: middle;\n",
       "    }\n",
       "\n",
       "    .dataframe tbody tr th {\n",
       "        vertical-align: top;\n",
       "    }\n",
       "\n",
       "    .dataframe thead th {\n",
       "        text-align: right;\n",
       "    }\n",
       "</style>\n",
       "<table border=\"1\" class=\"dataframe\">\n",
       "  <thead>\n",
       "    <tr style=\"text-align: right;\">\n",
       "      <th></th>\n",
       "      <th>state</th>\n",
       "      <th>participationpct_sat_2017</th>\n",
       "      <th>participationpct_sat_2018</th>\n",
       "    </tr>\n",
       "  </thead>\n",
       "  <tbody>\n",
       "    <tr>\n",
       "      <th>6</th>\n",
       "      <td>Connecticut</td>\n",
       "      <td>100.0</td>\n",
       "      <td>100.0</td>\n",
       "    </tr>\n",
       "    <tr>\n",
       "      <th>7</th>\n",
       "      <td>Delaware</td>\n",
       "      <td>100.0</td>\n",
       "      <td>100.0</td>\n",
       "    </tr>\n",
       "    <tr>\n",
       "      <th>22</th>\n",
       "      <td>Michigan</td>\n",
       "      <td>100.0</td>\n",
       "      <td>100.0</td>\n",
       "    </tr>\n",
       "  </tbody>\n",
       "</table>\n",
       "</div>"
      ],
      "text/plain": [
       "          state  participationpct_sat_2017  participationpct_sat_2018\n",
       "6   Connecticut                      100.0                      100.0\n",
       "7      Delaware                      100.0                      100.0\n",
       "22     Michigan                      100.0                      100.0"
      ]
     },
     "execution_count": 128,
     "metadata": {},
     "output_type": "execute_result"
    }
   ],
   "source": [
    "final[(final[\"participationpct_sat_2017\"]==100.0) & (final[\"participationpct_sat_2018\"] ==100.0)].filter([\"state\",\"participationpct_sat_2017\",\"participationpct_sat_2018\"])"
   ]
  },
  {
   "cell_type": "code",
   "execution_count": 129,
   "metadata": {},
   "outputs": [
    {
     "data": {
      "text/html": [
       "<div>\n",
       "<style scoped>\n",
       "    .dataframe tbody tr th:only-of-type {\n",
       "        vertical-align: middle;\n",
       "    }\n",
       "\n",
       "    .dataframe tbody tr th {\n",
       "        vertical-align: top;\n",
       "    }\n",
       "\n",
       "    .dataframe thead th {\n",
       "        text-align: right;\n",
       "    }\n",
       "</style>\n",
       "<table border=\"1\" class=\"dataframe\">\n",
       "  <thead>\n",
       "    <tr style=\"text-align: right;\">\n",
       "      <th></th>\n",
       "      <th>state</th>\n",
       "      <th>participationpct_sat_2018</th>\n",
       "    </tr>\n",
       "  </thead>\n",
       "  <tbody>\n",
       "    <tr>\n",
       "      <th>34</th>\n",
       "      <td>North Dakota</td>\n",
       "      <td>2.0</td>\n",
       "    </tr>\n",
       "    <tr>\n",
       "      <th>50</th>\n",
       "      <td>Wyoming</td>\n",
       "      <td>3.0</td>\n",
       "    </tr>\n",
       "    <tr>\n",
       "      <th>41</th>\n",
       "      <td>South Dakota</td>\n",
       "      <td>3.0</td>\n",
       "    </tr>\n",
       "    <tr>\n",
       "      <th>27</th>\n",
       "      <td>Nebraska</td>\n",
       "      <td>3.0</td>\n",
       "    </tr>\n",
       "    <tr>\n",
       "      <th>49</th>\n",
       "      <td>Wisconsin</td>\n",
       "      <td>3.0</td>\n",
       "    </tr>\n",
       "    <tr>\n",
       "      <th>24</th>\n",
       "      <td>Mississippi</td>\n",
       "      <td>3.0</td>\n",
       "    </tr>\n",
       "    <tr>\n",
       "      <th>15</th>\n",
       "      <td>Iowa</td>\n",
       "      <td>3.0</td>\n",
       "    </tr>\n",
       "  </tbody>\n",
       "</table>\n",
       "</div>"
      ],
      "text/plain": [
       "           state  participationpct_sat_2018\n",
       "34  North Dakota                        2.0\n",
       "50       Wyoming                        3.0\n",
       "41  South Dakota                        3.0\n",
       "27      Nebraska                        3.0\n",
       "49     Wisconsin                        3.0\n",
       "24   Mississippi                        3.0\n",
       "15          Iowa                        3.0"
      ]
     },
     "execution_count": 129,
     "metadata": {},
     "output_type": "execute_result"
    }
   ],
   "source": [
    "final.sort_values(\"participationpct_sat_2018\").filter([\"state\",\"participationpct_sat_2018\"]).head(7)"
   ]
  },
  {
   "cell_type": "code",
   "execution_count": 130,
   "metadata": {},
   "outputs": [
    {
     "data": {
      "text/html": [
       "<div>\n",
       "<style scoped>\n",
       "    .dataframe tbody tr th:only-of-type {\n",
       "        vertical-align: middle;\n",
       "    }\n",
       "\n",
       "    .dataframe tbody tr th {\n",
       "        vertical-align: top;\n",
       "    }\n",
       "\n",
       "    .dataframe thead th {\n",
       "        text-align: right;\n",
       "    }\n",
       "</style>\n",
       "<table border=\"1\" class=\"dataframe\">\n",
       "  <thead>\n",
       "    <tr style=\"text-align: right;\">\n",
       "      <th></th>\n",
       "      <th>state</th>\n",
       "      <th>participationpct_act_2017</th>\n",
       "      <th>participationpct_act_2018</th>\n",
       "      <th>participationpct_sat_2017</th>\n",
       "      <th>participationpct_sat_2018</th>\n",
       "    </tr>\n",
       "  </thead>\n",
       "  <tbody>\n",
       "    <tr>\n",
       "      <th>0</th>\n",
       "      <td>Alabama</td>\n",
       "      <td>100.0</td>\n",
       "      <td>100.0</td>\n",
       "      <td>5.0</td>\n",
       "      <td>6.0</td>\n",
       "    </tr>\n",
       "    <tr>\n",
       "      <th>3</th>\n",
       "      <td>Arkansas</td>\n",
       "      <td>100.0</td>\n",
       "      <td>100.0</td>\n",
       "      <td>3.0</td>\n",
       "      <td>5.0</td>\n",
       "    </tr>\n",
       "    <tr>\n",
       "      <th>17</th>\n",
       "      <td>Kentucky</td>\n",
       "      <td>100.0</td>\n",
       "      <td>100.0</td>\n",
       "      <td>4.0</td>\n",
       "      <td>4.0</td>\n",
       "    </tr>\n",
       "    <tr>\n",
       "      <th>18</th>\n",
       "      <td>Louisiana</td>\n",
       "      <td>100.0</td>\n",
       "      <td>100.0</td>\n",
       "      <td>4.0</td>\n",
       "      <td>4.0</td>\n",
       "    </tr>\n",
       "    <tr>\n",
       "      <th>24</th>\n",
       "      <td>Mississippi</td>\n",
       "      <td>100.0</td>\n",
       "      <td>100.0</td>\n",
       "      <td>2.0</td>\n",
       "      <td>3.0</td>\n",
       "    </tr>\n",
       "    <tr>\n",
       "      <th>25</th>\n",
       "      <td>Missouri</td>\n",
       "      <td>100.0</td>\n",
       "      <td>100.0</td>\n",
       "      <td>3.0</td>\n",
       "      <td>4.0</td>\n",
       "    </tr>\n",
       "    <tr>\n",
       "      <th>26</th>\n",
       "      <td>Montana</td>\n",
       "      <td>100.0</td>\n",
       "      <td>100.0</td>\n",
       "      <td>10.0</td>\n",
       "      <td>10.0</td>\n",
       "    </tr>\n",
       "    <tr>\n",
       "      <th>28</th>\n",
       "      <td>Nevada</td>\n",
       "      <td>100.0</td>\n",
       "      <td>100.0</td>\n",
       "      <td>26.0</td>\n",
       "      <td>23.0</td>\n",
       "    </tr>\n",
       "    <tr>\n",
       "      <th>33</th>\n",
       "      <td>North Carolina</td>\n",
       "      <td>100.0</td>\n",
       "      <td>100.0</td>\n",
       "      <td>49.0</td>\n",
       "      <td>52.0</td>\n",
       "    </tr>\n",
       "    <tr>\n",
       "      <th>36</th>\n",
       "      <td>Oklahoma</td>\n",
       "      <td>100.0</td>\n",
       "      <td>100.0</td>\n",
       "      <td>7.0</td>\n",
       "      <td>8.0</td>\n",
       "    </tr>\n",
       "    <tr>\n",
       "      <th>40</th>\n",
       "      <td>South Carolina</td>\n",
       "      <td>100.0</td>\n",
       "      <td>100.0</td>\n",
       "      <td>50.0</td>\n",
       "      <td>55.0</td>\n",
       "    </tr>\n",
       "    <tr>\n",
       "      <th>42</th>\n",
       "      <td>Tennessee</td>\n",
       "      <td>100.0</td>\n",
       "      <td>100.0</td>\n",
       "      <td>5.0</td>\n",
       "      <td>6.0</td>\n",
       "    </tr>\n",
       "    <tr>\n",
       "      <th>44</th>\n",
       "      <td>Utah</td>\n",
       "      <td>100.0</td>\n",
       "      <td>100.0</td>\n",
       "      <td>3.0</td>\n",
       "      <td>4.0</td>\n",
       "    </tr>\n",
       "    <tr>\n",
       "      <th>49</th>\n",
       "      <td>Wisconsin</td>\n",
       "      <td>100.0</td>\n",
       "      <td>100.0</td>\n",
       "      <td>3.0</td>\n",
       "      <td>3.0</td>\n",
       "    </tr>\n",
       "    <tr>\n",
       "      <th>50</th>\n",
       "      <td>Wyoming</td>\n",
       "      <td>100.0</td>\n",
       "      <td>100.0</td>\n",
       "      <td>3.0</td>\n",
       "      <td>3.0</td>\n",
       "    </tr>\n",
       "  </tbody>\n",
       "</table>\n",
       "</div>"
      ],
      "text/plain": [
       "             state  participationpct_act_2017  participationpct_act_2018  \\\n",
       "0          Alabama                      100.0                      100.0   \n",
       "3         Arkansas                      100.0                      100.0   \n",
       "17        Kentucky                      100.0                      100.0   \n",
       "18       Louisiana                      100.0                      100.0   \n",
       "24     Mississippi                      100.0                      100.0   \n",
       "25        Missouri                      100.0                      100.0   \n",
       "26         Montana                      100.0                      100.0   \n",
       "28          Nevada                      100.0                      100.0   \n",
       "33  North Carolina                      100.0                      100.0   \n",
       "36        Oklahoma                      100.0                      100.0   \n",
       "40  South Carolina                      100.0                      100.0   \n",
       "42       Tennessee                      100.0                      100.0   \n",
       "44            Utah                      100.0                      100.0   \n",
       "49       Wisconsin                      100.0                      100.0   \n",
       "50         Wyoming                      100.0                      100.0   \n",
       "\n",
       "    participationpct_sat_2017  participationpct_sat_2018  \n",
       "0                         5.0                        6.0  \n",
       "3                         3.0                        5.0  \n",
       "17                        4.0                        4.0  \n",
       "18                        4.0                        4.0  \n",
       "24                        2.0                        3.0  \n",
       "25                        3.0                        4.0  \n",
       "26                       10.0                       10.0  \n",
       "28                       26.0                       23.0  \n",
       "33                       49.0                       52.0  \n",
       "36                        7.0                        8.0  \n",
       "40                       50.0                       55.0  \n",
       "42                        5.0                        6.0  \n",
       "44                        3.0                        4.0  \n",
       "49                        3.0                        3.0  \n",
       "50                        3.0                        3.0  "
      ]
     },
     "execution_count": 130,
     "metadata": {},
     "output_type": "execute_result"
    }
   ],
   "source": [
    "final[(final[\"participationpct_act_2017\"]==100.0) & (final[\"participationpct_act_2018\"] ==100.0)].filter([\"state\",\"participationpct_act_2017\",\"participationpct_act_2018\",\"participationpct_sat_2017\",\"participationpct_sat_2018\"])"
   ]
  },
  {
   "cell_type": "markdown",
   "metadata": {},
   "source": [
    "Answer:\n",
    "\n",
    "I will focus on 3 states, Missouri, Tennesse and South Carolina as these states have 100% ACT participation rates even though they are not mandated.\n",
    "\n",
    "According to Prepscholor, students are not mandated to take ACT in the abovementioned 3 states. The reason for their high participation rate is mostly due to funding by the state to take the test or retake the test as seen in the below articles.\n",
    "\n",
    "https://blog.prepscholar.com/which-states-require-the-act-full-list-and-advice\n",
    "\n",
    "https://blog.prepscholar.com/which-states-require-the-sat\n",
    "\n",
    "https://www.tn.gov/education/news/2018/10/31/tn-students-break-records-with-highest-ever-act-score-and-participation-rate.html\n",
    "\n",
    "https://dese.mo.gov/communications/news-releases/missouri-act-scores-released-class-2018\n",
    "\n",
    "https://www.thestate.com/news/politics-government/article236809728.html\n",
    "\n",
    "https://www.greenvilleonline.com/story/news/education/2019/09/24/sat-scores-drop-more-sc-students-take-sat-standardized-test/2427143001/"
   ]
  },
  {
   "cell_type": "markdown",
   "metadata": {},
   "source": [
    "## Conclusions and Recommendations"
   ]
  },
  {
   "cell_type": "markdown",
   "metadata": {},
   "source": [
    "Based on your exploration of the data, what are you key takeaways and recommendations? Choose one state with a lower participation rate and provide a suggestion for how the College Board might increase participation amongst graduating seniors in this state. Are there additional data you desire that would better inform your investigations?"
   ]
  },
  {
   "cell_type": "code",
   "execution_count": 131,
   "metadata": {},
   "outputs": [
    {
     "data": {
      "text/html": [
       "<div>\n",
       "<style scoped>\n",
       "    .dataframe tbody tr th:only-of-type {\n",
       "        vertical-align: middle;\n",
       "    }\n",
       "\n",
       "    .dataframe tbody tr th {\n",
       "        vertical-align: top;\n",
       "    }\n",
       "\n",
       "    .dataframe thead th {\n",
       "        text-align: right;\n",
       "    }\n",
       "</style>\n",
       "<table border=\"1\" class=\"dataframe\">\n",
       "  <thead>\n",
       "    <tr style=\"text-align: right;\">\n",
       "      <th></th>\n",
       "      <th>state</th>\n",
       "      <th>participationpct_act_2018</th>\n",
       "      <th>participationpct_sat_2018</th>\n",
       "    </tr>\n",
       "  </thead>\n",
       "  <tbody>\n",
       "    <tr>\n",
       "      <th>1</th>\n",
       "      <td>Alaska</td>\n",
       "      <td>33.0</td>\n",
       "      <td>43.0</td>\n",
       "    </tr>\n",
       "    <tr>\n",
       "      <th>37</th>\n",
       "      <td>Oregon</td>\n",
       "      <td>42.0</td>\n",
       "      <td>48.0</td>\n",
       "    </tr>\n",
       "  </tbody>\n",
       "</table>\n",
       "</div>"
      ],
      "text/plain": [
       "     state  participationpct_act_2018  participationpct_sat_2018\n",
       "1   Alaska                       33.0                       43.0\n",
       "37  Oregon                       42.0                       48.0"
      ]
     },
     "execution_count": 131,
     "metadata": {},
     "output_type": "execute_result"
    }
   ],
   "source": [
    "final[(final[\"participationpct_act_2018\"]<50) & (final[\"participationpct_sat_2018\"]<50)].filter([\"state\",\"participationpct_act_2018\",\"participationpct_sat_2018\"])"
   ]
  },
  {
   "cell_type": "markdown",
   "metadata": {},
   "source": [
    "Answer:\n",
    "\n",
    "The negative correlation in the participation rates in data analysis has shown that students would most likely take either SAT or ACT and not both.\n",
    "\n",
    "This makes sense as students would only want to take one test for college admissions to avoid test fatigue as well as minimise costs.This is further substantiated in research for the above 3 states as the level of participation rates depend on whether the state mandates the taking of the tests or fund the taking of the tests. \n",
    "\n",
    "Hence College Board can lobby for the states/districts/schools to either mandate the tests or fund SAT test taking. College Board can also offer reduced fees for students retaking the SATs.\n",
    "\n",
    "Furthermore, from the Hanover Research on SAT participation, they have found that conducting SAT during school hours has a positive impact on participation. College Board should approach more states to offer SAT DAY i.e conducting SAT during school hours.\n",
    "\n",
    "I have chosen the state of Oregon to focus on increasing their below than 50% SAT participation rate as firstly state does not mandate taking ACT tests and its ACT participation rate is below 50%. The probable reason for Oregon's low participation rate for both tests is because the state also administers an exam called the \"Smarter Balanced exam\". However, it is possible to opt out of taking this exam and hence take the SAT instead. SAT Day is administered in the state, there is no state funding provided for taking SAT.\n",
    "\n",
    "College Board can approach Oregon to convince them to mandate the tests or fund the test taking. Alternatively, College Board can offer reduced fees to the students.\n",
    "\n",
    "\n",
    "\n",
    "\n",
    "https://www.hanoverresearch.com/media/Best-Practices-to-Increase-SAT-Participation-1.pdf\n",
    "\n",
    "https://www.opb.org/news/article/oregon-high-school-state-tests/\n",
    "\n",
    "https://www.oregonlive.com/education/2020/03/oregons-public-universities-wont-ask-for-sat-scores-in-college-applications-anymore.html\n",
    "\n",
    "https://clypian.com/2018/10/03/south-to-hold-psat-and-sat-on-october-10/"
   ]
  },
  {
   "cell_type": "code",
   "execution_count": null,
   "metadata": {},
   "outputs": [],
   "source": []
  }
 ],
 "metadata": {
  "anaconda-cloud": {},
  "kernelspec": {
   "display_name": "Python 3",
   "language": "python",
   "name": "python3"
  },
  "language_info": {
   "codemirror_mode": {
    "name": "ipython",
    "version": 3
   },
   "file_extension": ".py",
   "mimetype": "text/x-python",
   "name": "python",
   "nbconvert_exporter": "python",
   "pygments_lexer": "ipython3",
   "version": "3.7.6"
  },
  "varInspector": {
   "cols": {
    "lenName": 16,
    "lenType": 16,
    "lenVar": 40
   },
   "kernels_config": {
    "python": {
     "delete_cmd_postfix": "",
     "delete_cmd_prefix": "del ",
     "library": "var_list.py",
     "varRefreshCmd": "print(var_dic_list())"
    },
    "r": {
     "delete_cmd_postfix": ") ",
     "delete_cmd_prefix": "rm(",
     "library": "var_list.r",
     "varRefreshCmd": "cat(var_dic_list()) "
    }
   },
   "types_to_exclude": [
    "module",
    "function",
    "builtin_function_or_method",
    "instance",
    "_Feature"
   ],
   "window_display": false
  }
 },
 "nbformat": 4,
 "nbformat_minor": 2
}
