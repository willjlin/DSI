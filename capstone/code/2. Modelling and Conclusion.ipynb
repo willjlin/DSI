{
 "cells": [
  {
   "cell_type": "markdown",
   "metadata": {},
   "source": [
    "# Bank Telemarketing prediction"
   ]
  },
  {
   "cell_type": "markdown",
   "metadata": {},
   "source": [
    "## Modelling and Conclusion\n",
    "\n",
    "\n"
   ]
  },
  {
   "cell_type": "code",
   "execution_count": null,
   "metadata": {},
   "outputs": [],
   "source": []
  },
  {
   "cell_type": "markdown",
   "metadata": {},
   "source": [
    "## 1. Importing libraries"
   ]
  },
  {
   "cell_type": "code",
   "execution_count": 1,
   "metadata": {},
   "outputs": [],
   "source": [
    "import pandas as pd\n",
    "import numpy as np\n",
    "import matplotlib.pyplot as plt\n",
    "\n"
   ]
  },
  {
   "cell_type": "code",
   "execution_count": 2,
   "metadata": {},
   "outputs": [],
   "source": [
    "from sklearn.preprocessing import StandardScaler\n",
    "from sklearn.model_selection import train_test_split, GridSearchCV, cross_val_score\n",
    "from sklearn.linear_model import LogisticRegression\n",
    "from sklearn.metrics import plot_confusion_matrix, recall_score, accuracy_score,roc_auc_score,confusion_matrix\n",
    "from sklearn.ensemble import RandomForestClassifier\n",
    "from sklearn.naive_bayes import GaussianNB\n",
    "from xgboost import XGBClassifier\n",
    "import pickle\n"
   ]
  },
  {
   "cell_type": "code",
   "execution_count": 3,
   "metadata": {
    "scrolled": true
   },
   "outputs": [
    {
     "name": "stderr",
     "output_type": "stream",
     "text": [
      "C:\\Users\\Willlin\\anaconda3\\lib\\site-packages\\tensorflow\\python\\framework\\dtypes.py:526: FutureWarning: Passing (type, 1) or '1type' as a synonym of type is deprecated; in a future version of numpy, it will be understood as (type, (1,)) / '(1,)type'.\n",
      "  _np_qint8 = np.dtype([(\"qint8\", np.int8, 1)])\n",
      "C:\\Users\\Willlin\\anaconda3\\lib\\site-packages\\tensorflow\\python\\framework\\dtypes.py:527: FutureWarning: Passing (type, 1) or '1type' as a synonym of type is deprecated; in a future version of numpy, it will be understood as (type, (1,)) / '(1,)type'.\n",
      "  _np_quint8 = np.dtype([(\"quint8\", np.uint8, 1)])\n",
      "C:\\Users\\Willlin\\anaconda3\\lib\\site-packages\\tensorflow\\python\\framework\\dtypes.py:528: FutureWarning: Passing (type, 1) or '1type' as a synonym of type is deprecated; in a future version of numpy, it will be understood as (type, (1,)) / '(1,)type'.\n",
      "  _np_qint16 = np.dtype([(\"qint16\", np.int16, 1)])\n",
      "C:\\Users\\Willlin\\anaconda3\\lib\\site-packages\\tensorflow\\python\\framework\\dtypes.py:529: FutureWarning: Passing (type, 1) or '1type' as a synonym of type is deprecated; in a future version of numpy, it will be understood as (type, (1,)) / '(1,)type'.\n",
      "  _np_quint16 = np.dtype([(\"quint16\", np.uint16, 1)])\n",
      "C:\\Users\\Willlin\\anaconda3\\lib\\site-packages\\tensorflow\\python\\framework\\dtypes.py:530: FutureWarning: Passing (type, 1) or '1type' as a synonym of type is deprecated; in a future version of numpy, it will be understood as (type, (1,)) / '(1,)type'.\n",
      "  _np_qint32 = np.dtype([(\"qint32\", np.int32, 1)])\n",
      "C:\\Users\\Willlin\\anaconda3\\lib\\site-packages\\tensorflow\\python\\framework\\dtypes.py:535: FutureWarning: Passing (type, 1) or '1type' as a synonym of type is deprecated; in a future version of numpy, it will be understood as (type, (1,)) / '(1,)type'.\n",
      "  np_resource = np.dtype([(\"resource\", np.ubyte, 1)])\n"
     ]
    }
   ],
   "source": [
    "from imblearn.over_sampling import SMOTE\n",
    "from imblearn.pipeline import Pipeline"
   ]
  },
  {
   "cell_type": "code",
   "execution_count": null,
   "metadata": {},
   "outputs": [],
   "source": []
  },
  {
   "cell_type": "markdown",
   "metadata": {},
   "source": [
    "## 2. Reading clean Dataset"
   ]
  },
  {
   "cell_type": "markdown",
   "metadata": {},
   "source": [
    "### 2.1.  Full bank dataset aka train data"
   ]
  },
  {
   "cell_type": "code",
   "execution_count": 4,
   "metadata": {},
   "outputs": [],
   "source": [
    "bank_af= pd.read_csv('../dataset/bank_af_final.csv')"
   ]
  },
  {
   "cell_type": "code",
   "execution_count": 5,
   "metadata": {},
   "outputs": [
    {
     "data": {
      "text/html": [
       "<div>\n",
       "<style scoped>\n",
       "    .dataframe tbody tr th:only-of-type {\n",
       "        vertical-align: middle;\n",
       "    }\n",
       "\n",
       "    .dataframe tbody tr th {\n",
       "        vertical-align: top;\n",
       "    }\n",
       "\n",
       "    .dataframe thead th {\n",
       "        text-align: right;\n",
       "    }\n",
       "</style>\n",
       "<table border=\"1\" class=\"dataframe\">\n",
       "  <thead>\n",
       "    <tr style=\"text-align: right;\">\n",
       "      <th></th>\n",
       "      <th>age</th>\n",
       "      <th>campaign</th>\n",
       "      <th>previous</th>\n",
       "      <th>emp.var.rate</th>\n",
       "      <th>cons.price.idx</th>\n",
       "      <th>cons.conf.idx</th>\n",
       "      <th>y</th>\n",
       "      <th>job_blue-collar</th>\n",
       "      <th>job_entrepreneur</th>\n",
       "      <th>job_housemaid</th>\n",
       "      <th>...</th>\n",
       "      <th>pdays_15 -18 days</th>\n",
       "      <th>pdays_18 -21 days</th>\n",
       "      <th>pdays_21 -27 days</th>\n",
       "      <th>pdays_3 -6 days</th>\n",
       "      <th>pdays_3 days or less</th>\n",
       "      <th>pdays_6 -9 days</th>\n",
       "      <th>pdays_9 -12 days</th>\n",
       "      <th>pdays_new clients</th>\n",
       "      <th>poutcome_nonexistent</th>\n",
       "      <th>poutcome_success</th>\n",
       "    </tr>\n",
       "  </thead>\n",
       "  <tbody>\n",
       "    <tr>\n",
       "      <th>0</th>\n",
       "      <td>56</td>\n",
       "      <td>1</td>\n",
       "      <td>0</td>\n",
       "      <td>1.1</td>\n",
       "      <td>93.994</td>\n",
       "      <td>-36.4</td>\n",
       "      <td>0</td>\n",
       "      <td>0</td>\n",
       "      <td>0</td>\n",
       "      <td>1</td>\n",
       "      <td>...</td>\n",
       "      <td>0</td>\n",
       "      <td>0</td>\n",
       "      <td>0</td>\n",
       "      <td>0</td>\n",
       "      <td>0</td>\n",
       "      <td>0</td>\n",
       "      <td>0</td>\n",
       "      <td>1</td>\n",
       "      <td>1</td>\n",
       "      <td>0</td>\n",
       "    </tr>\n",
       "    <tr>\n",
       "      <th>1</th>\n",
       "      <td>57</td>\n",
       "      <td>1</td>\n",
       "      <td>0</td>\n",
       "      <td>1.1</td>\n",
       "      <td>93.994</td>\n",
       "      <td>-36.4</td>\n",
       "      <td>0</td>\n",
       "      <td>0</td>\n",
       "      <td>0</td>\n",
       "      <td>0</td>\n",
       "      <td>...</td>\n",
       "      <td>0</td>\n",
       "      <td>0</td>\n",
       "      <td>0</td>\n",
       "      <td>0</td>\n",
       "      <td>0</td>\n",
       "      <td>0</td>\n",
       "      <td>0</td>\n",
       "      <td>1</td>\n",
       "      <td>1</td>\n",
       "      <td>0</td>\n",
       "    </tr>\n",
       "    <tr>\n",
       "      <th>2</th>\n",
       "      <td>37</td>\n",
       "      <td>1</td>\n",
       "      <td>0</td>\n",
       "      <td>1.1</td>\n",
       "      <td>93.994</td>\n",
       "      <td>-36.4</td>\n",
       "      <td>0</td>\n",
       "      <td>0</td>\n",
       "      <td>0</td>\n",
       "      <td>0</td>\n",
       "      <td>...</td>\n",
       "      <td>0</td>\n",
       "      <td>0</td>\n",
       "      <td>0</td>\n",
       "      <td>0</td>\n",
       "      <td>0</td>\n",
       "      <td>0</td>\n",
       "      <td>0</td>\n",
       "      <td>1</td>\n",
       "      <td>1</td>\n",
       "      <td>0</td>\n",
       "    </tr>\n",
       "    <tr>\n",
       "      <th>3</th>\n",
       "      <td>40</td>\n",
       "      <td>1</td>\n",
       "      <td>0</td>\n",
       "      <td>1.1</td>\n",
       "      <td>93.994</td>\n",
       "      <td>-36.4</td>\n",
       "      <td>0</td>\n",
       "      <td>0</td>\n",
       "      <td>0</td>\n",
       "      <td>0</td>\n",
       "      <td>...</td>\n",
       "      <td>0</td>\n",
       "      <td>0</td>\n",
       "      <td>0</td>\n",
       "      <td>0</td>\n",
       "      <td>0</td>\n",
       "      <td>0</td>\n",
       "      <td>0</td>\n",
       "      <td>1</td>\n",
       "      <td>1</td>\n",
       "      <td>0</td>\n",
       "    </tr>\n",
       "    <tr>\n",
       "      <th>4</th>\n",
       "      <td>56</td>\n",
       "      <td>1</td>\n",
       "      <td>0</td>\n",
       "      <td>1.1</td>\n",
       "      <td>93.994</td>\n",
       "      <td>-36.4</td>\n",
       "      <td>0</td>\n",
       "      <td>0</td>\n",
       "      <td>0</td>\n",
       "      <td>0</td>\n",
       "      <td>...</td>\n",
       "      <td>0</td>\n",
       "      <td>0</td>\n",
       "      <td>0</td>\n",
       "      <td>0</td>\n",
       "      <td>0</td>\n",
       "      <td>0</td>\n",
       "      <td>0</td>\n",
       "      <td>1</td>\n",
       "      <td>1</td>\n",
       "      <td>0</td>\n",
       "    </tr>\n",
       "  </tbody>\n",
       "</table>\n",
       "<p>5 rows × 58 columns</p>\n",
       "</div>"
      ],
      "text/plain": [
       "   age  campaign  previous  emp.var.rate  cons.price.idx  cons.conf.idx  y  \\\n",
       "0   56         1         0           1.1          93.994          -36.4  0   \n",
       "1   57         1         0           1.1          93.994          -36.4  0   \n",
       "2   37         1         0           1.1          93.994          -36.4  0   \n",
       "3   40         1         0           1.1          93.994          -36.4  0   \n",
       "4   56         1         0           1.1          93.994          -36.4  0   \n",
       "\n",
       "   job_blue-collar  job_entrepreneur  job_housemaid  ...  pdays_15 -18 days  \\\n",
       "0                0                 0              1  ...                  0   \n",
       "1                0                 0              0  ...                  0   \n",
       "2                0                 0              0  ...                  0   \n",
       "3                0                 0              0  ...                  0   \n",
       "4                0                 0              0  ...                  0   \n",
       "\n",
       "   pdays_18 -21 days  pdays_21 -27 days  pdays_3 -6 days  \\\n",
       "0                  0                  0                0   \n",
       "1                  0                  0                0   \n",
       "2                  0                  0                0   \n",
       "3                  0                  0                0   \n",
       "4                  0                  0                0   \n",
       "\n",
       "   pdays_3 days or less  pdays_6 -9 days  pdays_9 -12 days  pdays_new clients  \\\n",
       "0                     0                0                 0                  1   \n",
       "1                     0                0                 0                  1   \n",
       "2                     0                0                 0                  1   \n",
       "3                     0                0                 0                  1   \n",
       "4                     0                0                 0                  1   \n",
       "\n",
       "   poutcome_nonexistent  poutcome_success  \n",
       "0                     1                 0  \n",
       "1                     1                 0  \n",
       "2                     1                 0  \n",
       "3                     1                 0  \n",
       "4                     1                 0  \n",
       "\n",
       "[5 rows x 58 columns]"
      ]
     },
     "execution_count": 5,
     "metadata": {},
     "output_type": "execute_result"
    }
   ],
   "source": [
    "bank_af.head()"
   ]
  },
  {
   "cell_type": "markdown",
   "metadata": {},
   "source": [
    "### 2.2 Preparing train dataset for modeling"
   ]
  },
  {
   "cell_type": "code",
   "execution_count": 6,
   "metadata": {},
   "outputs": [],
   "source": [
    "X = bank_af.drop('y', axis=1)\n",
    "y = bank_af['y']"
   ]
  },
  {
   "cell_type": "code",
   "execution_count": null,
   "metadata": {},
   "outputs": [],
   "source": []
  },
  {
   "cell_type": "code",
   "execution_count": 7,
   "metadata": {},
   "outputs": [
    {
     "data": {
      "text/plain": [
       "(32835, 57)"
      ]
     },
     "execution_count": 7,
     "metadata": {},
     "output_type": "execute_result"
    }
   ],
   "source": [
    "X.shape"
   ]
  },
  {
   "cell_type": "code",
   "execution_count": 8,
   "metadata": {},
   "outputs": [],
   "source": [
    "X_train, X_test, y_train, y_test = train_test_split(X, y, stratify=y,\n",
    "                                                    test_size=0.2, random_state=42)"
   ]
  },
  {
   "cell_type": "code",
   "execution_count": 9,
   "metadata": {},
   "outputs": [],
   "source": [
    "ss = StandardScaler()\n",
    "X_train_ss = ss.fit_transform(X_train)\n",
    "X_test_ss = ss.transform(X_test)"
   ]
  },
  {
   "cell_type": "markdown",
   "metadata": {},
   "source": [
    "## 3.  Modeling"
   ]
  },
  {
   "cell_type": "markdown",
   "metadata": {},
   "source": [
    "### 3.1 Logistic Regression\n"
   ]
  },
  {
   "cell_type": "code",
   "execution_count": 10,
   "metadata": {},
   "outputs": [
    {
     "name": "stdout",
     "output_type": "stream",
     "text": [
      "Validation Score:  [0.88613861 0.86633663 0.87128713 0.83415842 0.86881188]\n",
      "\n",
      " {'lr__C': 0.1473684210526316} \n",
      "\n",
      "Train Accuracy Score:  0.869\n",
      "Test Accuracy Score:  0.86\n",
      "\n",
      "Train Recall Score:  0.875\n",
      "Test Recall Score:  0.883\n"
     ]
    }
   ],
   "source": [
    "pipe_lr = Pipeline([('sm', SMOTE()),\n",
    "    \n",
    "    ('lr', LogisticRegression(random_state=42, max_iter=10_000))\n",
    "])\n",
    "\n",
    "print('Validation Score: ', cross_val_score(pipe_lr, X_train_ss, y_train, cv=5, scoring='recall'))\n",
    "\n",
    "pipe_lr_params = {'lr__C': np.linspace(0.1, 1, 20)}\n",
    "\n",
    "\n",
    "gs_lr = GridSearchCV(pipe_lr, param_grid=pipe_lr_params, cv=5, scoring='recall')\n",
    "\n",
    "gs_lr.fit(X_train_ss, y_train)\n",
    "\n",
    "print('\\n', gs_lr.best_params_, '\\n')\n",
    "\n",
    "best_model_lr = gs_lr.best_estimator_\n",
    "\n",
    "print('Train Accuracy Score: ', round(best_model_lr.score(X_train_ss, y_train), 3))\n",
    "print('Test Accuracy Score: ', round(best_model_lr.score(X_test_ss, y_test), 3))\n",
    "print('\\nTrain Recall Score: ', round(recall_score(y_train, best_model_lr.predict(X_train_ss)), 3))\n",
    "print('Test Recall Score: ', round(recall_score(y_test, best_model_lr.predict(X_test_ss)), 3))\n",
    "\n"
   ]
  },
  {
   "cell_type": "code",
   "execution_count": null,
   "metadata": {},
   "outputs": [],
   "source": []
  },
  {
   "cell_type": "markdown",
   "metadata": {},
   "source": [
    "The model's accuracy on both training and testing data are similar, however the recall score for its test data is slightly higher than its training data. Various hyperparameters were tried and the gap decreased but the slightly higher score still remained. The data processing process was analysed for data leakage but none was found."
   ]
  },
  {
   "cell_type": "markdown",
   "metadata": {},
   "source": [
    "### 3.2 Naive Bayes"
   ]
  },
  {
   "cell_type": "code",
   "execution_count": 11,
   "metadata": {},
   "outputs": [
    {
     "name": "stdout",
     "output_type": "stream",
     "text": [
      "Validation Score:  [0.52227723 0.65841584 0.48267327 0.6039604  0.50990099]\n",
      "\n",
      " {'gb__var_smoothing': 1e-09} \n",
      "\n",
      "Train Accuracy Score:  0.91\n",
      "Test Accuracy Score:  0.903\n",
      "\n",
      "Train Recall Score:  0.506\n",
      "Test Recall Score:  0.487\n"
     ]
    }
   ],
   "source": [
    "pipe_gb = Pipeline([('sm', SMOTE()),\n",
    "    \n",
    "    ('gb', GaussianNB())])\n",
    "\n",
    "print('Validation Score: ', cross_val_score(pipe_gb, X_train_ss, y_train, cv=5, scoring='recall'))\n",
    "\n",
    "pipe_gb_params = {'gb__var_smoothing': np.logspace(0,-9, num=100)}\n",
    "\n",
    "gs_gb = GridSearchCV(pipe_gb, param_grid=pipe_gb_params, cv=5, scoring='recall')\n",
    "\n",
    "gs_gb.fit(X_train_ss, y_train)\n",
    "\n",
    "print('\\n', gs_gb.best_params_, '\\n')\n",
    "\n",
    "best_model_gb = gs_gb.best_estimator_\n",
    "\n",
    "print('Train Accuracy Score: ', round(best_model_gb.score(X_train_ss, y_train), 3))\n",
    "print('Test Accuracy Score: ', round(best_model_gb.score(X_test_ss, y_test), 3))\n",
    "print('\\nTrain Recall Score: ', round(recall_score(y_train, best_model_gb.predict(X_train_ss)), 3))\n",
    "print('Test Recall Score: ', round(recall_score(y_test, best_model_gb.predict(X_test_ss)), 3))"
   ]
  },
  {
   "cell_type": "markdown",
   "metadata": {},
   "source": [
    "Naive Bayes classifiers are classifiers which use probabilities for their classifications and are based on Bayes' Theorem. They assume that the features are independent from each other and are supposed to achieve high accuracy.\n",
    "\n",
    "The model's accuracy on both training and testing data are similar, however the recall score for its test data is slightly higher than its training data. Various hyperparameters were tried and the gap decreased but the slightly higher score still remained. The data processing process was analysed for data leakage but none was found."
   ]
  },
  {
   "cell_type": "markdown",
   "metadata": {},
   "source": [
    "### 3.3 Random Forest"
   ]
  },
  {
   "cell_type": "code",
   "execution_count": 12,
   "metadata": {},
   "outputs": [
    {
     "name": "stdout",
     "output_type": "stream",
     "text": [
      "Validation Score:  [0.47524752 0.47772277 0.4480198  0.46534653 0.45049505]\n",
      "\n",
      " {'rf__max_depth': 1, 'rf__n_estimators': 150} \n",
      "\n",
      "Train Accuracy Score:  0.76\n",
      "Test Accuracy Score:  0.74\n",
      "\n",
      "Train Recall Score:  0.812\n",
      "Test Recall Score:  0.808\n"
     ]
    }
   ],
   "source": [
    "pipe_rf = Pipeline([('sm', SMOTE()),\n",
    "    \n",
    "    ('rf', RandomForestClassifier(n_estimators=100))\n",
    "])\n",
    "\n",
    "print('Validation Score: ', cross_val_score(pipe_rf, X_train_ss, y_train, cv=5, scoring='recall'))\n",
    "\n",
    "rf_params = {\n",
    "    'rf__n_estimators': [100, 150, 200],\n",
    "    'rf__max_depth': [None, 1, 2, 3, 4, 5],\n",
    "}\n",
    "\n",
    "\n",
    "gs_rf = GridSearchCV(pipe_rf, param_grid=rf_params, cv=5, scoring='recall')\n",
    "\n",
    "gs_rf.fit(X_train_ss, y_train)\n",
    "\n",
    "print('\\n', gs_rf.best_params_, '\\n')\n",
    "\n",
    "best_model_rf = gs_rf.best_estimator_\n",
    "\n",
    "print('Train Accuracy Score: ', round(best_model_rf.score(X_train_ss, y_train), 3))\n",
    "print('Test Accuracy Score: ', round(best_model_rf.score(X_test_ss, y_test), 3))\n",
    "print('\\nTrain Recall Score: ', round(recall_score(y_train, best_model_rf.predict(X_train_ss)), 3))\n",
    "print('Test Recall Score: ', round(recall_score(y_test, best_model_rf.predict(X_test_ss)), 3))\n",
    "\n"
   ]
  },
  {
   "cell_type": "markdown",
   "metadata": {},
   "source": [
    "Naive Bayes classifiers are classifiers which use probabilities for their classifications and are based on Bayes' Theorem. They assume that the features are independent from each other and are supposed to achieve high accuracy.\n",
    "\n",
    "The model's accuracy score and recall score is slightly higher for the training set than the test set. Various hyperparameters were tried and the gap decreased but the slightly higher score still remained. "
   ]
  },
  {
   "cell_type": "code",
   "execution_count": null,
   "metadata": {},
   "outputs": [],
   "source": []
  },
  {
   "cell_type": "markdown",
   "metadata": {},
   "source": [
    "### 3.4 XGBoost"
   ]
  },
  {
   "cell_type": "code",
   "execution_count": 43,
   "metadata": {},
   "outputs": [
    {
     "name": "stdout",
     "output_type": "stream",
     "text": [
      "Accuracy Score:  [0.64851485 0.62128713 0.58663366 0.58168317 0.62376238]\n",
      "\n",
      " {'x__learning_rate': 0.001, 'x__max_depth': 5, 'x__min_child_weight': 4, 'x__n_estimators': 600, 'x__nthread': 2, 'x__objective': 'binary:logistic', 'x__silent': 1, 'x__subsample': 0.7} \n",
      "\n",
      "Train Accuracy Score:  0.872\n",
      "Test Accuracy Score:  0.861\n",
      "\n",
      "Train Recall Score:  0.847\n",
      "Test Recall Score:  0.818\n"
     ]
    }
   ],
   "source": [
    "pipe_x = Pipeline([('sm', SMOTE()),\n",
    "    \n",
    "    ('x', XGBClassifier(random_state = 42))\n",
    "])\n",
    "\n",
    "print('Accuracy Score: ', cross_val_score(pipe_x, X_train_ss, y_train, cv=5, scoring='recall'))\n",
    "\n",
    "pipe_params_x = {\n",
    "\n",
    "'x__nthread':[1,2],\n",
    "'x__objective':['binary:logistic'],\n",
    "'x__learning_rate': [0.1, 0.01, 0.001],\n",
    "'x__max_depth': [5],\n",
    "'x__min_child_weight': [4],\n",
    "'x__silent': [1],\n",
    "'x__subsample': [0.7, 0.8],\n",
    "'x__n_estimators': [200, 300, 400, 500, 600]}\n",
    "\n",
    "gs_x = GridSearchCV(pipe_x, \n",
    "                  param_grid=pipe_params_x, \n",
    "                  cv=5,scoring='recall') \n",
    "\n",
    "gs_x.fit(X_train_ss, y_train)\n",
    "\n",
    "print('\\n', gs_x.best_params_, '\\n')\n",
    "\n",
    "best_model_x = gs_x.best_estimator_\n",
    "\n",
    "print('Train Accuracy Score: ', round(best_model_x.score(X_train_ss, y_train), 3))\n",
    "print('Test Accuracy Score: ', round(best_model_x.score(X_test_ss, y_test), 3))\n",
    "print('\\nTrain Recall Score: ', round(recall_score(y_train, best_model_x.predict(X_train_ss)), 3))\n",
    "print('Test Recall Score: ', round(recall_score(y_test, best_model_x.predict(X_test_ss)), 3))"
   ]
  },
  {
   "cell_type": "markdown",
   "metadata": {},
   "source": [
    "XGBoost (eXtreme Gradient Boosting) is an advanced version of gradient boosted decision trees designed to be efficient, flexible and portable.\n",
    "\n",
    "The model's accuracy score and recall score is slightly higher for the training set than the test set. Various hyperparameters were tried and the gap decreased but the slightly higher score still remained. "
   ]
  },
  {
   "cell_type": "code",
   "execution_count": null,
   "metadata": {},
   "outputs": [],
   "source": []
  },
  {
   "cell_type": "markdown",
   "metadata": {},
   "source": [
    "### 3.5  Production model selection"
   ]
  },
  {
   "cell_type": "markdown",
   "metadata": {},
   "source": [
    "As Logistic regression has the highest recall score out all the models, it will reduce the false negatives and hence enable the bank to reduce the number of missed positive class. It is selected as the production model."
   ]
  },
  {
   "cell_type": "markdown",
   "metadata": {},
   "source": [
    "## 4. Model Evaluation"
   ]
  },
  {
   "cell_type": "code",
   "execution_count": 15,
   "metadata": {},
   "outputs": [],
   "source": [
    "# Create a dataframe called pred_df that contains:\n",
    "# 1. The list of true values of our test set.\n",
    "# 2. The list of predicted probabilities based on our model.\n",
    "\n",
    "pred_proba = [i[1] for i in best_model_lr.predict_proba(X_test_ss)]\n",
    "\n",
    "pred_df = pd.DataFrame({'true_values': y_test,\n",
    "                        'pred_probs':pred_proba})"
   ]
  },
  {
   "cell_type": "code",
   "execution_count": 16,
   "metadata": {},
   "outputs": [],
   "source": [
    "pred_y = best_model_lr.predict(X_test_ss)"
   ]
  },
  {
   "cell_type": "markdown",
   "metadata": {},
   "source": [
    "### 4.1 Sensitivity and Specificity"
   ]
  },
  {
   "cell_type": "code",
   "execution_count": 17,
   "metadata": {},
   "outputs": [
    {
     "name": "stdout",
     "output_type": "stream",
     "text": [
      "Logistic Regression Specificity: 0.8583\n",
      "Logisitic Regression Sensitivity: 0.8832\n"
     ]
    }
   ],
   "source": [
    "tn, fp, fn, tp = confusion_matrix(y_test, pred_y).ravel()\n",
    "\n",
    "# The test specificity of the model\n",
    "\n",
    "spec = tn / (tn + fp)\n",
    "\n",
    "print(f'Logistic Regression Specificity: {round(spec,4)}')\n",
    "\n",
    "# The test sensitivity of the model\n",
    "\n",
    "sens = tp / (tp + fn)\n",
    "\n",
    "print(f'Logisitic Regression Sensitivity: {round(sens,4)}')"
   ]
  },
  {
   "cell_type": "markdown",
   "metadata": {},
   "source": [
    "### 4.2 Confusion Matrix"
   ]
  },
  {
   "cell_type": "code",
   "execution_count": 18,
   "metadata": {},
   "outputs": [
    {
     "data": {
      "image/png": "[encoded data removed]",
      "text/plain": [
       "<Figure size 576x576 with 2 Axes>"
      ]
     },
     "metadata": {
      "needs_background": "light"
     },
     "output_type": "display_data"
    }
   ],
   "source": [
    "# plotting Confusion matrix\n",
    "fig, ax = plt.subplots(figsize=(8, 8))\n",
    "plot_confusion_matrix(best_model_lr, X_test_ss, y_test, ax=ax, values_format = '.5g',cmap=plt.cm.Blues);"
   ]
  },
  {
   "cell_type": "markdown",
   "metadata": {},
   "source": [
    "The model has a small number of false negatives which is good as we want to minimize the number of true cases that we miss."
   ]
  },
  {
   "cell_type": "markdown",
   "metadata": {},
   "source": [
    "### 4.3 Distribution of predicted probabilities"
   ]
  },
  {
   "cell_type": "code",
   "execution_count": 19,
   "metadata": {},
   "outputs": [
    {
     "data": {
      "image/png": "[encoded data removed]",
      "text/plain": [
       "<Figure size 720x504 with 1 Axes>"
      ]
     },
     "metadata": {
      "needs_background": "light"
     },
     "output_type": "display_data"
    }
   ],
   "source": [
    "# Create figure.\n",
    "plt.figure(figsize = (10,7))\n",
    "\n",
    "# Create two histograms of observations.\n",
    "plt.hist(pred_df[pred_df['true_values'] == 0]['pred_probs'], color = 'b', alpha = 0.6, label = 'Outcome = 0')\n",
    "plt.hist(pred_df[pred_df['true_values'] == 1]['pred_probs'], color = 'orange', alpha = 0.6, label = 'Outcome = 1')\n",
    "\n",
    "# Add vertical line at P(Outcome = 1) = 0.5.\n",
    "plt.vlines(x = 0.5, ymin = 0, ymax = 4000, color = 'r', linestyle = '--')\n",
    "\n",
    "# Add annotations for TN, FN, TP, FP.\n",
    "plt.annotate(xy = (0.15, 100), s = 'TN', size = 20)\n",
    "plt.annotate(xy = (0.3, 5), s = 'FN', size = 20)\n",
    "plt.annotate(xy = (0.75, 5), s = 'TP', size = 20)\n",
    "plt.annotate(xy = (0.65, 70), s = 'FP', size = 20)\n",
    "\n",
    "# Label axes.\n",
    "plt.title('Logistic Regression Distribution of P(Outcome = 1)', fontsize = 22)\n",
    "plt.ylabel('Frequency', fontsize = 18)\n",
    "plt.xlabel('Predicted Probability that Outcome = 1', fontsize = 18)\n",
    "\n",
    "# Create legend.\n",
    "plt.legend(fontsize = 20);"
   ]
  },
  {
   "cell_type": "markdown",
   "metadata": {},
   "source": [
    "The distribution of the predicted probilities of the negative and positive classes shows that the predicted possibilities of the negative class (blue) is more than the positive class (orange). There is also quite a bit of overlap between both classes.\n",
    "\n",
    "The threshold shown in the graph is 0.5 which seems an optimal balance to distinguish both the classes. The preference would be for the model to predict more of the positive class than negative class.\n",
    "\n",
    "In addition, there is a tradeoff between sensitivity and specificity if the threshold is to be moved.\n",
    "\n",
    "One measure of how much overlap exists between our distributions is the area under the ROC curve."
   ]
  },
  {
   "cell_type": "markdown",
   "metadata": {},
   "source": [
    "### 4.4 ROC Curve with AUC"
   ]
  },
  {
   "cell_type": "code",
   "execution_count": 20,
   "metadata": {},
   "outputs": [
    {
     "data": {
      "image/png": "[encoded data removed]",
      "text/plain": [
       "<Figure size 720x504 with 1 Axes>"
      ]
     },
     "metadata": {
      "needs_background": "light"
     },
     "output_type": "display_data"
    }
   ],
   "source": [
    "# Create figure.\n",
    "plt.figure(figsize = (10,7))\n",
    "\n",
    "# Create threshold values. (Dashed red line in image.)\n",
    "thresholds = np.linspace(0, 1, 200)\n",
    "\n",
    "# Define function to calculate sensitivity. (True positive rate.)\n",
    "def TPR(df, true_col, pred_prob_col, threshold):\n",
    "    true_positive = df[(df[true_col] == 1) & (df[pred_prob_col] >= threshold)].shape[0]\n",
    "    false_negative = df[(df[true_col] == 1) & (df[pred_prob_col] < threshold)].shape[0]\n",
    "    return true_positive / (true_positive + false_negative)\n",
    "\n",
    "# Define function to calculate 1 - specificity. (False positive rate.)\n",
    "def FPR(df, true_col, pred_prob_col, threshold):\n",
    "    true_negative = df[(df[true_col] == 0) & (df[pred_prob_col] <= threshold)].shape[0]\n",
    "    false_positive = df[(df[true_col] == 0) & (df[pred_prob_col] > threshold)].shape[0]\n",
    "    return 1 - (true_negative / (true_negative + false_positive))\n",
    "    \n",
    "# Calculate sensitivity & 1-specificity for each threshold between 0 and 1.\n",
    "tpr_values = [TPR(pred_df, 'true_values', 'pred_probs', prob) for prob in thresholds]\n",
    "fpr_values = [FPR(pred_df, 'true_values', 'pred_probs', prob) for prob in thresholds]\n",
    "\n",
    "# Plot ROC curve.\n",
    "plt.plot(fpr_values, tpr_values, label='ROC Curve')\n",
    "\n",
    "# Plot baseline. (Perfect overlap between the two populations.)\n",
    "plt.plot(np.linspace(0, 1, 200), np.linspace(0, 1, 200), label='baseline', linestyle='--')\n",
    "\n",
    "# Label axes.\n",
    "plt.title(f'Logistic Regression ROC Curve with AUC = {round(roc_auc_score(pred_df[\"true_values\"], pred_df[\"pred_probs\"]),3)}', fontsize=22)\n",
    "plt.ylabel('Sensitivity', fontsize=18)\n",
    "plt.xlabel('1 - Specificity', fontsize=18)\n",
    "\n",
    "# Create legend.\n",
    "plt.legend(fontsize=16);"
   ]
  },
  {
   "cell_type": "code",
   "execution_count": 21,
   "metadata": {},
   "outputs": [
    {
     "name": "stdout",
     "output_type": "stream",
     "text": [
      "Baseline Score: 0.500\n",
      "ROC-AUC Score: 0.934\n"
     ]
    }
   ],
   "source": [
    "print(\"Baseline Score: 0.500\")\n",
    "print(\"ROC-AUC Score:\", round(roc_auc_score(pred_df['true_values'], pred_df['pred_probs']), 3))"
   ]
  },
  {
   "cell_type": "markdown",
   "metadata": {},
   "source": [
    "The AUC - ROC curve or AUC (Area Under The Curve) ROC (Receiver Operating Characteristics) curve is used to visualize the model's performance is classification. The higher the score , the better the model is predicting the negative and positive class.\n",
    "\n",
    "The score of near to 1 or 1 indicates the model has almost perfect or perfect ability to classify between the 2 classes.\n",
    "\n",
    "The score of 0.5, means model is unable to distinguish either class.\n",
    "\n",
    "A score of zero means the model is classifying the positive class as the negative class and vice versa.\n",
    "\n",
    "Our model has a score of 0.933 indicates that it can distinguish between the 2 classes with some accuracy, which should be very good as it is important to predict clients who would purchase the term deposit."
   ]
  },
  {
   "cell_type": "markdown",
   "metadata": {},
   "source": [
    "### 5 Analysis of impactful features"
   ]
  },
  {
   "cell_type": "code",
   "execution_count": 22,
   "metadata": {},
   "outputs": [],
   "source": [
    "# mapping coefficients and their corresponding words into a mainframe\n",
    "columns = X.columns\n",
    "coefficients =pd.DataFrame(best_model_lr.steps[1][1].coef_.T, \n",
    "                     index = columns, \n",
    "                     columns=['coef'])\n",
    "\n",
    "\n",
    "\n",
    "coefficient = coefficients.sort_values('coef', ascending=False)['coef']\n",
    "\n"
   ]
  },
  {
   "cell_type": "code",
   "execution_count": 23,
   "metadata": {},
   "outputs": [],
   "source": [
    "labels = coefficient.sort_values().index"
   ]
  },
  {
   "cell_type": "code",
   "execution_count": 24,
   "metadata": {},
   "outputs": [
    {
     "data": {
      "image/png": "[encoded data removed]",
      "text/plain": [
       "<Figure size 720x720 with 1 Axes>"
      ]
     },
     "metadata": {
      "needs_background": "light"
     },
     "output_type": "display_data"
    }
   ],
   "source": [
    "plt.figure(figsize=(10,10))\n",
    "plt.barh(labels, coefficient.sort_values() )\n",
    "plt.yticks(fontsize=10)\n",
    "plt.xticks(fontsize=10)\n",
    "plt.xlabel('coefficient', fontsize=15)\n",
    "plt.title('Impactful features and coefficient', fontsize=22)\n",
    "plt.tight_layout()"
   ]
  },
  {
   "cell_type": "code",
   "execution_count": 25,
   "metadata": {},
   "outputs": [],
   "source": [
    "# Sorting into the top 20 coefficients and their words\n",
    "coefficient_20 = (coefficients.sort_values('coef', ascending=False))['coef'][:20]\n"
   ]
  },
  {
   "cell_type": "code",
   "execution_count": 26,
   "metadata": {},
   "outputs": [
    {
     "data": {
      "text/plain": [
       "duration_8-10 mins               1.135907\n",
       "duration_6-8 mins                1.026296\n",
       "duration_4-6 mins                0.906829\n",
       "cons.price.idx                   0.892470\n",
       "duration_2-4 mins                0.711558\n",
       "duration_10-12 mins              0.662269\n",
       "month_aug                        0.295315\n",
       "poutcome_nonexistent             0.223843\n",
       "month_mar                        0.219681\n",
       "month_oct                        0.211931\n",
       "education_university.degree      0.190919\n",
       "poutcome_success                 0.175764\n",
       "marital_single                   0.113418\n",
       "marital_married                  0.098637\n",
       "education_professional.course    0.078465\n",
       "pdays_18 -21 days                0.066141\n",
       "job_retired                      0.049882\n",
       "pdays_3 days or less             0.045616\n",
       "job_student                      0.025836\n",
       "housing_yes                      0.024906\n",
       "Name: coef, dtype: float64"
      ]
     },
     "execution_count": 26,
     "metadata": {},
     "output_type": "execute_result"
    }
   ],
   "source": [
    "coefficient_20"
   ]
  },
  {
   "cell_type": "markdown",
   "metadata": {},
   "source": [
    "The various duration features are the top impactful features which aligns to the research done by the data creator (Moro et al., 2014] S. Moro, P. Cortez and P. Rita. A Data-Driven Approach to Predict the Success of Bank Telemarketing. Decision Support Systems, Elsevier, 62:22-31, June 2014). \n",
    "\n",
    "This makes sense as the longer the call duration, the more time the telemarketer as to convince the customer to purchase the product. However although the duration is a good feature to analyse, as the duration can only be derived after the call has been made, it is not a useful feature to help predict before a call is made. Hence another analysis should be conducted after the duration feature is dropped.\n",
    "\n",
    "Analysis of the other features will be done after duration is dropped."
   ]
  },
  {
   "cell_type": "code",
   "execution_count": null,
   "metadata": {},
   "outputs": [],
   "source": []
  },
  {
   "cell_type": "markdown",
   "metadata": {},
   "source": [
    "## 6. Dropping Duration column"
   ]
  },
  {
   "cell_type": "code",
   "execution_count": 27,
   "metadata": {},
   "outputs": [
    {
     "data": {
      "text/plain": [
       "Index(['age', 'campaign', 'previous', 'emp.var.rate', 'cons.price.idx',\n",
       "       'cons.conf.idx', 'y', 'job_blue-collar', 'job_entrepreneur',\n",
       "       'job_housemaid', 'job_management', 'job_retired', 'job_self-employed',\n",
       "       'job_services', 'job_student', 'job_technician', 'job_unemployed',\n",
       "       'marital_married', 'marital_single', 'education_basic.6y',\n",
       "       'education_basic.9y', 'education_high.school', 'education_illiterate',\n",
       "       'education_professional.course', 'education_university.degree',\n",
       "       'default_unknown', 'default_yes', 'housing_yes', 'loan_yes',\n",
       "       'contact_telephone', 'month_aug', 'month_dec', 'month_jul', 'month_jun',\n",
       "       'month_mar', 'month_may', 'month_nov', 'month_oct', 'month_sep',\n",
       "       'day_of_week_mon', 'day_of_week_thu', 'day_of_week_tue',\n",
       "       'day_of_week_wed', 'duration_10-12 mins', 'duration_2-4 mins',\n",
       "       'duration_4-6 mins', 'duration_6-8 mins', 'duration_8-10 mins',\n",
       "       'pdays_15 -18 days', 'pdays_18 -21 days', 'pdays_21 -27 days',\n",
       "       'pdays_3 -6 days', 'pdays_3 days or less', 'pdays_6 -9 days',\n",
       "       'pdays_9 -12 days', 'pdays_new clients', 'poutcome_nonexistent',\n",
       "       'poutcome_success'],\n",
       "      dtype='object')"
      ]
     },
     "execution_count": 27,
     "metadata": {},
     "output_type": "execute_result"
    }
   ],
   "source": [
    "bank_af.columns\n"
   ]
  },
  {
   "cell_type": "code",
   "execution_count": null,
   "metadata": {},
   "outputs": [],
   "source": []
  },
  {
   "cell_type": "code",
   "execution_count": 28,
   "metadata": {},
   "outputs": [],
   "source": [
    "# Dropping duration related columns\n",
    "\n",
    "X_new = bank_af.drop(['y','duration_10-12 mins', 'duration_2-4 mins',\n",
    "       'duration_4-6 mins', 'duration_6-8 mins', 'duration_8-10 mins',], axis=1)\n",
    "y_new = bank_af['y']\n",
    "\n"
   ]
  },
  {
   "cell_type": "code",
   "execution_count": 29,
   "metadata": {},
   "outputs": [
    {
     "data": {
      "text/html": [
       "<div>\n",
       "<style scoped>\n",
       "    .dataframe tbody tr th:only-of-type {\n",
       "        vertical-align: middle;\n",
       "    }\n",
       "\n",
       "    .dataframe tbody tr th {\n",
       "        vertical-align: top;\n",
       "    }\n",
       "\n",
       "    .dataframe thead th {\n",
       "        text-align: right;\n",
       "    }\n",
       "</style>\n",
       "<table border=\"1\" class=\"dataframe\">\n",
       "  <thead>\n",
       "    <tr style=\"text-align: right;\">\n",
       "      <th></th>\n",
       "      <th>age</th>\n",
       "      <th>campaign</th>\n",
       "      <th>previous</th>\n",
       "      <th>emp.var.rate</th>\n",
       "      <th>cons.price.idx</th>\n",
       "      <th>cons.conf.idx</th>\n",
       "      <th>job_blue-collar</th>\n",
       "      <th>job_entrepreneur</th>\n",
       "      <th>job_housemaid</th>\n",
       "      <th>job_management</th>\n",
       "      <th>...</th>\n",
       "      <th>pdays_15 -18 days</th>\n",
       "      <th>pdays_18 -21 days</th>\n",
       "      <th>pdays_21 -27 days</th>\n",
       "      <th>pdays_3 -6 days</th>\n",
       "      <th>pdays_3 days or less</th>\n",
       "      <th>pdays_6 -9 days</th>\n",
       "      <th>pdays_9 -12 days</th>\n",
       "      <th>pdays_new clients</th>\n",
       "      <th>poutcome_nonexistent</th>\n",
       "      <th>poutcome_success</th>\n",
       "    </tr>\n",
       "  </thead>\n",
       "  <tbody>\n",
       "    <tr>\n",
       "      <th>0</th>\n",
       "      <td>56</td>\n",
       "      <td>1</td>\n",
       "      <td>0</td>\n",
       "      <td>1.1</td>\n",
       "      <td>93.994</td>\n",
       "      <td>-36.4</td>\n",
       "      <td>0</td>\n",
       "      <td>0</td>\n",
       "      <td>1</td>\n",
       "      <td>0</td>\n",
       "      <td>...</td>\n",
       "      <td>0</td>\n",
       "      <td>0</td>\n",
       "      <td>0</td>\n",
       "      <td>0</td>\n",
       "      <td>0</td>\n",
       "      <td>0</td>\n",
       "      <td>0</td>\n",
       "      <td>1</td>\n",
       "      <td>1</td>\n",
       "      <td>0</td>\n",
       "    </tr>\n",
       "    <tr>\n",
       "      <th>1</th>\n",
       "      <td>57</td>\n",
       "      <td>1</td>\n",
       "      <td>0</td>\n",
       "      <td>1.1</td>\n",
       "      <td>93.994</td>\n",
       "      <td>-36.4</td>\n",
       "      <td>0</td>\n",
       "      <td>0</td>\n",
       "      <td>0</td>\n",
       "      <td>0</td>\n",
       "      <td>...</td>\n",
       "      <td>0</td>\n",
       "      <td>0</td>\n",
       "      <td>0</td>\n",
       "      <td>0</td>\n",
       "      <td>0</td>\n",
       "      <td>0</td>\n",
       "      <td>0</td>\n",
       "      <td>1</td>\n",
       "      <td>1</td>\n",
       "      <td>0</td>\n",
       "    </tr>\n",
       "    <tr>\n",
       "      <th>2</th>\n",
       "      <td>37</td>\n",
       "      <td>1</td>\n",
       "      <td>0</td>\n",
       "      <td>1.1</td>\n",
       "      <td>93.994</td>\n",
       "      <td>-36.4</td>\n",
       "      <td>0</td>\n",
       "      <td>0</td>\n",
       "      <td>0</td>\n",
       "      <td>0</td>\n",
       "      <td>...</td>\n",
       "      <td>0</td>\n",
       "      <td>0</td>\n",
       "      <td>0</td>\n",
       "      <td>0</td>\n",
       "      <td>0</td>\n",
       "      <td>0</td>\n",
       "      <td>0</td>\n",
       "      <td>1</td>\n",
       "      <td>1</td>\n",
       "      <td>0</td>\n",
       "    </tr>\n",
       "    <tr>\n",
       "      <th>3</th>\n",
       "      <td>40</td>\n",
       "      <td>1</td>\n",
       "      <td>0</td>\n",
       "      <td>1.1</td>\n",
       "      <td>93.994</td>\n",
       "      <td>-36.4</td>\n",
       "      <td>0</td>\n",
       "      <td>0</td>\n",
       "      <td>0</td>\n",
       "      <td>0</td>\n",
       "      <td>...</td>\n",
       "      <td>0</td>\n",
       "      <td>0</td>\n",
       "      <td>0</td>\n",
       "      <td>0</td>\n",
       "      <td>0</td>\n",
       "      <td>0</td>\n",
       "      <td>0</td>\n",
       "      <td>1</td>\n",
       "      <td>1</td>\n",
       "      <td>0</td>\n",
       "    </tr>\n",
       "    <tr>\n",
       "      <th>4</th>\n",
       "      <td>56</td>\n",
       "      <td>1</td>\n",
       "      <td>0</td>\n",
       "      <td>1.1</td>\n",
       "      <td>93.994</td>\n",
       "      <td>-36.4</td>\n",
       "      <td>0</td>\n",
       "      <td>0</td>\n",
       "      <td>0</td>\n",
       "      <td>0</td>\n",
       "      <td>...</td>\n",
       "      <td>0</td>\n",
       "      <td>0</td>\n",
       "      <td>0</td>\n",
       "      <td>0</td>\n",
       "      <td>0</td>\n",
       "      <td>0</td>\n",
       "      <td>0</td>\n",
       "      <td>1</td>\n",
       "      <td>1</td>\n",
       "      <td>0</td>\n",
       "    </tr>\n",
       "  </tbody>\n",
       "</table>\n",
       "<p>5 rows × 52 columns</p>\n",
       "</div>"
      ],
      "text/plain": [
       "   age  campaign  previous  emp.var.rate  cons.price.idx  cons.conf.idx  \\\n",
       "0   56         1         0           1.1          93.994          -36.4   \n",
       "1   57         1         0           1.1          93.994          -36.4   \n",
       "2   37         1         0           1.1          93.994          -36.4   \n",
       "3   40         1         0           1.1          93.994          -36.4   \n",
       "4   56         1         0           1.1          93.994          -36.4   \n",
       "\n",
       "   job_blue-collar  job_entrepreneur  job_housemaid  job_management  ...  \\\n",
       "0                0                 0              1               0  ...   \n",
       "1                0                 0              0               0  ...   \n",
       "2                0                 0              0               0  ...   \n",
       "3                0                 0              0               0  ...   \n",
       "4                0                 0              0               0  ...   \n",
       "\n",
       "   pdays_15 -18 days  pdays_18 -21 days  pdays_21 -27 days  pdays_3 -6 days  \\\n",
       "0                  0                  0                  0                0   \n",
       "1                  0                  0                  0                0   \n",
       "2                  0                  0                  0                0   \n",
       "3                  0                  0                  0                0   \n",
       "4                  0                  0                  0                0   \n",
       "\n",
       "   pdays_3 days or less  pdays_6 -9 days  pdays_9 -12 days  pdays_new clients  \\\n",
       "0                     0                0                 0                  1   \n",
       "1                     0                0                 0                  1   \n",
       "2                     0                0                 0                  1   \n",
       "3                     0                0                 0                  1   \n",
       "4                     0                0                 0                  1   \n",
       "\n",
       "   poutcome_nonexistent  poutcome_success  \n",
       "0                     1                 0  \n",
       "1                     1                 0  \n",
       "2                     1                 0  \n",
       "3                     1                 0  \n",
       "4                     1                 0  \n",
       "\n",
       "[5 rows x 52 columns]"
      ]
     },
     "execution_count": 29,
     "metadata": {},
     "output_type": "execute_result"
    }
   ],
   "source": [
    "X_new.head()"
   ]
  },
  {
   "cell_type": "code",
   "execution_count": 30,
   "metadata": {},
   "outputs": [],
   "source": [
    "# Export engineered dataset to CSV for deployment\n",
    "\n",
    "X_new.to_csv('../dataset/deployment.csv', index=False)"
   ]
  },
  {
   "cell_type": "markdown",
   "metadata": {},
   "source": [
    "### 6.1 Modeling on new dataset"
   ]
  },
  {
   "cell_type": "code",
   "execution_count": 31,
   "metadata": {},
   "outputs": [],
   "source": [
    "# Train test split\n",
    "\n",
    "X_train_new, X_test_new, y_train_new, y_test_new = train_test_split(X_new, y_new, stratify=y_new,\n",
    "                                                    test_size=0.2, random_state=42)\n",
    "\n",
    "ss = StandardScaler()\n",
    "X_train_new_ss = ss.fit_transform(X_train_new)\n",
    "X_test_new_ss = ss.transform(X_test_new)"
   ]
  },
  {
   "cell_type": "markdown",
   "metadata": {},
   "source": [
    "Using Logistic Regression to model as it was the optimum classifier before"
   ]
  },
  {
   "cell_type": "code",
   "execution_count": 32,
   "metadata": {},
   "outputs": [
    {
     "name": "stdout",
     "output_type": "stream",
     "text": [
      "Validation Score:  [0.80445545 0.79207921 0.78465347 0.7549505  0.77722772]\n",
      "\n",
      " {'lr__C': 0.1} \n",
      "\n",
      "Train Accuracy Score:  0.852\n",
      "Test Accuracy Score:  0.838\n",
      "\n",
      "Train Recall Score:  0.788\n",
      "Test Recall Score:  0.772\n"
     ]
    }
   ],
   "source": [
    "pipe_lr = Pipeline([('sm', SMOTE()),\n",
    "    \n",
    "    ('lr', LogisticRegression(random_state=42, max_iter=10_000))\n",
    "])\n",
    "\n",
    "print('Validation Score: ', cross_val_score(pipe_lr, X_train_new_ss, y_train_new, cv=5, scoring='recall'))\n",
    "\n",
    "pipe_lr_params = {'lr__C': np.linspace(0.1, 1, 20)}\n",
    "\n",
    "\n",
    "gs_lr = GridSearchCV(pipe_lr, param_grid=pipe_lr_params, cv=5, scoring='recall')\n",
    "\n",
    "gs_lr.fit(X_train_new_ss, y_train_new)\n",
    "\n",
    "print('\\n', gs_lr.best_params_, '\\n')\n",
    "\n",
    "best_model_lr = gs_lr.best_estimator_\n",
    "\n",
    "print('Train Accuracy Score: ', round(best_model_lr.score(X_train_new_ss, y_train_new), 3))\n",
    "print('Test Accuracy Score: ', round(best_model_lr.score(X_test_new_ss, y_test_new), 3))\n",
    "print('\\nTrain Recall Score: ', round(recall_score(y_train_new, best_model_lr.predict(X_train_new_ss)), 3))\n",
    "print('Test Recall Score: ', round(recall_score(y_test_new, best_model_lr.predict(X_test_new_ss)), 3))"
   ]
  },
  {
   "cell_type": "markdown",
   "metadata": {},
   "source": [
    "Dropping the duration feature has caused the model's accuracy and recall score to drop, which is to be expected since it was one of the most impactful features."
   ]
  },
  {
   "cell_type": "markdown",
   "metadata": {},
   "source": []
  },
  {
   "cell_type": "code",
   "execution_count": 33,
   "metadata": {},
   "outputs": [],
   "source": [
    "# pickling model for deployment\n",
    "filename= 'capstone.pkl'\n",
    "pickle.dump(best_model_lr, open(filename,'wb'))"
   ]
  },
  {
   "cell_type": "markdown",
   "metadata": {},
   "source": [
    "## 7 Analysis of impactful features after dropping the duration related features"
   ]
  },
  {
   "cell_type": "code",
   "execution_count": 34,
   "metadata": {},
   "outputs": [],
   "source": [
    "# mapping coefficients into a mainframe\n",
    "columns = X_train_new.columns\n",
    "coefficients =pd.DataFrame(best_model_lr.steps[1][1].coef_.T, \n",
    "                     index = columns, \n",
    "                     columns=['coef'])\n",
    "\n",
    "\n",
    "coefficient = coefficients.sort_values('coef', ascending=False)['coef']\n"
   ]
  },
  {
   "cell_type": "code",
   "execution_count": 35,
   "metadata": {},
   "outputs": [],
   "source": [
    "labels = coefficient.sort_values().index"
   ]
  },
  {
   "cell_type": "code",
   "execution_count": 36,
   "metadata": {},
   "outputs": [
    {
     "data": {
      "image/png": "[encoded data removed]",
      "text/plain": [
       "<Figure size 720x576 with 1 Axes>"
      ]
     },
     "metadata": {
      "needs_background": "light"
     },
     "output_type": "display_data"
    }
   ],
   "source": [
    "# plotting coeffients\n",
    "\n",
    "plt.figure(figsize=(10,8))\n",
    "plt.barh(labels, coefficient.sort_values() )\n",
    "plt.yticks(fontsize=10)\n",
    "plt.xticks(fontsize=10)\n",
    "plt.xlabel('coefficient', fontsize=15)\n",
    "plt.title('Impactful features and coefficient', fontsize=22)\n",
    "plt.tight_layout()"
   ]
  },
  {
   "cell_type": "code",
   "execution_count": 37,
   "metadata": {},
   "outputs": [
    {
     "data": {
      "text/plain": [
       "cons.price.idx                 0.919063\n",
       "poutcome_nonexistent           0.284462\n",
       "month_aug                      0.247693\n",
       "poutcome_success               0.191082\n",
       "month_mar                      0.177133\n",
       "month_oct                      0.118452\n",
       "education_university.degree    0.101506\n",
       "marital_single                 0.077721\n",
       "job_retired                    0.053781\n",
       "marital_married                0.043123\n",
       "pdays_18 -21 days              0.042390\n",
       "cons.conf.idx                  0.028831\n",
       "month_dec                      0.024902\n",
       "month_jul                      0.022757\n",
       "education_illiterate           0.020432\n",
       "job_student                    0.004837\n",
       "housing_yes                   -0.006057\n",
       "previous                      -0.009243\n",
       "pdays_9 -12 days              -0.011565\n",
       "pdays_3 days or less          -0.014822\n",
       "Name: coef, dtype: float64"
      ]
     },
     "execution_count": 37,
     "metadata": {},
     "output_type": "execute_result"
    }
   ],
   "source": [
    "# Sorting into the top 20 coefficients\n",
    "coefficient_20 = (coefficients.sort_values('coef', ascending=False))['coef'][:20]\n",
    "\n",
    "coefficient_20\n",
    "\n"
   ]
  },
  {
   "cell_type": "markdown",
   "metadata": {},
   "source": [
    "From the graph above, it may seem that the features do not make sense unless the features are grouped under these categories:\n",
    "\n",
    "Economic indicators, time related features, disposable income features, Contacts before the current campaign/ psychological features:, Risk acceptance and yield features.\n",
    "\n",
    "Economic indicators :\n",
    "\n",
    "The negative impact of the employment variation rate means that the higher the variation rate the less likely clients would purchase the product, this could be that the more variation, the more the economy is in flux and hence clients may not want to purchase a product. The positive impact of the consumer price index makes sense as the higher the index, the better the economy is doing and hence clients woud have more disposable income to purchase the financial product.The lower impact of the consumer confidence index make indicate that the consumer confidence index is a lower indicate of economic levels than the consumer price index.\n",
    "\n",
    "Time related features:\n",
    "\n",
    "The next largest negative impact feature is the month of may, it is difficult to derive a trend from the features related to time e.g month, day of week, as seen in the EDA, the number of calls made at each time interval is not equal. During May, the telemarkers made the most calls which could be for reasons such as it was the start of the campaign. Similarly the telemarketers made more calls on Thurs than any other days. Interestingly, the day of week features are much lower than the month features in terms of impact. Hence time related features may not be good predictors.\n",
    "\n",
    "Disposable income features:\n",
    "\n",
    "The next largest negative impact feature is clients contacted via telephone, this could be due to either client's contacted via telephones may not have cellular phones and hence less disposable income or it could be that clients contacted via telephones are at home or in the office and are too busy to listen or purchase the financial product.\n",
    "\n",
    "Other disposable income features such as education, job and marital status also are quite high in negative and positive impact e.g clients with degrees have a high positive impact and people with degrees are most likely to have higher paying jobs. This makes sense as people with higher disposable income would be more likely to be able to purchase a financial product.\n",
    "\n",
    "The negative impact of both housing and personal loans further corrborates the above analysis.\n",
    "\n",
    "Contacts before the current campaign features:\n",
    "\n",
    "It is interesting that the features relating to contacts before the current campaign have the next largest impact e.g putcome - nonexistant, pdays 18-21 days and pdays- new clients. As the values of non-existant can mean that the clients were contacted previously but did not say yes or no. The 2 features seem to indicate a psychological influence i.e clients who were contacted previously would have an impact, in addition, the different pday intervals may indicate the influence of the sales technique called \"keeping the clients warm\" whereby sales personnel would keep in regular contact with the clients to ensure the clients develop a familiarity with themselves or the company. There seems to be a sweet spot of 18-21 days which may mean being contacted too soon may annoy the clients and contacted much later means the client has lost the feeling of familiarity.\n",
    "\n",
    "\n",
    "Risk acceptance and yield:\n",
    "\n",
    "Although it might like a contridiction that clients in management roles have a negative impact on whether they would purchase a product even though they would likely have higher disposable income. This could be due to the type of financial product being marketed. The term deposit is a low risk and hence low yield product. As people in management roles may be more financially saavy, they would likely purchase higher risk product with higher yields.\n",
    "\n"
   ]
  },
  {
   "cell_type": "markdown",
   "metadata": {},
   "source": [
    "## 8. Conclusion"
   ]
  },
  {
   "cell_type": "markdown",
   "metadata": {},
   "source": [
    "From the analysis above, it shows that economic factors have the strongest negative and positive impact on whether a client would purchase a product. This makes sense that higher economic levels would mean clients would more likely purchase a product. \n",
    "\n",
    "Although time related features have the next largest impact, as these are dependent on the number of calls made during that period and the data shows the call numbers were inconsistent for every month, hence any trend derived may not be accurate.\n",
    "\n",
    "It makes sense that clients with higher disposable income would be more likely to purchase a product. Although it may also depend on whether the client is financial savvy as they may wish to purchase other higher yielding financial products.\n",
    "\n",
    "Psychological factors seem to have weakest impact on whether clients make a purchase.\n",
    "\n",
    "However, the model may not be able to generalise at other economic levels and other countries e.g Singapore. The current model is based on information from 2008 - 2010 in Portugal and that period was during a financial crisis and slow economic recovery. In addition it can be seen that calls were not made during the weekend which could be due to labor laws not allowing any work during the weekends and hence the model may not be accurate for countries that do work during the weekends and also when the economic levels are better."
   ]
  },
  {
   "cell_type": "markdown",
   "metadata": {},
   "source": [
    "## 9. Recommendation\n",
    "\n",
    "The features with strong impact on whether clients would purchase a product seem to be external factors such as economic level, and hence out of the bank's control. \n",
    "\n",
    "However, further research can be done to determine whether different client profiles would be willing to purchase different types of financial products during different economic levels. The bank is then able to tweak their financial products accordingly and target appropriate clients. Thus ensuring that the bank is able to get revenue throughout different economic levels. The additional information required would be regarding the client's disposable income, their risk acceptance level, the other financial products bought, the yield of the other financial products bought, the risk level of the financial products bought, the interest rate vs the financial yield.\n",
    "\n",
    "In addition, data on the telemarketer's ability to sell the product would be useful to determine whether selling ability is a strong influence and also whether different telemarketers are able to sell to different client profiles more effectively would determine whether selling ability is another influence on financial product purchase and to help the telemarketers sell more effectively.\n",
    "\n",
    "Furthermore, more years of data and data from other countries need to be analysed to make the model more accurate and generalizable.\n"
   ]
  },
  {
   "cell_type": "markdown",
   "metadata": {},
   "source": [
    "## 10 Further considerations\n",
    "\n",
    "The model can be used to generate leads based on the probability they would purchase a term deposit, which would be helpful for the telemarketers to target high probability clients. This would save the telemarketers time so that they can sell more effectively and hence make the bank's sales more effectively.\n",
    "\n",
    "An example of the generator is found below."
   ]
  },
  {
   "cell_type": "markdown",
   "metadata": {},
   "source": [
    "### 10.1 Lead Generator"
   ]
  },
  {
   "cell_type": "code",
   "execution_count": 38,
   "metadata": {},
   "outputs": [
    {
     "name": "stderr",
     "output_type": "stream",
     "text": [
      "C:\\Users\\Willlin\\anaconda3\\lib\\site-packages\\ipykernel_launcher.py:9: SettingWithCopyWarning: \n",
      "A value is trying to be set on a copy of a slice from a DataFrame.\n",
      "Try using .loc[row_indexer,col_indexer] = value instead\n",
      "\n",
      "See the caveats in the documentation: https://pandas.pydata.org/pandas-docs/stable/user_guide/indexing.html#returning-a-view-versus-a-copy\n",
      "  if __name__ == '__main__':\n",
      "C:\\Users\\Willlin\\anaconda3\\lib\\site-packages\\ipykernel_launcher.py:11: SettingWithCopyWarning: \n",
      "A value is trying to be set on a copy of a slice from a DataFrame.\n",
      "Try using .loc[row_indexer,col_indexer] = value instead\n",
      "\n",
      "See the caveats in the documentation: https://pandas.pydata.org/pandas-docs/stable/user_guide/indexing.html#returning-a-view-versus-a-copy\n",
      "  # This is added back by InteractiveShellApp.init_path()\n"
     ]
    },
    {
     "data": {
      "text/plain": [
       "6772     92970785\n",
       "20468    92215054\n",
       "15272    96582899\n",
       "9383     96368440\n",
       "19163    96293064\n",
       "Name: phone number, dtype: object"
      ]
     },
     "execution_count": 38,
     "metadata": {},
     "output_type": "execute_result"
    }
   ],
   "source": [
    "## Generating random phone numbers\n",
    "\n",
    "from random import randint\n",
    "def random_with_N_digits(n):\n",
    "    range_start = 10**(n-1)\n",
    "    range_end = (10**n)-1\n",
    "    return randint(range_start, range_end)\n",
    "\n",
    "X_train_new[\"phone number\"] = 1\n",
    "\n",
    "X_train_new['phone number'] = X_train_new['phone number'].apply(lambda x:f'{9}{random_with_N_digits(7)}')\n",
    "\n",
    "\n",
    "X_train_new['phone number'].head()\n",
    "\n"
   ]
  },
  {
   "cell_type": "code",
   "execution_count": null,
   "metadata": {},
   "outputs": [],
   "source": []
  },
  {
   "cell_type": "code",
   "execution_count": 39,
   "metadata": {},
   "outputs": [
    {
     "name": "stderr",
     "output_type": "stream",
     "text": [
      "C:\\Users\\Willlin\\anaconda3\\lib\\site-packages\\ipykernel_launcher.py:3: SettingWithCopyWarning: \n",
      "A value is trying to be set on a copy of a slice from a DataFrame.\n",
      "Try using .loc[row_indexer,col_indexer] = value instead\n",
      "\n",
      "See the caveats in the documentation: https://pandas.pydata.org/pandas-docs/stable/user_guide/indexing.html#returning-a-view-versus-a-copy\n",
      "  This is separate from the ipykernel package so we can avoid doing imports until\n"
     ]
    }
   ],
   "source": [
    "## Generating Unique User ID\n",
    "\n",
    "X_train_new['User ID']=np.arange(len(X_train_new)).astype(str)\n",
    "\n",
    "\n",
    "\n"
   ]
  },
  {
   "cell_type": "code",
   "execution_count": null,
   "metadata": {},
   "outputs": [],
   "source": []
  },
  {
   "cell_type": "code",
   "execution_count": 40,
   "metadata": {},
   "outputs": [
    {
     "name": "stderr",
     "output_type": "stream",
     "text": [
      "C:\\Users\\Willlin\\anaconda3\\lib\\site-packages\\ipykernel_launcher.py:4: SettingWithCopyWarning: \n",
      "A value is trying to be set on a copy of a slice from a DataFrame.\n",
      "Try using .loc[row_indexer,col_indexer] = value instead\n",
      "\n",
      "See the caveats in the documentation: https://pandas.pydata.org/pandas-docs/stable/user_guide/indexing.html#returning-a-view-versus-a-copy\n",
      "  after removing the cwd from sys.path.\n"
     ]
    }
   ],
   "source": [
    "## Generating Leads by using sorted from high predicted probability of success to low probability\n",
    "\n",
    "\n",
    "X_train_new['buy_prob'] = [prob[1] for prob in best_model_lr.predict_proba(X_train_new_ss)]\n",
    "\n",
    "submission = X_train_new[['User ID','phone number' ,'buy_prob']]\n",
    "\n"
   ]
  },
  {
   "cell_type": "code",
   "execution_count": 41,
   "metadata": {},
   "outputs": [
    {
     "data": {
      "text/html": [
       "<div>\n",
       "<style scoped>\n",
       "    .dataframe tbody tr th:only-of-type {\n",
       "        vertical-align: middle;\n",
       "    }\n",
       "\n",
       "    .dataframe tbody tr th {\n",
       "        vertical-align: top;\n",
       "    }\n",
       "\n",
       "    .dataframe thead th {\n",
       "        text-align: right;\n",
       "    }\n",
       "</style>\n",
       "<table border=\"1\" class=\"dataframe\">\n",
       "  <thead>\n",
       "    <tr style=\"text-align: right;\">\n",
       "      <th></th>\n",
       "      <th>User ID</th>\n",
       "      <th>phone number</th>\n",
       "      <th>buy_prob</th>\n",
       "    </tr>\n",
       "  </thead>\n",
       "  <tbody>\n",
       "    <tr>\n",
       "      <th>31490</th>\n",
       "      <td>6855</td>\n",
       "      <td>91232352</td>\n",
       "      <td>0.999974</td>\n",
       "    </tr>\n",
       "    <tr>\n",
       "      <th>32677</th>\n",
       "      <td>19616</td>\n",
       "      <td>98253436</td>\n",
       "      <td>0.996867</td>\n",
       "    </tr>\n",
       "    <tr>\n",
       "      <th>32748</th>\n",
       "      <td>6021</td>\n",
       "      <td>96358974</td>\n",
       "      <td>0.996466</td>\n",
       "    </tr>\n",
       "    <tr>\n",
       "      <th>31527</th>\n",
       "      <td>13537</td>\n",
       "      <td>97338971</td>\n",
       "      <td>0.996056</td>\n",
       "    </tr>\n",
       "    <tr>\n",
       "      <th>32720</th>\n",
       "      <td>1925</td>\n",
       "      <td>96112065</td>\n",
       "      <td>0.995852</td>\n",
       "    </tr>\n",
       "  </tbody>\n",
       "</table>\n",
       "</div>"
      ],
      "text/plain": [
       "      User ID phone number  buy_prob\n",
       "31490    6855     91232352  0.999974\n",
       "32677   19616     98253436  0.996867\n",
       "32748    6021     96358974  0.996466\n",
       "31527   13537     97338971  0.996056\n",
       "32720    1925     96112065  0.995852"
      ]
     },
     "execution_count": 41,
     "metadata": {},
     "output_type": "execute_result"
    }
   ],
   "source": [
    "\n",
    "# Getting leads with high probabilities using only success probilities of more than 50%\n",
    "\n",
    "leads=submission.loc[X_train_new.buy_prob >0.5].sort_values(['buy_prob'], ascending= False)\n",
    "\n",
    "leads.head()\n",
    "\n"
   ]
  },
  {
   "cell_type": "code",
   "execution_count": null,
   "metadata": {},
   "outputs": [],
   "source": []
  }
 ],
 "metadata": {
  "kernelspec": {
   "display_name": "Python 3",
   "language": "python",
   "name": "python3"
  },
  "language_info": {
   "codemirror_mode": {
    "name": "ipython",
    "version": 3
   },
   "file_extension": ".py",
   "mimetype": "text/x-python",
   "name": "python",
   "nbconvert_exporter": "python",
   "pygments_lexer": "ipython3",
   "version": "3.7.7"
  }
 },
 "nbformat": 4,
 "nbformat_minor": 4
}
