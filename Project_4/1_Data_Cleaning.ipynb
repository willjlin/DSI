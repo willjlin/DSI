{
 "cells": [
  {
   "cell_type": "markdown",
   "metadata": {},
   "source": [
    "# West Nile Virus Prediction Model and Cost Analysis (Part 1/3)"
   ]
  },
  {
   "cell_type": "markdown",
   "metadata": {},
   "source": [
    "## Problem Statement"
   ]
  },
  {
   "cell_type": "markdown",
   "metadata": {},
   "source": [
    "The deadly, mosquito-borne West Nile Virus has long infested the City of Chicago. It is imperative to develop an accurate predictive model that could identify the key contributing factors that leads to proliferation of the virus. The model and the insights drawn could help the authority to predict future outbreaks of West Nile Virus and thus effectively allocate resources to mitigate it.\n",
    "\n",
    "Logistic Regression, Naive Bayes, Extra Trees and XGboost models will be used to model the data and Accuracy and Recall score will be used to evaluate and find the best model for production and prediction."
   ]
  },
  {
   "cell_type": "markdown",
   "metadata": {
    "colab_type": "text",
    "id": "CAacw0jkf91p"
   },
   "source": [
    "# 1 Initialization"
   ]
  },
  {
   "cell_type": "code",
   "execution_count": 2,
   "metadata": {
    "colab": {},
    "colab_type": "code",
    "id": "4a9ClRX1f-dB"
   },
   "outputs": [],
   "source": [
    "# Import Vanilla Libraries\n",
    "import pandas as pd\n",
    "import numpy as np\n",
    "\n",
    "# Geospatial Libraries\n",
    "import geopandas as gpd\n",
    "from shapely.geometry import Point\n",
    "\n",
    "# Pandas Settings\n",
    "pd.set_option('max_columns', 999)"
   ]
  },
  {
   "cell_type": "markdown",
   "metadata": {
    "colab_type": "text",
    "id": "4KKX6zA0f195"
   },
   "source": [
    "# 2 Weather Data"
   ]
  },
  {
   "cell_type": "code",
   "execution_count": 3,
   "metadata": {
    "colab": {},
    "colab_type": "code",
    "id": "WxEZQ9j6eQMt"
   },
   "outputs": [],
   "source": [
    "# Reading Weather Data, converting 'M' & '-' to Nan\n",
    "weather = pd.read_csv('./assets/weather.csv', parse_dates=['Date'], na_values=['M','-'])"
   ]
  },
  {
   "cell_type": "code",
   "execution_count": 4,
   "metadata": {
    "colab": {
     "base_uri": "https://localhost:8080/",
     "height": 34
    },
    "colab_type": "code",
    "id": "j2NKD4A-gYsE",
    "outputId": "6341a16e-9aa0-4923-dadb-06cbb137a74b"
   },
   "outputs": [
    {
     "data": {
      "text/plain": [
       "(2944, 22)"
      ]
     },
     "execution_count": 4,
     "metadata": {},
     "output_type": "execute_result"
    }
   ],
   "source": [
    "weather.shape"
   ]
  },
  {
   "cell_type": "code",
   "execution_count": 5,
   "metadata": {
    "colab": {
     "base_uri": "https://localhost:8080/",
     "height": 197
    },
    "colab_type": "code",
    "id": "Ey_TrkvNgZU2",
    "outputId": "040fa93e-9b64-4853-d260-d92158c841c3"
   },
   "outputs": [
    {
     "data": {
      "text/html": [
       "<div>\n",
       "<style scoped>\n",
       "    .dataframe tbody tr th:only-of-type {\n",
       "        vertical-align: middle;\n",
       "    }\n",
       "\n",
       "    .dataframe tbody tr th {\n",
       "        vertical-align: top;\n",
       "    }\n",
       "\n",
       "    .dataframe thead th {\n",
       "        text-align: right;\n",
       "    }\n",
       "</style>\n",
       "<table border=\"1\" class=\"dataframe\">\n",
       "  <thead>\n",
       "    <tr style=\"text-align: right;\">\n",
       "      <th></th>\n",
       "      <th>Station</th>\n",
       "      <th>Date</th>\n",
       "      <th>Tmax</th>\n",
       "      <th>Tmin</th>\n",
       "      <th>Tavg</th>\n",
       "      <th>Depart</th>\n",
       "      <th>DewPoint</th>\n",
       "      <th>WetBulb</th>\n",
       "      <th>Heat</th>\n",
       "      <th>Cool</th>\n",
       "      <th>Sunrise</th>\n",
       "      <th>Sunset</th>\n",
       "      <th>CodeSum</th>\n",
       "      <th>Depth</th>\n",
       "      <th>Water1</th>\n",
       "      <th>SnowFall</th>\n",
       "      <th>PrecipTotal</th>\n",
       "      <th>StnPressure</th>\n",
       "      <th>SeaLevel</th>\n",
       "      <th>ResultSpeed</th>\n",
       "      <th>ResultDir</th>\n",
       "      <th>AvgSpeed</th>\n",
       "    </tr>\n",
       "  </thead>\n",
       "  <tbody>\n",
       "    <tr>\n",
       "      <th>0</th>\n",
       "      <td>1</td>\n",
       "      <td>2007-05-01</td>\n",
       "      <td>83</td>\n",
       "      <td>50</td>\n",
       "      <td>67.0</td>\n",
       "      <td>14.0</td>\n",
       "      <td>51</td>\n",
       "      <td>56.0</td>\n",
       "      <td>0.0</td>\n",
       "      <td>2.0</td>\n",
       "      <td>448.0</td>\n",
       "      <td>1849.0</td>\n",
       "      <td></td>\n",
       "      <td>0.0</td>\n",
       "      <td>NaN</td>\n",
       "      <td>0.0</td>\n",
       "      <td>0.00</td>\n",
       "      <td>29.10</td>\n",
       "      <td>29.82</td>\n",
       "      <td>1.7</td>\n",
       "      <td>27</td>\n",
       "      <td>9.2</td>\n",
       "    </tr>\n",
       "    <tr>\n",
       "      <th>1</th>\n",
       "      <td>2</td>\n",
       "      <td>2007-05-01</td>\n",
       "      <td>84</td>\n",
       "      <td>52</td>\n",
       "      <td>68.0</td>\n",
       "      <td>NaN</td>\n",
       "      <td>51</td>\n",
       "      <td>57.0</td>\n",
       "      <td>0.0</td>\n",
       "      <td>3.0</td>\n",
       "      <td>NaN</td>\n",
       "      <td>NaN</td>\n",
       "      <td></td>\n",
       "      <td>NaN</td>\n",
       "      <td>NaN</td>\n",
       "      <td>NaN</td>\n",
       "      <td>0.00</td>\n",
       "      <td>29.18</td>\n",
       "      <td>29.82</td>\n",
       "      <td>2.7</td>\n",
       "      <td>25</td>\n",
       "      <td>9.6</td>\n",
       "    </tr>\n",
       "    <tr>\n",
       "      <th>2</th>\n",
       "      <td>1</td>\n",
       "      <td>2007-05-02</td>\n",
       "      <td>59</td>\n",
       "      <td>42</td>\n",
       "      <td>51.0</td>\n",
       "      <td>-3.0</td>\n",
       "      <td>42</td>\n",
       "      <td>47.0</td>\n",
       "      <td>14.0</td>\n",
       "      <td>0.0</td>\n",
       "      <td>447.0</td>\n",
       "      <td>1850.0</td>\n",
       "      <td>BR</td>\n",
       "      <td>0.0</td>\n",
       "      <td>NaN</td>\n",
       "      <td>0.0</td>\n",
       "      <td>0.00</td>\n",
       "      <td>29.38</td>\n",
       "      <td>30.09</td>\n",
       "      <td>13.0</td>\n",
       "      <td>4</td>\n",
       "      <td>13.4</td>\n",
       "    </tr>\n",
       "    <tr>\n",
       "      <th>3</th>\n",
       "      <td>2</td>\n",
       "      <td>2007-05-02</td>\n",
       "      <td>60</td>\n",
       "      <td>43</td>\n",
       "      <td>52.0</td>\n",
       "      <td>NaN</td>\n",
       "      <td>42</td>\n",
       "      <td>47.0</td>\n",
       "      <td>13.0</td>\n",
       "      <td>0.0</td>\n",
       "      <td>NaN</td>\n",
       "      <td>NaN</td>\n",
       "      <td>BR HZ</td>\n",
       "      <td>NaN</td>\n",
       "      <td>NaN</td>\n",
       "      <td>NaN</td>\n",
       "      <td>0.00</td>\n",
       "      <td>29.44</td>\n",
       "      <td>30.08</td>\n",
       "      <td>13.3</td>\n",
       "      <td>2</td>\n",
       "      <td>13.4</td>\n",
       "    </tr>\n",
       "    <tr>\n",
       "      <th>4</th>\n",
       "      <td>1</td>\n",
       "      <td>2007-05-03</td>\n",
       "      <td>66</td>\n",
       "      <td>46</td>\n",
       "      <td>56.0</td>\n",
       "      <td>2.0</td>\n",
       "      <td>40</td>\n",
       "      <td>48.0</td>\n",
       "      <td>9.0</td>\n",
       "      <td>0.0</td>\n",
       "      <td>446.0</td>\n",
       "      <td>1851.0</td>\n",
       "      <td></td>\n",
       "      <td>0.0</td>\n",
       "      <td>NaN</td>\n",
       "      <td>0.0</td>\n",
       "      <td>0.00</td>\n",
       "      <td>29.39</td>\n",
       "      <td>30.12</td>\n",
       "      <td>11.7</td>\n",
       "      <td>7</td>\n",
       "      <td>11.9</td>\n",
       "    </tr>\n",
       "  </tbody>\n",
       "</table>\n",
       "</div>"
      ],
      "text/plain": [
       "   Station       Date  Tmax  Tmin  Tavg  Depart  DewPoint  WetBulb  Heat  \\\n",
       "0        1 2007-05-01    83    50  67.0    14.0        51     56.0   0.0   \n",
       "1        2 2007-05-01    84    52  68.0     NaN        51     57.0   0.0   \n",
       "2        1 2007-05-02    59    42  51.0    -3.0        42     47.0  14.0   \n",
       "3        2 2007-05-02    60    43  52.0     NaN        42     47.0  13.0   \n",
       "4        1 2007-05-03    66    46  56.0     2.0        40     48.0   9.0   \n",
       "\n",
       "   Cool  Sunrise  Sunset CodeSum  Depth  Water1 SnowFall PrecipTotal  \\\n",
       "0   2.0    448.0  1849.0            0.0     NaN      0.0        0.00   \n",
       "1   3.0      NaN     NaN            NaN     NaN      NaN        0.00   \n",
       "2   0.0    447.0  1850.0      BR    0.0     NaN      0.0        0.00   \n",
       "3   0.0      NaN     NaN   BR HZ    NaN     NaN      NaN        0.00   \n",
       "4   0.0    446.0  1851.0            0.0     NaN      0.0        0.00   \n",
       "\n",
       "   StnPressure  SeaLevel  ResultSpeed  ResultDir  AvgSpeed  \n",
       "0        29.10     29.82          1.7         27       9.2  \n",
       "1        29.18     29.82          2.7         25       9.6  \n",
       "2        29.38     30.09         13.0          4      13.4  \n",
       "3        29.44     30.08         13.3          2      13.4  \n",
       "4        29.39     30.12         11.7          7      11.9  "
      ]
     },
     "execution_count": 5,
     "metadata": {},
     "output_type": "execute_result"
    }
   ],
   "source": [
    "weather.head()"
   ]
  },
  {
   "cell_type": "code",
   "execution_count": 6,
   "metadata": {
    "colab": {
     "base_uri": "https://localhost:8080/",
     "height": 102
    },
    "colab_type": "code",
    "id": "1iKWF7bxgihL",
    "outputId": "97152665-e6b5-45b4-96c9-73e2021d9a7c"
   },
   "outputs": [
    {
     "data": {
      "text/plain": [
       "Index(['Station', 'Date', 'Tmax', 'Tmin', 'Tavg', 'Depart', 'DewPoint',\n",
       "       'WetBulb', 'Heat', 'Cool', 'Sunrise', 'Sunset', 'CodeSum', 'Depth',\n",
       "       'Water1', 'SnowFall', 'PrecipTotal', 'StnPressure', 'SeaLevel',\n",
       "       'ResultSpeed', 'ResultDir', 'AvgSpeed'],\n",
       "      dtype='object')"
      ]
     },
     "execution_count": 6,
     "metadata": {},
     "output_type": "execute_result"
    }
   ],
   "source": [
    "weather.columns"
   ]
  },
  {
   "cell_type": "code",
   "execution_count": 7,
   "metadata": {
    "colab": {
     "base_uri": "https://localhost:8080/",
     "height": 409
    },
    "colab_type": "code",
    "id": "UIkMufyXgjhU",
    "outputId": "1059876b-19f5-4f58-e269-dfe3d2adcc3e"
   },
   "outputs": [
    {
     "data": {
      "text/plain": [
       "Station                 int64\n",
       "Date           datetime64[ns]\n",
       "Tmax                    int64\n",
       "Tmin                    int64\n",
       "Tavg                  float64\n",
       "Depart                float64\n",
       "DewPoint                int64\n",
       "WetBulb               float64\n",
       "Heat                  float64\n",
       "Cool                  float64\n",
       "Sunrise               float64\n",
       "Sunset                float64\n",
       "CodeSum                object\n",
       "Depth                 float64\n",
       "Water1                float64\n",
       "SnowFall               object\n",
       "PrecipTotal            object\n",
       "StnPressure           float64\n",
       "SeaLevel              float64\n",
       "ResultSpeed           float64\n",
       "ResultDir               int64\n",
       "AvgSpeed              float64\n",
       "dtype: object"
      ]
     },
     "execution_count": 7,
     "metadata": {},
     "output_type": "execute_result"
    }
   ],
   "source": [
    "weather.dtypes"
   ]
  },
  {
   "cell_type": "markdown",
   "metadata": {
    "colab_type": "text",
    "id": "P8sd7NADgnYg"
   },
   "source": [
    "## 2.1 Data Type Issue"
   ]
  },
  {
   "cell_type": "markdown",
   "metadata": {
    "colab_type": "text",
    "id": "z-XnqzZwgtY5"
   },
   "source": [
    "From the output above, we can see that all columns are numerical except for CodeSum, SnowFall and PrecipTotal. CodeSum is the code for weather condition at a given day, so it is sensible that it is not numerical. However, the other 2 columns are ought to be numerical. Let's look into each of the 2 columns to find out if there is any invalid value that is causing it to be categorical."
   ]
  },
  {
   "cell_type": "markdown",
   "metadata": {
    "colab_type": "text",
    "id": "5VGxGiCMgv01"
   },
   "source": [
    "### 2.1.1 SnowFall & PrecipTotal"
   ]
  },
  {
   "cell_type": "code",
   "execution_count": 8,
   "metadata": {
    "colab": {
     "base_uri": "https://localhost:8080/",
     "height": 34
    },
    "colab_type": "code",
    "id": "K0EiOr5NglB_",
    "outputId": "e4e5e178-e3fc-4c6b-cae6-e69fb498f179"
   },
   "outputs": [
    {
     "data": {
      "text/plain": [
       "array(['0.0', nan, '  T', '0.1'], dtype=object)"
      ]
     },
     "execution_count": 8,
     "metadata": {},
     "output_type": "execute_result"
    }
   ],
   "source": [
    "# Unique values of SnowFall\n",
    "weather.SnowFall.unique()"
   ]
  },
  {
   "cell_type": "code",
   "execution_count": 9,
   "metadata": {
    "colab": {
     "base_uri": "https://localhost:8080/",
     "height": 392
    },
    "colab_type": "code",
    "id": "_QhFzp1Qg2U2",
    "outputId": "47ccf14f-06c0-4f4f-c288-4a2796672d06"
   },
   "outputs": [
    {
     "data": {
      "text/plain": [
       "array(['0.00', '  T', '0.13', '0.02', '0.38', '0.60', '0.14', '0.07',\n",
       "       '0.11', '0.09', '1.01', '0.28', '0.04', '0.08', '0.01', '0.53',\n",
       "       '0.19', '0.21', '0.32', '0.39', '0.31', '0.42', '0.27', '0.16',\n",
       "       '0.58', '0.93', '0.05', '0.34', '0.15', '0.35', nan, '0.40',\n",
       "       '0.66', '0.30', '0.24', '0.43', '1.55', '0.92', '0.89', '0.17',\n",
       "       '0.03', '1.43', '0.97', '0.26', '1.31', '0.06', '0.46', '0.29',\n",
       "       '0.23', '0.41', '0.45', '0.83', '1.33', '0.91', '0.48', '0.37',\n",
       "       '0.88', '2.35', '1.96', '0.20', '0.25', '0.18', '0.67', '0.36',\n",
       "       '0.33', '1.28', '0.74', '0.76', '0.71', '0.95', '1.46', '0.12',\n",
       "       '0.52', '0.64', '0.22', '1.24', '0.72', '0.73', '0.65', '1.61',\n",
       "       '1.22', '0.50', '1.05', '2.43', '0.59', '2.90', '2.68', '1.23',\n",
       "       '0.62', '6.64', '3.07', '1.44', '1.75', '0.82', '0.80', '0.86',\n",
       "       '0.63', '0.55', '1.03', '0.70', '1.73', '1.38', '0.44', '1.14',\n",
       "       '1.07', '3.97', '0.87', '0.78', '1.12', '0.68', '0.10', '0.61',\n",
       "       '0.54', '1.19', '0.75', '0.84', '1.29', '0.81', '1.15', '1.49',\n",
       "       '1.57', '1.02', '1.30', '0.51', '0.85', '0.79', '0.77', '2.79',\n",
       "       '3.15', '3.64', '4.73', '1.60', '0.57', '2.24', '1.90', '1.06',\n",
       "       '1.88', '0.69', '2.17', '6.86', '0.49', '1.11', '1.21', '0.90',\n",
       "       '1.34', '0.47', '0.56', '3.66', '1.09', '1.25', '1.35', '2.20',\n",
       "       '1.48', '0.96', '1.16', '1.04', '2.03', '2.09', '1.26', '2.60',\n",
       "       '2.06', '3.31', '2.76', '1.82', '0.98', '1.58', '3.17', '1.18'],\n",
       "      dtype=object)"
      ]
     },
     "execution_count": 9,
     "metadata": {},
     "output_type": "execute_result"
    }
   ],
   "source": [
    "# Unique values of PrecipTotal\n",
    "weather.PrecipTotal.unique()"
   ]
  },
  {
   "cell_type": "markdown",
   "metadata": {
    "colab_type": "text",
    "id": "AeQIhVbag3_H"
   },
   "source": [
    "Here we see that '  T' are present in both the columns. Checking through the data dictionary document shows that the code 'T' actually represents 'Trace' amount of either Snow or Precipitation. We can easily replace the value with 0 since it was only traced amount that was not measurable by the sensory equipment."
   ]
  },
  {
   "cell_type": "code",
   "execution_count": 10,
   "metadata": {
    "colab": {},
    "colab_type": "code",
    "id": "AIuM-FJBg5Oo"
   },
   "outputs": [],
   "source": [
    "# Replacing SnowFall 'T' with 0\n",
    "weather['SnowFall'] = weather['SnowFall'].replace('  T', 0).astype(float)\n",
    "\n",
    "# Replacing PrecipTotal 'T' with 0\n",
    "weather['PrecipTotal'] = weather['PrecipTotal'].replace('  T', 0).astype(float)"
   ]
  },
  {
   "cell_type": "code",
   "execution_count": 11,
   "metadata": {
    "colab": {
     "base_uri": "https://localhost:8080/",
     "height": 409
    },
    "colab_type": "code",
    "id": "5eeKzWNcg6xP",
    "outputId": "03d3a1c5-ede3-4860-a143-37f807b29a57"
   },
   "outputs": [
    {
     "data": {
      "text/plain": [
       "Station                 int64\n",
       "Date           datetime64[ns]\n",
       "Tmax                    int64\n",
       "Tmin                    int64\n",
       "Tavg                  float64\n",
       "Depart                float64\n",
       "DewPoint                int64\n",
       "WetBulb               float64\n",
       "Heat                  float64\n",
       "Cool                  float64\n",
       "Sunrise               float64\n",
       "Sunset                float64\n",
       "CodeSum                object\n",
       "Depth                 float64\n",
       "Water1                float64\n",
       "SnowFall              float64\n",
       "PrecipTotal           float64\n",
       "StnPressure           float64\n",
       "SeaLevel              float64\n",
       "ResultSpeed           float64\n",
       "ResultDir               int64\n",
       "AvgSpeed              float64\n",
       "dtype: object"
      ]
     },
     "execution_count": 11,
     "metadata": {},
     "output_type": "execute_result"
    }
   ],
   "source": [
    "# Sanity check on the data type after rectification\n",
    "weather.dtypes"
   ]
  },
  {
   "cell_type": "markdown",
   "metadata": {
    "colab_type": "text",
    "id": "yq6E1-XCg9KV"
   },
   "source": [
    "Now our data type are in a good shape. We can proceed to perform some missing data imputation."
   ]
  },
  {
   "cell_type": "markdown",
   "metadata": {
    "colab_type": "text",
    "id": "7xMno0IUhK7Y"
   },
   "source": [
    "## 2.2 Missing Data Imputation"
   ]
  },
  {
   "cell_type": "markdown",
   "metadata": {
    "colab_type": "text",
    "id": "IR3qTpeUhgRj"
   },
   "source": [
    "### 2.2.1 Data Exploration"
   ]
  },
  {
   "cell_type": "markdown",
   "metadata": {
    "colab_type": "text",
    "id": "xBHNdas7hQEo"
   },
   "source": [
    "We have noticed that the dataframe is actually made up of daily weather report from 2 different weather station in Chicago. So ultimately, we need to find a way to merge 2 stations into 1. But we have to do a sanity check on the value counts to confirm that they are indeed equal-sized."
   ]
  },
  {
   "cell_type": "code",
   "execution_count": 12,
   "metadata": {
    "colab": {
     "base_uri": "https://localhost:8080/",
     "height": 68
    },
    "colab_type": "code",
    "id": "QE0NmeTNg-Na",
    "outputId": "44e08a7d-21fd-494e-8585-a1d2854e6f74"
   },
   "outputs": [
    {
     "data": {
      "text/plain": [
       "1    1472\n",
       "2    1472\n",
       "Name: Station, dtype: int64"
      ]
     },
     "execution_count": 12,
     "metadata": {},
     "output_type": "execute_result"
    }
   ],
   "source": [
    "# Sanity check on Station 1 and 2 value counts\n",
    "weather.Station.value_counts()"
   ]
  },
  {
   "cell_type": "code",
   "execution_count": 13,
   "metadata": {
    "colab": {
     "base_uri": "https://localhost:8080/",
     "height": 409
    },
    "colab_type": "code",
    "id": "-rA1A9r_hS9N",
    "outputId": "cb1f8e65-2854-46f3-fae3-99904f1cc7a7"
   },
   "outputs": [
    {
     "data": {
      "text/plain": [
       "Station           0\n",
       "Date              0\n",
       "Tmax              0\n",
       "Tmin              0\n",
       "Tavg              0\n",
       "Depart            0\n",
       "DewPoint          0\n",
       "WetBulb           3\n",
       "Heat              0\n",
       "Cool              0\n",
       "Sunrise           0\n",
       "Sunset            0\n",
       "CodeSum           0\n",
       "Depth             0\n",
       "Water1         1472\n",
       "SnowFall          0\n",
       "PrecipTotal       0\n",
       "StnPressure       2\n",
       "SeaLevel          5\n",
       "ResultSpeed       0\n",
       "ResultDir         0\n",
       "AvgSpeed          0\n",
       "dtype: int64"
      ]
     },
     "execution_count": 13,
     "metadata": {},
     "output_type": "execute_result"
    }
   ],
   "source": [
    "weather.groupby('Station').get_group(1).isnull().sum()"
   ]
  },
  {
   "cell_type": "code",
   "execution_count": 14,
   "metadata": {
    "colab": {
     "base_uri": "https://localhost:8080/",
     "height": 409
    },
    "colab_type": "code",
    "id": "zl20QhBhhUca",
    "outputId": "e384cb94-7c96-43a1-fe0f-cbae19f19bf1"
   },
   "outputs": [
    {
     "data": {
      "text/plain": [
       "Station           0\n",
       "Date              0\n",
       "Tmax              0\n",
       "Tmin              0\n",
       "Tavg             11\n",
       "Depart         1472\n",
       "DewPoint          0\n",
       "WetBulb           1\n",
       "Heat             11\n",
       "Cool             11\n",
       "Sunrise        1472\n",
       "Sunset         1472\n",
       "CodeSum           0\n",
       "Depth          1472\n",
       "Water1         1472\n",
       "SnowFall       1472\n",
       "PrecipTotal       2\n",
       "StnPressure       2\n",
       "SeaLevel          4\n",
       "ResultSpeed       0\n",
       "ResultDir         0\n",
       "AvgSpeed          3\n",
       "dtype: int64"
      ]
     },
     "execution_count": 14,
     "metadata": {},
     "output_type": "execute_result"
    }
   ],
   "source": [
    "weather.groupby('Station').get_group(2).isnull().sum()"
   ]
  },
  {
   "cell_type": "markdown",
   "metadata": {
    "colab_type": "text",
    "id": "JIKIZZfghXLA"
   },
   "source": [
    "From the missing value above, we can see that Water1 is totally missing from the dataframe. So we may just drop it straight away.\n",
    "However, there are many columns that are totally missing in Station 2, but not Station 1. This is might be because Station 2 was not equipped with the necessary sensory equipment to capture the data. For this case, we simply need to perform a forward filling to fill up any missing data with the previous row.\n",
    "So all missing data from Station 2 will be the same as the one from Station 1 on the same day. While some missing data in Station 1 will be acquired from the previous day, where it is more sensible than the mean/median."
   ]
  },
  {
   "cell_type": "code",
   "execution_count": 15,
   "metadata": {
    "colab": {},
    "colab_type": "code",
    "id": "04pOL4ddhXvF"
   },
   "outputs": [],
   "source": [
    "# Dropping 'Water1' from the dataframe\n",
    "weather.drop('Water1', axis=1, inplace=True)"
   ]
  },
  {
   "cell_type": "code",
   "execution_count": 16,
   "metadata": {
    "colab": {},
    "colab_type": "code",
    "id": "-CuOccSkhY_u"
   },
   "outputs": [],
   "source": [
    "# Forward filling to replace all missing value at Station 2 with Station 1 data\n",
    "weather.fillna(method='ffill', inplace=True)"
   ]
  },
  {
   "cell_type": "markdown",
   "metadata": {
    "colab_type": "text",
    "id": "KAZHf_oXhbja"
   },
   "source": [
    "### 2.2.2 CodeSum"
   ]
  },
  {
   "cell_type": "markdown",
   "metadata": {
    "colab_type": "text",
    "id": "Oyikk1M4hqzS"
   },
   "source": [
    "Next up, we need to deal with the only categorical data, **CodeSum**. From the first 5 rows of the data, we can see that there are rows with empty string. Apparently only days with weather condition will be recorded in the dataset, hence, empty string actually means that it is a weather-wise uneventful day. We can replace all empty string with 'NA' to indicate that."
   ]
  },
  {
   "cell_type": "code",
   "execution_count": 17,
   "metadata": {
    "colab": {
     "base_uri": "https://localhost:8080/",
     "height": 119
    },
    "colab_type": "code",
    "id": "Dj-PlAoEheUz",
    "outputId": "485898cd-ab48-46af-94b0-ab0d3ff783b8"
   },
   "outputs": [
    {
     "data": {
      "text/plain": [
       "0         \n",
       "1         \n",
       "2       BR\n",
       "3    BR HZ\n",
       "4         \n",
       "Name: CodeSum, dtype: object"
      ]
     },
     "execution_count": 17,
     "metadata": {},
     "output_type": "execute_result"
    }
   ],
   "source": [
    "# Checking on the composition of CodeSum\n",
    "weather.CodeSum.head()"
   ]
  },
  {
   "cell_type": "code",
   "execution_count": 18,
   "metadata": {
    "colab": {},
    "colab_type": "code",
    "id": "2o9Pd_4EhuZi"
   },
   "outputs": [],
   "source": [
    "# Replace all empty string with 'NA'\n",
    "weather.CodeSum.replace(' ', 'NA', inplace=True)"
   ]
  },
  {
   "cell_type": "code",
   "execution_count": 19,
   "metadata": {
    "colab": {
     "base_uri": "https://localhost:8080/",
     "height": 119
    },
    "colab_type": "code",
    "id": "l6VQnsR-hvQ6",
    "outputId": "9e634772-97cc-4c4a-c8da-a4d28fa3e83e"
   },
   "outputs": [
    {
     "data": {
      "text/plain": [
       "0       NA\n",
       "1       NA\n",
       "2       BR\n",
       "3    BR HZ\n",
       "4       NA\n",
       "Name: CodeSum, dtype: object"
      ]
     },
     "execution_count": 19,
     "metadata": {},
     "output_type": "execute_result"
    }
   ],
   "source": [
    "# Sanity check on the composition again\n",
    "weather.CodeSum.head()"
   ]
  },
  {
   "cell_type": "markdown",
   "metadata": {
    "colab_type": "text",
    "id": "KxHRzbvYhwXz"
   },
   "source": [
    "The **CodeSum** data would not be useful without proper encoding. We need to a label encoding to create columns for each weather condition. However, we can see that 2 or more weather conditions can happen in a day, so we would need to split each of the row into a list and label-encode everyone of them."
   ]
  },
  {
   "cell_type": "code",
   "execution_count": 20,
   "metadata": {
    "colab": {},
    "colab_type": "code",
    "id": "4BArFSQ2h1ey"
   },
   "outputs": [],
   "source": [
    "# Double for-loop to perform label encoding if the code is not 'NA'\n",
    "for row, codes in enumerate(weather.CodeSum.str.split()):\n",
    "    for code in codes:\n",
    "        if code!='NA':\n",
    "            weather.loc[row, code] = 1\n",
    "\n",
    "# Dropping the original CodeSum column\n",
    "weather.drop('CodeSum', axis=1, inplace=True)\n",
    "\n",
    "# Fill up all missing value with 0 (or negative)\n",
    "weather.loc[:, 'BR':] = weather.loc[:, 'BR':].fillna(0).astype(int)"
   ]
  },
  {
   "cell_type": "markdown",
   "metadata": {
    "colab_type": "text",
    "id": "8bASzV5wh-Ob"
   },
   "source": [
    "## 2.3 Merging of Station 1 and 2 data"
   ]
  },
  {
   "cell_type": "markdown",
   "metadata": {
    "colab_type": "text",
    "id": "QnbE-yMviDaQ"
   },
   "source": [
    "Next up, we need to merge the data from Station 1 and 2 by the average of two so that we only have 1 data row per day for the later merging with our core data."
   ]
  },
  {
   "cell_type": "code",
   "execution_count": 21,
   "metadata": {
    "colab": {},
    "colab_type": "code",
    "id": "XF6ziJYUiA7Z"
   },
   "outputs": [],
   "source": [
    "# Merging Station 1 and 2 by groupby function to obtain the average value\n",
    "cleaned_weather = weather.groupby('Date').mean().drop('Station', axis=1).reset_index()"
   ]
  },
  {
   "cell_type": "markdown",
   "metadata": {
    "colab_type": "text",
    "id": "PEugAndniHST"
   },
   "source": [
    "However, sometimes a weather condition is only picked up by a single Weather Station. Hence, getting the average between the 2 stations will result in getting a 0.5. All the 0.5 should be rounded up to be 1 because as long as it is picked up by one weather station, it should be considered 'present' or 1."
   ]
  },
  {
   "cell_type": "code",
   "execution_count": 22,
   "metadata": {
    "colab": {},
    "colab_type": "code",
    "id": "rDpvEX1ciJAK"
   },
   "outputs": [],
   "source": [
    "# Replace all 0.5 in weather condition with 1\n",
    "cleaned_weather.loc[:, 'BR':] = cleaned_weather.loc[:, 'BR':].replace(0.5, 1).astype(int)"
   ]
  },
  {
   "cell_type": "code",
   "execution_count": 23,
   "metadata": {
    "colab": {},
    "colab_type": "code",
    "id": "7v3MTrGqiOzX"
   },
   "outputs": [],
   "source": [
    "# Final correction of Sunrise and Sunset datatype\n",
    "cleaned_weather['Sunrise'] = cleaned_weather['Sunrise'].astype(int)\n",
    "cleaned_weather['Sunset'] = cleaned_weather['Sunset'].astype(int)"
   ]
  },
  {
   "cell_type": "markdown",
   "metadata": {
    "colab_type": "text",
    "id": "uDfBNbEMiSJd"
   },
   "source": [
    "## 2.4 Final Check and Export"
   ]
  },
  {
   "cell_type": "code",
   "execution_count": 24,
   "metadata": {
    "colab": {
     "base_uri": "https://localhost:8080/",
     "height": 405
    },
    "colab_type": "code",
    "id": "rNuwE8kziTei",
    "outputId": "39a52acf-a2d8-4025-d675-d21e658b8962"
   },
   "outputs": [
    {
     "data": {
      "text/html": [
       "<div>\n",
       "<style scoped>\n",
       "    .dataframe tbody tr th:only-of-type {\n",
       "        vertical-align: middle;\n",
       "    }\n",
       "\n",
       "    .dataframe tbody tr th {\n",
       "        vertical-align: top;\n",
       "    }\n",
       "\n",
       "    .dataframe thead th {\n",
       "        text-align: right;\n",
       "    }\n",
       "</style>\n",
       "<table border=\"1\" class=\"dataframe\">\n",
       "  <thead>\n",
       "    <tr style=\"text-align: right;\">\n",
       "      <th></th>\n",
       "      <th>Date</th>\n",
       "      <th>Tmax</th>\n",
       "      <th>Tmin</th>\n",
       "      <th>Tavg</th>\n",
       "      <th>Depart</th>\n",
       "      <th>DewPoint</th>\n",
       "      <th>WetBulb</th>\n",
       "      <th>Heat</th>\n",
       "      <th>Cool</th>\n",
       "      <th>Sunrise</th>\n",
       "      <th>Sunset</th>\n",
       "      <th>Depth</th>\n",
       "      <th>SnowFall</th>\n",
       "      <th>PrecipTotal</th>\n",
       "      <th>StnPressure</th>\n",
       "      <th>SeaLevel</th>\n",
       "      <th>ResultSpeed</th>\n",
       "      <th>ResultDir</th>\n",
       "      <th>AvgSpeed</th>\n",
       "      <th>BR</th>\n",
       "      <th>HZ</th>\n",
       "      <th>RA</th>\n",
       "      <th>TSRA</th>\n",
       "      <th>VCTS</th>\n",
       "      <th>FU</th>\n",
       "      <th>TS</th>\n",
       "      <th>DZ</th>\n",
       "      <th>BCFG</th>\n",
       "      <th>FG+</th>\n",
       "      <th>MIFG</th>\n",
       "      <th>FG</th>\n",
       "      <th>SQ</th>\n",
       "      <th>SN</th>\n",
       "      <th>VCFG</th>\n",
       "      <th>GR</th>\n",
       "    </tr>\n",
       "  </thead>\n",
       "  <tbody>\n",
       "    <tr>\n",
       "      <th>0</th>\n",
       "      <td>2007-05-01</td>\n",
       "      <td>83.5</td>\n",
       "      <td>51.0</td>\n",
       "      <td>67.5</td>\n",
       "      <td>14.0</td>\n",
       "      <td>51.0</td>\n",
       "      <td>56.5</td>\n",
       "      <td>0.0</td>\n",
       "      <td>2.5</td>\n",
       "      <td>448</td>\n",
       "      <td>1849</td>\n",
       "      <td>0.0</td>\n",
       "      <td>0.0</td>\n",
       "      <td>0.000</td>\n",
       "      <td>29.140</td>\n",
       "      <td>29.820</td>\n",
       "      <td>2.20</td>\n",
       "      <td>26.0</td>\n",
       "      <td>9.40</td>\n",
       "      <td>0</td>\n",
       "      <td>0</td>\n",
       "      <td>0</td>\n",
       "      <td>0</td>\n",
       "      <td>0</td>\n",
       "      <td>0</td>\n",
       "      <td>0</td>\n",
       "      <td>0</td>\n",
       "      <td>0</td>\n",
       "      <td>0</td>\n",
       "      <td>0</td>\n",
       "      <td>0</td>\n",
       "      <td>0</td>\n",
       "      <td>0</td>\n",
       "      <td>0</td>\n",
       "      <td>0</td>\n",
       "    </tr>\n",
       "    <tr>\n",
       "      <th>1</th>\n",
       "      <td>2007-05-02</td>\n",
       "      <td>59.5</td>\n",
       "      <td>42.5</td>\n",
       "      <td>51.5</td>\n",
       "      <td>-3.0</td>\n",
       "      <td>42.0</td>\n",
       "      <td>47.0</td>\n",
       "      <td>13.5</td>\n",
       "      <td>0.0</td>\n",
       "      <td>447</td>\n",
       "      <td>1850</td>\n",
       "      <td>0.0</td>\n",
       "      <td>0.0</td>\n",
       "      <td>0.000</td>\n",
       "      <td>29.410</td>\n",
       "      <td>30.085</td>\n",
       "      <td>13.15</td>\n",
       "      <td>3.0</td>\n",
       "      <td>13.40</td>\n",
       "      <td>1</td>\n",
       "      <td>1</td>\n",
       "      <td>0</td>\n",
       "      <td>0</td>\n",
       "      <td>0</td>\n",
       "      <td>0</td>\n",
       "      <td>0</td>\n",
       "      <td>0</td>\n",
       "      <td>0</td>\n",
       "      <td>0</td>\n",
       "      <td>0</td>\n",
       "      <td>0</td>\n",
       "      <td>0</td>\n",
       "      <td>0</td>\n",
       "      <td>0</td>\n",
       "      <td>0</td>\n",
       "    </tr>\n",
       "    <tr>\n",
       "      <th>2</th>\n",
       "      <td>2007-05-03</td>\n",
       "      <td>66.5</td>\n",
       "      <td>47.0</td>\n",
       "      <td>57.0</td>\n",
       "      <td>2.0</td>\n",
       "      <td>40.0</td>\n",
       "      <td>49.0</td>\n",
       "      <td>8.0</td>\n",
       "      <td>0.0</td>\n",
       "      <td>446</td>\n",
       "      <td>1851</td>\n",
       "      <td>0.0</td>\n",
       "      <td>0.0</td>\n",
       "      <td>0.000</td>\n",
       "      <td>29.425</td>\n",
       "      <td>30.120</td>\n",
       "      <td>12.30</td>\n",
       "      <td>6.5</td>\n",
       "      <td>12.55</td>\n",
       "      <td>0</td>\n",
       "      <td>1</td>\n",
       "      <td>0</td>\n",
       "      <td>0</td>\n",
       "      <td>0</td>\n",
       "      <td>0</td>\n",
       "      <td>0</td>\n",
       "      <td>0</td>\n",
       "      <td>0</td>\n",
       "      <td>0</td>\n",
       "      <td>0</td>\n",
       "      <td>0</td>\n",
       "      <td>0</td>\n",
       "      <td>0</td>\n",
       "      <td>0</td>\n",
       "      <td>0</td>\n",
       "    </tr>\n",
       "    <tr>\n",
       "      <th>3</th>\n",
       "      <td>2007-05-04</td>\n",
       "      <td>72.0</td>\n",
       "      <td>50.0</td>\n",
       "      <td>58.0</td>\n",
       "      <td>4.0</td>\n",
       "      <td>41.5</td>\n",
       "      <td>50.0</td>\n",
       "      <td>7.0</td>\n",
       "      <td>0.0</td>\n",
       "      <td>444</td>\n",
       "      <td>1852</td>\n",
       "      <td>0.0</td>\n",
       "      <td>0.0</td>\n",
       "      <td>0.000</td>\n",
       "      <td>29.335</td>\n",
       "      <td>30.045</td>\n",
       "      <td>10.25</td>\n",
       "      <td>7.5</td>\n",
       "      <td>10.60</td>\n",
       "      <td>0</td>\n",
       "      <td>0</td>\n",
       "      <td>1</td>\n",
       "      <td>0</td>\n",
       "      <td>0</td>\n",
       "      <td>0</td>\n",
       "      <td>0</td>\n",
       "      <td>0</td>\n",
       "      <td>0</td>\n",
       "      <td>0</td>\n",
       "      <td>0</td>\n",
       "      <td>0</td>\n",
       "      <td>0</td>\n",
       "      <td>0</td>\n",
       "      <td>0</td>\n",
       "      <td>0</td>\n",
       "    </tr>\n",
       "    <tr>\n",
       "      <th>4</th>\n",
       "      <td>2007-05-05</td>\n",
       "      <td>66.0</td>\n",
       "      <td>53.5</td>\n",
       "      <td>60.0</td>\n",
       "      <td>5.0</td>\n",
       "      <td>38.5</td>\n",
       "      <td>49.5</td>\n",
       "      <td>5.0</td>\n",
       "      <td>0.0</td>\n",
       "      <td>443</td>\n",
       "      <td>1853</td>\n",
       "      <td>0.0</td>\n",
       "      <td>0.0</td>\n",
       "      <td>0.000</td>\n",
       "      <td>29.430</td>\n",
       "      <td>30.095</td>\n",
       "      <td>11.45</td>\n",
       "      <td>7.0</td>\n",
       "      <td>11.75</td>\n",
       "      <td>0</td>\n",
       "      <td>0</td>\n",
       "      <td>0</td>\n",
       "      <td>0</td>\n",
       "      <td>0</td>\n",
       "      <td>0</td>\n",
       "      <td>0</td>\n",
       "      <td>0</td>\n",
       "      <td>0</td>\n",
       "      <td>0</td>\n",
       "      <td>0</td>\n",
       "      <td>0</td>\n",
       "      <td>0</td>\n",
       "      <td>0</td>\n",
       "      <td>0</td>\n",
       "      <td>0</td>\n",
       "    </tr>\n",
       "    <tr>\n",
       "      <th>...</th>\n",
       "      <td>...</td>\n",
       "      <td>...</td>\n",
       "      <td>...</td>\n",
       "      <td>...</td>\n",
       "      <td>...</td>\n",
       "      <td>...</td>\n",
       "      <td>...</td>\n",
       "      <td>...</td>\n",
       "      <td>...</td>\n",
       "      <td>...</td>\n",
       "      <td>...</td>\n",
       "      <td>...</td>\n",
       "      <td>...</td>\n",
       "      <td>...</td>\n",
       "      <td>...</td>\n",
       "      <td>...</td>\n",
       "      <td>...</td>\n",
       "      <td>...</td>\n",
       "      <td>...</td>\n",
       "      <td>...</td>\n",
       "      <td>...</td>\n",
       "      <td>...</td>\n",
       "      <td>...</td>\n",
       "      <td>...</td>\n",
       "      <td>...</td>\n",
       "      <td>...</td>\n",
       "      <td>...</td>\n",
       "      <td>...</td>\n",
       "      <td>...</td>\n",
       "      <td>...</td>\n",
       "      <td>...</td>\n",
       "      <td>...</td>\n",
       "      <td>...</td>\n",
       "      <td>...</td>\n",
       "      <td>...</td>\n",
       "    </tr>\n",
       "    <tr>\n",
       "      <th>1467</th>\n",
       "      <td>2014-10-27</td>\n",
       "      <td>78.0</td>\n",
       "      <td>52.5</td>\n",
       "      <td>65.5</td>\n",
       "      <td>16.0</td>\n",
       "      <td>51.5</td>\n",
       "      <td>58.5</td>\n",
       "      <td>0.5</td>\n",
       "      <td>1.0</td>\n",
       "      <td>618</td>\n",
       "      <td>1653</td>\n",
       "      <td>0.0</td>\n",
       "      <td>0.0</td>\n",
       "      <td>0.010</td>\n",
       "      <td>28.960</td>\n",
       "      <td>29.665</td>\n",
       "      <td>12.35</td>\n",
       "      <td>19.0</td>\n",
       "      <td>13.25</td>\n",
       "      <td>0</td>\n",
       "      <td>0</td>\n",
       "      <td>1</td>\n",
       "      <td>0</td>\n",
       "      <td>0</td>\n",
       "      <td>0</td>\n",
       "      <td>0</td>\n",
       "      <td>0</td>\n",
       "      <td>0</td>\n",
       "      <td>0</td>\n",
       "      <td>0</td>\n",
       "      <td>0</td>\n",
       "      <td>0</td>\n",
       "      <td>0</td>\n",
       "      <td>0</td>\n",
       "      <td>0</td>\n",
       "    </tr>\n",
       "    <tr>\n",
       "      <th>1468</th>\n",
       "      <td>2014-10-28</td>\n",
       "      <td>67.0</td>\n",
       "      <td>46.5</td>\n",
       "      <td>57.0</td>\n",
       "      <td>10.0</td>\n",
       "      <td>39.0</td>\n",
       "      <td>47.5</td>\n",
       "      <td>8.0</td>\n",
       "      <td>0.0</td>\n",
       "      <td>619</td>\n",
       "      <td>1651</td>\n",
       "      <td>0.0</td>\n",
       "      <td>0.0</td>\n",
       "      <td>0.015</td>\n",
       "      <td>29.190</td>\n",
       "      <td>29.850</td>\n",
       "      <td>14.40</td>\n",
       "      <td>26.0</td>\n",
       "      <td>15.10</td>\n",
       "      <td>0</td>\n",
       "      <td>0</td>\n",
       "      <td>1</td>\n",
       "      <td>0</td>\n",
       "      <td>0</td>\n",
       "      <td>0</td>\n",
       "      <td>0</td>\n",
       "      <td>0</td>\n",
       "      <td>0</td>\n",
       "      <td>0</td>\n",
       "      <td>0</td>\n",
       "      <td>0</td>\n",
       "      <td>0</td>\n",
       "      <td>0</td>\n",
       "      <td>0</td>\n",
       "      <td>0</td>\n",
       "    </tr>\n",
       "    <tr>\n",
       "      <th>1469</th>\n",
       "      <td>2014-10-29</td>\n",
       "      <td>49.0</td>\n",
       "      <td>38.0</td>\n",
       "      <td>44.0</td>\n",
       "      <td>-4.0</td>\n",
       "      <td>33.0</td>\n",
       "      <td>41.0</td>\n",
       "      <td>21.0</td>\n",
       "      <td>0.0</td>\n",
       "      <td>620</td>\n",
       "      <td>1650</td>\n",
       "      <td>0.0</td>\n",
       "      <td>0.0</td>\n",
       "      <td>0.000</td>\n",
       "      <td>29.390</td>\n",
       "      <td>30.065</td>\n",
       "      <td>9.00</td>\n",
       "      <td>29.0</td>\n",
       "      <td>9.45</td>\n",
       "      <td>0</td>\n",
       "      <td>0</td>\n",
       "      <td>0</td>\n",
       "      <td>0</td>\n",
       "      <td>0</td>\n",
       "      <td>0</td>\n",
       "      <td>0</td>\n",
       "      <td>0</td>\n",
       "      <td>0</td>\n",
       "      <td>0</td>\n",
       "      <td>0</td>\n",
       "      <td>0</td>\n",
       "      <td>0</td>\n",
       "      <td>0</td>\n",
       "      <td>0</td>\n",
       "      <td>0</td>\n",
       "    </tr>\n",
       "    <tr>\n",
       "      <th>1470</th>\n",
       "      <td>2014-10-30</td>\n",
       "      <td>52.0</td>\n",
       "      <td>34.5</td>\n",
       "      <td>43.5</td>\n",
       "      <td>-4.0</td>\n",
       "      <td>34.5</td>\n",
       "      <td>41.0</td>\n",
       "      <td>21.5</td>\n",
       "      <td>0.0</td>\n",
       "      <td>622</td>\n",
       "      <td>1649</td>\n",
       "      <td>0.0</td>\n",
       "      <td>0.0</td>\n",
       "      <td>0.000</td>\n",
       "      <td>29.375</td>\n",
       "      <td>30.095</td>\n",
       "      <td>5.50</td>\n",
       "      <td>23.5</td>\n",
       "      <td>6.00</td>\n",
       "      <td>0</td>\n",
       "      <td>0</td>\n",
       "      <td>1</td>\n",
       "      <td>0</td>\n",
       "      <td>0</td>\n",
       "      <td>0</td>\n",
       "      <td>0</td>\n",
       "      <td>0</td>\n",
       "      <td>0</td>\n",
       "      <td>0</td>\n",
       "      <td>0</td>\n",
       "      <td>0</td>\n",
       "      <td>0</td>\n",
       "      <td>0</td>\n",
       "      <td>0</td>\n",
       "      <td>0</td>\n",
       "    </tr>\n",
       "    <tr>\n",
       "      <th>1471</th>\n",
       "      <td>2014-10-31</td>\n",
       "      <td>48.0</td>\n",
       "      <td>33.5</td>\n",
       "      <td>41.0</td>\n",
       "      <td>-6.0</td>\n",
       "      <td>27.0</td>\n",
       "      <td>34.5</td>\n",
       "      <td>24.0</td>\n",
       "      <td>0.0</td>\n",
       "      <td>623</td>\n",
       "      <td>1647</td>\n",
       "      <td>0.0</td>\n",
       "      <td>0.1</td>\n",
       "      <td>0.035</td>\n",
       "      <td>29.515</td>\n",
       "      <td>30.200</td>\n",
       "      <td>22.15</td>\n",
       "      <td>34.0</td>\n",
       "      <td>22.75</td>\n",
       "      <td>1</td>\n",
       "      <td>0</td>\n",
       "      <td>1</td>\n",
       "      <td>0</td>\n",
       "      <td>0</td>\n",
       "      <td>0</td>\n",
       "      <td>0</td>\n",
       "      <td>0</td>\n",
       "      <td>0</td>\n",
       "      <td>0</td>\n",
       "      <td>0</td>\n",
       "      <td>0</td>\n",
       "      <td>0</td>\n",
       "      <td>1</td>\n",
       "      <td>0</td>\n",
       "      <td>0</td>\n",
       "    </tr>\n",
       "  </tbody>\n",
       "</table>\n",
       "<p>1472 rows × 35 columns</p>\n",
       "</div>"
      ],
      "text/plain": [
       "           Date  Tmax  Tmin  Tavg  Depart  DewPoint  WetBulb  Heat  Cool  \\\n",
       "0    2007-05-01  83.5  51.0  67.5    14.0      51.0     56.5   0.0   2.5   \n",
       "1    2007-05-02  59.5  42.5  51.5    -3.0      42.0     47.0  13.5   0.0   \n",
       "2    2007-05-03  66.5  47.0  57.0     2.0      40.0     49.0   8.0   0.0   \n",
       "3    2007-05-04  72.0  50.0  58.0     4.0      41.5     50.0   7.0   0.0   \n",
       "4    2007-05-05  66.0  53.5  60.0     5.0      38.5     49.5   5.0   0.0   \n",
       "...         ...   ...   ...   ...     ...       ...      ...   ...   ...   \n",
       "1467 2014-10-27  78.0  52.5  65.5    16.0      51.5     58.5   0.5   1.0   \n",
       "1468 2014-10-28  67.0  46.5  57.0    10.0      39.0     47.5   8.0   0.0   \n",
       "1469 2014-10-29  49.0  38.0  44.0    -4.0      33.0     41.0  21.0   0.0   \n",
       "1470 2014-10-30  52.0  34.5  43.5    -4.0      34.5     41.0  21.5   0.0   \n",
       "1471 2014-10-31  48.0  33.5  41.0    -6.0      27.0     34.5  24.0   0.0   \n",
       "\n",
       "      Sunrise  Sunset  Depth  SnowFall  PrecipTotal  StnPressure  SeaLevel  \\\n",
       "0         448    1849    0.0       0.0        0.000       29.140    29.820   \n",
       "1         447    1850    0.0       0.0        0.000       29.410    30.085   \n",
       "2         446    1851    0.0       0.0        0.000       29.425    30.120   \n",
       "3         444    1852    0.0       0.0        0.000       29.335    30.045   \n",
       "4         443    1853    0.0       0.0        0.000       29.430    30.095   \n",
       "...       ...     ...    ...       ...          ...          ...       ...   \n",
       "1467      618    1653    0.0       0.0        0.010       28.960    29.665   \n",
       "1468      619    1651    0.0       0.0        0.015       29.190    29.850   \n",
       "1469      620    1650    0.0       0.0        0.000       29.390    30.065   \n",
       "1470      622    1649    0.0       0.0        0.000       29.375    30.095   \n",
       "1471      623    1647    0.0       0.1        0.035       29.515    30.200   \n",
       "\n",
       "      ResultSpeed  ResultDir  AvgSpeed  BR  HZ  RA  TSRA  VCTS  FU  TS  DZ  \\\n",
       "0            2.20       26.0      9.40   0   0   0     0     0   0   0   0   \n",
       "1           13.15        3.0     13.40   1   1   0     0     0   0   0   0   \n",
       "2           12.30        6.5     12.55   0   1   0     0     0   0   0   0   \n",
       "3           10.25        7.5     10.60   0   0   1     0     0   0   0   0   \n",
       "4           11.45        7.0     11.75   0   0   0     0     0   0   0   0   \n",
       "...           ...        ...       ...  ..  ..  ..   ...   ...  ..  ..  ..   \n",
       "1467        12.35       19.0     13.25   0   0   1     0     0   0   0   0   \n",
       "1468        14.40       26.0     15.10   0   0   1     0     0   0   0   0   \n",
       "1469         9.00       29.0      9.45   0   0   0     0     0   0   0   0   \n",
       "1470         5.50       23.5      6.00   0   0   1     0     0   0   0   0   \n",
       "1471        22.15       34.0     22.75   1   0   1     0     0   0   0   0   \n",
       "\n",
       "      BCFG  FG+  MIFG  FG  SQ  SN  VCFG  GR  \n",
       "0        0    0     0   0   0   0     0   0  \n",
       "1        0    0     0   0   0   0     0   0  \n",
       "2        0    0     0   0   0   0     0   0  \n",
       "3        0    0     0   0   0   0     0   0  \n",
       "4        0    0     0   0   0   0     0   0  \n",
       "...    ...  ...   ...  ..  ..  ..   ...  ..  \n",
       "1467     0    0     0   0   0   0     0   0  \n",
       "1468     0    0     0   0   0   0     0   0  \n",
       "1469     0    0     0   0   0   0     0   0  \n",
       "1470     0    0     0   0   0   0     0   0  \n",
       "1471     0    0     0   0   0   1     0   0  \n",
       "\n",
       "[1472 rows x 35 columns]"
      ]
     },
     "execution_count": 24,
     "metadata": {},
     "output_type": "execute_result"
    }
   ],
   "source": [
    "# Sanity check on our cleaned weather data\n",
    "cleaned_weather"
   ]
  },
  {
   "cell_type": "code",
   "execution_count": 25,
   "metadata": {
    "colab": {},
    "colab_type": "code",
    "id": "B0LB2_ajiU0f"
   },
   "outputs": [],
   "source": [
    "# Export of cleaned data\n",
    "cleaned_weather.to_csv('./assets/cleaned_weather.csv', index=False)"
   ]
  },
  {
   "cell_type": "markdown",
   "metadata": {
    "colab_type": "text",
    "id": "MIvvf3PvkvhO"
   },
   "source": [
    "# 3 Spray Data"
   ]
  },
  {
   "cell_type": "markdown",
   "metadata": {
    "colab_type": "text",
    "id": "2Bz2UDs_ygiS"
   },
   "source": [
    "## 3.1 Spraying Data Encoding"
   ]
  },
  {
   "cell_type": "code",
   "execution_count": 26,
   "metadata": {
    "colab": {},
    "colab_type": "code",
    "id": "N6WmpOlbkwa8"
   },
   "outputs": [],
   "source": [
    "# Reading all the remaining dataset\n",
    "train = pd.read_csv('./assets/train.csv', parse_dates=['Date'])\n",
    "test = pd.read_csv('./assets/test.csv', parse_dates=['Date'])\n",
    "spray = pd.read_csv('./assets/spray.csv', parse_dates=['Date'])"
   ]
  },
  {
   "cell_type": "code",
   "execution_count": 27,
   "metadata": {
    "colab": {},
    "colab_type": "code",
    "id": "ZurD6hN7Ditz"
   },
   "outputs": [],
   "source": [
    "# Remove duplicates in trainset\n",
    "train.drop_duplicates(inplace=True)"
   ]
  },
  {
   "cell_type": "code",
   "execution_count": 28,
   "metadata": {
    "colab": {},
    "colab_type": "code",
    "id": "hdDZRRsTlxoC"
   },
   "outputs": [],
   "source": [
    "# Function convert spraying data to a binary column\n",
    "\n",
    "def spraying_calc(core_df, radius=100, period=14):\n",
    "    # Import datetime library\n",
    "    from datetime import timedelta\n",
    "    \n",
    "    lat_1 = core_df['Latitude']\n",
    "    lon_1 = core_df['Longitude']\n",
    "    check_date = core_df['Date']\n",
    "    \n",
    "    # Calculate spray_date given a effective period as args\n",
    "    spray_date = check_date - timedelta(days=period)\n",
    "    \n",
    "    # Create shortlist of spraying data with date info\n",
    "    spray_shortlist = spray[(spray['Date']<=check_date) & (spray['Date']>spray_date)]\n",
    "    \n",
    "    # Loop through all spraying activity during the effective period\n",
    "    for idx in spray_shortlist.index:\n",
    "        lat_2 = spray_shortlist.loc[idx, 'Latitude']\n",
    "        lon_2 = spray_shortlist.loc[idx, 'Longitude']\n",
    "        \n",
    "        # Calculate Euclidean distance between coordinates (and convert to meters)\n",
    "        distance = ((lat_1 - lat_2)**2 + (lon_1 - lon_2)**2) ** 0.5 * 100_000\n",
    "        \n",
    "        # Return 1 if distance shorter than effective radius\n",
    "        if distance <= radius:\n",
    "            return 1\n",
    "        \n",
    "    # Return 0 if none found\n",
    "    return 0"
   ]
  },
  {
   "cell_type": "code",
   "execution_count": 29,
   "metadata": {
    "colab": {
     "base_uri": "https://localhost:8080/",
     "height": 34
    },
    "colab_type": "code",
    "id": "MvGP_yvYn6IN",
    "outputId": "510d970a-e1a7-4f26-ace4-49527252da6b"
   },
   "outputs": [
    {
     "name": "stdout",
     "output_type": "stream",
     "text": [
      "Number of Sprayed Cases in trainset:  47\n"
     ]
    }
   ],
   "source": [
    "train['IsSprayed'] = train.apply(spraying_calc, axis=1)\n",
    "\n",
    "# Number of 1 in 'IsSprayed' in train.csv\n",
    "print(\"Number of Sprayed Cases in trainset: \", train['IsSprayed'].sum())"
   ]
  },
  {
   "cell_type": "code",
   "execution_count": 30,
   "metadata": {
    "colab": {
     "base_uri": "https://localhost:8080/",
     "height": 34
    },
    "colab_type": "code",
    "id": "_3dlDr8Gn8xD",
    "outputId": "d9098465-7c08-45e7-81a2-b18c4cadc230"
   },
   "outputs": [
    {
     "name": "stdout",
     "output_type": "stream",
     "text": [
      "Number of Sprayed Cases in testset:  0\n"
     ]
    }
   ],
   "source": [
    "test['IsSprayed'] = test.apply(spraying_calc, axis=1)\n",
    "\n",
    "# Number of 1 in 'IsSprayed' in test.csv\n",
    "print(\"Number of Sprayed Cases in testset: \", test['IsSprayed'].sum())"
   ]
  },
  {
   "cell_type": "markdown",
   "metadata": {
    "colab_type": "text",
    "id": "HlXuoK37ymOn"
   },
   "source": [
    "## 3.2 Data Merging"
   ]
  },
  {
   "cell_type": "code",
   "execution_count": 31,
   "metadata": {
    "colab": {},
    "colab_type": "code",
    "id": "3lzXf57UoFsB"
   },
   "outputs": [],
   "source": [
    "# Merging of trainset with weather data\n",
    "train = pd.merge(train, cleaned_weather, how = 'left', on='Date')\n",
    "\n",
    "# Merging of testset with weather data\n",
    "test = pd.merge(test, cleaned_weather, how = 'left', on='Date')"
   ]
  },
  {
   "cell_type": "markdown",
   "metadata": {
    "colab_type": "text",
    "id": "IAHAR4j6q0IC"
   },
   "source": [
    "# 4 Preliminary Feature Engineering"
   ]
  },
  {
   "cell_type": "markdown",
   "metadata": {
    "colab_type": "text",
    "id": "_74m4Fw2zQHf"
   },
   "source": [
    "## 4.1 Neighbourhood Encoding"
   ]
  },
  {
   "cell_type": "markdown",
   "metadata": {},
   "source": [
    "Next up, we will encode all the data entries coordinates into their respective neighbourhood. The neighbourhood boundaries was obtained from the official City of Chicago data archive [link here](https://data.cityofchicago.org/api/geospatial/bbvz-uum9?method=export&format=GeoJSON). It was originally read and processed using the GeoPandas (gpd) library and its **gpd.read_file** function, however due to some known issue of incompatibility with the other common modules, the code is commented out. Instead, the geopandas dataframe was exported externally into a csv file for the alternative to read-in using both shapely and geopandas **gpd.GeoDataFrame** function (that has so far been working alright)."
   ]
  },
  {
   "cell_type": "code",
   "execution_count": null,
   "metadata": {
    "colab": {},
    "colab_type": "code",
    "id": "9Ph70YZDsvz_"
   },
   "outputs": [],
   "source": [
    "### ORINGAL METHOD - GEOPANDAS (GPD) ###\n",
    "### UNCOMMENT IT TO USE THE ORIGINAL ###\n",
    "\n",
    "# # Read geojson file from Chicago City Official Archive\n",
    "# neighbourhood = gpd.read_file('https://data.cityofchicago.org/api/geospatial/bbvz-uum9?method=export&format=GeoJSON')\n",
    "\n",
    "# # Functions to label each row with their respective neighbourhood name\n",
    "# def get_neighbourhood(row):\n",
    "#     for boundary, neigh, in zip(neighbourhood.geometry, neighbourhood.pri_neigh):\n",
    "#         coor = Point(row['Longitude'], row['Latitude'])\n",
    "#         if coor.within(boundary):\n",
    "#             return neigh\n",
    "#     return 'Others'"
   ]
  },
  {
   "cell_type": "code",
   "execution_count": 38,
   "metadata": {},
   "outputs": [],
   "source": [
    "###   ALTERNATIVES - KNOWN ISSUE   ###\n",
    "### IN CASE OF GPD INCOMPATIBILITY ###\n",
    "\n",
    "from shapely import wkt\n",
    "\n",
    "neighbourhood = pd.read_csv('./assets/raw_neighbourhood.csv')\n",
    "neighbourhood['geometry'] = neighbourhood['geometry'].apply(wkt.loads)\n",
    "neighbourhood = gpd.GeoDataFrame(neighbourhood, geometry = 'geometry')\n",
    "\n",
    "def get_neighbourhood(row):\n",
    "    for boundary, neigh, in zip(neighbourhood.geometry, neighbourhood.pri_neigh):\n",
    "        coor = Point(row['Longitude'], row['Latitude'])\n",
    "        if coor.within(boundary):\n",
    "            return neigh\n",
    "    return 'Others'"
   ]
  },
  {
   "cell_type": "markdown",
   "metadata": {},
   "source": [
    "The train, test and spraying data will all be encoded with their respective neighbourhood data. Apart from that, the centroid of each neighbourhood will be recorded and exported into a separate dataset for EDA purpose in the next notebook in the following cells:"
   ]
  },
  {
   "cell_type": "code",
   "execution_count": 39,
   "metadata": {
    "colab": {},
    "colab_type": "code",
    "id": "MYLnCsVvs3yH"
   },
   "outputs": [],
   "source": [
    "# Get Neighbourhood for trainset\n",
    "train['Neighbourhood'] = train.apply(get_neighbourhood, axis=1)\n",
    "\n",
    "# Get Neighbourhood for testset\n",
    "test['Neighbourhood'] = test.apply(get_neighbourhood, axis=1)"
   ]
  },
  {
   "cell_type": "code",
   "execution_count": 40,
   "metadata": {
    "colab": {},
    "colab_type": "code",
    "id": "ZcpHw2OF56F2"
   },
   "outputs": [],
   "source": [
    "# Get Neighbourhood for spray data\n",
    "spray['Neighbourhood'] = spray.apply(get_neighbourhood, axis=1)\n",
    "\n",
    "# Export spray data for EDA purpose\n",
    "spray.to_csv('./assets/spray_with_neigh.csv', index=False)"
   ]
  },
  {
   "cell_type": "code",
   "execution_count": 41,
   "metadata": {
    "colab": {},
    "colab_type": "code",
    "id": "_nqaLSL2gOPy"
   },
   "outputs": [],
   "source": [
    "# Export neighbourhood data for EDA purpose\n",
    "neighbourhood['lat']=neighbourhood.geometry.centroid.y\n",
    "neighbourhood['lon']=neighbourhood.geometry.centroid.x\n",
    "\n",
    "neighbourhood = neighbourhood[['pri_neigh', 'shape_area', 'lat', 'lon']]\n",
    "\n",
    "neighbourhood.to_csv('./assets/neighbourhood.csv', index=False)"
   ]
  },
  {
   "cell_type": "markdown",
   "metadata": {
    "colab_type": "text",
    "id": "0ez8_WjItuQR"
   },
   "source": [
    "## 4.2 Weather Data"
   ]
  },
  {
   "cell_type": "markdown",
   "metadata": {},
   "source": [
    "Sunrise and Sunset are now both in the integer format, which is not a good representation of time, instead we will be converting them into float values based on its hour."
   ]
  },
  {
   "cell_type": "code",
   "execution_count": 42,
   "metadata": {
    "colab": {},
    "colab_type": "code",
    "id": "pNt0AZmPttvD"
   },
   "outputs": [],
   "source": [
    "# Convert Sunrise to Numerical\n",
    "train.Sunrise = (train.Sunrise/100).astype(int) + ((train.Sunrise/100)%1 * 100/60)\n",
    "test.Sunrise = (test.Sunrise/100).astype(int) + ((test.Sunrise/100)%1 * 100/60)\n",
    "\n",
    "# Convert Sunset to Numerical\n",
    "train.Sunset = (train.Sunset/100).astype(int) + ((train.Sunset/100)%1 * 100/60)\n",
    "test.Sunset = (test.Sunset/100).astype(int) + ((test.Sunset/100)%1 * 100/60)"
   ]
  },
  {
   "cell_type": "markdown",
   "metadata": {
    "colab_type": "text",
    "id": "lEKQcNQ-uHUI"
   },
   "source": [
    "## 4.3 Neighbourhood Average"
   ]
  },
  {
   "cell_type": "markdown",
   "metadata": {},
   "source": [
    "Instead of using the nominal category of neighbourhood name, we have decided on converting the neighbourhood information into numerical data. The dimensionality of our feature in the modelling could be reduced by this conversion. So rather than one-hot encoding all of the neighbourhood name into more than 50 different columns that are relatively sparse in nature, we will convert each of the neighbourhood into its neighbourhood-wise average value. This could retain the information of each neighbourhood, but without the high and sparse data structure in the model at later stage."
   ]
  },
  {
   "cell_type": "code",
   "execution_count": 43,
   "metadata": {
    "colab": {},
    "colab_type": "code",
    "id": "-XAtbWvpuGqF"
   },
   "outputs": [],
   "source": [
    "# Feature engineering to obtain a neighbourhood-average value of WnvPresent\n",
    "ave_wnv = pd.DataFrame(train.groupby('Neighbourhood').mean()['WnvPresent']).reset_index()\n",
    "\n",
    "# Renaming the columns\n",
    "ave_wnv.columns = ['Neighbourhood', 'Neighbourhood_Ave_Wnv']"
   ]
  },
  {
   "cell_type": "code",
   "execution_count": 44,
   "metadata": {
    "colab": {},
    "colab_type": "code",
    "id": "d3LovJdduTXT"
   },
   "outputs": [],
   "source": [
    "# Merge trainset with the WNV-average value\n",
    "train = pd.merge(train, ave_wnv, how='left', on='Neighbourhood')\n",
    "\n",
    "# Merge testset with the WNV-average value\n",
    "test = pd.merge(test, ave_wnv, how='left', on='Neighbourhood')\n",
    "\n",
    "# Impute any missing neighbourhood from trainset with the mean\n",
    "test['Neighbourhood_Ave_Wnv'].fillna(test['Neighbourhood_Ave_Wnv'].mean(), inplace=True)"
   ]
  },
  {
   "cell_type": "markdown",
   "metadata": {
    "colab_type": "text",
    "id": "JwE8fu4xupZ6"
   },
   "source": [
    "## 4.4 Mosquitoes Species"
   ]
  },
  {
   "cell_type": "markdown",
   "metadata": {},
   "source": [
    "Apparently some of the mosquitos species has zero record of being WNV-positive, we can safely assume that these mosquito species are not suitable as a carrier of WNV. Hence again, to reduce the dimensionality, we will combined all the non-carrier species into a single category of '0'. The string 0 is used so that it will always be dropped at first during one-hot encoding."
   ]
  },
  {
   "cell_type": "code",
   "execution_count": 45,
   "metadata": {
    "colab": {},
    "colab_type": "code",
    "id": "1fMAbZyxuvzh"
   },
   "outputs": [],
   "source": [
    "# Title-transform the species column so it is more readable as a column\n",
    "train['Species'] = train['Species'].str.title()\n",
    "test['Species'] = test['Species'].str.title()"
   ]
  },
  {
   "cell_type": "code",
   "execution_count": 46,
   "metadata": {
    "colab": {
     "base_uri": "https://localhost:8080/",
     "height": 170
    },
    "colab_type": "code",
    "id": "kumzCdAPu2HN",
    "outputId": "2af57341-1bf3-445f-b206-b57c6e4f82b7"
   },
   "outputs": [
    {
     "data": {
      "text/plain": [
       "Species\n",
       "Culex Erraticus           0.000000\n",
       "Culex Pipiens             0.092899\n",
       "Culex Pipiens/Restuans    0.055046\n",
       "Culex Restuans            0.018338\n",
       "Culex Salinarius          0.000000\n",
       "Culex Tarsalis            0.000000\n",
       "Culex Territans           0.000000\n",
       "Name: WnvPresent, dtype: float64"
      ]
     },
     "execution_count": 46,
     "metadata": {},
     "output_type": "execute_result"
    }
   ],
   "source": [
    "# Check on the WNV risk of each mosquito species\n",
    "train.groupby('Species').mean()['WnvPresent']"
   ]
  },
  {
   "cell_type": "code",
   "execution_count": 47,
   "metadata": {
    "colab": {},
    "colab_type": "code",
    "id": "cLqAaXCdu3Qc"
   },
   "outputs": [],
   "source": [
    "# Replacing mosquito species with zero WNV risk with '0'\n",
    "# So it would be dropped automatically during one-hot encoding\n",
    "replace_dict = {\n",
    "    'Culex Erraticus': 0,\n",
    "    'Culex Salinarius': 0,\n",
    "    'Culex Tarsalis': 0,\n",
    "    'Culex Territans': 0\n",
    "}\n",
    "\n",
    "# Apply the mapping dict on both train and test set\n",
    "train['Species'] = train['Species'].replace(replace_dict)\n",
    "test['Species'] = test['Species'].replace(replace_dict)"
   ]
  },
  {
   "cell_type": "markdown",
   "metadata": {
    "colab_type": "text",
    "id": "fV9GPgtTu_8z"
   },
   "source": [
    "## 4.5 Single-value Column Removal"
   ]
  },
  {
   "cell_type": "markdown",
   "metadata": {},
   "source": [
    "There are some columns that has one unique value across the train dataset. These columns would provide zero contribution or information to the modelling attempt. They shall be dropped."
   ]
  },
  {
   "cell_type": "code",
   "execution_count": 48,
   "metadata": {
    "colab": {},
    "colab_type": "code",
    "id": "4T-5cCSEysyQ"
   },
   "outputs": [],
   "source": [
    "# Dropping unnecessary columns\n",
    "train.drop(['Address', 'Block', 'Street', 'Trap', 'AddressNumberAndStreet', 'AddressAccuracy'], axis=1, inplace=True)"
   ]
  },
  {
   "cell_type": "code",
   "execution_count": 49,
   "metadata": {
    "colab": {
     "base_uri": "https://localhost:8080/",
     "height": 302
    },
    "colab_type": "code",
    "id": "Bz0J46Ei31pw",
    "outputId": "2e32b036-3c23-42b1-f6b5-f40c0ddd804e"
   },
   "outputs": [
    {
     "data": {
      "text/html": [
       "<div>\n",
       "<style scoped>\n",
       "    .dataframe tbody tr th:only-of-type {\n",
       "        vertical-align: middle;\n",
       "    }\n",
       "\n",
       "    .dataframe tbody tr th {\n",
       "        vertical-align: top;\n",
       "    }\n",
       "\n",
       "    .dataframe thead th {\n",
       "        text-align: right;\n",
       "    }\n",
       "</style>\n",
       "<table border=\"1\" class=\"dataframe\">\n",
       "  <thead>\n",
       "    <tr style=\"text-align: right;\">\n",
       "      <th></th>\n",
       "      <th>Date</th>\n",
       "      <th>Species</th>\n",
       "      <th>Latitude</th>\n",
       "      <th>Longitude</th>\n",
       "      <th>NumMosquitos</th>\n",
       "      <th>WnvPresent</th>\n",
       "      <th>IsSprayed</th>\n",
       "      <th>Tmax</th>\n",
       "      <th>Tmin</th>\n",
       "      <th>Tavg</th>\n",
       "      <th>Depart</th>\n",
       "      <th>DewPoint</th>\n",
       "      <th>WetBulb</th>\n",
       "      <th>Heat</th>\n",
       "      <th>Cool</th>\n",
       "      <th>Sunrise</th>\n",
       "      <th>Sunset</th>\n",
       "      <th>Depth</th>\n",
       "      <th>SnowFall</th>\n",
       "      <th>PrecipTotal</th>\n",
       "      <th>StnPressure</th>\n",
       "      <th>SeaLevel</th>\n",
       "      <th>ResultSpeed</th>\n",
       "      <th>ResultDir</th>\n",
       "      <th>AvgSpeed</th>\n",
       "      <th>BR</th>\n",
       "      <th>HZ</th>\n",
       "      <th>RA</th>\n",
       "      <th>TSRA</th>\n",
       "      <th>VCTS</th>\n",
       "      <th>FU</th>\n",
       "      <th>TS</th>\n",
       "      <th>DZ</th>\n",
       "      <th>BCFG</th>\n",
       "      <th>FG+</th>\n",
       "      <th>MIFG</th>\n",
       "      <th>FG</th>\n",
       "      <th>SQ</th>\n",
       "      <th>SN</th>\n",
       "      <th>VCFG</th>\n",
       "      <th>GR</th>\n",
       "      <th>Neighbourhood</th>\n",
       "      <th>Neighbourhood_Ave_Wnv</th>\n",
       "    </tr>\n",
       "  </thead>\n",
       "  <tbody>\n",
       "    <tr>\n",
       "      <th>0</th>\n",
       "      <td>2007-05-29</td>\n",
       "      <td>Culex Pipiens/Restuans</td>\n",
       "      <td>41.954690</td>\n",
       "      <td>-87.800991</td>\n",
       "      <td>1</td>\n",
       "      <td>0</td>\n",
       "      <td>0</td>\n",
       "      <td>88.0</td>\n",
       "      <td>62.5</td>\n",
       "      <td>75.5</td>\n",
       "      <td>10.0</td>\n",
       "      <td>58.5</td>\n",
       "      <td>65.5</td>\n",
       "      <td>0.0</td>\n",
       "      <td>10.5</td>\n",
       "      <td>4.35</td>\n",
       "      <td>19.283333</td>\n",
       "      <td>0.0</td>\n",
       "      <td>0.0</td>\n",
       "      <td>0.0</td>\n",
       "      <td>29.415</td>\n",
       "      <td>30.1</td>\n",
       "      <td>5.8</td>\n",
       "      <td>17.0</td>\n",
       "      <td>6.95</td>\n",
       "      <td>1</td>\n",
       "      <td>1</td>\n",
       "      <td>0</td>\n",
       "      <td>0</td>\n",
       "      <td>0</td>\n",
       "      <td>0</td>\n",
       "      <td>0</td>\n",
       "      <td>0</td>\n",
       "      <td>0</td>\n",
       "      <td>0</td>\n",
       "      <td>0</td>\n",
       "      <td>0</td>\n",
       "      <td>0</td>\n",
       "      <td>0</td>\n",
       "      <td>0</td>\n",
       "      <td>0</td>\n",
       "      <td>Dunning</td>\n",
       "      <td>0.084833</td>\n",
       "    </tr>\n",
       "    <tr>\n",
       "      <th>1</th>\n",
       "      <td>2007-05-29</td>\n",
       "      <td>Culex Restuans</td>\n",
       "      <td>41.954690</td>\n",
       "      <td>-87.800991</td>\n",
       "      <td>1</td>\n",
       "      <td>0</td>\n",
       "      <td>0</td>\n",
       "      <td>88.0</td>\n",
       "      <td>62.5</td>\n",
       "      <td>75.5</td>\n",
       "      <td>10.0</td>\n",
       "      <td>58.5</td>\n",
       "      <td>65.5</td>\n",
       "      <td>0.0</td>\n",
       "      <td>10.5</td>\n",
       "      <td>4.35</td>\n",
       "      <td>19.283333</td>\n",
       "      <td>0.0</td>\n",
       "      <td>0.0</td>\n",
       "      <td>0.0</td>\n",
       "      <td>29.415</td>\n",
       "      <td>30.1</td>\n",
       "      <td>5.8</td>\n",
       "      <td>17.0</td>\n",
       "      <td>6.95</td>\n",
       "      <td>1</td>\n",
       "      <td>1</td>\n",
       "      <td>0</td>\n",
       "      <td>0</td>\n",
       "      <td>0</td>\n",
       "      <td>0</td>\n",
       "      <td>0</td>\n",
       "      <td>0</td>\n",
       "      <td>0</td>\n",
       "      <td>0</td>\n",
       "      <td>0</td>\n",
       "      <td>0</td>\n",
       "      <td>0</td>\n",
       "      <td>0</td>\n",
       "      <td>0</td>\n",
       "      <td>0</td>\n",
       "      <td>Dunning</td>\n",
       "      <td>0.084833</td>\n",
       "    </tr>\n",
       "    <tr>\n",
       "      <th>2</th>\n",
       "      <td>2007-05-29</td>\n",
       "      <td>Culex Restuans</td>\n",
       "      <td>41.994991</td>\n",
       "      <td>-87.769279</td>\n",
       "      <td>1</td>\n",
       "      <td>0</td>\n",
       "      <td>0</td>\n",
       "      <td>88.0</td>\n",
       "      <td>62.5</td>\n",
       "      <td>75.5</td>\n",
       "      <td>10.0</td>\n",
       "      <td>58.5</td>\n",
       "      <td>65.5</td>\n",
       "      <td>0.0</td>\n",
       "      <td>10.5</td>\n",
       "      <td>4.35</td>\n",
       "      <td>19.283333</td>\n",
       "      <td>0.0</td>\n",
       "      <td>0.0</td>\n",
       "      <td>0.0</td>\n",
       "      <td>29.415</td>\n",
       "      <td>30.1</td>\n",
       "      <td>5.8</td>\n",
       "      <td>17.0</td>\n",
       "      <td>6.95</td>\n",
       "      <td>1</td>\n",
       "      <td>1</td>\n",
       "      <td>0</td>\n",
       "      <td>0</td>\n",
       "      <td>0</td>\n",
       "      <td>0</td>\n",
       "      <td>0</td>\n",
       "      <td>0</td>\n",
       "      <td>0</td>\n",
       "      <td>0</td>\n",
       "      <td>0</td>\n",
       "      <td>0</td>\n",
       "      <td>0</td>\n",
       "      <td>0</td>\n",
       "      <td>0</td>\n",
       "      <td>0</td>\n",
       "      <td>Sauganash,Forest Glen</td>\n",
       "      <td>0.046584</td>\n",
       "    </tr>\n",
       "    <tr>\n",
       "      <th>3</th>\n",
       "      <td>2007-05-29</td>\n",
       "      <td>Culex Pipiens/Restuans</td>\n",
       "      <td>41.974089</td>\n",
       "      <td>-87.824812</td>\n",
       "      <td>1</td>\n",
       "      <td>0</td>\n",
       "      <td>0</td>\n",
       "      <td>88.0</td>\n",
       "      <td>62.5</td>\n",
       "      <td>75.5</td>\n",
       "      <td>10.0</td>\n",
       "      <td>58.5</td>\n",
       "      <td>65.5</td>\n",
       "      <td>0.0</td>\n",
       "      <td>10.5</td>\n",
       "      <td>4.35</td>\n",
       "      <td>19.283333</td>\n",
       "      <td>0.0</td>\n",
       "      <td>0.0</td>\n",
       "      <td>0.0</td>\n",
       "      <td>29.415</td>\n",
       "      <td>30.1</td>\n",
       "      <td>5.8</td>\n",
       "      <td>17.0</td>\n",
       "      <td>6.95</td>\n",
       "      <td>1</td>\n",
       "      <td>1</td>\n",
       "      <td>0</td>\n",
       "      <td>0</td>\n",
       "      <td>0</td>\n",
       "      <td>0</td>\n",
       "      <td>0</td>\n",
       "      <td>0</td>\n",
       "      <td>0</td>\n",
       "      <td>0</td>\n",
       "      <td>0</td>\n",
       "      <td>0</td>\n",
       "      <td>0</td>\n",
       "      <td>0</td>\n",
       "      <td>0</td>\n",
       "      <td>0</td>\n",
       "      <td>Norwood Park</td>\n",
       "      <td>0.128205</td>\n",
       "    </tr>\n",
       "    <tr>\n",
       "      <th>4</th>\n",
       "      <td>2007-05-29</td>\n",
       "      <td>Culex Restuans</td>\n",
       "      <td>41.974089</td>\n",
       "      <td>-87.824812</td>\n",
       "      <td>4</td>\n",
       "      <td>0</td>\n",
       "      <td>0</td>\n",
       "      <td>88.0</td>\n",
       "      <td>62.5</td>\n",
       "      <td>75.5</td>\n",
       "      <td>10.0</td>\n",
       "      <td>58.5</td>\n",
       "      <td>65.5</td>\n",
       "      <td>0.0</td>\n",
       "      <td>10.5</td>\n",
       "      <td>4.35</td>\n",
       "      <td>19.283333</td>\n",
       "      <td>0.0</td>\n",
       "      <td>0.0</td>\n",
       "      <td>0.0</td>\n",
       "      <td>29.415</td>\n",
       "      <td>30.1</td>\n",
       "      <td>5.8</td>\n",
       "      <td>17.0</td>\n",
       "      <td>6.95</td>\n",
       "      <td>1</td>\n",
       "      <td>1</td>\n",
       "      <td>0</td>\n",
       "      <td>0</td>\n",
       "      <td>0</td>\n",
       "      <td>0</td>\n",
       "      <td>0</td>\n",
       "      <td>0</td>\n",
       "      <td>0</td>\n",
       "      <td>0</td>\n",
       "      <td>0</td>\n",
       "      <td>0</td>\n",
       "      <td>0</td>\n",
       "      <td>0</td>\n",
       "      <td>0</td>\n",
       "      <td>0</td>\n",
       "      <td>Norwood Park</td>\n",
       "      <td>0.128205</td>\n",
       "    </tr>\n",
       "  </tbody>\n",
       "</table>\n",
       "</div>"
      ],
      "text/plain": [
       "        Date                 Species   Latitude  Longitude  NumMosquitos  \\\n",
       "0 2007-05-29  Culex Pipiens/Restuans  41.954690 -87.800991             1   \n",
       "1 2007-05-29          Culex Restuans  41.954690 -87.800991             1   \n",
       "2 2007-05-29          Culex Restuans  41.994991 -87.769279             1   \n",
       "3 2007-05-29  Culex Pipiens/Restuans  41.974089 -87.824812             1   \n",
       "4 2007-05-29          Culex Restuans  41.974089 -87.824812             4   \n",
       "\n",
       "   WnvPresent  IsSprayed  Tmax  Tmin  Tavg  Depart  DewPoint  WetBulb  Heat  \\\n",
       "0           0          0  88.0  62.5  75.5    10.0      58.5     65.5   0.0   \n",
       "1           0          0  88.0  62.5  75.5    10.0      58.5     65.5   0.0   \n",
       "2           0          0  88.0  62.5  75.5    10.0      58.5     65.5   0.0   \n",
       "3           0          0  88.0  62.5  75.5    10.0      58.5     65.5   0.0   \n",
       "4           0          0  88.0  62.5  75.5    10.0      58.5     65.5   0.0   \n",
       "\n",
       "   Cool  Sunrise     Sunset  Depth  SnowFall  PrecipTotal  StnPressure  \\\n",
       "0  10.5     4.35  19.283333    0.0       0.0          0.0       29.415   \n",
       "1  10.5     4.35  19.283333    0.0       0.0          0.0       29.415   \n",
       "2  10.5     4.35  19.283333    0.0       0.0          0.0       29.415   \n",
       "3  10.5     4.35  19.283333    0.0       0.0          0.0       29.415   \n",
       "4  10.5     4.35  19.283333    0.0       0.0          0.0       29.415   \n",
       "\n",
       "   SeaLevel  ResultSpeed  ResultDir  AvgSpeed  BR  HZ  RA  TSRA  VCTS  FU  TS  \\\n",
       "0      30.1          5.8       17.0      6.95   1   1   0     0     0   0   0   \n",
       "1      30.1          5.8       17.0      6.95   1   1   0     0     0   0   0   \n",
       "2      30.1          5.8       17.0      6.95   1   1   0     0     0   0   0   \n",
       "3      30.1          5.8       17.0      6.95   1   1   0     0     0   0   0   \n",
       "4      30.1          5.8       17.0      6.95   1   1   0     0     0   0   0   \n",
       "\n",
       "   DZ  BCFG  FG+  MIFG  FG  SQ  SN  VCFG  GR          Neighbourhood  \\\n",
       "0   0     0    0     0   0   0   0     0   0                Dunning   \n",
       "1   0     0    0     0   0   0   0     0   0                Dunning   \n",
       "2   0     0    0     0   0   0   0     0   0  Sauganash,Forest Glen   \n",
       "3   0     0    0     0   0   0   0     0   0           Norwood Park   \n",
       "4   0     0    0     0   0   0   0     0   0           Norwood Park   \n",
       "\n",
       "   Neighbourhood_Ave_Wnv  \n",
       "0               0.084833  \n",
       "1               0.084833  \n",
       "2               0.046584  \n",
       "3               0.128205  \n",
       "4               0.128205  "
      ]
     },
     "execution_count": 49,
     "metadata": {},
     "output_type": "execute_result"
    }
   ],
   "source": [
    "# Sanity check on the trainset\n",
    "train.head()"
   ]
  },
  {
   "cell_type": "code",
   "execution_count": 50,
   "metadata": {
    "colab": {},
    "colab_type": "code",
    "id": "IcRX5Lxyh20P"
   },
   "outputs": [],
   "source": [
    "# Get the number of classes in each columns\n",
    "unique_counts = train.select_dtypes(include='number').apply(pd.Series.value_counts).notna().sum()\n",
    "\n",
    "# Discard any column with only a single class in the entire trainset\n",
    "drop_cols = unique_counts[unique_counts<2].index\n",
    "\n",
    "# Apply the selected column on the final trainset and testset\n",
    "train.drop(drop_cols, axis=1, inplace=True)\n",
    "test.drop(drop_cols, axis=1, inplace=True)"
   ]
  },
  {
   "cell_type": "markdown",
   "metadata": {
    "colab_type": "text",
    "id": "V2B4H73AzLRl"
   },
   "source": [
    "# 5 Final Data Export"
   ]
  },
  {
   "cell_type": "code",
   "execution_count": 52,
   "metadata": {
    "colab": {},
    "colab_type": "code",
    "id": "qnYuDAK5vfdY"
   },
   "outputs": [],
   "source": [
    "# Export the cleaned and engineered dataset to CSV\n",
    "train.to_csv('./assets/train_final.csv', index=False)\n",
    "test.to_csv('./assets/test_final.csv', index=False)"
   ]
  },
  {
   "cell_type": "code",
   "execution_count": 53,
   "metadata": {
    "colab": {
     "base_uri": "https://localhost:8080/",
     "height": 34
    },
    "colab_type": "code",
    "id": "pZrhUZ41V0nH",
    "outputId": "ea57f3e0-f499-4ab4-a729-ac81f7fe249c"
   },
   "outputs": [
    {
     "data": {
      "text/plain": [
       "(9693, 33)"
      ]
     },
     "execution_count": 53,
     "metadata": {},
     "output_type": "execute_result"
    }
   ],
   "source": [
    "# Sanity Check on the exported Data\n",
    "train = pd.read_csv('./assets/train_final.csv', parse_dates=['Date'])\n",
    "\n",
    "train.shape"
   ]
  },
  {
   "cell_type": "code",
   "execution_count": 54,
   "metadata": {
    "colab": {
     "base_uri": "https://localhost:8080/",
     "height": 537
    },
    "colab_type": "code",
    "id": "ZZzn3c_65a8c",
    "outputId": "f7a42ac4-29fe-433b-b573-8e2242ef5103"
   },
   "outputs": [
    {
     "data": {
      "text/html": [
       "<div>\n",
       "<style scoped>\n",
       "    .dataframe tbody tr th:only-of-type {\n",
       "        vertical-align: middle;\n",
       "    }\n",
       "\n",
       "    .dataframe tbody tr th {\n",
       "        vertical-align: top;\n",
       "    }\n",
       "\n",
       "    .dataframe thead th {\n",
       "        text-align: right;\n",
       "    }\n",
       "</style>\n",
       "<table border=\"1\" class=\"dataframe\">\n",
       "  <thead>\n",
       "    <tr style=\"text-align: right;\">\n",
       "      <th></th>\n",
       "      <th>Date</th>\n",
       "      <th>Species</th>\n",
       "      <th>Latitude</th>\n",
       "      <th>Longitude</th>\n",
       "      <th>NumMosquitos</th>\n",
       "      <th>WnvPresent</th>\n",
       "      <th>IsSprayed</th>\n",
       "      <th>Tmax</th>\n",
       "      <th>Tmin</th>\n",
       "      <th>Tavg</th>\n",
       "      <th>Depart</th>\n",
       "      <th>DewPoint</th>\n",
       "      <th>WetBulb</th>\n",
       "      <th>Heat</th>\n",
       "      <th>Cool</th>\n",
       "      <th>Sunrise</th>\n",
       "      <th>Sunset</th>\n",
       "      <th>PrecipTotal</th>\n",
       "      <th>StnPressure</th>\n",
       "      <th>SeaLevel</th>\n",
       "      <th>ResultSpeed</th>\n",
       "      <th>ResultDir</th>\n",
       "      <th>AvgSpeed</th>\n",
       "      <th>BR</th>\n",
       "      <th>HZ</th>\n",
       "      <th>RA</th>\n",
       "      <th>TSRA</th>\n",
       "      <th>VCTS</th>\n",
       "      <th>TS</th>\n",
       "      <th>DZ</th>\n",
       "      <th>FG</th>\n",
       "      <th>Neighbourhood</th>\n",
       "      <th>Neighbourhood_Ave_Wnv</th>\n",
       "    </tr>\n",
       "  </thead>\n",
       "  <tbody>\n",
       "    <tr>\n",
       "      <th>5853</th>\n",
       "      <td>2011-07-11</td>\n",
       "      <td>Culex Restuans</td>\n",
       "      <td>41.957799</td>\n",
       "      <td>-87.930995</td>\n",
       "      <td>39</td>\n",
       "      <td>0</td>\n",
       "      <td>0</td>\n",
       "      <td>89.0</td>\n",
       "      <td>70.5</td>\n",
       "      <td>80.0</td>\n",
       "      <td>7.0</td>\n",
       "      <td>70.5</td>\n",
       "      <td>74.0</td>\n",
       "      <td>0.0</td>\n",
       "      <td>15.0</td>\n",
       "      <td>4.433333</td>\n",
       "      <td>19.466667</td>\n",
       "      <td>0.260</td>\n",
       "      <td>29.150</td>\n",
       "      <td>29.815</td>\n",
       "      <td>5.40</td>\n",
       "      <td>24.5</td>\n",
       "      <td>8.25</td>\n",
       "      <td>1</td>\n",
       "      <td>1</td>\n",
       "      <td>0</td>\n",
       "      <td>1</td>\n",
       "      <td>0</td>\n",
       "      <td>0</td>\n",
       "      <td>0</td>\n",
       "      <td>0</td>\n",
       "      <td>Others</td>\n",
       "      <td>0.053512</td>\n",
       "    </tr>\n",
       "    <tr>\n",
       "      <th>4931</th>\n",
       "      <td>2009-09-03</td>\n",
       "      <td>Culex Restuans</td>\n",
       "      <td>41.798697</td>\n",
       "      <td>-87.736812</td>\n",
       "      <td>3</td>\n",
       "      <td>0</td>\n",
       "      <td>0</td>\n",
       "      <td>75.0</td>\n",
       "      <td>56.5</td>\n",
       "      <td>66.0</td>\n",
       "      <td>-2.0</td>\n",
       "      <td>54.5</td>\n",
       "      <td>59.5</td>\n",
       "      <td>0.0</td>\n",
       "      <td>1.0</td>\n",
       "      <td>5.316667</td>\n",
       "      <td>18.400000</td>\n",
       "      <td>0.000</td>\n",
       "      <td>29.450</td>\n",
       "      <td>30.150</td>\n",
       "      <td>4.95</td>\n",
       "      <td>5.5</td>\n",
       "      <td>5.95</td>\n",
       "      <td>1</td>\n",
       "      <td>0</td>\n",
       "      <td>0</td>\n",
       "      <td>0</td>\n",
       "      <td>0</td>\n",
       "      <td>0</td>\n",
       "      <td>0</td>\n",
       "      <td>0</td>\n",
       "      <td>Archer Heights</td>\n",
       "      <td>0.063380</td>\n",
       "    </tr>\n",
       "    <tr>\n",
       "      <th>7680</th>\n",
       "      <td>2013-06-27</td>\n",
       "      <td>Culex Restuans</td>\n",
       "      <td>41.891118</td>\n",
       "      <td>-87.654491</td>\n",
       "      <td>1</td>\n",
       "      <td>0</td>\n",
       "      <td>0</td>\n",
       "      <td>90.5</td>\n",
       "      <td>65.0</td>\n",
       "      <td>78.0</td>\n",
       "      <td>6.0</td>\n",
       "      <td>66.0</td>\n",
       "      <td>69.5</td>\n",
       "      <td>0.0</td>\n",
       "      <td>13.0</td>\n",
       "      <td>4.300000</td>\n",
       "      <td>19.516667</td>\n",
       "      <td>0.755</td>\n",
       "      <td>29.045</td>\n",
       "      <td>29.720</td>\n",
       "      <td>6.65</td>\n",
       "      <td>29.0</td>\n",
       "      <td>7.00</td>\n",
       "      <td>1</td>\n",
       "      <td>1</td>\n",
       "      <td>0</td>\n",
       "      <td>0</td>\n",
       "      <td>0</td>\n",
       "      <td>0</td>\n",
       "      <td>0</td>\n",
       "      <td>0</td>\n",
       "      <td>West Town</td>\n",
       "      <td>0.005128</td>\n",
       "    </tr>\n",
       "    <tr>\n",
       "      <th>30</th>\n",
       "      <td>2007-06-05</td>\n",
       "      <td>Culex Pipiens/Restuans</td>\n",
       "      <td>41.921600</td>\n",
       "      <td>-87.666455</td>\n",
       "      <td>1</td>\n",
       "      <td>0</td>\n",
       "      <td>0</td>\n",
       "      <td>63.5</td>\n",
       "      <td>49.0</td>\n",
       "      <td>56.5</td>\n",
       "      <td>-9.0</td>\n",
       "      <td>47.5</td>\n",
       "      <td>51.5</td>\n",
       "      <td>8.5</td>\n",
       "      <td>0.0</td>\n",
       "      <td>4.283333</td>\n",
       "      <td>19.383333</td>\n",
       "      <td>0.345</td>\n",
       "      <td>29.130</td>\n",
       "      <td>29.785</td>\n",
       "      <td>5.70</td>\n",
       "      <td>4.0</td>\n",
       "      <td>7.85</td>\n",
       "      <td>1</td>\n",
       "      <td>0</td>\n",
       "      <td>1</td>\n",
       "      <td>0</td>\n",
       "      <td>0</td>\n",
       "      <td>0</td>\n",
       "      <td>0</td>\n",
       "      <td>0</td>\n",
       "      <td>Lincoln Park</td>\n",
       "      <td>0.049751</td>\n",
       "    </tr>\n",
       "    <tr>\n",
       "      <th>9281</th>\n",
       "      <td>2013-09-06</td>\n",
       "      <td>Culex Pipiens</td>\n",
       "      <td>41.778748</td>\n",
       "      <td>-87.586427</td>\n",
       "      <td>1</td>\n",
       "      <td>1</td>\n",
       "      <td>0</td>\n",
       "      <td>85.5</td>\n",
       "      <td>59.5</td>\n",
       "      <td>73.0</td>\n",
       "      <td>5.0</td>\n",
       "      <td>56.5</td>\n",
       "      <td>63.5</td>\n",
       "      <td>0.0</td>\n",
       "      <td>8.0</td>\n",
       "      <td>5.366667</td>\n",
       "      <td>18.316667</td>\n",
       "      <td>0.000</td>\n",
       "      <td>29.410</td>\n",
       "      <td>30.110</td>\n",
       "      <td>4.50</td>\n",
       "      <td>18.5</td>\n",
       "      <td>6.00</td>\n",
       "      <td>0</td>\n",
       "      <td>0</td>\n",
       "      <td>0</td>\n",
       "      <td>0</td>\n",
       "      <td>0</td>\n",
       "      <td>0</td>\n",
       "      <td>0</td>\n",
       "      <td>0</td>\n",
       "      <td>Woodlawn</td>\n",
       "      <td>0.031447</td>\n",
       "    </tr>\n",
       "    <tr>\n",
       "      <th>9548</th>\n",
       "      <td>2013-09-19</td>\n",
       "      <td>Culex Pipiens/Restuans</td>\n",
       "      <td>41.766202</td>\n",
       "      <td>-87.562889</td>\n",
       "      <td>1</td>\n",
       "      <td>0</td>\n",
       "      <td>0</td>\n",
       "      <td>84.0</td>\n",
       "      <td>69.5</td>\n",
       "      <td>77.0</td>\n",
       "      <td>14.0</td>\n",
       "      <td>67.0</td>\n",
       "      <td>69.5</td>\n",
       "      <td>0.0</td>\n",
       "      <td>12.0</td>\n",
       "      <td>5.600000</td>\n",
       "      <td>17.916667</td>\n",
       "      <td>0.420</td>\n",
       "      <td>29.175</td>\n",
       "      <td>29.870</td>\n",
       "      <td>8.05</td>\n",
       "      <td>16.0</td>\n",
       "      <td>10.30</td>\n",
       "      <td>1</td>\n",
       "      <td>1</td>\n",
       "      <td>1</td>\n",
       "      <td>1</td>\n",
       "      <td>0</td>\n",
       "      <td>1</td>\n",
       "      <td>0</td>\n",
       "      <td>1</td>\n",
       "      <td>South Shore</td>\n",
       "      <td>0.012195</td>\n",
       "    </tr>\n",
       "    <tr>\n",
       "      <th>91</th>\n",
       "      <td>2007-06-26</td>\n",
       "      <td>Culex Pipiens/Restuans</td>\n",
       "      <td>41.921600</td>\n",
       "      <td>-87.666455</td>\n",
       "      <td>1</td>\n",
       "      <td>0</td>\n",
       "      <td>0</td>\n",
       "      <td>91.5</td>\n",
       "      <td>71.5</td>\n",
       "      <td>81.5</td>\n",
       "      <td>10.0</td>\n",
       "      <td>69.0</td>\n",
       "      <td>72.0</td>\n",
       "      <td>0.0</td>\n",
       "      <td>16.5</td>\n",
       "      <td>4.300000</td>\n",
       "      <td>19.516667</td>\n",
       "      <td>0.080</td>\n",
       "      <td>29.420</td>\n",
       "      <td>30.100</td>\n",
       "      <td>6.70</td>\n",
       "      <td>21.5</td>\n",
       "      <td>7.60</td>\n",
       "      <td>1</td>\n",
       "      <td>1</td>\n",
       "      <td>0</td>\n",
       "      <td>1</td>\n",
       "      <td>1</td>\n",
       "      <td>0</td>\n",
       "      <td>0</td>\n",
       "      <td>0</td>\n",
       "      <td>Lincoln Park</td>\n",
       "      <td>0.049751</td>\n",
       "    </tr>\n",
       "    <tr>\n",
       "      <th>3779</th>\n",
       "      <td>2009-06-26</td>\n",
       "      <td>Culex Pipiens/Restuans</td>\n",
       "      <td>41.773215</td>\n",
       "      <td>-87.600880</td>\n",
       "      <td>1</td>\n",
       "      <td>0</td>\n",
       "      <td>0</td>\n",
       "      <td>86.0</td>\n",
       "      <td>70.5</td>\n",
       "      <td>78.5</td>\n",
       "      <td>7.0</td>\n",
       "      <td>60.5</td>\n",
       "      <td>70.0</td>\n",
       "      <td>0.0</td>\n",
       "      <td>13.5</td>\n",
       "      <td>4.300000</td>\n",
       "      <td>19.516667</td>\n",
       "      <td>0.000</td>\n",
       "      <td>29.175</td>\n",
       "      <td>29.840</td>\n",
       "      <td>6.40</td>\n",
       "      <td>4.0</td>\n",
       "      <td>8.10</td>\n",
       "      <td>0</td>\n",
       "      <td>0</td>\n",
       "      <td>0</td>\n",
       "      <td>0</td>\n",
       "      <td>0</td>\n",
       "      <td>0</td>\n",
       "      <td>0</td>\n",
       "      <td>0</td>\n",
       "      <td>Woodlawn</td>\n",
       "      <td>0.031447</td>\n",
       "    </tr>\n",
       "    <tr>\n",
       "      <th>6204</th>\n",
       "      <td>2011-07-25</td>\n",
       "      <td>Culex Restuans</td>\n",
       "      <td>41.987280</td>\n",
       "      <td>-87.666066</td>\n",
       "      <td>1</td>\n",
       "      <td>0</td>\n",
       "      <td>0</td>\n",
       "      <td>89.0</td>\n",
       "      <td>73.0</td>\n",
       "      <td>81.5</td>\n",
       "      <td>7.0</td>\n",
       "      <td>66.5</td>\n",
       "      <td>71.0</td>\n",
       "      <td>0.0</td>\n",
       "      <td>16.5</td>\n",
       "      <td>4.633333</td>\n",
       "      <td>19.300000</td>\n",
       "      <td>0.005</td>\n",
       "      <td>29.225</td>\n",
       "      <td>29.900</td>\n",
       "      <td>2.75</td>\n",
       "      <td>33.5</td>\n",
       "      <td>6.30</td>\n",
       "      <td>0</td>\n",
       "      <td>0</td>\n",
       "      <td>0</td>\n",
       "      <td>0</td>\n",
       "      <td>0</td>\n",
       "      <td>0</td>\n",
       "      <td>0</td>\n",
       "      <td>0</td>\n",
       "      <td>Edgewater</td>\n",
       "      <td>0.071429</td>\n",
       "    </tr>\n",
       "    <tr>\n",
       "      <th>407</th>\n",
       "      <td>2007-07-11</td>\n",
       "      <td>Culex Restuans</td>\n",
       "      <td>41.794781</td>\n",
       "      <td>-87.615989</td>\n",
       "      <td>18</td>\n",
       "      <td>0</td>\n",
       "      <td>0</td>\n",
       "      <td>77.0</td>\n",
       "      <td>62.5</td>\n",
       "      <td>70.0</td>\n",
       "      <td>-3.0</td>\n",
       "      <td>51.0</td>\n",
       "      <td>59.0</td>\n",
       "      <td>0.0</td>\n",
       "      <td>5.0</td>\n",
       "      <td>4.433333</td>\n",
       "      <td>19.466667</td>\n",
       "      <td>0.000</td>\n",
       "      <td>29.255</td>\n",
       "      <td>29.925</td>\n",
       "      <td>8.95</td>\n",
       "      <td>30.0</td>\n",
       "      <td>11.05</td>\n",
       "      <td>0</td>\n",
       "      <td>0</td>\n",
       "      <td>0</td>\n",
       "      <td>0</td>\n",
       "      <td>0</td>\n",
       "      <td>0</td>\n",
       "      <td>0</td>\n",
       "      <td>0</td>\n",
       "      <td>Washington Park</td>\n",
       "      <td>0.000000</td>\n",
       "    </tr>\n",
       "  </tbody>\n",
       "</table>\n",
       "</div>"
      ],
      "text/plain": [
       "           Date                 Species   Latitude  Longitude  NumMosquitos  \\\n",
       "5853 2011-07-11          Culex Restuans  41.957799 -87.930995            39   \n",
       "4931 2009-09-03          Culex Restuans  41.798697 -87.736812             3   \n",
       "7680 2013-06-27          Culex Restuans  41.891118 -87.654491             1   \n",
       "30   2007-06-05  Culex Pipiens/Restuans  41.921600 -87.666455             1   \n",
       "9281 2013-09-06           Culex Pipiens  41.778748 -87.586427             1   \n",
       "9548 2013-09-19  Culex Pipiens/Restuans  41.766202 -87.562889             1   \n",
       "91   2007-06-26  Culex Pipiens/Restuans  41.921600 -87.666455             1   \n",
       "3779 2009-06-26  Culex Pipiens/Restuans  41.773215 -87.600880             1   \n",
       "6204 2011-07-25          Culex Restuans  41.987280 -87.666066             1   \n",
       "407  2007-07-11          Culex Restuans  41.794781 -87.615989            18   \n",
       "\n",
       "      WnvPresent  IsSprayed  Tmax  Tmin  Tavg  Depart  DewPoint  WetBulb  \\\n",
       "5853           0          0  89.0  70.5  80.0     7.0      70.5     74.0   \n",
       "4931           0          0  75.0  56.5  66.0    -2.0      54.5     59.5   \n",
       "7680           0          0  90.5  65.0  78.0     6.0      66.0     69.5   \n",
       "30             0          0  63.5  49.0  56.5    -9.0      47.5     51.5   \n",
       "9281           1          0  85.5  59.5  73.0     5.0      56.5     63.5   \n",
       "9548           0          0  84.0  69.5  77.0    14.0      67.0     69.5   \n",
       "91             0          0  91.5  71.5  81.5    10.0      69.0     72.0   \n",
       "3779           0          0  86.0  70.5  78.5     7.0      60.5     70.0   \n",
       "6204           0          0  89.0  73.0  81.5     7.0      66.5     71.0   \n",
       "407            0          0  77.0  62.5  70.0    -3.0      51.0     59.0   \n",
       "\n",
       "      Heat  Cool   Sunrise     Sunset  PrecipTotal  StnPressure  SeaLevel  \\\n",
       "5853   0.0  15.0  4.433333  19.466667        0.260       29.150    29.815   \n",
       "4931   0.0   1.0  5.316667  18.400000        0.000       29.450    30.150   \n",
       "7680   0.0  13.0  4.300000  19.516667        0.755       29.045    29.720   \n",
       "30     8.5   0.0  4.283333  19.383333        0.345       29.130    29.785   \n",
       "9281   0.0   8.0  5.366667  18.316667        0.000       29.410    30.110   \n",
       "9548   0.0  12.0  5.600000  17.916667        0.420       29.175    29.870   \n",
       "91     0.0  16.5  4.300000  19.516667        0.080       29.420    30.100   \n",
       "3779   0.0  13.5  4.300000  19.516667        0.000       29.175    29.840   \n",
       "6204   0.0  16.5  4.633333  19.300000        0.005       29.225    29.900   \n",
       "407    0.0   5.0  4.433333  19.466667        0.000       29.255    29.925   \n",
       "\n",
       "      ResultSpeed  ResultDir  AvgSpeed  BR  HZ  RA  TSRA  VCTS  TS  DZ  FG  \\\n",
       "5853         5.40       24.5      8.25   1   1   0     1     0   0   0   0   \n",
       "4931         4.95        5.5      5.95   1   0   0     0     0   0   0   0   \n",
       "7680         6.65       29.0      7.00   1   1   0     0     0   0   0   0   \n",
       "30           5.70        4.0      7.85   1   0   1     0     0   0   0   0   \n",
       "9281         4.50       18.5      6.00   0   0   0     0     0   0   0   0   \n",
       "9548         8.05       16.0     10.30   1   1   1     1     0   1   0   1   \n",
       "91           6.70       21.5      7.60   1   1   0     1     1   0   0   0   \n",
       "3779         6.40        4.0      8.10   0   0   0     0     0   0   0   0   \n",
       "6204         2.75       33.5      6.30   0   0   0     0     0   0   0   0   \n",
       "407          8.95       30.0     11.05   0   0   0     0     0   0   0   0   \n",
       "\n",
       "        Neighbourhood  Neighbourhood_Ave_Wnv  \n",
       "5853           Others               0.053512  \n",
       "4931   Archer Heights               0.063380  \n",
       "7680        West Town               0.005128  \n",
       "30       Lincoln Park               0.049751  \n",
       "9281         Woodlawn               0.031447  \n",
       "9548      South Shore               0.012195  \n",
       "91       Lincoln Park               0.049751  \n",
       "3779         Woodlawn               0.031447  \n",
       "6204        Edgewater               0.071429  \n",
       "407   Washington Park               0.000000  "
      ]
     },
     "execution_count": 54,
     "metadata": {},
     "output_type": "execute_result"
    }
   ],
   "source": [
    "train.sample(10)"
   ]
  },
  {
   "cell_type": "code",
   "execution_count": 55,
   "metadata": {
    "colab": {
     "base_uri": "https://localhost:8080/",
     "height": 661
    },
    "colab_type": "code",
    "id": "-ardGZBQ5mqq",
    "outputId": "df1e1863-afa5-4b85-a588-330684bbdb67"
   },
   "outputs": [
    {
     "data": {
      "text/html": [
       "<div>\n",
       "<style scoped>\n",
       "    .dataframe tbody tr th:only-of-type {\n",
       "        vertical-align: middle;\n",
       "    }\n",
       "\n",
       "    .dataframe tbody tr th {\n",
       "        vertical-align: top;\n",
       "    }\n",
       "\n",
       "    .dataframe thead th {\n",
       "        text-align: right;\n",
       "    }\n",
       "</style>\n",
       "<table border=\"1\" class=\"dataframe\">\n",
       "  <thead>\n",
       "    <tr style=\"text-align: right;\">\n",
       "      <th></th>\n",
       "      <th>Id</th>\n",
       "      <th>Date</th>\n",
       "      <th>Address</th>\n",
       "      <th>Species</th>\n",
       "      <th>Block</th>\n",
       "      <th>Street</th>\n",
       "      <th>Trap</th>\n",
       "      <th>AddressNumberAndStreet</th>\n",
       "      <th>Latitude</th>\n",
       "      <th>Longitude</th>\n",
       "      <th>AddressAccuracy</th>\n",
       "      <th>IsSprayed</th>\n",
       "      <th>Tmax</th>\n",
       "      <th>Tmin</th>\n",
       "      <th>Tavg</th>\n",
       "      <th>Depart</th>\n",
       "      <th>DewPoint</th>\n",
       "      <th>WetBulb</th>\n",
       "      <th>Heat</th>\n",
       "      <th>Cool</th>\n",
       "      <th>Sunrise</th>\n",
       "      <th>Sunset</th>\n",
       "      <th>PrecipTotal</th>\n",
       "      <th>StnPressure</th>\n",
       "      <th>SeaLevel</th>\n",
       "      <th>ResultSpeed</th>\n",
       "      <th>ResultDir</th>\n",
       "      <th>AvgSpeed</th>\n",
       "      <th>BR</th>\n",
       "      <th>HZ</th>\n",
       "      <th>RA</th>\n",
       "      <th>TSRA</th>\n",
       "      <th>VCTS</th>\n",
       "      <th>TS</th>\n",
       "      <th>DZ</th>\n",
       "      <th>FG</th>\n",
       "      <th>Neighbourhood</th>\n",
       "      <th>Neighbourhood_Ave_Wnv</th>\n",
       "    </tr>\n",
       "  </thead>\n",
       "  <tbody>\n",
       "    <tr>\n",
       "      <th>25568</th>\n",
       "      <td>25569</td>\n",
       "      <td>2008-09-03</td>\n",
       "      <td>2900 West 85th Street, Chicago, IL 60652, USA</td>\n",
       "      <td>Culex Pipiens</td>\n",
       "      <td>29</td>\n",
       "      <td>W 85TH ST</td>\n",
       "      <td>T237</td>\n",
       "      <td>2900  W 85TH ST, Chicago, IL</td>\n",
       "      <td>41.738903</td>\n",
       "      <td>-87.695443</td>\n",
       "      <td>8</td>\n",
       "      <td>0</td>\n",
       "      <td>77.0</td>\n",
       "      <td>67.0</td>\n",
       "      <td>72.5</td>\n",
       "      <td>4.0</td>\n",
       "      <td>61.0</td>\n",
       "      <td>64.5</td>\n",
       "      <td>0.0</td>\n",
       "      <td>7.5</td>\n",
       "      <td>5.316667</td>\n",
       "      <td>18.400000</td>\n",
       "      <td>0.01</td>\n",
       "      <td>29.325</td>\n",
       "      <td>30.005</td>\n",
       "      <td>10.50</td>\n",
       "      <td>1.0</td>\n",
       "      <td>11.25</td>\n",
       "      <td>0</td>\n",
       "      <td>0</td>\n",
       "      <td>0</td>\n",
       "      <td>1</td>\n",
       "      <td>0</td>\n",
       "      <td>0</td>\n",
       "      <td>0</td>\n",
       "      <td>0</td>\n",
       "      <td>Ashburn</td>\n",
       "      <td>0.090164</td>\n",
       "    </tr>\n",
       "    <tr>\n",
       "      <th>50563</th>\n",
       "      <td>50564</td>\n",
       "      <td>2010-08-06</td>\n",
       "      <td>6000 West Roscoe Street, Chicago, IL 60634, USA</td>\n",
       "      <td>Culex Restuans</td>\n",
       "      <td>60</td>\n",
       "      <td>W ROSCOE ST</td>\n",
       "      <td>T005</td>\n",
       "      <td>6000  W ROSCOE ST, Chicago, IL</td>\n",
       "      <td>41.942114</td>\n",
       "      <td>-87.776385</td>\n",
       "      <td>8</td>\n",
       "      <td>0</td>\n",
       "      <td>82.0</td>\n",
       "      <td>64.0</td>\n",
       "      <td>73.0</td>\n",
       "      <td>0.0</td>\n",
       "      <td>58.5</td>\n",
       "      <td>64.0</td>\n",
       "      <td>0.0</td>\n",
       "      <td>8.0</td>\n",
       "      <td>4.833333</td>\n",
       "      <td>19.100000</td>\n",
       "      <td>0.00</td>\n",
       "      <td>29.250</td>\n",
       "      <td>29.920</td>\n",
       "      <td>6.10</td>\n",
       "      <td>29.0</td>\n",
       "      <td>6.40</td>\n",
       "      <td>0</td>\n",
       "      <td>0</td>\n",
       "      <td>0</td>\n",
       "      <td>0</td>\n",
       "      <td>0</td>\n",
       "      <td>0</td>\n",
       "      <td>0</td>\n",
       "      <td>0</td>\n",
       "      <td>Dunning</td>\n",
       "      <td>0.084833</td>\n",
       "    </tr>\n",
       "    <tr>\n",
       "      <th>52635</th>\n",
       "      <td>52636</td>\n",
       "      <td>2010-08-19</td>\n",
       "      <td>3600 North Pittsburgh Avenue, Chicago, IL 6063...</td>\n",
       "      <td>Culex Pipiens/Restuans</td>\n",
       "      <td>36</td>\n",
       "      <td>N PITTSBURGH AVE</td>\n",
       "      <td>T011</td>\n",
       "      <td>3600  N PITTSBURGH AVE, Chicago, IL</td>\n",
       "      <td>41.944869</td>\n",
       "      <td>-87.832763</td>\n",
       "      <td>8</td>\n",
       "      <td>0</td>\n",
       "      <td>87.5</td>\n",
       "      <td>67.5</td>\n",
       "      <td>77.5</td>\n",
       "      <td>6.0</td>\n",
       "      <td>64.0</td>\n",
       "      <td>69.0</td>\n",
       "      <td>0.0</td>\n",
       "      <td>12.5</td>\n",
       "      <td>5.050000</td>\n",
       "      <td>18.800000</td>\n",
       "      <td>0.00</td>\n",
       "      <td>29.210</td>\n",
       "      <td>29.900</td>\n",
       "      <td>4.60</td>\n",
       "      <td>21.0</td>\n",
       "      <td>5.25</td>\n",
       "      <td>0</td>\n",
       "      <td>0</td>\n",
       "      <td>0</td>\n",
       "      <td>0</td>\n",
       "      <td>0</td>\n",
       "      <td>0</td>\n",
       "      <td>0</td>\n",
       "      <td>0</td>\n",
       "      <td>Dunning</td>\n",
       "      <td>0.084833</td>\n",
       "    </tr>\n",
       "    <tr>\n",
       "      <th>1200</th>\n",
       "      <td>1201</td>\n",
       "      <td>2008-06-11</td>\n",
       "      <td>2100 North Cannon Drive, Chicago, IL 60614, USA</td>\n",
       "      <td>Culex Pipiens/Restuans</td>\n",
       "      <td>21</td>\n",
       "      <td>N CANNON DR</td>\n",
       "      <td>T054C</td>\n",
       "      <td>2100  N CANNON DR, Chicago, IL</td>\n",
       "      <td>41.925652</td>\n",
       "      <td>-87.633590</td>\n",
       "      <td>8</td>\n",
       "      <td>0</td>\n",
       "      <td>86.0</td>\n",
       "      <td>63.5</td>\n",
       "      <td>75.0</td>\n",
       "      <td>7.0</td>\n",
       "      <td>55.5</td>\n",
       "      <td>64.0</td>\n",
       "      <td>0.0</td>\n",
       "      <td>10.0</td>\n",
       "      <td>4.266667</td>\n",
       "      <td>19.433333</td>\n",
       "      <td>0.00</td>\n",
       "      <td>29.310</td>\n",
       "      <td>29.980</td>\n",
       "      <td>9.15</td>\n",
       "      <td>18.0</td>\n",
       "      <td>10.20</td>\n",
       "      <td>0</td>\n",
       "      <td>0</td>\n",
       "      <td>0</td>\n",
       "      <td>0</td>\n",
       "      <td>0</td>\n",
       "      <td>0</td>\n",
       "      <td>0</td>\n",
       "      <td>0</td>\n",
       "      <td>Lincoln Park</td>\n",
       "      <td>0.049751</td>\n",
       "    </tr>\n",
       "    <tr>\n",
       "      <th>16172</th>\n",
       "      <td>16173</td>\n",
       "      <td>2008-08-05</td>\n",
       "      <td>6100 North Lemont Avenue, Chicago, IL 60646, USA</td>\n",
       "      <td>0</td>\n",
       "      <td>61</td>\n",
       "      <td>N LEMONT AVE</td>\n",
       "      <td>T012</td>\n",
       "      <td>6100  N LEMONT AVE, Chicago, IL</td>\n",
       "      <td>41.991429</td>\n",
       "      <td>-87.747113</td>\n",
       "      <td>8</td>\n",
       "      <td>0</td>\n",
       "      <td>87.5</td>\n",
       "      <td>70.0</td>\n",
       "      <td>79.0</td>\n",
       "      <td>5.0</td>\n",
       "      <td>68.0</td>\n",
       "      <td>71.5</td>\n",
       "      <td>0.0</td>\n",
       "      <td>14.0</td>\n",
       "      <td>4.816667</td>\n",
       "      <td>19.116667</td>\n",
       "      <td>0.04</td>\n",
       "      <td>29.270</td>\n",
       "      <td>29.920</td>\n",
       "      <td>4.55</td>\n",
       "      <td>31.0</td>\n",
       "      <td>6.85</td>\n",
       "      <td>1</td>\n",
       "      <td>1</td>\n",
       "      <td>0</td>\n",
       "      <td>0</td>\n",
       "      <td>0</td>\n",
       "      <td>0</td>\n",
       "      <td>0</td>\n",
       "      <td>0</td>\n",
       "      <td>Sauganash,Forest Glen</td>\n",
       "      <td>0.046584</td>\n",
       "    </tr>\n",
       "  </tbody>\n",
       "</table>\n",
       "</div>"
      ],
      "text/plain": [
       "          Id       Date                                            Address  \\\n",
       "25568  25569 2008-09-03      2900 West 85th Street, Chicago, IL 60652, USA   \n",
       "50563  50564 2010-08-06    6000 West Roscoe Street, Chicago, IL 60634, USA   \n",
       "52635  52636 2010-08-19  3600 North Pittsburgh Avenue, Chicago, IL 6063...   \n",
       "1200    1201 2008-06-11    2100 North Cannon Drive, Chicago, IL 60614, USA   \n",
       "16172  16173 2008-08-05   6100 North Lemont Avenue, Chicago, IL 60646, USA   \n",
       "\n",
       "                      Species  Block             Street   Trap  \\\n",
       "25568           Culex Pipiens     29          W 85TH ST   T237   \n",
       "50563          Culex Restuans     60        W ROSCOE ST   T005   \n",
       "52635  Culex Pipiens/Restuans     36   N PITTSBURGH AVE   T011   \n",
       "1200   Culex Pipiens/Restuans     21        N CANNON DR  T054C   \n",
       "16172                       0     61       N LEMONT AVE   T012   \n",
       "\n",
       "                    AddressNumberAndStreet   Latitude  Longitude  \\\n",
       "25568         2900  W 85TH ST, Chicago, IL  41.738903 -87.695443   \n",
       "50563       6000  W ROSCOE ST, Chicago, IL  41.942114 -87.776385   \n",
       "52635  3600  N PITTSBURGH AVE, Chicago, IL  41.944869 -87.832763   \n",
       "1200        2100  N CANNON DR, Chicago, IL  41.925652 -87.633590   \n",
       "16172      6100  N LEMONT AVE, Chicago, IL  41.991429 -87.747113   \n",
       "\n",
       "       AddressAccuracy  IsSprayed  Tmax  Tmin  Tavg  Depart  DewPoint  \\\n",
       "25568                8          0  77.0  67.0  72.5     4.0      61.0   \n",
       "50563                8          0  82.0  64.0  73.0     0.0      58.5   \n",
       "52635                8          0  87.5  67.5  77.5     6.0      64.0   \n",
       "1200                 8          0  86.0  63.5  75.0     7.0      55.5   \n",
       "16172                8          0  87.5  70.0  79.0     5.0      68.0   \n",
       "\n",
       "       WetBulb  Heat  Cool   Sunrise     Sunset  PrecipTotal  StnPressure  \\\n",
       "25568     64.5   0.0   7.5  5.316667  18.400000         0.01       29.325   \n",
       "50563     64.0   0.0   8.0  4.833333  19.100000         0.00       29.250   \n",
       "52635     69.0   0.0  12.5  5.050000  18.800000         0.00       29.210   \n",
       "1200      64.0   0.0  10.0  4.266667  19.433333         0.00       29.310   \n",
       "16172     71.5   0.0  14.0  4.816667  19.116667         0.04       29.270   \n",
       "\n",
       "       SeaLevel  ResultSpeed  ResultDir  AvgSpeed  BR  HZ  RA  TSRA  VCTS  TS  \\\n",
       "25568    30.005        10.50        1.0     11.25   0   0   0     1     0   0   \n",
       "50563    29.920         6.10       29.0      6.40   0   0   0     0     0   0   \n",
       "52635    29.900         4.60       21.0      5.25   0   0   0     0     0   0   \n",
       "1200     29.980         9.15       18.0     10.20   0   0   0     0     0   0   \n",
       "16172    29.920         4.55       31.0      6.85   1   1   0     0     0   0   \n",
       "\n",
       "       DZ  FG          Neighbourhood  Neighbourhood_Ave_Wnv  \n",
       "25568   0   0                Ashburn               0.090164  \n",
       "50563   0   0                Dunning               0.084833  \n",
       "52635   0   0                Dunning               0.084833  \n",
       "1200    0   0           Lincoln Park               0.049751  \n",
       "16172   0   0  Sauganash,Forest Glen               0.046584  "
      ]
     },
     "execution_count": 55,
     "metadata": {},
     "output_type": "execute_result"
    }
   ],
   "source": [
    "test = pd.read_csv('./assets/test_final.csv', parse_dates=['Date'])\n",
    "\n",
    "test.sample(5)"
   ]
  },
  {
   "cell_type": "markdown",
   "metadata": {
    "colab_type": "text",
    "id": "kZkze0xY2QzY"
   },
   "source": [
    "Now the dataset is cleaned and engineered, the project will be continued on the second part of the notebook. Exploratory analysis and multiple modelling approaches will be conducted in the second part."
   ]
  }
 ],
 "metadata": {
  "colab": {
   "collapsed_sections": [],
   "name": "1 - Data Cleaning.ipynb",
   "provenance": []
  },
  "kernelspec": {
   "display_name": "Python 3",
   "language": "python",
   "name": "python3"
  },
  "language_info": {
   "codemirror_mode": {
    "name": "ipython",
    "version": 3
   },
   "file_extension": ".py",
   "mimetype": "text/x-python",
   "name": "python",
   "nbconvert_exporter": "python",
   "pygments_lexer": "ipython3",
   "version": "3.7.7"
  },
  "varInspector": {
   "cols": {
    "lenName": 16,
    "lenType": 16,
    "lenVar": 40
   },
   "kernels_config": {
    "python": {
     "delete_cmd_postfix": "",
     "delete_cmd_prefix": "del ",
     "library": "var_list.py",
     "varRefreshCmd": "print(var_dic_list())"
    },
    "r": {
     "delete_cmd_postfix": ") ",
     "delete_cmd_prefix": "rm(",
     "library": "var_list.r",
     "varRefreshCmd": "cat(var_dic_list()) "
    }
   },
   "types_to_exclude": [
    "module",
    "function",
    "builtin_function_or_method",
    "instance",
    "_Feature"
   ],
   "window_display": false
  }
 },
 "nbformat": 4,
 "nbformat_minor": 1
}
