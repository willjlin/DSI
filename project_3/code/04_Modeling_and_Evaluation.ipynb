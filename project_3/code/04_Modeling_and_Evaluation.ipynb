{
 "cells": [
  {
   "cell_type": "code",
   "execution_count": 1,
   "metadata": {},
   "outputs": [],
   "source": [
    "import pandas as pd\n",
    "import numpy as np\n",
    "import matplotlib.pyplot as plt\n",
    "from sklearn.feature_extraction.text import CountVectorizer\n",
    "from sklearn.pipeline import Pipeline\n",
    "from sklearn.naive_bayes import MultinomialNB\n",
    "from sklearn.model_selection import train_test_split, GridSearchCV\n",
    "from sklearn.linear_model import LogisticRegression\n",
    "from sklearn.metrics import roc_auc_score,accuracy_score\n",
    "%matplotlib inline\n"
   ]
  },
  {
   "cell_type": "code",
   "execution_count": 2,
   "metadata": {},
   "outputs": [],
   "source": [
    "combo_redd = pd.read_csv('../datasets/combo_redd.csv', index_col=0)"
   ]
  },
  {
   "cell_type": "code",
   "execution_count": 3,
   "metadata": {},
   "outputs": [
    {
     "data": {
      "text/plain": [
       "1    988\n",
       "0    954\n",
       "Name: target, dtype: int64"
      ]
     },
     "execution_count": 3,
     "metadata": {},
     "output_type": "execute_result"
    }
   ],
   "source": [
    "# Check for unbalanced classes.\n",
    "\n",
    "combo_redd['target'].value_counts()"
   ]
  },
  {
   "cell_type": "markdown",
   "metadata": {},
   "source": [
    "The classes are almost balanced."
   ]
  },
  {
   "cell_type": "markdown",
   "metadata": {},
   "source": [
    "### Split our data into `X` and `y`."
   ]
  },
  {
   "cell_type": "code",
   "execution_count": 4,
   "metadata": {},
   "outputs": [],
   "source": [
    "X = combo_redd['lemmatized']\n",
    "y = combo_redd['target']"
   ]
  },
  {
   "cell_type": "code",
   "execution_count": 5,
   "metadata": {},
   "outputs": [],
   "source": [
    "X_train, X_test, y_train, y_test = train_test_split(X,\n",
    "                                                    y,\n",
    "                                                    test_size = 0.2,\n",
    "                                                    stratify=y,\n",
    "                                                    random_state = 42)"
   ]
  },
  {
   "cell_type": "code",
   "execution_count": 6,
   "metadata": {},
   "outputs": [
    {
     "data": {
      "text/plain": [
       "(1553,)"
      ]
     },
     "execution_count": 6,
     "metadata": {},
     "output_type": "execute_result"
    }
   ],
   "source": [
    "X_train.shape"
   ]
  },
  {
   "cell_type": "code",
   "execution_count": 7,
   "metadata": {},
   "outputs": [
    {
     "data": {
      "text/plain": [
       "(1553,)"
      ]
     },
     "execution_count": 7,
     "metadata": {},
     "output_type": "execute_result"
    }
   ],
   "source": [
    "y_train.shape"
   ]
  },
  {
   "cell_type": "markdown",
   "metadata": {},
   "source": [
    "## Modeling"
   ]
  },
  {
   "cell_type": "markdown",
   "metadata": {},
   "source": [
    "### Baseline Model"
   ]
  },
  {
   "cell_type": "code",
   "execution_count": 8,
   "metadata": {},
   "outputs": [
    {
     "data": {
      "text/plain": [
       "1    0.508997\n",
       "0    0.491003\n",
       "Name: target, dtype: float64"
      ]
     },
     "execution_count": 8,
     "metadata": {},
     "output_type": "execute_result"
    }
   ],
   "source": [
    "y_test.value_counts(normalize=True)"
   ]
  },
  {
   "cell_type": "markdown",
   "metadata": {},
   "source": [
    "### Using Logistic Regression with GridSearchCV to model"
   ]
  },
  {
   "cell_type": "code",
   "execution_count": 9,
   "metadata": {},
   "outputs": [],
   "source": [
    "#Set a pipeline up with two stages:\n",
    "# 1. CountVectorizer (transformer)\n",
    "# 2. LogisticRegression (estimator)\n",
    "\n",
    "pipe_l = Pipeline([\n",
    "    ('cvec_l', CountVectorizer()),\n",
    "    ('lr', LogisticRegression(solver = 'lbfgs'))\n",
    "])"
   ]
  },
  {
   "cell_type": "code",
   "execution_count": 10,
   "metadata": {},
   "outputs": [],
   "source": [
    "# Search over the following values of hyperparameters:\n",
    "\n",
    "\n",
    "pipe_params_l = {'lr__C': [0.001, 0.01, 0.1, 1],\n",
    "              'lr__class_weight': [None, 'balanced'],\n",
    "              'lr__penalty': ['l2'],\n",
    "                'cvec_l__max_features': [2_000, 3_000, 4_000, 5_000],\n",
    "                'cvec_l__min_df': [2, 3],\n",
    "                'cvec_l__ngram_range': [(1,1), (1,2)]\n",
    "}"
   ]
  },
  {
   "cell_type": "code",
   "execution_count": 11,
   "metadata": {},
   "outputs": [],
   "source": [
    "# Instantiate GridSearchCV.\n",
    "\n",
    "gs_l = GridSearchCV(pipe_l, # the object are we optimizing\n",
    "                  param_grid=pipe_params_l, # the parameters values are we searching\n",
    "                  cv=5) # 5-fold cross-validation."
   ]
  },
  {
   "cell_type": "code",
   "execution_count": 12,
   "metadata": {},
   "outputs": [
    {
     "data": {
      "text/plain": [
       "GridSearchCV(cv=5, error_score=nan,\n",
       "             estimator=Pipeline(memory=None,\n",
       "                                steps=[('cvec_l',\n",
       "                                        CountVectorizer(analyzer='word',\n",
       "                                                        binary=False,\n",
       "                                                        decode_error='strict',\n",
       "                                                        dtype=<class 'numpy.int64'>,\n",
       "                                                        encoding='utf-8',\n",
       "                                                        input='content',\n",
       "                                                        lowercase=True,\n",
       "                                                        max_df=1.0,\n",
       "                                                        max_features=None,\n",
       "                                                        min_df=1,\n",
       "                                                        ngram_range=(1, 1),\n",
       "                                                        preprocessor=None,\n",
       "                                                        stop_words=None,\n",
       "                                                        strip_accents=None,\n",
       "                                                        token_pattern='(?...\n",
       "                                                           verbose=0,\n",
       "                                                           warm_start=False))],\n",
       "                                verbose=False),\n",
       "             iid='deprecated', n_jobs=None,\n",
       "             param_grid={'cvec_l__max_features': [2000, 3000, 4000, 5000],\n",
       "                         'cvec_l__min_df': [2, 3],\n",
       "                         'cvec_l__ngram_range': [(1, 1), (1, 2)],\n",
       "                         'lr__C': [0.001, 0.01, 0.1, 1],\n",
       "                         'lr__class_weight': [None, 'balanced'],\n",
       "                         'lr__penalty': ['l2']},\n",
       "             pre_dispatch='2*n_jobs', refit=True, return_train_score=False,\n",
       "             scoring=None, verbose=0)"
      ]
     },
     "execution_count": 12,
     "metadata": {},
     "output_type": "execute_result"
    }
   ],
   "source": [
    "# Fit GridSearch to training data.\n",
    "gs_l.fit(X_train, y_train)"
   ]
  },
  {
   "cell_type": "code",
   "execution_count": 13,
   "metadata": {},
   "outputs": [],
   "source": [
    "# Save best model as gs_model.\n",
    "\n",
    "model_l = gs_l.best_estimator_"
   ]
  },
  {
   "cell_type": "code",
   "execution_count": 14,
   "metadata": {},
   "outputs": [
    {
     "data": {
      "text/plain": [
       "0.9684481648422408"
      ]
     },
     "execution_count": 14,
     "metadata": {},
     "output_type": "execute_result"
    }
   ],
   "source": [
    "# Score model on training set.\n",
    "model_l.score(X_train, y_train)"
   ]
  },
  {
   "cell_type": "code",
   "execution_count": 15,
   "metadata": {},
   "outputs": [
    {
     "data": {
      "text/plain": [
       "0.8303341902313625"
      ]
     },
     "execution_count": 15,
     "metadata": {},
     "output_type": "execute_result"
    }
   ],
   "source": [
    "# Score model on testing set.\n",
    "model_l.score(X_test, y_test)"
   ]
  },
  {
   "cell_type": "markdown",
   "metadata": {},
   "source": [
    "This model is overfitted as its accuracy score for the training data is higher than the test data and may not perform well on unseen data."
   ]
  },
  {
   "cell_type": "markdown",
   "metadata": {},
   "source": [
    "### Using Naive Bayes with GridSearchCV to model"
   ]
  },
  {
   "cell_type": "code",
   "execution_count": 16,
   "metadata": {},
   "outputs": [],
   "source": [
    "nb = MultinomialNB()"
   ]
  },
  {
   "cell_type": "code",
   "execution_count": 17,
   "metadata": {},
   "outputs": [],
   "source": [
    "# Set a pipeline up with two stages:\n",
    "# 1. CountVectorizer (transformer)\n",
    "# 2. LogisticRegression (estimator)\n",
    "\n",
    "pipe_n = Pipeline([\n",
    "    ('cvec_n', CountVectorizer()),\n",
    "    ('nb', MultinomialNB())\n",
    "])"
   ]
  },
  {
   "cell_type": "code",
   "execution_count": 18,
   "metadata": {},
   "outputs": [],
   "source": [
    "# Search over the following values of hyperparameters:\n",
    "\n",
    "pipe_params_n = {\n",
    "                'cvec_n__max_features': [2_000, 3_000, 4_000, 5_000],\n",
    "                'cvec_n__min_df': [2, 3],\n",
    "                'cvec_n__max_df': [.9, .95],\n",
    "                'cvec_n__ngram_range': [(1,1), (1,2)]\n",
    "}"
   ]
  },
  {
   "cell_type": "code",
   "execution_count": 19,
   "metadata": {},
   "outputs": [],
   "source": [
    "# Instantiate GridSearchCV.\n",
    "\n",
    "gs_n = GridSearchCV(pipe_n, # the object are we optimizing\n",
    "                  param_grid=pipe_params_n, # the parameters values are we searching\n",
    "                  cv=5) # 5-fold cross-validation."
   ]
  },
  {
   "cell_type": "code",
   "execution_count": 20,
   "metadata": {},
   "outputs": [
    {
     "data": {
      "text/plain": [
       "GridSearchCV(cv=5, error_score=nan,\n",
       "             estimator=Pipeline(memory=None,\n",
       "                                steps=[('cvec_n',\n",
       "                                        CountVectorizer(analyzer='word',\n",
       "                                                        binary=False,\n",
       "                                                        decode_error='strict',\n",
       "                                                        dtype=<class 'numpy.int64'>,\n",
       "                                                        encoding='utf-8',\n",
       "                                                        input='content',\n",
       "                                                        lowercase=True,\n",
       "                                                        max_df=1.0,\n",
       "                                                        max_features=None,\n",
       "                                                        min_df=1,\n",
       "                                                        ngram_range=(1, 1),\n",
       "                                                        preprocessor=None,\n",
       "                                                        stop_words=None,\n",
       "                                                        strip_accents=None,\n",
       "                                                        token_pattern='(?...\n",
       "                                                        vocabulary=None)),\n",
       "                                       ('nb',\n",
       "                                        MultinomialNB(alpha=1.0,\n",
       "                                                      class_prior=None,\n",
       "                                                      fit_prior=True))],\n",
       "                                verbose=False),\n",
       "             iid='deprecated', n_jobs=None,\n",
       "             param_grid={'cvec_n__max_df': [0.9, 0.95],\n",
       "                         'cvec_n__max_features': [2000, 3000, 4000, 5000],\n",
       "                         'cvec_n__min_df': [2, 3],\n",
       "                         'cvec_n__ngram_range': [(1, 1), (1, 2)]},\n",
       "             pre_dispatch='2*n_jobs', refit=True, return_train_score=False,\n",
       "             scoring=None, verbose=0)"
      ]
     },
     "execution_count": 20,
     "metadata": {},
     "output_type": "execute_result"
    }
   ],
   "source": [
    "# Fit GridSearch to training data.\n",
    "gs_n.fit(X_train, y_train)"
   ]
  },
  {
   "cell_type": "code",
   "execution_count": 21,
   "metadata": {},
   "outputs": [],
   "source": [
    "model_n = gs_n.best_estimator_"
   ]
  },
  {
   "cell_type": "code",
   "execution_count": 22,
   "metadata": {},
   "outputs": [
    {
     "data": {
      "text/plain": [
       "0.8660656793303284"
      ]
     },
     "execution_count": 22,
     "metadata": {},
     "output_type": "execute_result"
    }
   ],
   "source": [
    "# Score model on training set.\n",
    "model_n.score(X_train, y_train)"
   ]
  },
  {
   "cell_type": "code",
   "execution_count": 23,
   "metadata": {},
   "outputs": [
    {
     "data": {
      "text/plain": [
       "0.7737789203084833"
      ]
     },
     "execution_count": 23,
     "metadata": {},
     "output_type": "execute_result"
    }
   ],
   "source": [
    "# Score model on testing set.\n",
    "model_n.score(X_test, y_test)"
   ]
  },
  {
   "cell_type": "markdown",
   "metadata": {},
   "source": [
    "Naive Bayes classifiers are classifiers which use probabilities for their classifications and are based on Bayes' Theorem. They assume that the features are independent from each other and are supposed to achieve high accuracy.\n",
    "\n",
    "The model's performance on both training and testing data are similar, which should make this a good model for unseen data. However, the accuracy score on the testing data is less than the logistic regression model."
   ]
  },
  {
   "cell_type": "code",
   "execution_count": null,
   "metadata": {},
   "outputs": [],
   "source": []
  },
  {
   "cell_type": "markdown",
   "metadata": {},
   "source": [
    "## Model Evaluation"
   ]
  },
  {
   "cell_type": "markdown",
   "metadata": {},
   "source": [
    "Although the logistic regression model overfitted on the training data, it has the highest accuracy score and more accurate than the baseline model and hence used as the production model."
   ]
  },
  {
   "cell_type": "code",
   "execution_count": 24,
   "metadata": {},
   "outputs": [],
   "source": [
    "# Prediction of the test data\n",
    "predictions = model_l.predict(X_test)\n"
   ]
  },
  {
   "cell_type": "code",
   "execution_count": 25,
   "metadata": {},
   "outputs": [],
   "source": [
    "from sklearn.metrics import confusion_matrix"
   ]
  },
  {
   "cell_type": "code",
   "execution_count": 26,
   "metadata": {},
   "outputs": [],
   "source": [
    "tn, fp, fn, tp = confusion_matrix(y_test, predictions).ravel()"
   ]
  },
  {
   "cell_type": "code",
   "execution_count": 27,
   "metadata": {},
   "outputs": [
    {
     "name": "stdout",
     "output_type": "stream",
     "text": [
      "True Negatives: 161\n",
      "False Positives: 30\n",
      "False Negatives: 36\n",
      "True Positives: 162\n"
     ]
    }
   ],
   "source": [
    "print(\"True Negatives: %s\" % tn)\n",
    "print(\"False Positives: %s\" % fp)\n",
    "print(\"False Negatives: %s\" % fn)\n",
    "print(\"True Positives: %s\" % tp)"
   ]
  },
  {
   "cell_type": "markdown",
   "metadata": {},
   "source": [
    "A true positive is an outcome where the model correctly predicts the positive class. Similarly, a true negative is an outcome where the model correctly predicts the negative class. \n",
    "\n",
    "A false positive is an outcome where the model incorrectly predicts the positive class. And a false negative is an outcome where the model incorrectly predicts the negative class.\n",
    "\n",
    "As the number of true negatives is slightly higher than the number of true positives, the model is able to predict whether the post is about Sherlock or Elementary almost equally, with a slightly higher accuracy for Sherlock.\n",
    "\n",
    "The higher false negatives indicates the model predicting more Sherlock posts wrongly than Elementary posts. This shows a slight bias to Sherlock posts and may be reflected in the specificity."
   ]
  },
  {
   "cell_type": "code",
   "execution_count": 28,
   "metadata": {},
   "outputs": [
    {
     "name": "stdout",
     "output_type": "stream",
     "text": [
      "Specificity: 0.8429\n"
     ]
    }
   ],
   "source": [
    "# The test specificity of the model\n",
    "\n",
    "spec = tn / (tn + fp)\n",
    "\n",
    "print(f'Specificity: {round(spec,4)}')"
   ]
  },
  {
   "cell_type": "code",
   "execution_count": 29,
   "metadata": {},
   "outputs": [
    {
     "name": "stdout",
     "output_type": "stream",
     "text": [
      "Sensitivity: 0.8182\n"
     ]
    }
   ],
   "source": [
    "# The test sensitivity of the model\n",
    "\n",
    "sens = tp / (tp + fn)\n",
    "\n",
    "print(f'Sensitivity: {round(sens,4)}')"
   ]
  },
  {
   "cell_type": "markdown",
   "metadata": {},
   "source": [
    "Sensitivity also known as the true positive rate indicates the proportion of true positives predicted out of the total positives.\n",
    "\n",
    "Specficity also known as the true negative rate indicates the proportion of true negatives predicted out of the total negatives.\n",
    "\n",
    "As expected from the confusion matrix, the specificity at 0.86 (rounded) is higher than the specificity 0.81(rounded), showing the model predicting a slightly higher accuracy for the negative class"
   ]
  },
  {
   "cell_type": "markdown",
   "metadata": {},
   "source": [
    "### Distribution of probabilities"
   ]
  },
  {
   "cell_type": "code",
   "execution_count": 30,
   "metadata": {},
   "outputs": [],
   "source": [
    "# Create a dataframe called pred_df that contains:\n",
    "# 1. The list of true values of our test set.\n",
    "# 2. The list of predicted probabilities based on our model.\n",
    "\n",
    "pred_proba = [i[1] for i in model_l.predict_proba(X_test)]\n",
    "\n",
    "pred_df = pd.DataFrame({'true_values': y_test,\n",
    "                        'pred_probs':pred_proba})"
   ]
  },
  {
   "cell_type": "code",
   "execution_count": 31,
   "metadata": {},
   "outputs": [
    {
     "data": {
      "image/png": "[encoded data removed]",
      "text/plain": [
       "<Figure size 720x504 with 1 Axes>"
      ]
     },
     "metadata": {
      "needs_background": "light"
     },
     "output_type": "display_data"
    }
   ],
   "source": [
    "# Create figure.\n",
    "plt.figure(figsize = (10,7))\n",
    "\n",
    "# Create two histograms of observations.\n",
    "plt.hist(pred_df[pred_df['true_values'] == 0]['pred_probs'],\n",
    "         bins = 25,\n",
    "         color = 'b',\n",
    "         alpha = 0.6,\n",
    "         label = 'Outcome = 0')\n",
    "plt.hist(pred_df[pred_df['true_values'] == 1]['pred_probs'],\n",
    "         bins = 25,\n",
    "         color = 'orange',\n",
    "         alpha = 0.6,\n",
    "         label = 'Outcome = 1')\n",
    "\n",
    "# Add vertical line at P(Outcome = 1) = 0.5.\n",
    "plt.vlines(x = 0.5,\n",
    "           ymin = 0,\n",
    "           ymax = 65,\n",
    "           color = 'r',\n",
    "           linestyle = '--')\n",
    "\n",
    "# Add annotations for TN, FN, TP, FP.\n",
    "plt.annotate(xy = (0.04, 15),\n",
    "             s = 'TN',\n",
    "             size = 20)\n",
    "\n",
    "plt.annotate(xy = (0.1, 0),\n",
    "             s = 'FN',\n",
    "             size = 20)\n",
    "\n",
    "plt.annotate(xy = (0.85, 1),\n",
    "             s = 'TP',\n",
    "             size = 20)\n",
    "\n",
    "plt.annotate(xy = (0.53, 1),\n",
    "             s = 'FP',\n",
    "             size = 20)\n",
    "\n",
    "# Label axes.\n",
    "plt.title('Distribution of P(Outcome = 1)', fontsize = 22)\n",
    "plt.ylabel('Frequency', fontsize = 18)\n",
    "plt.xlabel('Predicted Probability that Outcome = 1', fontsize = 18)\n",
    "\n",
    "# Create legend.\n",
    "plt.legend(fontsize = 20);\n",
    "\n",
    "plt.savefig('../images/prob_dist.png')"
   ]
  },
  {
   "cell_type": "markdown",
   "metadata": {},
   "source": [
    "The distribution of the predicted probilities of the negative and positive classes shows that the predicted possibilities of the positive class (orange) is more than the negative class (blue)\n",
    "There is also quite a bit of overlap between both classes.\n",
    "\n",
    "The threshold shown in the graph is 0.5 which seems an optimal balance to distinguish both the classes. The preference would be for the model to predict more of the positive class than negative class. However, some overlap is necessary to determine the similiarities between the 2 threads for the CBS executives' discovery of ways to be different from the other show.\n",
    "\n",
    "In addition, there is a tradeoff between sensitivity and specificity if the threshold is to be moved.\n",
    "\n",
    "One measure of how much overlap exists between our distributions is the area under the ROC curve."
   ]
  },
  {
   "cell_type": "markdown",
   "metadata": {},
   "source": [
    "### ROC AUC"
   ]
  },
  {
   "cell_type": "code",
   "execution_count": 32,
   "metadata": {},
   "outputs": [
    {
     "data": {
      "text/plain": [
       "0.8606087048495425"
      ]
     },
     "execution_count": 32,
     "metadata": {},
     "output_type": "execute_result"
    }
   ],
   "source": [
    "roc_auc_score(pred_df['true_values'], pred_df['pred_probs'])\n"
   ]
  },
  {
   "cell_type": "code",
   "execution_count": 33,
   "metadata": {},
   "outputs": [
    {
     "data": {
      "image/png": "[encoded data removed]",
      "text/plain": [
       "<Figure size 720x504 with 1 Axes>"
      ]
     },
     "metadata": {
      "needs_background": "light"
     },
     "output_type": "display_data"
    }
   ],
   "source": [
    "# Create figure.\n",
    "plt.figure(figsize = (10,7))\n",
    "\n",
    "# Create threshold values. (Dashed red line in image.)\n",
    "thresholds = np.linspace(0, 1, 200)\n",
    "\n",
    "# Define function to calculate sensitivity. (True positive rate.)\n",
    "def TPR(df, true_col, pred_prob_col, threshold):\n",
    "    true_positive = df[(df[true_col] == 1) & (df[pred_prob_col] >= threshold)].shape[0]\n",
    "    false_negative = df[(df[true_col] == 1) & (df[pred_prob_col] < threshold)].shape[0]\n",
    "    return true_positive / (true_positive + false_negative)\n",
    "    \n",
    "\n",
    "# Define function to calculate 1 - specificity. (False positive rate.)\n",
    "def FPR(df, true_col, pred_prob_col, threshold):\n",
    "    true_negative = df[(df[true_col] == 0) & (df[pred_prob_col] <= threshold)].shape[0]\n",
    "    false_positive = df[(df[true_col] == 0) & (df[pred_prob_col] > threshold)].shape[0]\n",
    "    return 1 - (true_negative / (true_negative + false_positive))\n",
    "    \n",
    "# Calculate sensitivity & 1-specificity for each threshold between 0 and 1.\n",
    "tpr_values = [TPR(pred_df, 'true_values', 'pred_probs', prob) for prob in thresholds]\n",
    "fpr_values = [FPR(pred_df, 'true_values', 'pred_probs', prob) for prob in thresholds]\n",
    "\n",
    "# Plot ROC curve.\n",
    "plt.plot(fpr_values, # False Positive Rate on X-axis\n",
    "         tpr_values, # True Positive Rate on Y-axis\n",
    "         label='ROC Curve')\n",
    "\n",
    "# Plot baseline. (Perfect overlap between the two populations.)\n",
    "plt.plot(np.linspace(0, 1, 200),\n",
    "         np.linspace(0, 1, 200),\n",
    "         label='baseline',\n",
    "         linestyle='--')\n",
    "\n",
    "# Label axes.\n",
    "plt.title(f'ROC Curve with AUC = {round(roc_auc_score(pred_df[\"true_values\"], pred_df[\"pred_probs\"]),3)}', fontsize=22)\n",
    "plt.ylabel('Sensitivity', fontsize=18)\n",
    "plt.xlabel('1 - Specificity', fontsize=18)\n",
    "\n",
    "# Create legend.\n",
    "plt.legend(fontsize=16);\n",
    "\n",
    "plt.savefig('../images/roc.png')"
   ]
  },
  {
   "cell_type": "markdown",
   "metadata": {},
   "source": [
    "The AUC - ROC curve or AUC (Area Under The Curve) ROC (Receiver Operating Characteristics) curve is used to visualize the model's performance is classification. The higher the score , the better the model is predicting the negative and positive class. \n",
    "\n",
    "The score of near to 1 or 1 indicates the model has almost perfect or perfect ability to classify between the 2 classes.\n",
    "\n",
    "The score of 0.5, means model is unable to distinguish either class.\n",
    "\n",
    "A score of zero means the model is classifying the positive class as the negative class and vice versa.\n",
    "\n",
    "Our model has a score of 89 (rounded) indicates that it can distinguish between the 2 classes with some accuracy, which should be very good considering how the 2 shows are based on the same genre and same main characters."
   ]
  },
  {
   "cell_type": "code",
   "execution_count": null,
   "metadata": {},
   "outputs": [],
   "source": []
  },
  {
   "cell_type": "markdown",
   "metadata": {},
   "source": [
    "### Reviewing why the posts were misclassified"
   ]
  },
  {
   "cell_type": "code",
   "execution_count": 34,
   "metadata": {},
   "outputs": [],
   "source": [
    "# creating dataframe of predicted and actual results to compare\n",
    "results=pd.DataFrame(predictions,columns=['predicted'], index = X_test.index) #indexing the results according to original index in X_test\n",
    "\n",
    "#creating column for actual results\n",
    "results['actual'] = y_test \n",
    "\n",
    "# creating dataframe of misclassified posts with results\n",
    "row_ids = results[results['actual'] != results['predicted']].index # finding the indexes of misclassified posts\n",
    "\n",
    "#creating dataframe of misclassified posts from X_test using their index\n",
    "misclass =pd.DataFrame(X_test[row_ids]) \n",
    "misclass['pred'] = results['predicted'][row_ids] #creating column for the wrong predicted results"
   ]
  },
  {
   "cell_type": "code",
   "execution_count": 35,
   "metadata": {},
   "outputs": [],
   "source": [
    "pd.set_option('display.max_colwidth', 200)"
   ]
  },
  {
   "cell_type": "code",
   "execution_count": 42,
   "metadata": {},
   "outputs": [
    {
     "data": {
      "text/html": [
       "<div>\n",
       "<style scoped>\n",
       "    .dataframe tbody tr th:only-of-type {\n",
       "        vertical-align: middle;\n",
       "    }\n",
       "\n",
       "    .dataframe tbody tr th {\n",
       "        vertical-align: top;\n",
       "    }\n",
       "\n",
       "    .dataframe thead th {\n",
       "        text-align: right;\n",
       "    }\n",
       "</style>\n",
       "<table border=\"1\" class=\"dataframe\">\n",
       "  <thead>\n",
       "    <tr style=\"text-align: right;\">\n",
       "      <th></th>\n",
       "      <th>lemmatized</th>\n",
       "      <th>pred</th>\n",
       "    </tr>\n",
       "  </thead>\n",
       "  <tbody>\n",
       "    <tr>\n",
       "      <th>546</th>\n",
       "      <td>factfilecan anyone find factfile need write full character report clue tip helpful thanks</td>\n",
       "      <td>1</td>\n",
       "    </tr>\n",
       "    <tr>\n",
       "      <th>1071</th>\n",
       "      <td>community activityso mod anything want gauge interest sub rewatch absolutely love played huge part life pretty inactive sub okay enough interest would like group sunday night site like rabbit disc...</td>\n",
       "      <td>0</td>\n",
       "    </tr>\n",
       "    <tr>\n",
       "      <th>128</th>\n",
       "      <td>anyone know discombobulated film used bbc sure cant find soundtrack</td>\n",
       "      <td>1</td>\n",
       "    </tr>\n",
       "    <tr>\n",
       "      <th>726</th>\n",
       "      <td>little sneak peek big meta writing put inside another huge meta s4basically analysis s4 stumble dialogue think enough get post posting mainly really proud bit really like whole concept got exited ...</td>\n",
       "      <td>1</td>\n",
       "    </tr>\n",
       "    <tr>\n",
       "      <th>1349</th>\n",
       "      <td>chicken</td>\n",
       "      <td>0</td>\n",
       "    </tr>\n",
       "  </tbody>\n",
       "</table>\n",
       "</div>"
      ],
      "text/plain": [
       "                                                                                                                                                                                                   lemmatized  \\\n",
       "546                                                                                                                 factfilecan anyone find factfile need write full character report clue tip helpful thanks   \n",
       "1071  community activityso mod anything want gauge interest sub rewatch absolutely love played huge part life pretty inactive sub okay enough interest would like group sunday night site like rabbit disc...   \n",
       "128                                                                                                                                       anyone know discombobulated film used bbc sure cant find soundtrack   \n",
       "726   little sneak peek big meta writing put inside another huge meta s4basically analysis s4 stumble dialogue think enough get post posting mainly really proud bit really like whole concept got exited ...   \n",
       "1349                                                                                                                                                                                                  chicken   \n",
       "\n",
       "      pred  \n",
       "546      1  \n",
       "1071     0  \n",
       "128      1  \n",
       "726      1  \n",
       "1349     0  "
      ]
     },
     "execution_count": 42,
     "metadata": {},
     "output_type": "execute_result"
    }
   ],
   "source": [
    "misclass.head(5)"
   ]
  },
  {
   "cell_type": "code",
   "execution_count": 37,
   "metadata": {},
   "outputs": [
    {
     "data": {
      "text/plain": [
       "(66, 2)"
      ]
     },
     "execution_count": 37,
     "metadata": {},
     "output_type": "execute_result"
    }
   ],
   "source": [
    "misclass.shape"
   ]
  },
  {
   "cell_type": "markdown",
   "metadata": {},
   "source": [
    "The model misclassified 65 posts. Reading the posts, it is understandable the posts can be misclassified as some posts lack sufficient amount of text or any relevant words to classify the posts accurately. However, it is interesting to see post no.508 being classified as an Elementary post when the word 'john', a character from Sherlock, is mentioned several times.  "
   ]
  },
  {
   "cell_type": "markdown",
   "metadata": {},
   "source": [
    "### Get top impactful words"
   ]
  },
  {
   "cell_type": "code",
   "execution_count": null,
   "metadata": {},
   "outputs": [],
   "source": []
  },
  {
   "cell_type": "code",
   "execution_count": 38,
   "metadata": {},
   "outputs": [],
   "source": [
    "#Getting the words used in modeling\n",
    "feature= model_l.steps[0][1].get_feature_names()\n"
   ]
  },
  {
   "cell_type": "code",
   "execution_count": 39,
   "metadata": {},
   "outputs": [],
   "source": [
    "# mapping coefficients and their corresponding words into a mainframe\n",
    "coefficients =pd.DataFrame(model_l.named_steps['lr'].coef_.T, index = feature, columns=['coef'])"
   ]
  },
  {
   "cell_type": "code",
   "execution_count": 40,
   "metadata": {},
   "outputs": [],
   "source": [
    "# Sorting into the top 20 coefficients and their words\n",
    "coefficient_20 = (coefficients.sort_values('coef', ascending=False))['coef'][:20]"
   ]
  },
  {
   "cell_type": "code",
   "execution_count": 41,
   "metadata": {},
   "outputs": [
    {
     "data": {
      "text/plain": [
       "joan          2.029170\n",
       "promo         1.842511\n",
       "finale        1.489501\n",
       "cbs           1.456896\n",
       "renewed       1.433557\n",
       "anyone        1.366018\n",
       "return        1.249385\n",
       "lucy          1.176168\n",
       "hulu          1.148565\n",
       "kitty         1.148551\n",
       "miss          1.121215\n",
       "sneak         1.097638\n",
       "clyde         1.086568\n",
       "discussion    1.058996\n",
       "wear          1.052680\n",
       "10            1.017161\n",
       "actor         1.006725\n",
       "bad           0.985270\n",
       "gregson       0.974341\n",
       "started       0.944931\n",
       "Name: coef, dtype: float64"
      ]
     },
     "execution_count": 41,
     "metadata": {},
     "output_type": "execute_result"
    }
   ],
   "source": [
    "coefficient_20"
   ]
  },
  {
   "cell_type": "markdown",
   "metadata": {},
   "source": [
    "The top 20 words that help the model classify Elementary posts make sense as 'joan' is one of the main characters and ' 'kitty','bell', 'gregson', 'anyone' are names of recurring characters in the show. \n",
    "\n",
    "The word 'lucy' is interesting as it refers to the actress Lucy Liu who plays Joan Watson. No other actors/actresses name is in the top 20 including the actor who plays Sherlock, the main character. This may indicate that viewers find her and her character more interesting than any other actor/character in the show.\n",
    "\n",
    "The word 'clyde' amusingly appears in the top 20 as it is the name of Sherlock's pet tortoise.\n",
    "\n",
    "The term 's6' may show that viewers consider that episodes from that season more interesting than other seasons including the final season 7.\n",
    "\n",
    "The term 'finale' in top 20 may be unsurprising as any last episode of a show should bear some discussion."
   ]
  },
  {
   "cell_type": "code",
   "execution_count": null,
   "metadata": {},
   "outputs": [],
   "source": []
  },
  {
   "cell_type": "markdown",
   "metadata": {},
   "source": [
    "## Conclusion"
   ]
  },
  {
   "cell_type": "markdown",
   "metadata": {},
   "source": [
    "The classification model using Logistic Regression has shown that the 2 shows can be distinguished from one another as it has an accuracy score of 0.89 (rounded) higher than the baseline model. This is surprising as the other classifiers used, a Naive Bayes classifier, are known to for their high accuracy.\n",
    "\n",
    "Our model has a ROC AUC score of 89 (rounded) indicates that it can distinguish between the 2 classes with some accuracy, which is great considering how the 2 shows are based on the same genre and same main characters.\n",
    "\n",
    "However, the model has a slight bias towards the negative class i.e r/sherlock posts. \n",
    "\n",
    "The posts that the model misclassified had words that do not relate to either subreddits and hence not surprisingly our model was unable to classify them. However, there was one post that had the word 'john' numerous times yet the model still misclassified it, indicating our model still needs more adjustment to be a better classifier.\n",
    "\n",
    "Hence CBS executives should be reassured that viewers are able to distinguish between both the shows as the model is able to classify the subreddits based the viewers' discussions of the shows. In addition, the model is also able to identify words that strongly relate to the show Elementary i.e the names of main and recurring characters. "
   ]
  },
  {
   "cell_type": "markdown",
   "metadata": {},
   "source": [
    "## Recommendation"
   ]
  },
  {
   "cell_type": "markdown",
   "metadata": {},
   "source": [
    "CBS executives should explore ideas on strengthening the character development on their recurring characters. Even though some the most recurring charter names were in the top 20 impactful words, the top 20 most frequent words in the EDA showed that 'eurus'( the name of Sherlock's sister, who is not the most frequent recurring charter). Indicating that viewers felt that the character was more interesting than the recurring other characters.\n",
    "\n",
    "CBS executives could also explore further development of the character 'joan' as both the name of the character and actress appeared in the top 20 impactful words. The executives can also consider giving more screentime to 'clyde' since he also appeared in the top 20 impactful words indicating that viewers like to discuss him.\n",
    "\n",
    "The word 's6' appears in the top 25 impactful words, which may mean that viewers found season 6 of the show interesting than the final season 7. This is further evidenced since the posts scrapped are the newer posts and season 7 and related reference to it was not in the top 25 impactful words.\n",
    "\n",
    "To improve the model, more data such as episode transcripts can be given.  Other classifiers such as Support Vector Machines or Random Forest Classifiers can be used. Different transformers like TfidfVectorizer Different hyperparameters can be used such as increasing the range of ngrams. Reduce the number of features to reduce the noise.\n",
    "\n",
    "A sentiment analysis can also be performed on the subreddits to help assure executives whether viewers prefer Elementary more than Sherlock."
   ]
  },
  {
   "cell_type": "markdown",
   "metadata": {},
   "source": [
    "## Considerations"
   ]
  },
  {
   "cell_type": "markdown",
   "metadata": {},
   "source": [
    "The model is based on data from the most recent subreddit posts and hence may not be able to classify earlier posts as they discuss the earlier seasons and hence the impactful words may be different. \n",
    "\n",
    "The words used in both subreddits may be culturally different as Sherlock was made by the BBC, a British show and hence attract viewers who are mostly British who would discuss using British vernacular while ELementary is from an American company and their viewers might be mostly American using American vernacular.\n",
    "The model may be distinguishing the subreddits based on the different vernacular instead of the content of the shows."
   ]
  },
  {
   "cell_type": "markdown",
   "metadata": {},
   "source": [
    "## References:\n",
    "    \n",
    "https://analyticstraining.com/sensitivity-vs-specificity-in-logistic-regression/ \n",
    "\n",
    "https://en.wikipedia.org/wiki/Naive_Bayes_classifier\n",
    "\n",
    "https://developers.google.com/machine-learning/crash-course/classification/true-false-positive-negative\n",
    "\n",
    "https://en.wikipedia.org/wiki/Sherlock_(TV_series)\n",
    "\n",
    "https://en.wikipedia.org/wiki/Elementary_(TV_series)\n",
    "\n",
    "https://towardsdatascience.com/understanding-auc-roc-curve-68b2303cc9c5"
   ]
  },
  {
   "cell_type": "code",
   "execution_count": null,
   "metadata": {},
   "outputs": [],
   "source": []
  }
 ],
 "metadata": {
  "kernelspec": {
   "display_name": "Python 3",
   "language": "python",
   "name": "python3"
  },
  "language_info": {
   "codemirror_mode": {
    "name": "ipython",
    "version": 3
   },
   "file_extension": ".py",
   "mimetype": "text/x-python",
   "name": "python",
   "nbconvert_exporter": "python",
   "pygments_lexer": "ipython3",
   "version": "3.7.6"
  }
 },
 "nbformat": 4,
 "nbformat_minor": 4
}
