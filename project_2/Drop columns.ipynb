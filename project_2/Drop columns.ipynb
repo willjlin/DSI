{
 "cells": [
  {
   "cell_type": "code",
   "execution_count": 1,
   "metadata": {},
   "outputs": [],
   "source": [
    "import pandas as pd\n",
    "import numpy as np\n",
    "import seaborn as sns\n",
    "import matplotlib.pyplot as plt\n",
    "from sklearn.linear_model import LinearRegression, LassoCV, RidgeCV\n",
    "from sklearn.preprocessing import PolynomialFeatures, StandardScaler\n",
    "from sklearn.model_selection import train_test_split, cross_val_score, cross_val_predict\n",
    "from sklearn.metrics import r2_score, mean_squared_error\n",
    "\n",
    "%matplotlib inline"
   ]
  },
  {
   "cell_type": "code",
   "execution_count": 2,
   "metadata": {},
   "outputs": [],
   "source": [
    "housing = pd.read_csv('datasets/train.csv', index_col='Id') "
   ]
  },
  {
   "cell_type": "code",
   "execution_count": 3,
   "metadata": {},
   "outputs": [],
   "source": [
    "housing_test=pd.read_csv('datasets/test.csv',index_col='Id')"
   ]
  },
  {
   "cell_type": "code",
   "execution_count": 4,
   "metadata": {},
   "outputs": [
    {
     "data": {
      "text/plain": [
       "Index(['PID', 'MS SubClass', 'MS Zoning', 'Lot Frontage', 'Lot Area', 'Street',\n",
       "       'Alley', 'Lot Shape', 'Land Contour', 'Utilities', 'Lot Config',\n",
       "       'Land Slope', 'Neighborhood', 'Condition 1', 'Condition 2', 'Bldg Type',\n",
       "       'House Style', 'Overall Qual', 'Overall Cond', 'Year Built',\n",
       "       'Year Remod/Add', 'Roof Style', 'Roof Matl', 'Exterior 1st',\n",
       "       'Exterior 2nd', 'Mas Vnr Type', 'Mas Vnr Area', 'Exter Qual',\n",
       "       'Exter Cond', 'Foundation', 'Bsmt Qual', 'Bsmt Cond', 'Bsmt Exposure',\n",
       "       'BsmtFin Type 1', 'BsmtFin SF 1', 'BsmtFin Type 2', 'BsmtFin SF 2',\n",
       "       'Bsmt Unf SF', 'Total Bsmt SF', 'Heating', 'Heating QC', 'Central Air',\n",
       "       'Electrical', '1st Flr SF', '2nd Flr SF', 'Low Qual Fin SF',\n",
       "       'Gr Liv Area', 'Bsmt Full Bath', 'Bsmt Half Bath', 'Full Bath',\n",
       "       'Half Bath', 'Bedroom AbvGr', 'Kitchen AbvGr', 'Kitchen Qual',\n",
       "       'TotRms AbvGrd', 'Functional', 'Fireplaces', 'Fireplace Qu',\n",
       "       'Garage Type', 'Garage Yr Blt', 'Garage Finish', 'Garage Cars',\n",
       "       'Garage Area', 'Garage Qual', 'Garage Cond', 'Paved Drive',\n",
       "       'Wood Deck SF', 'Open Porch SF', 'Enclosed Porch', '3Ssn Porch',\n",
       "       'Screen Porch', 'Pool Area', 'Pool QC', 'Fence', 'Misc Feature',\n",
       "       'Misc Val', 'Mo Sold', 'Yr Sold', 'Sale Type', 'SalePrice'],\n",
       "      dtype='object')"
      ]
     },
     "execution_count": 4,
     "metadata": {},
     "output_type": "execute_result"
    }
   ],
   "source": [
    "housing.columns"
   ]
  },
  {
   "cell_type": "code",
   "execution_count": null,
   "metadata": {},
   "outputs": [],
   "source": [
    "#housing =pd.get_dummies(housing, columns =[\"Neighborhood\"], drop_first = True)"
   ]
  },
  {
   "cell_type": "code",
   "execution_count": 5,
   "metadata": {},
   "outputs": [
    {
     "data": {
      "text/html": [
       "<div>\n",
       "<style scoped>\n",
       "    .dataframe tbody tr th:only-of-type {\n",
       "        vertical-align: middle;\n",
       "    }\n",
       "\n",
       "    .dataframe tbody tr th {\n",
       "        vertical-align: top;\n",
       "    }\n",
       "\n",
       "    .dataframe thead th {\n",
       "        text-align: right;\n",
       "    }\n",
       "</style>\n",
       "<table border=\"1\" class=\"dataframe\">\n",
       "  <thead>\n",
       "    <tr style=\"text-align: right;\">\n",
       "      <th></th>\n",
       "      <th>PID</th>\n",
       "      <th>MS SubClass</th>\n",
       "      <th>MS Zoning</th>\n",
       "      <th>Lot Frontage</th>\n",
       "      <th>Lot Area</th>\n",
       "      <th>Street</th>\n",
       "      <th>Alley</th>\n",
       "      <th>Lot Shape</th>\n",
       "      <th>Land Contour</th>\n",
       "      <th>Utilities</th>\n",
       "      <th>...</th>\n",
       "      <th>Screen Porch</th>\n",
       "      <th>Pool Area</th>\n",
       "      <th>Pool QC</th>\n",
       "      <th>Fence</th>\n",
       "      <th>Misc Feature</th>\n",
       "      <th>Misc Val</th>\n",
       "      <th>Mo Sold</th>\n",
       "      <th>Yr Sold</th>\n",
       "      <th>Sale Type</th>\n",
       "      <th>SalePrice</th>\n",
       "    </tr>\n",
       "    <tr>\n",
       "      <th>Id</th>\n",
       "      <th></th>\n",
       "      <th></th>\n",
       "      <th></th>\n",
       "      <th></th>\n",
       "      <th></th>\n",
       "      <th></th>\n",
       "      <th></th>\n",
       "      <th></th>\n",
       "      <th></th>\n",
       "      <th></th>\n",
       "      <th></th>\n",
       "      <th></th>\n",
       "      <th></th>\n",
       "      <th></th>\n",
       "      <th></th>\n",
       "      <th></th>\n",
       "      <th></th>\n",
       "      <th></th>\n",
       "      <th></th>\n",
       "      <th></th>\n",
       "      <th></th>\n",
       "    </tr>\n",
       "  </thead>\n",
       "  <tbody>\n",
       "    <tr>\n",
       "      <th>109</th>\n",
       "      <td>533352170</td>\n",
       "      <td>60</td>\n",
       "      <td>RL</td>\n",
       "      <td>NaN</td>\n",
       "      <td>13517</td>\n",
       "      <td>Pave</td>\n",
       "      <td>NaN</td>\n",
       "      <td>IR1</td>\n",
       "      <td>Lvl</td>\n",
       "      <td>AllPub</td>\n",
       "      <td>...</td>\n",
       "      <td>0</td>\n",
       "      <td>0</td>\n",
       "      <td>NaN</td>\n",
       "      <td>NaN</td>\n",
       "      <td>NaN</td>\n",
       "      <td>0</td>\n",
       "      <td>3</td>\n",
       "      <td>2010</td>\n",
       "      <td>WD</td>\n",
       "      <td>130500</td>\n",
       "    </tr>\n",
       "    <tr>\n",
       "      <th>544</th>\n",
       "      <td>531379050</td>\n",
       "      <td>60</td>\n",
       "      <td>RL</td>\n",
       "      <td>43.0</td>\n",
       "      <td>11492</td>\n",
       "      <td>Pave</td>\n",
       "      <td>NaN</td>\n",
       "      <td>IR1</td>\n",
       "      <td>Lvl</td>\n",
       "      <td>AllPub</td>\n",
       "      <td>...</td>\n",
       "      <td>0</td>\n",
       "      <td>0</td>\n",
       "      <td>NaN</td>\n",
       "      <td>NaN</td>\n",
       "      <td>NaN</td>\n",
       "      <td>0</td>\n",
       "      <td>4</td>\n",
       "      <td>2009</td>\n",
       "      <td>WD</td>\n",
       "      <td>220000</td>\n",
       "    </tr>\n",
       "    <tr>\n",
       "      <th>153</th>\n",
       "      <td>535304180</td>\n",
       "      <td>20</td>\n",
       "      <td>RL</td>\n",
       "      <td>68.0</td>\n",
       "      <td>7922</td>\n",
       "      <td>Pave</td>\n",
       "      <td>NaN</td>\n",
       "      <td>Reg</td>\n",
       "      <td>Lvl</td>\n",
       "      <td>AllPub</td>\n",
       "      <td>...</td>\n",
       "      <td>0</td>\n",
       "      <td>0</td>\n",
       "      <td>NaN</td>\n",
       "      <td>NaN</td>\n",
       "      <td>NaN</td>\n",
       "      <td>0</td>\n",
       "      <td>1</td>\n",
       "      <td>2010</td>\n",
       "      <td>WD</td>\n",
       "      <td>109000</td>\n",
       "    </tr>\n",
       "    <tr>\n",
       "      <th>318</th>\n",
       "      <td>916386060</td>\n",
       "      <td>60</td>\n",
       "      <td>RL</td>\n",
       "      <td>73.0</td>\n",
       "      <td>9802</td>\n",
       "      <td>Pave</td>\n",
       "      <td>NaN</td>\n",
       "      <td>Reg</td>\n",
       "      <td>Lvl</td>\n",
       "      <td>AllPub</td>\n",
       "      <td>...</td>\n",
       "      <td>0</td>\n",
       "      <td>0</td>\n",
       "      <td>NaN</td>\n",
       "      <td>NaN</td>\n",
       "      <td>NaN</td>\n",
       "      <td>0</td>\n",
       "      <td>4</td>\n",
       "      <td>2010</td>\n",
       "      <td>WD</td>\n",
       "      <td>174000</td>\n",
       "    </tr>\n",
       "    <tr>\n",
       "      <th>255</th>\n",
       "      <td>906425045</td>\n",
       "      <td>50</td>\n",
       "      <td>RL</td>\n",
       "      <td>82.0</td>\n",
       "      <td>14235</td>\n",
       "      <td>Pave</td>\n",
       "      <td>NaN</td>\n",
       "      <td>IR1</td>\n",
       "      <td>Lvl</td>\n",
       "      <td>AllPub</td>\n",
       "      <td>...</td>\n",
       "      <td>0</td>\n",
       "      <td>0</td>\n",
       "      <td>NaN</td>\n",
       "      <td>NaN</td>\n",
       "      <td>NaN</td>\n",
       "      <td>0</td>\n",
       "      <td>3</td>\n",
       "      <td>2010</td>\n",
       "      <td>WD</td>\n",
       "      <td>138500</td>\n",
       "    </tr>\n",
       "  </tbody>\n",
       "</table>\n",
       "<p>5 rows × 80 columns</p>\n",
       "</div>"
      ],
      "text/plain": [
       "           PID  MS SubClass MS Zoning  Lot Frontage  Lot Area Street Alley  \\\n",
       "Id                                                                           \n",
       "109  533352170           60        RL           NaN     13517   Pave   NaN   \n",
       "544  531379050           60        RL          43.0     11492   Pave   NaN   \n",
       "153  535304180           20        RL          68.0      7922   Pave   NaN   \n",
       "318  916386060           60        RL          73.0      9802   Pave   NaN   \n",
       "255  906425045           50        RL          82.0     14235   Pave   NaN   \n",
       "\n",
       "    Lot Shape Land Contour Utilities  ... Screen Porch Pool Area Pool QC  \\\n",
       "Id                                    ...                                  \n",
       "109       IR1          Lvl    AllPub  ...            0         0     NaN   \n",
       "544       IR1          Lvl    AllPub  ...            0         0     NaN   \n",
       "153       Reg          Lvl    AllPub  ...            0         0     NaN   \n",
       "318       Reg          Lvl    AllPub  ...            0         0     NaN   \n",
       "255       IR1          Lvl    AllPub  ...            0         0     NaN   \n",
       "\n",
       "    Fence Misc Feature Misc Val Mo Sold  Yr Sold  Sale Type  SalePrice  \n",
       "Id                                                                      \n",
       "109   NaN          NaN        0       3     2010        WD      130500  \n",
       "544   NaN          NaN        0       4     2009        WD      220000  \n",
       "153   NaN          NaN        0       1     2010        WD      109000  \n",
       "318   NaN          NaN        0       4     2010        WD      174000  \n",
       "255   NaN          NaN        0       3     2010        WD      138500  \n",
       "\n",
       "[5 rows x 80 columns]"
      ]
     },
     "execution_count": 5,
     "metadata": {},
     "output_type": "execute_result"
    }
   ],
   "source": [
    "housing.head()"
   ]
  },
  {
   "cell_type": "markdown",
   "metadata": {},
   "source": [
    "##### Conversion of NA values"
   ]
  },
  {
   "cell_type": "code",
   "execution_count": 6,
   "metadata": {},
   "outputs": [],
   "source": [
    "housing.loc[:, \"Alley\"] = housing.loc[:, \"Alley\"].fillna(\"None\")\n",
    "\n",
    "housing.loc[:, \"BedroomA bvGr\"] = housing.loc[:, \"Bedroom AbvGr\"].fillna(0)\n",
    "\n",
    "housing.loc[:, \"Bsmt Qual\"] = housing.loc[:, \"Bsmt Qual\"].fillna(\"No\")\n",
    "housing.loc[:, \"Bsmt Cond\"] = housing.loc[:, \"Bsmt Cond\"].fillna(\"No\")\n",
    "housing.loc[:, \"Bsmt Exposure\"] = housing.loc[:, \"Bsmt Exposure\"].fillna(\"No\")\n",
    "housing.loc[:, \"BsmtFin Type 1\"] = housing.loc[:, \"BsmtFin Type 1\"].fillna(\"No\")\n",
    "housing.loc[:, \"BsmtFin Type 2\"] = housing.loc[:, \"BsmtFin Type 2\"].fillna(\"No\")\n",
    "housing.loc[:, \"Bsmt Full Bath\"] = housing.loc[:, \"Bsmt Full Bath\"].fillna(0)\n",
    "housing.loc[:, \"Bsmt Half Bath\"] = housing.loc[:, \"Bsmt Half Bath\"].fillna(0)\n",
    "housing.loc[:, \"Bsmt Unf SF\"] = housing.loc[:, \"Bsmt Unf SF\"].fillna(0)\n",
    "\n",
    "housing.loc[:, \"Central Air\"] = housing.loc[:, \"Central Air\"].fillna(\"N\")\n",
    "\n",
    "housing.loc[:, \"Condition 1\"] = housing.loc[:, \"Condition 1\"].fillna(\"Norm\")\n",
    "housing.loc[:, \"Condition 2\"] = housing.loc[:, \"Condition 2\"].fillna(\"Norm\")\n",
    "\n",
    "housing.loc[:, \"Enclosed Porch\"] = housing.loc[:, \"Enclosed Porch\"].fillna(0)\n",
    "\n",
    "housing.loc[:, \"Exter Cond\"] = housing.loc[:, \"Exter Cond\"].fillna(\"TA\")\n",
    "housing.loc[:, \"Exter Qual\"] = housing.loc[:, \"Exter Qual\"].fillna(\"TA\")\n",
    "\n",
    "housing.loc[:, \"Fence\"] = housing.loc[:, \"Fence\"].fillna(\"No\")\n",
    "\n",
    "housing.loc[:, \"Fireplace Qu\"] = housing.loc[:, \"Fireplace Qu\"].fillna(\"No\")\n",
    "housing.loc[:, \"Fireplaces\"] = housing.loc[:, \"Fireplaces\"].fillna(0)\n",
    "\n",
    "housing.loc[:, \"Functional\"] = housing.loc[:, \"Functional\"].fillna(\"Typ\")\n",
    "\n",
    "housing.loc[:, \"Garage Type\"] = housing.loc[:, \"Garage Type\"].fillna(\"No\")\n",
    "housing.loc[:, \"Garage Finish\"] = housing.loc[:, \"Garage Finish\"].fillna(\"No\")\n",
    "housing.loc[:, \"Garage Qual\"] = housing.loc[:, \"Garage Qual\"].fillna(\"No\")\n",
    "housing.loc[:, \"Garage Cond\"] = housing.loc[:, \"Garage Cond\"].fillna(\"No\")\n",
    "housing.loc[:, \"Garage Area\"] = housing.loc[:, \"Garage Area\"].fillna(0)\n",
    "housing.loc[:, \"Garage Cars\"] = housing.loc[:, \"Garage Cars\"].fillna(0)\n",
    "\n",
    "housing.loc[:, \"Half Bath\"] = housing.loc[:, \"Half Bath\"].fillna(0)\n",
    "\n",
    "housing.loc[:, \"Heating QC\"] = housing.loc[:, \"Heating QC\"].fillna(\"TA\")\n",
    "\n",
    "housing.loc[:, \"Kitchen AbvGr\"] = housing.loc[:, \"Kitchen AbvGr\"].fillna(0)\n",
    "\n",
    "housing.loc[:, \"Kitchen Qual\"] = housing.loc[:, \"Kitchen Qual\"].fillna(\"TA\")\n",
    "\n",
    "housing.loc[:, \"Lot Frontage\"] = housing.loc[:, \"Lot Frontage\"].fillna(0)\n",
    "\n",
    "housing.loc[:, \"Lot Shape\"] = housing.loc[:, \"Lot Shape\"].fillna(\"Reg\")\n",
    "\n",
    "housing.loc[:, \"Mas Vnr Type\"] = housing.loc[:, \"Mas Vnr Type\"].fillna(\"None\")\n",
    "housing.loc[:, \"Mas Vnr Area\"] = housing.loc[:, \"Mas Vnr Area\"].fillna(0)\n",
    "\n",
    "housing.loc[:, \"Misc Feature\"] = housing.loc[:, \"Misc Feature\"].fillna(\"No\")\n",
    "housing.loc[:, \"Misc Val\"] = housing.loc[:, \"Misc Val\"].fillna(0)\n",
    "\n",
    "housing.loc[:, \"Open Porch SF\"] = housing.loc[:, \"Open Porch SF\"].fillna(0)\n",
    "\n",
    "housing.loc[:, \"Paved Drive\"] = housing.loc[:, \"Paved Drive\"].fillna(\"N\")\n",
    "\n",
    "housing.loc[:, \"Pool QC\"] = housing.loc[:, \"Pool QC\"].fillna(\"No\")\n",
    "housing.loc[:, \"Pool Area\"] = housing.loc[:, \"Pool Area\"].fillna(0)\n",
    "\n",
    "housing.loc[:, \"Overall Cond\"] = housing.loc[:, \"Overall Cond\"].fillna(\"Normal\")\n",
    "\n",
    "housing.loc[:, \"Screen Porch\"] = housing.loc[:, \"Screen Porch\"].fillna(0)\n",
    "\n",
    "housing.loc[:, \"TotRms AbvGrd\"] = housing.loc[:, \"TotRms AbvGrd\"].fillna(0)\n",
    "\n",
    "housing.loc[:, \"Utilities\"] = housing.loc[:, \"Utilities\"].fillna(\"AllPub\")\n",
    "\n",
    "housing.loc[:, \"Total Bsmt SF\"] = housing.loc[:, \"Total Bsmt SF\"].fillna(0)\n",
    "housing.loc[:, \"BsmtFin SF 2\"] = housing.loc[:, \"BsmtFin SF 2\"].fillna(0)\n",
    "housing.loc[:, \"BsmtFin SF 1\"] = housing.loc[:, \"BsmtFin SF 1\"].fillna(0)"
   ]
  },
  {
   "cell_type": "code",
   "execution_count": 22,
   "metadata": {},
   "outputs": [],
   "source": [
    "\n",
    "housing_test.loc[:, \"Alley\"] = housing_test.loc[:, \"Alley\"].fillna(\"None\")\n",
    "\n",
    "housing_test.loc[:, \"BedroomA bvGr\"] = housing_test.loc[:, \"Bedroom AbvGr\"].fillna(0)\n",
    "\n",
    "housing_test.loc[:, \"Bsmt Qual\"] = housing_test.loc[:, \"Bsmt Qual\"].fillna(\"No\")\n",
    "housing_test.loc[:, \"Bsmt Cond\"] = housing_test.loc[:, \"Bsmt Cond\"].fillna(\"No\")\n",
    "housing_test.loc[:, \"Bsmt Exposure\"] = housing_test.loc[:, \"Bsmt Exposure\"].fillna(\"No\")\n",
    "housing_test.loc[:, \"BsmtFin Type 1\"] = housing_test.loc[:, \"BsmtFin Type 1\"].fillna(\"No\")\n",
    "housing_test.loc[:, \"BsmtFin Type 2\"] = housing_test.loc[:, \"BsmtFin Type 2\"].fillna(\"No\")\n",
    "housing_test.loc[:, \"Bsmt Full Bath\"] = housing_test.loc[:, \"Bsmt Full Bath\"].fillna(0)\n",
    "housing_test.loc[:, \"Bsmt Half Bath\"] = housing_test.loc[:, \"Bsmt Half Bath\"].fillna(0)\n",
    "housing_test.loc[:, \"Bsmt Unf SF\"] = housing_test.loc[:, \"Bsmt Unf SF\"].fillna(0)\n",
    "\n",
    "housing_test.loc[:, \"Central Air\"] = housing_test.loc[:, \"Central Air\"].fillna(\"N\")\n",
    "\n",
    "housing_test.loc[:, \"Condition 1\"] = housing_test.loc[:, \"Condition 1\"].fillna(\"Norm\")\n",
    "housing_test.loc[:, \"Condition 2\"] = housing_test.loc[:, \"Condition 2\"].fillna(\"Norm\")\n",
    "\n",
    "housing_test.loc[:, \"Enclosed Porch\"] = housing_test.loc[:, \"Enclosed Porch\"].fillna(0)\n",
    "\n",
    "housing_test.loc[:, \"Exter Cond\"] = housing_test.loc[:, \"Exter Cond\"].fillna(\"TA\")\n",
    "housing_test.loc[:, \"Exter Qual\"] = housing_test.loc[:, \"Exter Qual\"].fillna(\"TA\")\n",
    "\n",
    "housing_test.loc[:, \"Fence\"] = housing_test.loc[:, \"Fence\"].fillna(\"No\")\n",
    "\n",
    "housing_test.loc[:, \"Fireplace Qu\"] = housing_test.loc[:, \"Fireplace Qu\"].fillna(\"No\")\n",
    "housing_test.loc[:, \"Fireplaces\"] = housing_test.loc[:, \"Fireplaces\"].fillna(0)\n",
    "\n",
    "housing_test.loc[:, \"Functional\"] = housing_test.loc[:, \"Functional\"].fillna(\"Typ\")\n",
    "\n",
    "housing_test.loc[:, \"Garage Type\"] = housing_test.loc[:, \"Garage Type\"].fillna(\"No\")\n",
    "housing_test.loc[:, \"Garage Finish\"] = housing_test.loc[:, \"Garage Finish\"].fillna(\"No\")\n",
    "housing_test.loc[:, \"Garage Qual\"] = housing_test.loc[:, \"Garage Qual\"].fillna(\"No\")\n",
    "housing_test.loc[:, \"Garage Cond\"] = housing_test.loc[:, \"Garage Cond\"].fillna(\"No\")\n",
    "housing_test.loc[:, \"Garage Area\"] = housing_test.loc[:, \"Garage Area\"].fillna(0)\n",
    "housing_test.loc[:, \"Garage Cars\"] = housing_test.loc[:, \"Garage Cars\"].fillna(0)\n",
    "\n",
    "housing_test.loc[:, \"Half Bath\"] = housing_test.loc[:, \"Half Bath\"].fillna(0)\n",
    "\n",
    "housing_test.loc[:, \"Heating QC\"] = housing_test.loc[:, \"Heating QC\"].fillna(\"TA\")\n",
    "\n",
    "housing_test.loc[:, \"Kitchen AbvGr\"] = housing_test.loc[:, \"Kitchen AbvGr\"].fillna(0)\n",
    "\n",
    "housing_test.loc[:, \"Kitchen Qual\"] = housing_test.loc[:, \"Kitchen Qual\"].fillna(\"TA\")\n",
    "\n",
    "housing_test.loc[:, \"Lot Frontage\"] = housing_test.loc[:, \"Lot Frontage\"].fillna(0)\n",
    "\n",
    "housing_test.loc[:, \"Lot Shape\"] = housing_test.loc[:, \"Lot Shape\"].fillna(\"Reg\")\n",
    "\n",
    "housing_test.loc[:, \"Mas Vnr Type\"] = housing_test.loc[:, \"Mas Vnr Type\"].fillna(\"None\")\n",
    "housing_test.loc[:, \"Mas Vnr Area\"] = housing_test.loc[:, \"Mas Vnr Area\"].fillna(0)\n",
    "\n",
    "housing_test.loc[:, \"Misc Feature\"] = housing_test.loc[:, \"Misc Feature\"].fillna(\"No\")\n",
    "housing_test.loc[:, \"Misc Val\"] = housing_test.loc[:, \"Misc Val\"].fillna(0)\n",
    "\n",
    "housing_test.loc[:, \"Open Porch SF\"] = housing_test.loc[:, \"Open Porch SF\"].fillna(0)\n",
    "\n",
    "housing_test.loc[:, \"Paved Drive\"] = housing_test.loc[:, \"Paved Drive\"].fillna(\"N\")\n",
    "\n",
    "housing_test.loc[:, \"Pool QC\"] = housing_test.loc[:, \"Pool QC\"].fillna(\"No\")\n",
    "housing_test.loc[:, \"Pool Area\"] = housing_test.loc[:, \"Pool Area\"].fillna(0)\n",
    "\n",
    "housing_test.loc[:, \"Overall Cond\"] = housing_test.loc[:, \"Overall Cond\"].fillna(\"Normal\")\n",
    "\n",
    "housing_test.loc[:, \"Screen Porch\"] = housing_test.loc[:, \"Screen Porch\"].fillna(0)\n",
    "\n",
    "housing_test.loc[:, \"TotRms AbvGrd\"] = housing_test.loc[:, \"TotRms AbvGrd\"].fillna(0)\n",
    "\n",
    "housing_test.loc[:, \"Utilities\"] = housing_test.loc[:, \"Utilities\"].fillna(\"AllPub\")\n",
    "\n",
    "housing_test.loc[:, \"Total Bsmt SF\"] = housing_test.loc[:, \"Total Bsmt SF\"].fillna(0)\n",
    "housing_test.loc[:, \"BsmtFin SF 2\"] = housing_test.loc[:, \"BsmtFin SF 2\"].fillna(0)\n",
    "housing_test.loc[:, \"BsmtFin SF 1\"] = housing_test.loc[:, \"BsmtFin SF 1\"].fillna(0)"
   ]
  },
  {
   "cell_type": "markdown",
   "metadata": {},
   "source": [
    "#### Conversion of Garage Yr Built NA values to corresponding Year Built, assumption garage built same time as house"
   ]
  },
  {
   "cell_type": "code",
   "execution_count": 7,
   "metadata": {},
   "outputs": [],
   "source": [
    "housing['Garage Yr Blt'] = housing.apply(lambda row: row['Year Built'] \n",
    "                                     if np.isnan(row['Garage Yr Blt']) else row['Garage Yr Blt'],axis =1)"
   ]
  },
  {
   "cell_type": "code",
   "execution_count": null,
   "metadata": {},
   "outputs": [],
   "source": [
    "housing_test['Garage Yr Blt'] = housing_test.apply(lambda row: row['Year Built'] \n",
    "                                     if np.isnan(row['Garage Yr Blt']) else row['Garage Yr Blt'],axis =1)"
   ]
  },
  {
   "cell_type": "markdown",
   "metadata": {},
   "source": [
    "#### Encoding ordinal variables"
   ]
  },
  {
   "cell_type": "code",
   "execution_count": 23,
   "metadata": {},
   "outputs": [],
   "source": [
    "housing_test = housing_test.replace({\"MS SubClass\" : {20 : \"SC20\", 30 : \"SC30\", 40 : \"SC40\", 45 : \"SC45\", \n",
    "                                       50 : \"SC50\", 60 : \"SC60\", 70 : \"SC70\", 75 : \"SC75\", \n",
    "                                       80 : \"SC80\", 85 : \"SC85\", 90 : \"SC90\", 120 : \"SC120\", \n",
    "                                       150 : \"SC150\", 160 : \"SC160\", 180 : \"SC180\", 190 : \"SC190\"},\n",
    "                       \"Mo Sold\" : {1 : \"Jan\", 2 : \"Feb\", 3 : \"Mar\", 4 : \"Apr\", 5 : \"May\", 6 : \"Jun\",\n",
    "                                   7 : \"Jul\", 8 : \"Aug\", 9 : \"Sep\", 10 : \"Oct\", 11 : \"Nov\", 12 : \"Dec\"}\n",
    "                      })"
   ]
  },
  {
   "cell_type": "code",
   "execution_count": 24,
   "metadata": {},
   "outputs": [],
   "source": [
    "housing_test = housing_test.replace({\"Alley\" : {\"Grvl\" : 1, \"Pave\" : 2},\n",
    "                       \"Bsmt Cond\" : {\"No\" : 0, \"Po\" : 1, \"Fa\" : 2, \"TA\" : 3, \"Gd\" : 4, \"Ex\" : 5},\n",
    "                       \"Bsmt Exposure\" : {\"No\" : 0, \"Mn\" : 1, \"Av\": 2, \"Gd\" : 3},\n",
    "                       \"BsmtFin Type1\" : {\"No\" : 0, \"Unf\" : 1, \"LwQ\": 2, \"Rec\" : 3, \"BLQ\" : 4, \n",
    "                                         \"ALQ\" : 5, \"GLQ\" : 6},\n",
    "                       \"BsmtFin Type2\" : {\"No\" : 0, \"Unf\" : 1, \"LwQ\": 2, \"Rec\" : 3, \"BLQ\" : 4, \n",
    "                                         \"ALQ\" : 5, \"GLQ\" : 6},\n",
    "                       \"Bsmt Qual\" : {\"No\" : 0, \"Po\" : 1, \"Fa\" : 2, \"TA\": 3, \"Gd\" : 4, \"Ex\" : 5},\n",
    "                       \"Exter Cond\" : {\"Po\" : 1, \"Fa\" : 2, \"TA\": 3, \"Gd\": 4, \"Ex\" : 5},\n",
    "                       \"Exter Qual\" : {\"Po\" : 1, \"Fa\" : 2, \"TA\": 3, \"Gd\": 4, \"Ex\" : 5},\n",
    "                       \"Fireplace Qu\" : {\"No\" : 0, \"Po\" : 1, \"Fa\" : 2, \"TA\" : 3, \"Gd\" : 4, \"Ex\" : 5},\n",
    "                       \"Functional\" : {\"Sal\" : 1, \"Sev\" : 2, \"Maj2\" : 3, \"Maj1\" : 4, \"Mod\": 5, \n",
    "                                       \"Min2\" : 6, \"Min1\" : 7, \"Typ\" : 8},\n",
    "                       \"Garage Cond\" : {\"No\" : 0, \"Po\" : 1, \"Fa\" : 2, \"TA\" : 3, \"Gd\" : 4, \"Ex\" : 5},\n",
    "                       \"Garage Qual\" : {\"No\" : 0, \"Po\" : 1, \"Fa\" : 2, \"TA\" : 3, \"Gd\" : 4, \"Ex\" : 5},\n",
    "                       \"Heating QC\" : {\"Po\" : 1, \"Fa\" : 2, \"TA\" : 3, \"Gd\" : 4, \"Ex\" : 5},\n",
    "                       \"Kitchen Qual\" : {\"Po\" : 1, \"Fa\" : 2, \"TA\" : 3, \"Gd\" : 4, \"Ex\" : 5},\n",
    "                       \"Land Slope\" : {\"Sev\" : 1, \"Mod\" : 2, \"Gtl\" : 3},\n",
    "                       \"Lot Shape\" : {\"IR3\" : 1, \"IR2\" : 2, \"IR1\" : 3, \"Reg\" : 4},\n",
    "                       \"Paved Drive\" : {\"N\" : 0, \"P\" : 1, \"Y\" : 2},\n",
    "                       \"Pool QC\" : {\"No\" : 0, \"Fa\" : 1, \"TA\" : 2, \"Gd\" : 3, \"Ex\" : 4},\n",
    "                       \"Street\" : {\"Grvl\" : 1, \"Pave\" : 2},\n",
    "                       \"Utilities\" : {\"ELO\" : 1, \"NoSeWa\" : 2, \"NoSewr\" : 3, \"AllPub\" : 4}},\n",
    "                     )"
   ]
  },
  {
   "cell_type": "code",
   "execution_count": 8,
   "metadata": {},
   "outputs": [],
   "source": [
    "housing = housing.replace({\"MS SubClass\" : {20 : \"SC20\", 30 : \"SC30\", 40 : \"SC40\", 45 : \"SC45\", \n",
    "                                       50 : \"SC50\", 60 : \"SC60\", 70 : \"SC70\", 75 : \"SC75\", \n",
    "                                       80 : \"SC80\", 85 : \"SC85\", 90 : \"SC90\", 120 : \"SC120\", \n",
    "                                       150 : \"SC150\", 160 : \"SC160\", 180 : \"SC180\", 190 : \"SC190\"},\n",
    "                       \"Mo Sold\" : {1 : \"Jan\", 2 : \"Feb\", 3 : \"Mar\", 4 : \"Apr\", 5 : \"May\", 6 : \"Jun\",\n",
    "                                   7 : \"Jul\", 8 : \"Aug\", 9 : \"Sep\", 10 : \"Oct\", 11 : \"Nov\", 12 : \"Dec\"}\n",
    "                      })"
   ]
  },
  {
   "cell_type": "code",
   "execution_count": 9,
   "metadata": {},
   "outputs": [],
   "source": [
    "housing = housing.replace({\"Alley\" : {\"Grvl\" : 1, \"Pave\" : 2},\n",
    "                       \"Bsmt Cond\" : {\"No\" : 0, \"Po\" : 1, \"Fa\" : 2, \"TA\" : 3, \"Gd\" : 4, \"Ex\" : 5},\n",
    "                       \"Bsmt Exposure\" : {\"No\" : 0, \"Mn\" : 1, \"Av\": 2, \"Gd\" : 3},\n",
    "                       \"BsmtFin Type1\" : {\"No\" : 0, \"Unf\" : 1, \"LwQ\": 2, \"Rec\" : 3, \"BLQ\" : 4, \n",
    "                                         \"ALQ\" : 5, \"GLQ\" : 6},\n",
    "                       \"BsmtFin Type2\" : {\"No\" : 0, \"Unf\" : 1, \"LwQ\": 2, \"Rec\" : 3, \"BLQ\" : 4, \n",
    "                                         \"ALQ\" : 5, \"GLQ\" : 6},\n",
    "                       \"Bsmt Qual\" : {\"No\" : 0, \"Po\" : 1, \"Fa\" : 2, \"TA\": 3, \"Gd\" : 4, \"Ex\" : 5},\n",
    "                       \"Exter Cond\" : {\"Po\" : 1, \"Fa\" : 2, \"TA\": 3, \"Gd\": 4, \"Ex\" : 5},\n",
    "                       \"Exter Qual\" : {\"Po\" : 1, \"Fa\" : 2, \"TA\": 3, \"Gd\": 4, \"Ex\" : 5},\n",
    "                       \"Fireplace Qu\" : {\"No\" : 0, \"Po\" : 1, \"Fa\" : 2, \"TA\" : 3, \"Gd\" : 4, \"Ex\" : 5},\n",
    "                       \"Functional\" : {\"Sal\" : 1, \"Sev\" : 2, \"Maj2\" : 3, \"Maj1\" : 4, \"Mod\": 5, \n",
    "                                       \"Min2\" : 6, \"Min1\" : 7, \"Typ\" : 8},\n",
    "                       \"Garage Cond\" : {\"No\" : 0, \"Po\" : 1, \"Fa\" : 2, \"TA\" : 3, \"Gd\" : 4, \"Ex\" : 5},\n",
    "                       \"Garage Qual\" : {\"No\" : 0, \"Po\" : 1, \"Fa\" : 2, \"TA\" : 3, \"Gd\" : 4, \"Ex\" : 5},\n",
    "                       \"Heating QC\" : {\"Po\" : 1, \"Fa\" : 2, \"TA\" : 3, \"Gd\" : 4, \"Ex\" : 5},\n",
    "                       \"Kitchen Qual\" : {\"Po\" : 1, \"Fa\" : 2, \"TA\" : 3, \"Gd\" : 4, \"Ex\" : 5},\n",
    "                       \"Land Slope\" : {\"Sev\" : 1, \"Mod\" : 2, \"Gtl\" : 3},\n",
    "                       \"Lot Shape\" : {\"IR3\" : 1, \"IR2\" : 2, \"IR1\" : 3, \"Reg\" : 4},\n",
    "                       \"Paved Drive\" : {\"N\" : 0, \"P\" : 1, \"Y\" : 2},\n",
    "                       \"Pool QC\" : {\"No\" : 0, \"Fa\" : 1, \"TA\" : 2, \"Gd\" : 3, \"Ex\" : 4},\n",
    "                       \"Street\" : {\"Grvl\" : 1, \"Pave\" : 2},\n",
    "                       \"Utilities\" : {\"ELO\" : 1, \"NoSeWa\" : 2, \"NoSewr\" : 3, \"AllPub\" : 4}},\n",
    "                     )"
   ]
  },
  {
   "cell_type": "markdown",
   "metadata": {},
   "source": [
    "##### Converting incorrect categorical values"
   ]
  },
  {
   "cell_type": "code",
   "execution_count": 10,
   "metadata": {},
   "outputs": [],
   "source": [
    "housing[['PID','Year Remod/Add','Year Built','Garage Yr Blt','Yr Sold']] = housing[['PID','Year Remod/Add','Year Built','Garage Yr Blt','Yr Sold']].astype(str) \n"
   ]
  },
  {
   "cell_type": "code",
   "execution_count": 25,
   "metadata": {},
   "outputs": [],
   "source": [
    "housing_test[['PID','Year Remod/Add','Year Built','Garage Yr Blt','Yr Sold']] = housing_test[['PID','Year Remod/Add','Year Built','Garage Yr Blt','Yr Sold']].astype(str)"
   ]
  },
  {
   "cell_type": "code",
   "execution_count": 11,
   "metadata": {},
   "outputs": [
    {
     "data": {
      "text/plain": [
       "BedroomA bvGr    0\n",
       "Heating          0\n",
       "Roof Style       0\n",
       "Roof Matl        0\n",
       "Exterior 1st     0\n",
       "                ..\n",
       "TotRms AbvGrd    0\n",
       "Functional       0\n",
       "Fireplaces       0\n",
       "Fireplace Qu     0\n",
       "PID              0\n",
       "Length: 81, dtype: int64"
      ]
     },
     "execution_count": 11,
     "metadata": {},
     "output_type": "execute_result"
    }
   ],
   "source": []
  },
  {
   "cell_type": "code",
   "execution_count": null,
   "metadata": {},
   "outputs": [],
   "source": [
    "categorical_features = housing.select_dtypes(include = [\"object\"]).columns\n",
    "categorical_features"
   ]
  },
  {
   "cell_type": "markdown",
   "metadata": {},
   "source": [
    "#### dropping PID as it does not give any impactful info"
   ]
  },
  {
   "cell_type": "code",
   "execution_count": 12,
   "metadata": {},
   "outputs": [],
   "source": [
    "housing.drop(['PID'] , axis =1, inplace = True)"
   ]
  },
  {
   "cell_type": "code",
   "execution_count": null,
   "metadata": {},
   "outputs": [],
   "source": [
    "housing_test.drop(['PID'] , axis =1, inplace = True)"
   ]
  },
  {
   "cell_type": "markdown",
   "metadata": {},
   "source": [
    "#### Getting rid of outliers"
   ]
  },
  {
   "cell_type": "code",
   "execution_count": 13,
   "metadata": {},
   "outputs": [],
   "source": [
    "Q1 = housing.quantile(0.25)\n",
    "Q3 = housing.quantile(0.75)\n",
    "IQR = Q3 - Q1"
   ]
  },
  {
   "cell_type": "code",
   "execution_count": 14,
   "metadata": {},
   "outputs": [],
   "source": [
    "housing= housing[~((housing < (Q1 - 1.5 * IQR)) |(housing > (Q3 + 1.5 * IQR))).any(axis=1)]"
   ]
  },
  {
   "cell_type": "code",
   "execution_count": null,
   "metadata": {},
   "outputs": [],
   "source": [
    "categorical_features = housing.select_dtypes(include = [\"object\"]).columns\n",
    "categorical_features"
   ]
  },
  {
   "cell_type": "code",
   "execution_count": null,
   "metadata": {},
   "outputs": [],
   "source": [
    "#Q1_test = housing_test.quantile(0.25)\n",
    "#Q3_test = housing_test.quantile(0.75)\n",
    "#IQR_test = Q3_test - Q1_test"
   ]
  },
  {
   "cell_type": "code",
   "execution_count": null,
   "metadata": {},
   "outputs": [],
   "source": [
    "#housing_test= housing_test[~((housing_test < (Q1_test - 1.5 * IQR_test)) |(housing_test > (Q3_test + 1.5 * IQR_test))).any(axis=1)]"
   ]
  },
  {
   "cell_type": "code",
   "execution_count": null,
   "metadata": {},
   "outputs": [],
   "source": []
  },
  {
   "cell_type": "markdown",
   "metadata": {},
   "source": [
    "#### One hot encoding of categorical date"
   ]
  },
  {
   "cell_type": "code",
   "execution_count": 15,
   "metadata": {},
   "outputs": [],
   "source": [
    "housing =pd.get_dummies(housing, columns =['MS SubClass', 'MS Zoning', 'Alley', 'Land Contour', 'Lot Config',\n",
    "       'Neighborhood', 'Condition 1', 'Condition 2', 'Bldg Type',\n",
    "       'House Style', 'Year Built', 'Year Remod/Add', 'Roof Style',\n",
    "       'Roof Matl', 'Exterior 1st', 'Exterior 2nd', 'Mas Vnr Type',\n",
    "       'Foundation', 'BsmtFin Type 1', 'BsmtFin Type 2', 'Heating',\n",
    "       'Central Air', 'Electrical', 'Garage Type', 'Garage Yr Blt',\n",
    "       'Garage Finish', 'Fence', 'Misc Feature', 'Mo Sold', 'Yr Sold',\n",
    "       'Sale Type'], drop_first = True)"
   ]
  },
  {
   "cell_type": "code",
   "execution_count": 26,
   "metadata": {},
   "outputs": [],
   "source": [
    "housing_test =pd.get_dummies(housing_test, columns =['MS SubClass', 'MS Zoning', 'Alley', 'Land Contour', 'Lot Config',\n",
    "       'Neighborhood', 'Condition 1', 'Condition 2', 'Bldg Type',\n",
    "       'House Style', 'Year Built', 'Year Remod/Add', 'Roof Style',\n",
    "       'Roof Matl', 'Exterior 1st', 'Exterior 2nd', 'Mas Vnr Type',\n",
    "       'Foundation', 'BsmtFin Type 1', 'BsmtFin Type 2', 'Heating',\n",
    "       'Central Air', 'Electrical', 'Garage Type', 'Garage Yr Blt',\n",
    "       'Garage Finish', 'Fence', 'Misc Feature', 'Mo Sold', 'Yr Sold',\n",
    "       'Sale Type'], drop_first = True)"
   ]
  },
  {
   "cell_type": "code",
   "execution_count": null,
   "metadata": {},
   "outputs": [],
   "source": [
    "#housing_test =pd.get_dummies(housing_test, columns =[\"Neighborhood\"], drop_first = True)"
   ]
  },
  {
   "cell_type": "code",
   "execution_count": null,
   "metadata": {},
   "outputs": [],
   "source": [
    "categorical = housing.select_dtypes(include = [\"object\"]).columns"
   ]
  },
  {
   "cell_type": "code",
   "execution_count": null,
   "metadata": {},
   "outputs": [],
   "source": [
    "categorical_features"
   ]
  },
  {
   "cell_type": "code",
   "execution_count": null,
   "metadata": {},
   "outputs": [],
   "source": []
  },
  {
   "cell_type": "code",
   "execution_count": null,
   "metadata": {},
   "outputs": [],
   "source": []
  },
  {
   "cell_type": "code",
   "execution_count": null,
   "metadata": {},
   "outputs": [],
   "source": []
  },
  {
   "cell_type": "code",
   "execution_count": null,
   "metadata": {},
   "outputs": [],
   "source": []
  },
  {
   "cell_type": "code",
   "execution_count": null,
   "metadata": {},
   "outputs": [],
   "source": []
  },
  {
   "cell_type": "code",
   "execution_count": null,
   "metadata": {},
   "outputs": [],
   "source": []
  },
  {
   "cell_type": "code",
   "execution_count": null,
   "metadata": {},
   "outputs": [],
   "source": []
  },
  {
   "cell_type": "markdown",
   "metadata": {},
   "source": [
    "#### Finding and dropping variables that do not have high correlations to target variable \"SalePrice\""
   ]
  },
  {
   "cell_type": "code",
   "execution_count": 16,
   "metadata": {},
   "outputs": [],
   "source": [
    "cor =housing.corr()"
   ]
  },
  {
   "cell_type": "code",
   "execution_count": 17,
   "metadata": {},
   "outputs": [],
   "source": [
    "cor_target = abs(cor['SalePrice'])"
   ]
  },
  {
   "cell_type": "code",
   "execution_count": 18,
   "metadata": {},
   "outputs": [
    {
     "data": {
      "text/plain": [
       "SalePrice               1.000000\n",
       "Overall Qual            0.811975\n",
       "Gr Liv Area             0.747290\n",
       "Garage Cars             0.722162\n",
       "Kitchen Qual            0.711311\n",
       "Garage Area             0.705318\n",
       "Bsmt Qual               0.684001\n",
       "Exter Qual              0.674655\n",
       "Full Bath               0.626463\n",
       "Foundation_PConc        0.602849\n",
       "Foundation_CBlock       0.565617\n",
       "TotRms AbvGrd           0.556682\n",
       "Heating QC              0.534189\n",
       "Garage Finish_Unf       0.530771\n",
       "Total Bsmt SF           0.530662\n",
       "1st Flr SF              0.525249\n",
       "Exterior 1st_VinylSd    0.451722\n",
       "Exterior 2nd_VinylSd    0.451636\n",
       "BsmtFin Type 1_GLQ      0.445192\n",
       "Fireplace Qu            0.443212\n",
       "Name: SalePrice, dtype: float64"
      ]
     },
     "execution_count": 18,
     "metadata": {},
     "output_type": "execute_result"
    }
   ],
   "source": [
    "cor_target.sort_values(ascending = False).head(20)"
   ]
  },
  {
   "cell_type": "code",
   "execution_count": 19,
   "metadata": {},
   "outputs": [],
   "source": [
    "drop_columns = pd.DataFrame([cor_target[cor_target<0.5]])\n"
   ]
  },
  {
   "cell_type": "code",
   "execution_count": 20,
   "metadata": {},
   "outputs": [],
   "source": [
    "housing =housing.drop(columns =drop_columns)"
   ]
  },
  {
   "cell_type": "code",
   "execution_count": null,
   "metadata": {},
   "outputs": [],
   "source": [
    "#cor_target.sort_values(ascending = False).head(20)"
   ]
  },
  {
   "cell_type": "code",
   "execution_count": null,
   "metadata": {},
   "outputs": [],
   "source": [
    "housing.shape"
   ]
  },
  {
   "cell_type": "code",
   "execution_count": null,
   "metadata": {},
   "outputs": [],
   "source": [
    "#housing.corr()\n",
    "#cor_target = abs(housing[housing.columns[1:]].corr()['SalePrice'][:].sort_values(ascending = False))\n",
    "#cor_target = abs(housing.corr(\"SalePrice\"))\n",
    "#Selecting highly correlated features\n",
    "#cor_target"
   ]
  },
  {
   "cell_type": "markdown",
   "metadata": {},
   "source": [
    "#### Remove columns that are not found in either the training data or submission data"
   ]
  },
  {
   "cell_type": "code",
   "execution_count": 21,
   "metadata": {},
   "outputs": [],
   "source": [
    "features = [col for col in housing._get_numeric_data().columns if col != 'SalePrice']\n",
    "X = housing[features]\n",
    "y = housing['SalePrice']"
   ]
  },
  {
   "cell_type": "code",
   "execution_count": 27,
   "metadata": {},
   "outputs": [],
   "source": [
    "features_test = [col for col in housing_test._get_numeric_data().columns if col != 'SalePrice']\n",
    "X_sub = housing_test[features_test]\n"
   ]
  },
  {
   "cell_type": "code",
   "execution_count": 28,
   "metadata": {},
   "outputs": [],
   "source": [
    "missing_features = list(set(X.columns.values)-set(X_sub.columns.values))"
   ]
  },
  {
   "cell_type": "code",
   "execution_count": 29,
   "metadata": {},
   "outputs": [],
   "source": [
    "X = X.drop(missing_features, axis =1)"
   ]
  },
  {
   "cell_type": "code",
   "execution_count": 30,
   "metadata": {},
   "outputs": [],
   "source": [
    "missing_features = list(set(X_sub.columns.values)-set(X.columns.values))\n",
    "X_sub= X_sub.drop(missing_features, axis =1)"
   ]
  },
  {
   "cell_type": "code",
   "execution_count": 31,
   "metadata": {},
   "outputs": [],
   "source": [
    "X_train, X_test, y_train, y_test = train_test_split(X, y, random_state=42)\n"
   ]
  },
  {
   "cell_type": "code",
   "execution_count": 32,
   "metadata": {},
   "outputs": [],
   "source": [
    "ss = StandardScaler()\n",
    "ss.fit(X_train)\n",
    "X_train = ss.transform(X_train)\n",
    "X_test = ss.transform(X_test)"
   ]
  },
  {
   "cell_type": "code",
   "execution_count": 33,
   "metadata": {},
   "outputs": [],
   "source": [
    "lr = LinearRegression()"
   ]
  },
  {
   "cell_type": "code",
   "execution_count": 34,
   "metadata": {},
   "outputs": [],
   "source": [
    "lasso = LassoCV(n_alphas=200)"
   ]
  },
  {
   "cell_type": "code",
   "execution_count": 35,
   "metadata": {},
   "outputs": [],
   "source": [
    "ridge = RidgeCV(alphas=np.linspace(.1, 10, 100))"
   ]
  },
  {
   "cell_type": "code",
   "execution_count": 36,
   "metadata": {},
   "outputs": [
    {
     "data": {
      "text/plain": [
       "0.8786783322973847"
      ]
     },
     "execution_count": 36,
     "metadata": {},
     "output_type": "execute_result"
    }
   ],
   "source": [
    "lr_scores = cross_val_score(lr, X_train, y_train, cv=5)\n",
    "lr_scores.mean()"
   ]
  },
  {
   "cell_type": "code",
   "execution_count": 37,
   "metadata": {},
   "outputs": [
    {
     "data": {
      "text/plain": [
       "0.8772360798733349"
      ]
     },
     "execution_count": 37,
     "metadata": {},
     "output_type": "execute_result"
    }
   ],
   "source": [
    "lasso_scores = cross_val_score(lasso, X_train, y_train, cv=3)\n",
    "lasso_scores.mean()"
   ]
  },
  {
   "cell_type": "code",
   "execution_count": 38,
   "metadata": {},
   "outputs": [
    {
     "data": {
      "text/plain": [
       "0.8771809689123883"
      ]
     },
     "execution_count": 38,
     "metadata": {},
     "output_type": "execute_result"
    }
   ],
   "source": [
    "ridge_scores = cross_val_score(ridge, X_train, y_train, cv=3)\n",
    "ridge_scores.mean()"
   ]
  },
  {
   "cell_type": "code",
   "execution_count": 39,
   "metadata": {},
   "outputs": [
    {
     "data": {
      "text/plain": [
       "LassoCV(alphas=None, copy_X=True, cv=None, eps=0.001, fit_intercept=True,\n",
       "        max_iter=1000, n_alphas=200, n_jobs=None, normalize=False,\n",
       "        positive=False, precompute='auto', random_state=None,\n",
       "        selection='cyclic', tol=0.0001, verbose=False)"
      ]
     },
     "execution_count": 39,
     "metadata": {},
     "output_type": "execute_result"
    }
   ],
   "source": [
    "lasso.fit(X_train, y_train)"
   ]
  },
  {
   "cell_type": "code",
   "execution_count": 40,
   "metadata": {},
   "outputs": [
    {
     "data": {
      "text/plain": [
       "0.84444385269396"
      ]
     },
     "execution_count": 40,
     "metadata": {},
     "output_type": "execute_result"
    }
   ],
   "source": [
    "lasso.score(X_test, y_test)"
   ]
  },
  {
   "cell_type": "code",
   "execution_count": 41,
   "metadata": {},
   "outputs": [
    {
     "data": {
      "text/plain": [
       "0.8772360798733349"
      ]
     },
     "execution_count": 41,
     "metadata": {},
     "output_type": "execute_result"
    }
   ],
   "source": [
    "lasso_scores.mean()"
   ]
  },
  {
   "cell_type": "markdown",
   "metadata": {},
   "source": [
    "#### Prediction"
   ]
  },
  {
   "cell_type": "code",
   "execution_count": null,
   "metadata": {},
   "outputs": [],
   "source": [
    "X.shape"
   ]
  },
  {
   "cell_type": "code",
   "execution_count": null,
   "metadata": {},
   "outputs": [],
   "source": [
    "X_sub.shape"
   ]
  },
  {
   "cell_type": "code",
   "execution_count": 42,
   "metadata": {},
   "outputs": [],
   "source": [
    "pred = lasso.predict(X_test)"
   ]
  },
  {
   "cell_type": "code",
   "execution_count": 43,
   "metadata": {},
   "outputs": [
    {
     "data": {
      "text/plain": [
       "(162,)"
      ]
     },
     "execution_count": 43,
     "metadata": {},
     "output_type": "execute_result"
    }
   ],
   "source": [
    "pred.shape"
   ]
  },
  {
   "cell_type": "code",
   "execution_count": 44,
   "metadata": {},
   "outputs": [
    {
     "data": {
      "text/plain": [
       "0.84444385269396"
      ]
     },
     "execution_count": 44,
     "metadata": {},
     "output_type": "execute_result"
    }
   ],
   "source": [
    "r2_score(y_test, pred)"
   ]
  },
  {
   "cell_type": "code",
   "execution_count": 45,
   "metadata": {},
   "outputs": [],
   "source": [
    "mse =mean_squared_error(y_test, pred)"
   ]
  },
  {
   "cell_type": "code",
   "execution_count": 46,
   "metadata": {},
   "outputs": [],
   "source": [
    "rmse = np.sqrt(mse)"
   ]
  },
  {
   "cell_type": "code",
   "execution_count": 47,
   "metadata": {},
   "outputs": [
    {
     "data": {
      "text/plain": [
       "18910.392121751065"
      ]
     },
     "execution_count": 47,
     "metadata": {},
     "output_type": "execute_result"
    }
   ],
   "source": [
    "rmse"
   ]
  },
  {
   "cell_type": "code",
   "execution_count": 48,
   "metadata": {},
   "outputs": [],
   "source": [
    "pred_test = lasso.predict(X_sub)"
   ]
  },
  {
   "cell_type": "code",
   "execution_count": 49,
   "metadata": {},
   "outputs": [
    {
     "data": {
      "text/plain": [
       "(162,)"
      ]
     },
     "execution_count": 49,
     "metadata": {},
     "output_type": "execute_result"
    }
   ],
   "source": [
    "pred.shape"
   ]
  },
  {
   "cell_type": "markdown",
   "metadata": {},
   "source": [
    "#### Creating submission CSV"
   ]
  },
  {
   "cell_type": "code",
   "execution_count": 50,
   "metadata": {},
   "outputs": [],
   "source": [
    "submission = pd.DataFrame()"
   ]
  },
  {
   "cell_type": "code",
   "execution_count": 51,
   "metadata": {},
   "outputs": [
    {
     "data": {
      "text/plain": [
       "(879, 34)"
      ]
     },
     "execution_count": 51,
     "metadata": {},
     "output_type": "execute_result"
    }
   ],
   "source": [
    "X_sub.shape"
   ]
  },
  {
   "cell_type": "code",
   "execution_count": 52,
   "metadata": {},
   "outputs": [
    {
     "data": {
      "text/plain": [
       "(879, 487)"
      ]
     },
     "execution_count": 52,
     "metadata": {},
     "output_type": "execute_result"
    }
   ],
   "source": [
    "housing_test.shape"
   ]
  },
  {
   "cell_type": "code",
   "execution_count": 53,
   "metadata": {},
   "outputs": [],
   "source": [
    "submission=pd.DataFrame(pred_test,columns=[\"SalePrice\"],index = housing_test.index)"
   ]
  },
  {
   "cell_type": "code",
   "execution_count": null,
   "metadata": {},
   "outputs": [],
   "source": [
    "submission.head()"
   ]
  },
  {
   "cell_type": "code",
   "execution_count": 54,
   "metadata": {},
   "outputs": [],
   "source": [
    "submission.to_csv(\"submission.csv\")"
   ]
  },
  {
   "cell_type": "code",
   "execution_count": null,
   "metadata": {},
   "outputs": [],
   "source": []
  },
  {
   "cell_type": "code",
   "execution_count": null,
   "metadata": {},
   "outputs": [],
   "source": []
  },
  {
   "cell_type": "code",
   "execution_count": null,
   "metadata": {},
   "outputs": [],
   "source": []
  },
  {
   "cell_type": "code",
   "execution_count": null,
   "metadata": {},
   "outputs": [],
   "source": []
  },
  {
   "cell_type": "code",
   "execution_count": null,
   "metadata": {},
   "outputs": [],
   "source": []
  },
  {
   "cell_type": "code",
   "execution_count": null,
   "metadata": {},
   "outputs": [],
   "source": []
  },
  {
   "cell_type": "code",
   "execution_count": null,
   "metadata": {},
   "outputs": [],
   "source": []
  },
  {
   "cell_type": "code",
   "execution_count": null,
   "metadata": {},
   "outputs": [],
   "source": []
  }
 ],
 "metadata": {
  "kernelspec": {
   "display_name": "Python 3",
   "language": "python",
   "name": "python3"
  },
  "language_info": {
   "codemirror_mode": {
    "name": "ipython",
    "version": 3
   },
   "file_extension": ".py",
   "mimetype": "text/x-python",
   "name": "python",
   "nbconvert_exporter": "python",
   "pygments_lexer": "ipython3",
   "version": "3.7.6"
  }
 },
 "nbformat": 4,
 "nbformat_minor": 4
}
