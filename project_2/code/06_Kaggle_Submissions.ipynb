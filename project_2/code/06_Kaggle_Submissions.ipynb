{
 "cells": [
  {
   "cell_type": "markdown",
   "metadata": {},
   "source": [
    "## Import Data"
   ]
  },
  {
   "cell_type": "code",
   "execution_count": 1,
   "metadata": {},
   "outputs": [],
   "source": [
    "import pandas as pd\n",
    "import numpy as np\n",
    "from sklearn.linear_model import ElasticNet\n",
    "from sklearn.preprocessing import  StandardScaler\n",
    "from sklearn.model_selection import train_test_split,  GridSearchCV \n",
    "from sklearn.metrics import r2_score, mean_squared_error\n",
    "from sklearn.pipeline import Pipeline\n"
   ]
  },
  {
   "cell_type": "code",
   "execution_count": 2,
   "metadata": {},
   "outputs": [],
   "source": [
    "X_top = pd.read_csv('../datasets/X_top.csv',index_col='Id') \n",
    "y = pd.read_csv('../datasets/y.csv',index_col='Id') \n"
   ]
  },
  {
   "cell_type": "code",
   "execution_count": 3,
   "metadata": {},
   "outputs": [],
   "source": [
    "housing_test =pd.read_csv('../datasets/test.csv',index_col='Id')"
   ]
  },
  {
   "cell_type": "code",
   "execution_count": 4,
   "metadata": {},
   "outputs": [],
   "source": [
    "#Encoding NaN with appropriate values\n",
    "housing_test.loc[:, \"Alley\"] = housing_test.loc[:, \"Alley\"].fillna(\"None\")\n",
    "\n",
    "housing_test.loc[:, \"BedroomA bvGr\"] = housing_test.loc[:, \"Bedroom AbvGr\"].fillna(0)\n",
    "\n",
    "housing_test.loc[:, \"Bsmt Qual\"] = housing_test.loc[:, \"Bsmt Qual\"].fillna(\"No\")\n",
    "housing_test.loc[:, \"Bsmt Cond\"] = housing_test.loc[:, \"Bsmt Cond\"].fillna(\"No\")\n",
    "housing_test.loc[:, \"Bsmt Exposure\"] = housing_test.loc[:, \"Bsmt Exposure\"].fillna(\"No\")\n",
    "housing_test.loc[:, \"BsmtFin Type 1\"] = housing_test.loc[:, \"BsmtFin Type 1\"].fillna(\"No\")\n",
    "housing_test.loc[:, \"BsmtFin Type 2\"] = housing_test.loc[:, \"BsmtFin Type 2\"].fillna(\"No\")\n",
    "housing_test.loc[:, \"Bsmt Full Bath\"] = housing_test.loc[:, \"Bsmt Full Bath\"].fillna(0)\n",
    "housing_test.loc[:, \"Bsmt Half Bath\"] = housing_test.loc[:, \"Bsmt Half Bath\"].fillna(0)\n",
    "housing_test.loc[:, \"Bsmt Unf SF\"] = housing_test.loc[:, \"Bsmt Unf SF\"].fillna(0)\n",
    "\n",
    "housing_test.loc[:, \"Central Air\"] = housing_test.loc[:, \"Central Air\"].fillna(\"N\")\n",
    "\n",
    "housing_test.loc[:, \"Condition 1\"] = housing_test.loc[:, \"Condition 1\"].fillna(\"Norm\")\n",
    "housing_test.loc[:, \"Condition 2\"] = housing_test.loc[:, \"Condition 2\"].fillna(\"Norm\")\n",
    "\n",
    "housing_test.loc[:, \"Enclosed Porch\"] = housing_test.loc[:, \"Enclosed Porch\"].fillna(0)\n",
    "\n",
    "housing_test.loc[:, \"Exter Cond\"] = housing_test.loc[:, \"Exter Cond\"].fillna(\"TA\")\n",
    "housing_test.loc[:, \"Exter Qual\"] = housing_test.loc[:, \"Exter Qual\"].fillna(\"TA\")\n",
    "\n",
    "housing_test.loc[:, \"Fence\"] = housing_test.loc[:, \"Fence\"].fillna(\"No\")\n",
    "\n",
    "housing_test.loc[:, \"Fireplace Qu\"] = housing_test.loc[:, \"Fireplace Qu\"].fillna(\"No\")\n",
    "housing_test.loc[:, \"Fireplaces\"] = housing_test.loc[:, \"Fireplaces\"].fillna(0)\n",
    "\n",
    "housing_test.loc[:, \"Functional\"] = housing_test.loc[:, \"Functional\"].fillna(\"Typ\")\n",
    "\n",
    "housing_test.loc[:, \"Garage Type\"] = housing_test.loc[:, \"Garage Type\"].fillna(\"No\")\n",
    "housing_test.loc[:, \"Garage Finish\"] = housing_test.loc[:, \"Garage Finish\"].fillna(\"No\")\n",
    "housing_test.loc[:, \"Garage Qual\"] = housing_test.loc[:, \"Garage Qual\"].fillna(\"No\")\n",
    "housing_test.loc[:, \"Garage Cond\"] = housing_test.loc[:, \"Garage Cond\"].fillna(\"No\")\n",
    "housing_test.loc[:, \"Garage Area\"] = housing_test.loc[:, \"Garage Area\"].fillna(0)\n",
    "housing_test.loc[:, \"Garage Cars\"] = housing_test.loc[:, \"Garage Cars\"].fillna(0)\n",
    "\n",
    "housing_test.loc[:, \"Half Bath\"] = housing_test.loc[:, \"Half Bath\"].fillna(0)\n",
    "\n",
    "housing_test.loc[:, \"Heating QC\"] = housing_test.loc[:, \"Heating QC\"].fillna(\"TA\")\n",
    "\n",
    "housing_test.loc[:, \"Kitchen AbvGr\"] = housing_test.loc[:, \"Kitchen AbvGr\"].fillna(0)\n",
    "\n",
    "housing_test.loc[:, \"Kitchen Qual\"] = housing_test.loc[:, \"Kitchen Qual\"].fillna(\"TA\")\n",
    "\n",
    "housing_test.loc[:, \"Lot Frontage\"] = housing_test.loc[:, \"Lot Frontage\"].fillna(0)\n",
    "\n",
    "housing_test.loc[:, \"Lot Shape\"] = housing_test.loc[:, \"Lot Shape\"].fillna(\"Reg\")\n",
    "\n",
    "housing_test.loc[:, \"Mas Vnr Type\"] = housing_test.loc[:, \"Mas Vnr Type\"].fillna(\"None\")\n",
    "housing_test.loc[:, \"Mas Vnr Area\"] = housing_test.loc[:, \"Mas Vnr Area\"].fillna(0)\n",
    "\n",
    "housing_test.loc[:, \"Misc Feature\"] = housing_test.loc[:, \"Misc Feature\"].fillna(\"No\")\n",
    "housing_test.loc[:, \"Misc Val\"] = housing_test.loc[:, \"Misc Val\"].fillna(0)\n",
    "\n",
    "housing_test.loc[:, \"Open Porch SF\"] = housing_test.loc[:, \"Open Porch SF\"].fillna(0)\n",
    "\n",
    "housing_test.loc[:, \"Paved Drive\"] = housing_test.loc[:, \"Paved Drive\"].fillna(\"N\")\n",
    "\n",
    "housing_test.loc[:, \"Pool QC\"] = housing_test.loc[:, \"Pool QC\"].fillna(\"No\")\n",
    "housing_test.loc[:, \"Pool Area\"] = housing_test.loc[:, \"Pool Area\"].fillna(0)\n",
    "\n",
    "housing_test.loc[:, \"Overall Cond\"] = housing_test.loc[:, \"Overall Cond\"].fillna(\"Normal\")\n",
    "\n",
    "housing_test.loc[:, \"Screen Porch\"] = housing_test.loc[:, \"Screen Porch\"].fillna(0)\n",
    "\n",
    "housing_test.loc[:, \"TotRms AbvGrd\"] = housing_test.loc[:, \"TotRms AbvGrd\"].fillna(0)\n",
    "\n",
    "housing_test.loc[:, \"Utilities\"] = housing_test.loc[:, \"Utilities\"].fillna(\"AllPub\")\n",
    "\n",
    "housing_test.loc[:, \"Total Bsmt SF\"] = housing_test.loc[:, \"Total Bsmt SF\"].fillna(0)\n",
    "housing_test.loc[:, \"BsmtFin SF 2\"] = housing_test.loc[:, \"BsmtFin SF 2\"].fillna(0)\n",
    "housing_test.loc[:, \"BsmtFin SF 1\"] = housing_test.loc[:, \"BsmtFin SF 1\"].fillna(0)"
   ]
  },
  {
   "cell_type": "code",
   "execution_count": 5,
   "metadata": {},
   "outputs": [],
   "source": [
    "# Encoding missing Garage Year Built years with the Year that the house was built\n",
    "housing_test['Garage Yr Blt'] = housing_test.apply(lambda row: row['Year Built'] \n",
    "                                     if np.isnan(row['Garage Yr Blt']) else row['Garage Yr Blt'],axis =1)"
   ]
  },
  {
   "cell_type": "code",
   "execution_count": 6,
   "metadata": {},
   "outputs": [],
   "source": [
    "#Encoding with appropriate values\n",
    "housing_test = housing_test.replace({\"MS SubClass\" : {20 : \"SC20\", 30 : \"SC30\", 40 : \"SC40\", 45 : \"SC45\", \n",
    "                                       50 : \"SC50\", 60 : \"SC60\", 70 : \"SC70\", 75 : \"SC75\", \n",
    "                                       80 : \"SC80\", 85 : \"SC85\", 90 : \"SC90\", 120 : \"SC120\", \n",
    "                                       150 : \"SC150\", 160 : \"SC160\", 180 : \"SC180\", 190 : \"SC190\"},\n",
    "                       \"Mo Sold\" : {1 : \"Jan\", 2 : \"Feb\", 3 : \"Mar\", 4 : \"Apr\", 5 : \"May\", 6 : \"Jun\",\n",
    "                                   7 : \"Jul\", 8 : \"Aug\", 9 : \"Sep\", 10 : \"Oct\", 11 : \"Nov\", 12 : \"Dec\"}\n",
    "                      })"
   ]
  },
  {
   "cell_type": "code",
   "execution_count": 7,
   "metadata": {},
   "outputs": [],
   "source": [
    "#Encoding with appropriate values\n",
    "housing_test = housing_test.replace({\"Alley\" : {\"Grvl\" : 1, \"Pave\" : 2},\n",
    "                       \"Bsmt Cond\" : {\"No\" : 0, \"Po\" : 1, \"Fa\" : 2, \"TA\" : 3, \"Gd\" : 4, \"Ex\" : 5},\n",
    "                       \"Bsmt Exposure\" : {\"No\" : 0, \"Mn\" : 1, \"Av\": 2, \"Gd\" : 3},\n",
    "                       \"BsmtFin Type1\" : {\"No\" : 0, \"Unf\" : 1, \"LwQ\": 2, \"Rec\" : 3, \"BLQ\" : 4, \n",
    "                                         \"ALQ\" : 5, \"GLQ\" : 6},\n",
    "                       \"BsmtFin Type2\" : {\"No\" : 0, \"Unf\" : 1, \"LwQ\": 2, \"Rec\" : 3, \"BLQ\" : 4, \n",
    "                                         \"ALQ\" : 5, \"GLQ\" : 6},\n",
    "                       \"Bsmt Qual\" : {\"No\" : 0, \"Po\" : 1, \"Fa\" : 2, \"TA\": 3, \"Gd\" : 4, \"Ex\" : 5},\n",
    "                       \"Exter Cond\" : {\"Po\" : 1, \"Fa\" : 2, \"TA\": 3, \"Gd\": 4, \"Ex\" : 5},\n",
    "                       \"Exter Qual\" : {\"Po\" : 1, \"Fa\" : 2, \"TA\": 3, \"Gd\": 4, \"Ex\" : 5},\n",
    "                       \"Fireplace Qu\" : {\"No\" : 0, \"Po\" : 1, \"Fa\" : 2, \"TA\" : 3, \"Gd\" : 4, \"Ex\" : 5},\n",
    "                       \"Functional\" : {\"Sal\" : 1, \"Sev\" : 2, \"Maj2\" : 3, \"Maj1\" : 4, \"Mod\": 5, \n",
    "                                       \"Min2\" : 6, \"Min1\" : 7, \"Typ\" : 8},\n",
    "                       \"Garage Cond\" : {\"No\" : 0, \"Po\" : 1, \"Fa\" : 2, \"TA\" : 3, \"Gd\" : 4, \"Ex\" : 5},\n",
    "                       \"Garage Qual\" : {\"No\" : 0, \"Po\" : 1, \"Fa\" : 2, \"TA\" : 3, \"Gd\" : 4, \"Ex\" : 5},\n",
    "                       \"Heating QC\" : {\"Po\" : 1, \"Fa\" : 2, \"TA\" : 3, \"Gd\" : 4, \"Ex\" : 5},\n",
    "                       \"Kitchen Qual\" : {\"Po\" : 1, \"Fa\" : 2, \"TA\" : 3, \"Gd\" : 4, \"Ex\" : 5},\n",
    "                       \"Land Slope\" : {\"Sev\" : 1, \"Mod\" : 2, \"Gtl\" : 3},\n",
    "                       \"Lot Shape\" : {\"IR3\" : 1, \"IR2\" : 2, \"IR1\" : 3, \"Reg\" : 4},\n",
    "                       \"Paved Drive\" : {\"N\" : 0, \"P\" : 1, \"Y\" : 2},\n",
    "                       \"Pool QC\" : {\"No\" : 0, \"Fa\" : 1, \"TA\" : 2, \"Gd\" : 3, \"Ex\" : 4},\n",
    "                       \"Street\" : {\"Grvl\" : 1, \"Pave\" : 2},\n",
    "                       \"Utilities\" : {\"ELO\" : 1, \"NoSeWa\" : 2, \"NoSewr\" : 3, \"AllPub\" : 4}},\n",
    "                     )"
   ]
  },
  {
   "cell_type": "code",
   "execution_count": 8,
   "metadata": {},
   "outputs": [],
   "source": [
    "#Creating new features to analyse age related features better\n",
    "\n",
    "housing_test['house age'] = housing_test['Yr Sold'] - housing_test['Year Built'] \n",
    "housing_test['reno newness'] = housing_test['Yr Sold'] - housing_test['Year Remod/Add'] "
   ]
  },
  {
   "cell_type": "code",
   "execution_count": 9,
   "metadata": {},
   "outputs": [],
   "source": [
    "housing_test[['PID','Year Remod/Add','Year Built','Garage Yr Blt','Yr Sold']] = housing_test[['PID','Year Remod/Add','Year Built','Garage Yr Blt','Yr Sold']].astype(str)"
   ]
  },
  {
   "cell_type": "code",
   "execution_count": 10,
   "metadata": {},
   "outputs": [],
   "source": [
    "# Droping PID and Year of remodling as they do not add information to analysis\n",
    "housing_test.drop(['PID','Year Remod/Add'] , axis =1, inplace = True)"
   ]
  },
  {
   "cell_type": "code",
   "execution_count": 11,
   "metadata": {},
   "outputs": [],
   "source": [
    "#Enconding categorical features with get_dummies\n",
    "\n",
    "housing_test =pd.get_dummies(housing_test, columns =['MS SubClass', 'MS Zoning', 'Alley', 'Land Contour', 'Lot Config',\n",
    "       'Neighborhood', 'Condition 1', 'Condition 2', 'Bldg Type',\n",
    "       'House Style', 'Year Built', 'Roof Style', 'Roof Matl', 'Exterior 1st',\n",
    "       'Exterior 2nd', 'Mas Vnr Type', 'Foundation', 'BsmtFin Type 1',\n",
    "       'BsmtFin Type 2', 'Heating', 'Central Air', 'Electrical', 'Garage Type',\n",
    "       'Garage Yr Blt', 'Garage Finish', 'Fence', 'Misc Feature', 'Mo Sold',\n",
    "       'Yr Sold', 'Sale Type'], drop_first = True)"
   ]
  },
  {
   "cell_type": "code",
   "execution_count": 12,
   "metadata": {},
   "outputs": [],
   "source": [
    "X_top_train, X_top_test, y_top_train, y_top_test = train_test_split(X_top,y,test_size = 0.2, random_state=42)"
   ]
  },
  {
   "cell_type": "code",
   "execution_count": 13,
   "metadata": {},
   "outputs": [],
   "source": [
    "ss = StandardScaler()\n",
    "ss.fit(X_top_train)\n",
    "\n",
    "X_top_train_ss = ss.transform(X_top_train)\n",
    "X_top_test_ss = ss.transform(X_top_test)"
   ]
  },
  {
   "cell_type": "markdown",
   "metadata": {},
   "source": [
    "## ElasticNet Model"
   ]
  },
  {
   "cell_type": "code",
   "execution_count": 14,
   "metadata": {},
   "outputs": [],
   "source": [
    "# Instantiate pipeline object.\n",
    "pipe_e = Pipeline([('ss', StandardScaler()), ('enet', ElasticNet())])\n"
   ]
  },
  {
   "cell_type": "code",
   "execution_count": 15,
   "metadata": {},
   "outputs": [],
   "source": [
    "# Define dictionary of hyperparameters.\n",
    "\n",
    "pipe_e_params = {'ss__with_mean': [True, False], \n",
    "                'ss__with_std': [True, False],\n",
    "                'enet__alpha': np.arange(0.01, 1.0, 0.05),\n",
    "                'enet__l1_ratio': np.linspace(0.01, 1.0, 25),\n",
    "                 'enet__normalize': [True, False],\n",
    "                }"
   ]
  },
  {
   "cell_type": "code",
   "execution_count": 16,
   "metadata": {},
   "outputs": [],
   "source": [
    "# Instantiate our GridSearchCV object.\n",
    "\n",
    "gs_e = GridSearchCV(pipe_e, # What is the model we want to fit?\n",
    "                               pipe_e_params, # What is the dictionary of hyperparameters?\n",
    "                                 cv = 10,# What number of folds in CV will we use?\n",
    "                                verbose=1)"
   ]
  },
  {
   "cell_type": "code",
   "execution_count": 17,
   "metadata": {},
   "outputs": [
    {
     "name": "stdout",
     "output_type": "stream",
     "text": [
      "Fitting 10 folds for each of 4000 candidates, totalling 40000 fits\n"
     ]
    },
    {
     "name": "stderr",
     "output_type": "stream",
     "text": [
      "[Parallel(n_jobs=1)]: Using backend SequentialBackend with 1 concurrent workers.\n",
      "[Parallel(n_jobs=1)]: Done 40000 out of 40000 | elapsed:  6.5min finished\n"
     ]
    }
   ],
   "source": [
    "gs_e.fit(X_top_train_ss, y_top_train);"
   ]
  },
  {
   "cell_type": "code",
   "execution_count": 18,
   "metadata": {},
   "outputs": [],
   "source": [
    "X_sub= housing_test"
   ]
  },
  {
   "cell_type": "code",
   "execution_count": 19,
   "metadata": {},
   "outputs": [],
   "source": [
    "missing_features = list(set(X_sub.columns.values)-set(X_top.columns.values))\n",
    "X_sub= X_sub.drop(missing_features, axis =1)"
   ]
  },
  {
   "cell_type": "code",
   "execution_count": 20,
   "metadata": {},
   "outputs": [
    {
     "data": {
      "text/plain": [
       "Index(['Lot Area', 'Lot Shape', 'Overall Qual', 'Mas Vnr Area', 'Exter Qual',\n",
       "       'Bsmt Qual', 'Bsmt Exposure', 'BsmtFin SF 1', 'Total Bsmt SF',\n",
       "       'Heating QC', '1st Flr SF', 'Gr Liv Area', 'Garage Area',\n",
       "       'Wood Deck SF', 'Open Porch SF', 'house age', 'reno newness',\n",
       "       'MS SubClass_SC60', 'MS Zoning_RM', 'Neighborhood_NoRidge',\n",
       "       'Neighborhood_NridgHt', 'Neighborhood_StoneBr', 'Year Built_2008',\n",
       "       'Roof Style_Gable', 'Roof Style_Hip'],\n",
       "      dtype='object')"
      ]
     },
     "execution_count": 20,
     "metadata": {},
     "output_type": "execute_result"
    }
   ],
   "source": [
    "X_sub.columns"
   ]
  },
  {
   "cell_type": "code",
   "execution_count": 21,
   "metadata": {},
   "outputs": [
    {
     "data": {
      "text/plain": [
       "Index(['Lot Area', 'Lot Shape', 'Overall Qual', 'Mas Vnr Area', 'Exter Qual',\n",
       "       'Bsmt Qual', 'Bsmt Exposure', 'BsmtFin SF 1', 'Total Bsmt SF',\n",
       "       'Heating QC', '1st Flr SF', 'Gr Liv Area', 'Garage Area',\n",
       "       'Wood Deck SF', 'Open Porch SF', 'house age', 'reno newness',\n",
       "       'MS SubClass_SC60', 'MS Zoning_RM', 'Neighborhood_NoRidge',\n",
       "       'Neighborhood_NridgHt', 'Neighborhood_StoneBr', 'Year Built_2008',\n",
       "       'Roof Style_Gable', 'Roof Style_Hip'],\n",
       "      dtype='object')"
      ]
     },
     "execution_count": 21,
     "metadata": {},
     "output_type": "execute_result"
    }
   ],
   "source": [
    "X_top.columns"
   ]
  },
  {
   "cell_type": "code",
   "execution_count": 22,
   "metadata": {},
   "outputs": [],
   "source": [
    "Submission = ss.transform(X_sub)"
   ]
  },
  {
   "cell_type": "code",
   "execution_count": 23,
   "metadata": {},
   "outputs": [
    {
     "data": {
      "text/plain": [
       "(879, 25)"
      ]
     },
     "execution_count": 23,
     "metadata": {},
     "output_type": "execute_result"
    }
   ],
   "source": [
    "X_sub.shape"
   ]
  },
  {
   "cell_type": "code",
   "execution_count": 24,
   "metadata": {},
   "outputs": [],
   "source": [
    "pred_test = gs_e.predict(Submission)"
   ]
  },
  {
   "cell_type": "code",
   "execution_count": 25,
   "metadata": {},
   "outputs": [
    {
     "data": {
      "text/plain": [
       "180588.89763402464"
      ]
     },
     "execution_count": 25,
     "metadata": {},
     "output_type": "execute_result"
    }
   ],
   "source": [
    "pred_test.mean()"
   ]
  },
  {
   "cell_type": "code",
   "execution_count": null,
   "metadata": {},
   "outputs": [],
   "source": []
  },
  {
   "cell_type": "code",
   "execution_count": 26,
   "metadata": {},
   "outputs": [],
   "source": [
    "submission=pd.DataFrame(pred_test,columns=[\"SalePrice\"], index = housing_test.index)"
   ]
  },
  {
   "cell_type": "code",
   "execution_count": 27,
   "metadata": {},
   "outputs": [],
   "source": [
    "submission.to_csv(\"../datasets/submission_ElasticNet.csv\")"
   ]
  },
  {
   "cell_type": "markdown",
   "metadata": {},
   "source": [
    "predicted price RMSE is 31175.57874"
   ]
  },
  {
   "cell_type": "code",
   "execution_count": 31,
   "metadata": {},
   "outputs": [
    {
     "data": {
      "image/png": "[encoded data removed]",
      "text/plain": [
       "<IPython.core.display.Image object>"
      ]
     },
     "execution_count": 31,
     "metadata": {},
     "output_type": "execute_result"
    }
   ],
   "source": [
    "from IPython.display import Image\n",
    "Image('../image/Kaggle submission.png')\n"
   ]
  },
  {
   "cell_type": "code",
   "execution_count": null,
   "metadata": {},
   "outputs": [],
   "source": []
  }
 ],
 "metadata": {
  "kernelspec": {
   "display_name": "Python 3",
   "language": "python",
   "name": "python3"
  },
  "language_info": {
   "codemirror_mode": {
    "name": "ipython",
    "version": 3
   },
   "file_extension": ".py",
   "mimetype": "text/x-python",
   "name": "python",
   "nbconvert_exporter": "python",
   "pygments_lexer": "ipython3",
   "version": "3.7.6"
  }
 },
 "nbformat": 4,
 "nbformat_minor": 4
}
